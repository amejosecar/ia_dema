{
 "cells": [
  {
   "cell_type": "markdown",
   "metadata": {
    "id": "13MODiyZuFYH"
   },
   "source": [
    "# Modificaciones Avanzadas"
   ]
  },
  {
   "cell_type": "code",
   "execution_count": 4,
   "metadata": {
    "executionInfo": {
     "elapsed": 820,
     "status": "ok",
     "timestamp": 1750762667972,
     "user": {
      "displayName": "Aitor Donado",
      "userId": "08246046509718212083"
     },
     "user_tz": -120
    },
    "id": "46si4rT2uFYH"
   },
   "outputs": [],
   "source": [
    "import os\n",
    "import pandas as pd"
   ]
  },
  {
   "cell_type": "markdown",
   "metadata": {
    "id": "TFP3osDluFYI"
   },
   "source": [
    "## Carga de datos\n",
    "---"
   ]
  },
  {
   "cell_type": "code",
   "execution_count": 5,
   "metadata": {
    "executionInfo": {
     "elapsed": 54,
     "status": "ok",
     "timestamp": 1750762701766,
     "user": {
      "displayName": "Aitor Donado",
      "userId": "08246046509718212083"
     },
     "user_tz": -120
    },
    "id": "JGC0l5yTuFYI"
   },
   "outputs": [],
   "source": [
    "df = pd.read_csv(r\"C:\\americo\\ia_dema\\04_Modificaciones_Avanzadas\\data2.csv\", sep=\"|\", encoding=\"UTF-8\")"
   ]
  },
  {
   "cell_type": "code",
   "execution_count": 6,
   "metadata": {
    "colab": {
     "base_uri": "https://localhost:8080/",
     "height": 423
    },
    "executionInfo": {
     "elapsed": 384,
     "status": "ok",
     "timestamp": 1750762709211,
     "user": {
      "displayName": "Aitor Donado",
      "userId": "08246046509718212083"
     },
     "user_tz": -120
    },
    "id": "7NpFP5DcuFYI",
    "outputId": "87a046be-c089-4676-d28c-5c370ca50026"
   },
   "outputs": [
    {
     "data": {
      "text/html": [
       "<div>\n",
       "<style scoped>\n",
       "    .dataframe tbody tr th:only-of-type {\n",
       "        vertical-align: middle;\n",
       "    }\n",
       "\n",
       "    .dataframe tbody tr th {\n",
       "        vertical-align: top;\n",
       "    }\n",
       "\n",
       "    .dataframe thead th {\n",
       "        text-align: right;\n",
       "    }\n",
       "</style>\n",
       "<table border=\"1\" class=\"dataframe\">\n",
       "  <thead>\n",
       "    <tr style=\"text-align: right;\">\n",
       "      <th></th>\n",
       "      <th>Unnamed: 0</th>\n",
       "      <th>Catastro</th>\n",
       "      <th>ReferenciaCP</th>\n",
       "      <th>IdCliente</th>\n",
       "      <th>Producto</th>\n",
       "      <th>Fecha</th>\n",
       "      <th>TipoProducto</th>\n",
       "      <th>AltaCliente</th>\n",
       "    </tr>\n",
       "  </thead>\n",
       "  <tbody>\n",
       "    <tr>\n",
       "      <th>0</th>\n",
       "      <td>106640</td>\n",
       "      <td>087 2000501120UN02UN0UN</td>\n",
       "      <td>087 2000501120</td>\n",
       "      <td>6105422</td>\n",
       "      <td>N01</td>\n",
       "      <td>2020-06-03</td>\n",
       "      <td>Servicio principal</td>\n",
       "      <td>2020-02-16 00:00:00</td>\n",
       "    </tr>\n",
       "    <tr>\n",
       "      <th>1</th>\n",
       "      <td>205094</td>\n",
       "      <td>033 2006900750UN040B0UN</td>\n",
       "      <td>033 2006900750</td>\n",
       "      <td>6125687</td>\n",
       "      <td>N01</td>\n",
       "      <td>2020-05-03</td>\n",
       "      <td>Servicio sin cuota</td>\n",
       "      <td>2020-03-19 00:00:00</td>\n",
       "    </tr>\n",
       "    <tr>\n",
       "      <th>2</th>\n",
       "      <td>21253</td>\n",
       "      <td>008 0105902010UN060C0UN</td>\n",
       "      <td>008 0105902010</td>\n",
       "      <td>6098841</td>\n",
       "      <td>N06</td>\n",
       "      <td>2020-03-03</td>\n",
       "      <td>Servicio principal</td>\n",
       "      <td>2020-01-11 00:00:00</td>\n",
       "    </tr>\n",
       "    <tr>\n",
       "      <th>3</th>\n",
       "      <td>149999</td>\n",
       "      <td>002 4802008896UN040C0UN</td>\n",
       "      <td>002 4802008896</td>\n",
       "      <td>6115427</td>\n",
       "      <td>N06</td>\n",
       "      <td>2020-05-03</td>\n",
       "      <td>Servicio principal</td>\n",
       "      <td>2020-02-26 00:00:00</td>\n",
       "    </tr>\n",
       "    <tr>\n",
       "      <th>4</th>\n",
       "      <td>58564</td>\n",
       "      <td>010 2007902403UN03CN0UN</td>\n",
       "      <td>010 2007902403</td>\n",
       "      <td>6103115</td>\n",
       "      <td>N04</td>\n",
       "      <td>2020-05-03</td>\n",
       "      <td>Servicio principal</td>\n",
       "      <td>2020-01-25 00:00:00</td>\n",
       "    </tr>\n",
       "    <tr>\n",
       "      <th>...</th>\n",
       "      <td>...</td>\n",
       "      <td>...</td>\n",
       "      <td>...</td>\n",
       "      <td>...</td>\n",
       "      <td>...</td>\n",
       "      <td>...</td>\n",
       "      <td>...</td>\n",
       "      <td>...</td>\n",
       "    </tr>\n",
       "    <tr>\n",
       "      <th>13580</th>\n",
       "      <td>191276</td>\n",
       "      <td>005 4804400046UNPBUN001</td>\n",
       "      <td>005 4804400046</td>\n",
       "      <td>75816</td>\n",
       "      <td>N06</td>\n",
       "      <td>2020-04-03</td>\n",
       "      <td>Servicio principal</td>\n",
       "      <td>2020-03-14 00:00:00</td>\n",
       "    </tr>\n",
       "    <tr>\n",
       "      <th>13581</th>\n",
       "      <td>106294</td>\n",
       "      <td>005 0103601575UN020C0UN</td>\n",
       "      <td>005 0103601575</td>\n",
       "      <td>6109233</td>\n",
       "      <td>N01</td>\n",
       "      <td>2020-03-03</td>\n",
       "      <td>Servicio sin cuota</td>\n",
       "      <td>2020-02-06 00:00:00</td>\n",
       "    </tr>\n",
       "    <tr>\n",
       "      <th>13582</th>\n",
       "      <td>214734</td>\n",
       "      <td>001 2004501209UNUNUNPOR</td>\n",
       "      <td>001 2004501209</td>\n",
       "      <td>2239094</td>\n",
       "      <td>N06</td>\n",
       "      <td>2020-04-03</td>\n",
       "      <td>Servicio principal</td>\n",
       "      <td>2020-03-24 00:00:00</td>\n",
       "    </tr>\n",
       "    <tr>\n",
       "      <th>13583</th>\n",
       "      <td>175766</td>\n",
       "      <td>001 4802009095UN050C0UN</td>\n",
       "      <td>001 4802009095</td>\n",
       "      <td>6119594</td>\n",
       "      <td>N01</td>\n",
       "      <td>2020-06-03</td>\n",
       "      <td>Servicio principal</td>\n",
       "      <td>2020-03-07 00:00:00</td>\n",
       "    </tr>\n",
       "    <tr>\n",
       "      <th>13584</th>\n",
       "      <td>122530</td>\n",
       "      <td>011 3120101590UN070C0UN</td>\n",
       "      <td>011 3120101590</td>\n",
       "      <td>6111352</td>\n",
       "      <td>N06</td>\n",
       "      <td>2020-06-03</td>\n",
       "      <td>Servicio principal</td>\n",
       "      <td>2020-02-16 00:00:00</td>\n",
       "    </tr>\n",
       "  </tbody>\n",
       "</table>\n",
       "<p>13585 rows × 8 columns</p>\n",
       "</div>"
      ],
      "text/plain": [
       "       Unnamed: 0                 Catastro    ReferenciaCP  IdCliente  \\\n",
       "0          106640  087 2000501120UN02UN0UN  087 2000501120    6105422   \n",
       "1          205094  033 2006900750UN040B0UN  033 2006900750    6125687   \n",
       "2           21253  008 0105902010UN060C0UN  008 0105902010    6098841   \n",
       "3          149999  002 4802008896UN040C0UN  002 4802008896    6115427   \n",
       "4           58564  010 2007902403UN03CN0UN  010 2007902403    6103115   \n",
       "...           ...                      ...             ...        ...   \n",
       "13580      191276  005 4804400046UNPBUN001  005 4804400046      75816   \n",
       "13581      106294  005 0103601575UN020C0UN  005 0103601575    6109233   \n",
       "13582      214734  001 2004501209UNUNUNPOR  001 2004501209    2239094   \n",
       "13583      175766  001 4802009095UN050C0UN  001 4802009095    6119594   \n",
       "13584      122530  011 3120101590UN070C0UN  011 3120101590    6111352   \n",
       "\n",
       "      Producto       Fecha        TipoProducto          AltaCliente  \n",
       "0          N01  2020-06-03  Servicio principal  2020-02-16 00:00:00  \n",
       "1          N01  2020-05-03  Servicio sin cuota  2020-03-19 00:00:00  \n",
       "2          N06  2020-03-03  Servicio principal  2020-01-11 00:00:00  \n",
       "3          N06  2020-05-03  Servicio principal  2020-02-26 00:00:00  \n",
       "4          N04  2020-05-03  Servicio principal  2020-01-25 00:00:00  \n",
       "...        ...         ...                 ...                  ...  \n",
       "13580      N06  2020-04-03  Servicio principal  2020-03-14 00:00:00  \n",
       "13581      N01  2020-03-03  Servicio sin cuota  2020-02-06 00:00:00  \n",
       "13582      N06  2020-04-03  Servicio principal  2020-03-24 00:00:00  \n",
       "13583      N01  2020-06-03  Servicio principal  2020-03-07 00:00:00  \n",
       "13584      N06  2020-06-03  Servicio principal  2020-02-16 00:00:00  \n",
       "\n",
       "[13585 rows x 8 columns]"
      ]
     },
     "execution_count": 6,
     "metadata": {},
     "output_type": "execute_result"
    }
   ],
   "source": [
    "df"
   ]
  },
  {
   "cell_type": "code",
   "execution_count": null,
   "metadata": {
    "executionInfo": {
     "elapsed": 48,
     "status": "ok",
     "timestamp": 1750762740425,
     "user": {
      "displayName": "Aitor Donado",
      "userId": "08246046509718212083"
     },
     "user_tz": -120
    },
    "id": "t6b6pk4DuFYI"
   },
   "outputs": [],
   "source": [
    "#Otra forma más elegante de cargar los datos...\n",
    "import os\n",
    "\n",
    "# Cambiar por carpeta donde se encuentren los datos\n",
    "data_dir = '/content/sample_data/'\n",
    "\n",
    "path = os.path.join(data_dir, 'data2.csv')\n",
    "try:\n",
    "    df = pd.read_csv(path, sep=\"|\")  # para cargar csv tabulados, usar sep=\"\\t\"\n",
    "except Exception as e:\n",
    "    print(e)"
   ]
  },
  {
   "cell_type": "markdown",
   "metadata": {
    "id": "1XVHobDSuFYJ"
   },
   "source": [
    "### Corregimos los errores\n",
    "Si hay errores, comprobamos los siguiente:\n",
    "* Caracter separador.\n",
    "* Caracter decimal.\n",
    "* Codificación.\n",
    "* Selección de las filas a leer.\n",
    "\n",
    "[Documentación `read_csv()`](https://pandas.pydata.org/docs/reference/api/pandas.read_csv.html)"
   ]
  },
  {
   "cell_type": "code",
   "execution_count": 7,
   "metadata": {
    "colab": {
     "base_uri": "https://localhost:8080/",
     "height": 206
    },
    "executionInfo": {
     "elapsed": 74,
     "status": "ok",
     "timestamp": 1750762753158,
     "user": {
      "displayName": "Aitor Donado",
      "userId": "08246046509718212083"
     },
     "user_tz": -120
    },
    "id": "K9gAhLoCuFYJ",
    "outputId": "42775f14-af8e-436b-e443-df44b06c0e9b"
   },
   "outputs": [
    {
     "data": {
      "text/html": [
       "<div>\n",
       "<style scoped>\n",
       "    .dataframe tbody tr th:only-of-type {\n",
       "        vertical-align: middle;\n",
       "    }\n",
       "\n",
       "    .dataframe tbody tr th {\n",
       "        vertical-align: top;\n",
       "    }\n",
       "\n",
       "    .dataframe thead th {\n",
       "        text-align: right;\n",
       "    }\n",
       "</style>\n",
       "<table border=\"1\" class=\"dataframe\">\n",
       "  <thead>\n",
       "    <tr style=\"text-align: right;\">\n",
       "      <th></th>\n",
       "      <th>Unnamed: 0</th>\n",
       "      <th>Catastro</th>\n",
       "      <th>ReferenciaCP</th>\n",
       "      <th>IdCliente</th>\n",
       "      <th>Producto</th>\n",
       "      <th>Fecha</th>\n",
       "      <th>TipoProducto</th>\n",
       "      <th>AltaCliente</th>\n",
       "    </tr>\n",
       "  </thead>\n",
       "  <tbody>\n",
       "    <tr>\n",
       "      <th>0</th>\n",
       "      <td>106640</td>\n",
       "      <td>087 2000501120UN02UN0UN</td>\n",
       "      <td>087 2000501120</td>\n",
       "      <td>6105422</td>\n",
       "      <td>N01</td>\n",
       "      <td>2020-06-03</td>\n",
       "      <td>Servicio principal</td>\n",
       "      <td>2020-02-16 00:00:00</td>\n",
       "    </tr>\n",
       "    <tr>\n",
       "      <th>1</th>\n",
       "      <td>205094</td>\n",
       "      <td>033 2006900750UN040B0UN</td>\n",
       "      <td>033 2006900750</td>\n",
       "      <td>6125687</td>\n",
       "      <td>N01</td>\n",
       "      <td>2020-05-03</td>\n",
       "      <td>Servicio sin cuota</td>\n",
       "      <td>2020-03-19 00:00:00</td>\n",
       "    </tr>\n",
       "    <tr>\n",
       "      <th>2</th>\n",
       "      <td>21253</td>\n",
       "      <td>008 0105902010UN060C0UN</td>\n",
       "      <td>008 0105902010</td>\n",
       "      <td>6098841</td>\n",
       "      <td>N06</td>\n",
       "      <td>2020-03-03</td>\n",
       "      <td>Servicio principal</td>\n",
       "      <td>2020-01-11 00:00:00</td>\n",
       "    </tr>\n",
       "    <tr>\n",
       "      <th>3</th>\n",
       "      <td>149999</td>\n",
       "      <td>002 4802008896UN040C0UN</td>\n",
       "      <td>002 4802008896</td>\n",
       "      <td>6115427</td>\n",
       "      <td>N06</td>\n",
       "      <td>2020-05-03</td>\n",
       "      <td>Servicio principal</td>\n",
       "      <td>2020-02-26 00:00:00</td>\n",
       "    </tr>\n",
       "    <tr>\n",
       "      <th>4</th>\n",
       "      <td>58564</td>\n",
       "      <td>010 2007902403UN03CN0UN</td>\n",
       "      <td>010 2007902403</td>\n",
       "      <td>6103115</td>\n",
       "      <td>N04</td>\n",
       "      <td>2020-05-03</td>\n",
       "      <td>Servicio principal</td>\n",
       "      <td>2020-01-25 00:00:00</td>\n",
       "    </tr>\n",
       "  </tbody>\n",
       "</table>\n",
       "</div>"
      ],
      "text/plain": [
       "   Unnamed: 0                 Catastro    ReferenciaCP  IdCliente Producto  \\\n",
       "0      106640  087 2000501120UN02UN0UN  087 2000501120    6105422      N01   \n",
       "1      205094  033 2006900750UN040B0UN  033 2006900750    6125687      N01   \n",
       "2       21253  008 0105902010UN060C0UN  008 0105902010    6098841      N06   \n",
       "3      149999  002 4802008896UN040C0UN  002 4802008896    6115427      N06   \n",
       "4       58564  010 2007902403UN03CN0UN  010 2007902403    6103115      N04   \n",
       "\n",
       "        Fecha        TipoProducto          AltaCliente  \n",
       "0  2020-06-03  Servicio principal  2020-02-16 00:00:00  \n",
       "1  2020-05-03  Servicio sin cuota  2020-03-19 00:00:00  \n",
       "2  2020-03-03  Servicio principal  2020-01-11 00:00:00  \n",
       "3  2020-05-03  Servicio principal  2020-02-26 00:00:00  \n",
       "4  2020-05-03  Servicio principal  2020-01-25 00:00:00  "
      ]
     },
     "execution_count": 7,
     "metadata": {},
     "output_type": "execute_result"
    }
   ],
   "source": [
    "df.head()"
   ]
  },
  {
   "cell_type": "markdown",
   "metadata": {
    "id": "e-uoNsnUuFYJ"
   },
   "source": [
    "### Exploración inicial"
   ]
  },
  {
   "cell_type": "code",
   "execution_count": 8,
   "metadata": {
    "colab": {
     "base_uri": "https://localhost:8080/"
    },
    "executionInfo": {
     "elapsed": 18,
     "status": "ok",
     "timestamp": 1750762806233,
     "user": {
      "displayName": "Aitor Donado",
      "userId": "08246046509718212083"
     },
     "user_tz": -120
    },
    "id": "3ge24cDTuFYJ",
    "outputId": "4ddf4d29-3fe5-4b7a-aee3-e9efc78aeedb"
   },
   "outputs": [
    {
     "name": "stdout",
     "output_type": "stream",
     "text": [
      "<class 'pandas.core.frame.DataFrame'>\n",
      "RangeIndex: 13585 entries, 0 to 13584\n",
      "Data columns (total 8 columns):\n",
      " #   Column        Non-Null Count  Dtype \n",
      "---  ------        --------------  ----- \n",
      " 0   Unnamed: 0    13585 non-null  int64 \n",
      " 1   Catastro      13573 non-null  object\n",
      " 2   ReferenciaCP  13585 non-null  object\n",
      " 3   IdCliente     13585 non-null  int64 \n",
      " 4   Producto      13585 non-null  object\n",
      " 5   Fecha         13585 non-null  object\n",
      " 6   TipoProducto  13585 non-null  object\n",
      " 7   AltaCliente   13585 non-null  object\n",
      "dtypes: int64(2), object(6)\n",
      "memory usage: 849.2+ KB\n"
     ]
    }
   ],
   "source": [
    "df.info()"
   ]
  },
  {
   "cell_type": "markdown",
   "metadata": {
    "id": "1Gfztw95uFYJ"
   },
   "source": [
    "### Corregimos los tipos de datos\n",
    "Modificamos los datos cargados:\n",
    "* Seleccionamos las columnas que queremos utilizar.\n",
    "* Leemos correctamente las columnas de tipo fecha.\n",
    "* Tipo del resto de columnas.\n",
    "* Eliminamos la columna 0"
   ]
  },
  {
   "cell_type": "code",
   "execution_count": 9,
   "metadata": {
    "executionInfo": {
     "elapsed": 15,
     "status": "ok",
     "timestamp": 1750762883074,
     "user": {
      "displayName": "Aitor Donado",
      "userId": "08246046509718212083"
     },
     "user_tz": -120
    },
    "id": "DvhAp-hyuFYK"
   },
   "outputs": [],
   "source": [
    "df['Catastro'] = df['Catastro'].astype('string')\n",
    "df['IdCliente'] = df['IdCliente'].astype('string')\n",
    "df['Producto'] = df['Producto'].astype('category')\n",
    "df['TipoProducto'] = df['TipoProducto'].astype('category')\n",
    "df = df.drop(columns=\"Unnamed: 0\")"
   ]
  },
  {
   "cell_type": "code",
   "execution_count": 10,
   "metadata": {
    "colab": {
     "base_uri": "https://localhost:8080/"
    },
    "executionInfo": {
     "elapsed": 17,
     "status": "ok",
     "timestamp": 1750762887531,
     "user": {
      "displayName": "Aitor Donado",
      "userId": "08246046509718212083"
     },
     "user_tz": -120
    },
    "id": "8VqX4UxauFYK",
    "outputId": "87cca70b-6046-4c91-8530-c2ce42a46168"
   },
   "outputs": [
    {
     "name": "stdout",
     "output_type": "stream",
     "text": [
      "<class 'pandas.core.frame.DataFrame'>\n",
      "RangeIndex: 13585 entries, 0 to 13584\n",
      "Data columns (total 7 columns):\n",
      " #   Column        Non-Null Count  Dtype   \n",
      "---  ------        --------------  -----   \n",
      " 0   Catastro      13573 non-null  string  \n",
      " 1   ReferenciaCP  13585 non-null  object  \n",
      " 2   IdCliente     13585 non-null  string  \n",
      " 3   Producto      13585 non-null  category\n",
      " 4   Fecha         13585 non-null  object  \n",
      " 5   TipoProducto  13585 non-null  category\n",
      " 6   AltaCliente   13585 non-null  object  \n",
      "dtypes: category(2), object(3), string(2)\n",
      "memory usage: 557.6+ KB\n"
     ]
    }
   ],
   "source": [
    "df.info()"
   ]
  },
  {
   "cell_type": "markdown",
   "metadata": {
    "id": "ztrfDavGuFYK"
   },
   "source": [
    "### Corregimos el resto de errores\n",
    "Si alguna columna no se ha modificado su tipo, puede ser porque contenga errores. Modificamos el tipo indicando que se ignoren los errores."
   ]
  },
  {
   "cell_type": "code",
   "execution_count": 11,
   "metadata": {
    "colab": {
     "base_uri": "https://localhost:8080/",
     "height": 458
    },
    "executionInfo": {
     "elapsed": 7,
     "status": "ok",
     "timestamp": 1750762916334,
     "user": {
      "displayName": "Aitor Donado",
      "userId": "08246046509718212083"
     },
     "user_tz": -120
    },
    "id": "a9CrWI4T5y7j",
    "outputId": "212815e8-a7b8-474d-ff3a-0eb62f5eff7a"
   },
   "outputs": [
    {
     "data": {
      "text/plain": [
       "0        2020-06-03\n",
       "1        2020-05-03\n",
       "2        2020-03-03\n",
       "3        2020-05-03\n",
       "4        2020-05-03\n",
       "            ...    \n",
       "13580    2020-04-03\n",
       "13581    2020-03-03\n",
       "13582    2020-04-03\n",
       "13583    2020-06-03\n",
       "13584    2020-06-03\n",
       "Name: Fecha, Length: 13585, dtype: object"
      ]
     },
     "execution_count": 11,
     "metadata": {},
     "output_type": "execute_result"
    }
   ],
   "source": [
    "df['Fecha']"
   ]
  },
  {
   "cell_type": "code",
   "execution_count": 12,
   "metadata": {
    "executionInfo": {
     "elapsed": 6,
     "status": "ok",
     "timestamp": 1750762925955,
     "user": {
      "displayName": "Aitor Donado",
      "userId": "08246046509718212083"
     },
     "user_tz": -120
    },
    "id": "58pRenIyuFYK"
   },
   "outputs": [],
   "source": [
    "df['Fecha'] = pd.to_datetime(df['Fecha'], errors='coerce')"
   ]
  },
  {
   "cell_type": "code",
   "execution_count": 13,
   "metadata": {
    "colab": {
     "base_uri": "https://localhost:8080/",
     "height": 458
    },
    "executionInfo": {
     "elapsed": 15,
     "status": "ok",
     "timestamp": 1750762975407,
     "user": {
      "displayName": "Aitor Donado",
      "userId": "08246046509718212083"
     },
     "user_tz": -120
    },
    "id": "8V5NmFNdYJAG",
    "outputId": "d0ec876e-d0fe-4935-a834-25d2ad2ea56d"
   },
   "outputs": [
    {
     "data": {
      "text/plain": [
       "11970   2020-02-03\n",
       "11184   2020-02-03\n",
       "7742    2020-02-03\n",
       "12926   2020-02-03\n",
       "7763    2020-02-03\n",
       "           ...    \n",
       "6947    2020-06-03\n",
       "6941    2020-06-03\n",
       "6935    2020-06-03\n",
       "6975    2020-06-03\n",
       "13584   2020-06-03\n",
       "Name: Fecha, Length: 13585, dtype: datetime64[ns]"
      ]
     },
     "execution_count": 13,
     "metadata": {},
     "output_type": "execute_result"
    }
   ],
   "source": [
    "df['Fecha'].sort_values()"
   ]
  },
  {
   "cell_type": "code",
   "execution_count": 14,
   "metadata": {
    "colab": {
     "base_uri": "https://localhost:8080/"
    },
    "executionInfo": {
     "elapsed": 6,
     "status": "ok",
     "timestamp": 1750762996490,
     "user": {
      "displayName": "Aitor Donado",
      "userId": "08246046509718212083"
     },
     "user_tz": -120
    },
    "id": "Z2gUx335YeES",
    "outputId": "b97246ad-b05b-4899-9bc7-ff6db645346d"
   },
   "outputs": [
    {
     "data": {
      "text/plain": [
       "array([3], dtype=int64)"
      ]
     },
     "execution_count": 14,
     "metadata": {},
     "output_type": "execute_result"
    }
   ],
   "source": [
    "df['Fecha'].dt.day.unique()"
   ]
  },
  {
   "cell_type": "markdown",
   "metadata": {
    "id": "GrDjROl2ZB_-"
   },
   "source": [
    "En realidad son datos mensuales pero los adjudica al día 3 de cada mes."
   ]
  },
  {
   "cell_type": "code",
   "execution_count": 15,
   "metadata": {
    "executionInfo": {
     "elapsed": 12,
     "status": "ok",
     "timestamp": 1750763005764,
     "user": {
      "displayName": "Aitor Donado",
      "userId": "08246046509718212083"
     },
     "user_tz": -120
    },
    "id": "jAFncdOja4Ow"
   },
   "outputs": [],
   "source": [
    "df[\"Fecha\"] = df[\"Fecha\"] + pd.offsets.Day(-3)"
   ]
  },
  {
   "cell_type": "markdown",
   "metadata": {
    "id": "hFNF1GkYbzW7"
   },
   "source": [
    "El problema con las fechas es que no es un sistema de medida fijo. \n",
    "\n",
    "Hay años bisiestos, los meses tienen diferente tamaño... \n",
    "\n",
    "No es tan fácil como agregar 30 días y ya está\n",
    "\n",
    "Para eso están los \n",
    "\n",
    "[Date Offsets](https://pandas.pydata.org/docs/reference/offset_frequency.html)"
   ]
  },
  {
   "cell_type": "code",
   "execution_count": 16,
   "metadata": {
    "colab": {
     "base_uri": "https://localhost:8080/",
     "height": 458
    },
    "executionInfo": {
     "elapsed": 19,
     "status": "ok",
     "timestamp": 1750763045884,
     "user": {
      "displayName": "Aitor Donado",
      "userId": "08246046509718212083"
     },
     "user_tz": -120
    },
    "id": "9xolj2ZWbAT_",
    "outputId": "6c28c149-57d0-4381-d573-4f0a55bc6609"
   },
   "outputs": [
    {
     "data": {
      "text/plain": [
       "0       2020-05-31\n",
       "1       2020-04-30\n",
       "2       2020-02-29\n",
       "3       2020-04-30\n",
       "4       2020-04-30\n",
       "           ...    \n",
       "13580   2020-03-31\n",
       "13581   2020-02-29\n",
       "13582   2020-03-31\n",
       "13583   2020-05-31\n",
       "13584   2020-05-31\n",
       "Name: Fecha, Length: 13585, dtype: datetime64[ns]"
      ]
     },
     "execution_count": 16,
     "metadata": {},
     "output_type": "execute_result"
    }
   ],
   "source": [
    "df[\"Fecha\"]"
   ]
  },
  {
   "cell_type": "code",
   "execution_count": 17,
   "metadata": {
    "executionInfo": {
     "elapsed": 11,
     "status": "ok",
     "timestamp": 1750763183783,
     "user": {
      "displayName": "Aitor Donado",
      "userId": "08246046509718212083"
     },
     "user_tz": -120
    },
    "id": "8r5y755haWyU"
   },
   "outputs": [],
   "source": [
    "df[\"Fecha\"] = df[\"Fecha\"].dt.to_period(\"M\")"
   ]
  },
  {
   "cell_type": "code",
   "execution_count": 18,
   "metadata": {
    "colab": {
     "base_uri": "https://localhost:8080/",
     "height": 458
    },
    "executionInfo": {
     "elapsed": 9,
     "status": "ok",
     "timestamp": 1750763185054,
     "user": {
      "displayName": "Aitor Donado",
      "userId": "08246046509718212083"
     },
     "user_tz": -120
    },
    "id": "gaFaCEmyaeJF",
    "outputId": "d03c2ab3-2c59-4d83-ac28-61a03fd6ce15"
   },
   "outputs": [
    {
     "data": {
      "text/plain": [
       "0        2020-05\n",
       "1        2020-04\n",
       "2        2020-02\n",
       "3        2020-04\n",
       "4        2020-04\n",
       "          ...   \n",
       "13580    2020-03\n",
       "13581    2020-02\n",
       "13582    2020-03\n",
       "13583    2020-05\n",
       "13584    2020-05\n",
       "Name: Fecha, Length: 13585, dtype: period[M]"
      ]
     },
     "execution_count": 18,
     "metadata": {},
     "output_type": "execute_result"
    }
   ],
   "source": [
    "df[\"Fecha\"]"
   ]
  },
  {
   "cell_type": "code",
   "execution_count": 19,
   "metadata": {
    "colab": {
     "base_uri": "https://localhost:8080/"
    },
    "executionInfo": {
     "elapsed": 15,
     "status": "ok",
     "timestamp": 1750763277488,
     "user": {
      "displayName": "Aitor Donado",
      "userId": "08246046509718212083"
     },
     "user_tz": -120
    },
    "id": "rrwTAXeBakrh",
    "outputId": "f17c83fe-5d9e-455f-bb2c-530d31efe6c8"
   },
   "outputs": [
    {
     "data": {
      "text/plain": [
       "array([31, 30, 29], dtype=int64)"
      ]
     },
     "execution_count": 19,
     "metadata": {},
     "output_type": "execute_result"
    }
   ],
   "source": [
    "df[\"Fecha\"].dt.day.unique()"
   ]
  },
  {
   "cell_type": "code",
   "execution_count": 20,
   "metadata": {
    "colab": {
     "base_uri": "https://localhost:8080/",
     "height": 458
    },
    "executionInfo": {
     "elapsed": 23,
     "status": "ok",
     "timestamp": 1750763192799,
     "user": {
      "displayName": "Aitor Donado",
      "userId": "08246046509718212083"
     },
     "user_tz": -120
    },
    "id": "y2oTpvVqhhrJ",
    "outputId": "9018f321-ad87-42c7-b13b-c39c0a4a571d"
   },
   "outputs": [
    {
     "data": {
      "text/plain": [
       "0       2020-05-01\n",
       "1       2020-04-01\n",
       "2       2020-02-01\n",
       "3       2020-04-01\n",
       "4       2020-04-01\n",
       "           ...    \n",
       "13580   2020-03-01\n",
       "13581   2020-02-01\n",
       "13582   2020-03-01\n",
       "13583   2020-05-01\n",
       "13584   2020-05-01\n",
       "Name: Fecha, Length: 13585, dtype: datetime64[ns]"
      ]
     },
     "execution_count": 20,
     "metadata": {},
     "output_type": "execute_result"
    }
   ],
   "source": [
    "df[\"Fecha\"] = df[\"Fecha\"].dt.to_timestamp()\n",
    "df[\"Fecha\"]"
   ]
  },
  {
   "cell_type": "code",
   "execution_count": 21,
   "metadata": {
    "executionInfo": {
     "elapsed": 18,
     "status": "ok",
     "timestamp": 1750763268848,
     "user": {
      "displayName": "Aitor Donado",
      "userId": "08246046509718212083"
     },
     "user_tz": -120
    },
    "id": "_ASIFr-EneR5"
   },
   "outputs": [],
   "source": [
    "df[\"Fecha\"] = pd.to_datetime(df[\"Fecha\"])"
   ]
  },
  {
   "cell_type": "code",
   "execution_count": 22,
   "metadata": {
    "colab": {
     "base_uri": "https://localhost:8080/",
     "height": 458
    },
    "executionInfo": {
     "elapsed": 5,
     "status": "ok",
     "timestamp": 1750763269580,
     "user": {
      "displayName": "Aitor Donado",
      "userId": "08246046509718212083"
     },
     "user_tz": -120
    },
    "id": "xF5U5l4_iTCO",
    "outputId": "f0422e3f-613a-4dbd-ad87-80c7930e2699"
   },
   "outputs": [
    {
     "data": {
      "text/plain": [
       "0       2020-05-01\n",
       "1       2020-04-01\n",
       "2       2020-02-01\n",
       "3       2020-04-01\n",
       "4       2020-04-01\n",
       "           ...    \n",
       "13580   2020-03-01\n",
       "13581   2020-02-01\n",
       "13582   2020-03-01\n",
       "13583   2020-05-01\n",
       "13584   2020-05-01\n",
       "Name: Fecha, Length: 13585, dtype: datetime64[ns]"
      ]
     },
     "execution_count": 22,
     "metadata": {},
     "output_type": "execute_result"
    }
   ],
   "source": [
    "df[\"Fecha\"]"
   ]
  },
  {
   "cell_type": "code",
   "execution_count": 23,
   "metadata": {
    "executionInfo": {
     "elapsed": 10,
     "status": "ok",
     "timestamp": 1750763303395,
     "user": {
      "displayName": "Aitor Donado",
      "userId": "08246046509718212083"
     },
     "user_tz": -120
    },
    "id": "8i8UXlWkFC5f"
   },
   "outputs": [],
   "source": [
    "df[\"AltaCliente\"] = pd.to_datetime(df[\"AltaCliente\"], format = \"%Y-%m-%d %H:%M:%S\")"
   ]
  },
  {
   "cell_type": "code",
   "execution_count": 24,
   "metadata": {
    "colab": {
     "base_uri": "https://localhost:8080/"
    },
    "executionInfo": {
     "elapsed": 14,
     "status": "ok",
     "timestamp": 1750763306942,
     "user": {
      "displayName": "Aitor Donado",
      "userId": "08246046509718212083"
     },
     "user_tz": -120
    },
    "id": "i-SpZeU6uFYK",
    "outputId": "23b04922-2c2e-4e07-972c-415b4df02568"
   },
   "outputs": [
    {
     "name": "stdout",
     "output_type": "stream",
     "text": [
      "<class 'pandas.core.frame.DataFrame'>\n",
      "RangeIndex: 13585 entries, 0 to 13584\n",
      "Data columns (total 7 columns):\n",
      " #   Column        Non-Null Count  Dtype         \n",
      "---  ------        --------------  -----         \n",
      " 0   Catastro      13573 non-null  string        \n",
      " 1   ReferenciaCP  13585 non-null  object        \n",
      " 2   IdCliente     13585 non-null  string        \n",
      " 3   Producto      13585 non-null  category      \n",
      " 4   Fecha         13585 non-null  datetime64[ns]\n",
      " 5   TipoProducto  13585 non-null  category      \n",
      " 6   AltaCliente   13585 non-null  datetime64[ns]\n",
      "dtypes: category(2), datetime64[ns](2), object(1), string(2)\n",
      "memory usage: 557.6+ KB\n"
     ]
    }
   ],
   "source": [
    "df.info()"
   ]
  },
  {
   "cell_type": "markdown",
   "metadata": {
    "id": "7VzrhA97uFYK"
   },
   "source": [
    "## Exploración y modificación\n",
    "---"
   ]
  },
  {
   "cell_type": "code",
   "execution_count": 25,
   "metadata": {
    "colab": {
     "base_uri": "https://localhost:8080/",
     "height": 206
    },
    "executionInfo": {
     "elapsed": 69,
     "status": "ok",
     "timestamp": 1750763340631,
     "user": {
      "displayName": "Aitor Donado",
      "userId": "08246046509718212083"
     },
     "user_tz": -120
    },
    "id": "BHLT5ZAquFYK",
    "outputId": "eaf8ea50-19ab-41a3-f56f-907218d7e8ba"
   },
   "outputs": [
    {
     "data": {
      "text/html": [
       "<div>\n",
       "<style scoped>\n",
       "    .dataframe tbody tr th:only-of-type {\n",
       "        vertical-align: middle;\n",
       "    }\n",
       "\n",
       "    .dataframe tbody tr th {\n",
       "        vertical-align: top;\n",
       "    }\n",
       "\n",
       "    .dataframe thead th {\n",
       "        text-align: right;\n",
       "    }\n",
       "</style>\n",
       "<table border=\"1\" class=\"dataframe\">\n",
       "  <thead>\n",
       "    <tr style=\"text-align: right;\">\n",
       "      <th></th>\n",
       "      <th>Catastro</th>\n",
       "      <th>ReferenciaCP</th>\n",
       "      <th>IdCliente</th>\n",
       "      <th>Producto</th>\n",
       "      <th>Fecha</th>\n",
       "      <th>TipoProducto</th>\n",
       "      <th>AltaCliente</th>\n",
       "    </tr>\n",
       "  </thead>\n",
       "  <tbody>\n",
       "    <tr>\n",
       "      <th>0</th>\n",
       "      <td>087 2000501120UN02UN0UN</td>\n",
       "      <td>087 2000501120</td>\n",
       "      <td>6105422</td>\n",
       "      <td>N01</td>\n",
       "      <td>2020-05-01</td>\n",
       "      <td>Servicio principal</td>\n",
       "      <td>2020-02-16</td>\n",
       "    </tr>\n",
       "    <tr>\n",
       "      <th>1</th>\n",
       "      <td>033 2006900750UN040B0UN</td>\n",
       "      <td>033 2006900750</td>\n",
       "      <td>6125687</td>\n",
       "      <td>N01</td>\n",
       "      <td>2020-04-01</td>\n",
       "      <td>Servicio sin cuota</td>\n",
       "      <td>2020-03-19</td>\n",
       "    </tr>\n",
       "    <tr>\n",
       "      <th>2</th>\n",
       "      <td>008 0105902010UN060C0UN</td>\n",
       "      <td>008 0105902010</td>\n",
       "      <td>6098841</td>\n",
       "      <td>N06</td>\n",
       "      <td>2020-02-01</td>\n",
       "      <td>Servicio principal</td>\n",
       "      <td>2020-01-11</td>\n",
       "    </tr>\n",
       "    <tr>\n",
       "      <th>3</th>\n",
       "      <td>002 4802008896UN040C0UN</td>\n",
       "      <td>002 4802008896</td>\n",
       "      <td>6115427</td>\n",
       "      <td>N06</td>\n",
       "      <td>2020-04-01</td>\n",
       "      <td>Servicio principal</td>\n",
       "      <td>2020-02-26</td>\n",
       "    </tr>\n",
       "    <tr>\n",
       "      <th>4</th>\n",
       "      <td>010 2007902403UN03CN0UN</td>\n",
       "      <td>010 2007902403</td>\n",
       "      <td>6103115</td>\n",
       "      <td>N04</td>\n",
       "      <td>2020-04-01</td>\n",
       "      <td>Servicio principal</td>\n",
       "      <td>2020-01-25</td>\n",
       "    </tr>\n",
       "  </tbody>\n",
       "</table>\n",
       "</div>"
      ],
      "text/plain": [
       "                  Catastro    ReferenciaCP IdCliente Producto      Fecha  \\\n",
       "0  087 2000501120UN02UN0UN  087 2000501120   6105422      N01 2020-05-01   \n",
       "1  033 2006900750UN040B0UN  033 2006900750   6125687      N01 2020-04-01   \n",
       "2  008 0105902010UN060C0UN  008 0105902010   6098841      N06 2020-02-01   \n",
       "3  002 4802008896UN040C0UN  002 4802008896   6115427      N06 2020-04-01   \n",
       "4  010 2007902403UN03CN0UN  010 2007902403   6103115      N04 2020-04-01   \n",
       "\n",
       "         TipoProducto AltaCliente  \n",
       "0  Servicio principal  2020-02-16  \n",
       "1  Servicio sin cuota  2020-03-19  \n",
       "2  Servicio principal  2020-01-11  \n",
       "3  Servicio principal  2020-02-26  \n",
       "4  Servicio principal  2020-01-25  "
      ]
     },
     "execution_count": 25,
     "metadata": {},
     "output_type": "execute_result"
    }
   ],
   "source": [
    "df.head()"
   ]
  },
  {
   "cell_type": "code",
   "execution_count": 30,
   "metadata": {
    "executionInfo": {
     "elapsed": 23,
     "status": "ok",
     "timestamp": 1750763348549,
     "user": {
      "displayName": "Aitor Donado",
      "userId": "08246046509718212083"
     },
     "user_tz": -120
    },
    "id": "AwAAJWVYuFYK"
   },
   "outputs": [],
   "source": [
    "# Renombramos columnas\n",
    "# Catastro renombrar a CatastroMax\n",
    "# ReferenciaCP renombrar a CPReferenciado\n",
    "df = df.rename(columns={'Catastro':'CatastroMax','ReferenciaCP':'CPReferenciado'})"
   ]
  },
  {
   "cell_type": "code",
   "execution_count": 31,
   "metadata": {},
   "outputs": [
    {
     "data": {
      "text/html": [
       "<div>\n",
       "<style scoped>\n",
       "    .dataframe tbody tr th:only-of-type {\n",
       "        vertical-align: middle;\n",
       "    }\n",
       "\n",
       "    .dataframe tbody tr th {\n",
       "        vertical-align: top;\n",
       "    }\n",
       "\n",
       "    .dataframe thead th {\n",
       "        text-align: right;\n",
       "    }\n",
       "</style>\n",
       "<table border=\"1\" class=\"dataframe\">\n",
       "  <thead>\n",
       "    <tr style=\"text-align: right;\">\n",
       "      <th></th>\n",
       "      <th>CatastroMax</th>\n",
       "      <th>CPReferenciado</th>\n",
       "      <th>IdCliente</th>\n",
       "      <th>Producto</th>\n",
       "      <th>Fecha</th>\n",
       "      <th>TipoProducto</th>\n",
       "      <th>AltaCliente</th>\n",
       "      <th>Provincia</th>\n",
       "    </tr>\n",
       "  </thead>\n",
       "  <tbody>\n",
       "    <tr>\n",
       "      <th>0</th>\n",
       "      <td>087 2000501120UN02UN0UN</td>\n",
       "      <td>087 2000501120</td>\n",
       "      <td>6105422</td>\n",
       "      <td>N01</td>\n",
       "      <td>2020-05-01</td>\n",
       "      <td>Servicio principal</td>\n",
       "      <td>2020-02-16</td>\n",
       "      <td>20</td>\n",
       "    </tr>\n",
       "    <tr>\n",
       "      <th>1</th>\n",
       "      <td>033 2006900750UN040B0UN</td>\n",
       "      <td>033 2006900750</td>\n",
       "      <td>6125687</td>\n",
       "      <td>N01</td>\n",
       "      <td>2020-04-01</td>\n",
       "      <td>Servicio sin cuota</td>\n",
       "      <td>2020-03-19</td>\n",
       "      <td>20</td>\n",
       "    </tr>\n",
       "    <tr>\n",
       "      <th>2</th>\n",
       "      <td>008 0105902010UN060C0UN</td>\n",
       "      <td>008 0105902010</td>\n",
       "      <td>6098841</td>\n",
       "      <td>N06</td>\n",
       "      <td>2020-02-01</td>\n",
       "      <td>Servicio principal</td>\n",
       "      <td>2020-01-11</td>\n",
       "      <td>01</td>\n",
       "    </tr>\n",
       "    <tr>\n",
       "      <th>3</th>\n",
       "      <td>002 4802008896UN040C0UN</td>\n",
       "      <td>002 4802008896</td>\n",
       "      <td>6115427</td>\n",
       "      <td>N06</td>\n",
       "      <td>2020-04-01</td>\n",
       "      <td>Servicio principal</td>\n",
       "      <td>2020-02-26</td>\n",
       "      <td>48</td>\n",
       "    </tr>\n",
       "    <tr>\n",
       "      <th>4</th>\n",
       "      <td>010 2007902403UN03CN0UN</td>\n",
       "      <td>010 2007902403</td>\n",
       "      <td>6103115</td>\n",
       "      <td>N04</td>\n",
       "      <td>2020-04-01</td>\n",
       "      <td>Servicio principal</td>\n",
       "      <td>2020-01-25</td>\n",
       "      <td>20</td>\n",
       "    </tr>\n",
       "    <tr>\n",
       "      <th>...</th>\n",
       "      <td>...</td>\n",
       "      <td>...</td>\n",
       "      <td>...</td>\n",
       "      <td>...</td>\n",
       "      <td>...</td>\n",
       "      <td>...</td>\n",
       "      <td>...</td>\n",
       "      <td>...</td>\n",
       "    </tr>\n",
       "    <tr>\n",
       "      <th>13580</th>\n",
       "      <td>005 4804400046UNPBUN001</td>\n",
       "      <td>005 4804400046</td>\n",
       "      <td>75816</td>\n",
       "      <td>N06</td>\n",
       "      <td>2020-03-01</td>\n",
       "      <td>Servicio principal</td>\n",
       "      <td>2020-03-14</td>\n",
       "      <td>48</td>\n",
       "    </tr>\n",
       "    <tr>\n",
       "      <th>13581</th>\n",
       "      <td>005 0103601575UN020C0UN</td>\n",
       "      <td>005 0103601575</td>\n",
       "      <td>6109233</td>\n",
       "      <td>N01</td>\n",
       "      <td>2020-02-01</td>\n",
       "      <td>Servicio sin cuota</td>\n",
       "      <td>2020-02-06</td>\n",
       "      <td>01</td>\n",
       "    </tr>\n",
       "    <tr>\n",
       "      <th>13582</th>\n",
       "      <td>001 2004501209UNUNUNPOR</td>\n",
       "      <td>001 2004501209</td>\n",
       "      <td>2239094</td>\n",
       "      <td>N06</td>\n",
       "      <td>2020-03-01</td>\n",
       "      <td>Servicio principal</td>\n",
       "      <td>2020-03-24</td>\n",
       "      <td>20</td>\n",
       "    </tr>\n",
       "    <tr>\n",
       "      <th>13583</th>\n",
       "      <td>001 4802009095UN050C0UN</td>\n",
       "      <td>001 4802009095</td>\n",
       "      <td>6119594</td>\n",
       "      <td>N01</td>\n",
       "      <td>2020-05-01</td>\n",
       "      <td>Servicio principal</td>\n",
       "      <td>2020-03-07</td>\n",
       "      <td>48</td>\n",
       "    </tr>\n",
       "    <tr>\n",
       "      <th>13584</th>\n",
       "      <td>011 3120101590UN070C0UN</td>\n",
       "      <td>011 3120101590</td>\n",
       "      <td>6111352</td>\n",
       "      <td>N06</td>\n",
       "      <td>2020-05-01</td>\n",
       "      <td>Servicio principal</td>\n",
       "      <td>2020-02-16</td>\n",
       "      <td>31</td>\n",
       "    </tr>\n",
       "  </tbody>\n",
       "</table>\n",
       "<p>13585 rows × 8 columns</p>\n",
       "</div>"
      ],
      "text/plain": [
       "                   CatastroMax  CPReferenciado IdCliente Producto      Fecha  \\\n",
       "0      087 2000501120UN02UN0UN  087 2000501120   6105422      N01 2020-05-01   \n",
       "1      033 2006900750UN040B0UN  033 2006900750   6125687      N01 2020-04-01   \n",
       "2      008 0105902010UN060C0UN  008 0105902010   6098841      N06 2020-02-01   \n",
       "3      002 4802008896UN040C0UN  002 4802008896   6115427      N06 2020-04-01   \n",
       "4      010 2007902403UN03CN0UN  010 2007902403   6103115      N04 2020-04-01   \n",
       "...                        ...             ...       ...      ...        ...   \n",
       "13580  005 4804400046UNPBUN001  005 4804400046     75816      N06 2020-03-01   \n",
       "13581  005 0103601575UN020C0UN  005 0103601575   6109233      N01 2020-02-01   \n",
       "13582  001 2004501209UNUNUNPOR  001 2004501209   2239094      N06 2020-03-01   \n",
       "13583  001 4802009095UN050C0UN  001 4802009095   6119594      N01 2020-05-01   \n",
       "13584  011 3120101590UN070C0UN  011 3120101590   6111352      N06 2020-05-01   \n",
       "\n",
       "             TipoProducto AltaCliente Provincia  \n",
       "0      Servicio principal  2020-02-16        20  \n",
       "1      Servicio sin cuota  2020-03-19        20  \n",
       "2      Servicio principal  2020-01-11        01  \n",
       "3      Servicio principal  2020-02-26        48  \n",
       "4      Servicio principal  2020-01-25        20  \n",
       "...                   ...         ...       ...  \n",
       "13580  Servicio principal  2020-03-14        48  \n",
       "13581  Servicio sin cuota  2020-02-06        01  \n",
       "13582  Servicio principal  2020-03-24        20  \n",
       "13583  Servicio principal  2020-03-07        48  \n",
       "13584  Servicio principal  2020-02-16        31  \n",
       "\n",
       "[13585 rows x 8 columns]"
      ]
     },
     "execution_count": 31,
     "metadata": {},
     "output_type": "execute_result"
    }
   ],
   "source": [
    "df"
   ]
  },
  {
   "cell_type": "markdown",
   "metadata": {
    "id": "no_5CGEbm7AM"
   },
   "source": [
    "Extraemos del Catastro el código de la provincia.\n",
    "\n",
    "Para ello eliminamos primero todos los espacios y posteriormente extraemos el texto de las posiciones 3 a 4"
   ]
  },
  {
   "cell_type": "code",
   "execution_count": 33,
   "metadata": {
    "colab": {
     "base_uri": "https://localhost:8080/",
     "height": 206
    },
    "executionInfo": {
     "elapsed": 64,
     "status": "ok",
     "timestamp": 1750763389236,
     "user": {
      "displayName": "Aitor Donado",
      "userId": "08246046509718212083"
     },
     "user_tz": -120
    },
    "id": "OxrOdLCCm7AP",
    "outputId": "5029ad8e-c97c-413c-cbd0-a6ee820fa110"
   },
   "outputs": [],
   "source": [
    "df['Provincia'] = df['CatastroMax'].str.replace(\" \",\"\")\n"
   ]
  },
  {
   "cell_type": "code",
   "execution_count": 34,
   "metadata": {},
   "outputs": [
    {
     "data": {
      "text/html": [
       "<div>\n",
       "<style scoped>\n",
       "    .dataframe tbody tr th:only-of-type {\n",
       "        vertical-align: middle;\n",
       "    }\n",
       "\n",
       "    .dataframe tbody tr th {\n",
       "        vertical-align: top;\n",
       "    }\n",
       "\n",
       "    .dataframe thead th {\n",
       "        text-align: right;\n",
       "    }\n",
       "</style>\n",
       "<table border=\"1\" class=\"dataframe\">\n",
       "  <thead>\n",
       "    <tr style=\"text-align: right;\">\n",
       "      <th></th>\n",
       "      <th>CatastroMax</th>\n",
       "      <th>CPReferenciado</th>\n",
       "      <th>IdCliente</th>\n",
       "      <th>Producto</th>\n",
       "      <th>Fecha</th>\n",
       "      <th>TipoProducto</th>\n",
       "      <th>AltaCliente</th>\n",
       "      <th>Provincia</th>\n",
       "    </tr>\n",
       "  </thead>\n",
       "  <tbody>\n",
       "    <tr>\n",
       "      <th>0</th>\n",
       "      <td>087 2000501120UN02UN0UN</td>\n",
       "      <td>087 2000501120</td>\n",
       "      <td>6105422</td>\n",
       "      <td>N01</td>\n",
       "      <td>2020-05-01</td>\n",
       "      <td>Servicio principal</td>\n",
       "      <td>2020-02-16</td>\n",
       "      <td>0872000501120UN02UN0UN</td>\n",
       "    </tr>\n",
       "    <tr>\n",
       "      <th>1</th>\n",
       "      <td>033 2006900750UN040B0UN</td>\n",
       "      <td>033 2006900750</td>\n",
       "      <td>6125687</td>\n",
       "      <td>N01</td>\n",
       "      <td>2020-04-01</td>\n",
       "      <td>Servicio sin cuota</td>\n",
       "      <td>2020-03-19</td>\n",
       "      <td>0332006900750UN040B0UN</td>\n",
       "    </tr>\n",
       "    <tr>\n",
       "      <th>2</th>\n",
       "      <td>008 0105902010UN060C0UN</td>\n",
       "      <td>008 0105902010</td>\n",
       "      <td>6098841</td>\n",
       "      <td>N06</td>\n",
       "      <td>2020-02-01</td>\n",
       "      <td>Servicio principal</td>\n",
       "      <td>2020-01-11</td>\n",
       "      <td>0080105902010UN060C0UN</td>\n",
       "    </tr>\n",
       "    <tr>\n",
       "      <th>3</th>\n",
       "      <td>002 4802008896UN040C0UN</td>\n",
       "      <td>002 4802008896</td>\n",
       "      <td>6115427</td>\n",
       "      <td>N06</td>\n",
       "      <td>2020-04-01</td>\n",
       "      <td>Servicio principal</td>\n",
       "      <td>2020-02-26</td>\n",
       "      <td>0024802008896UN040C0UN</td>\n",
       "    </tr>\n",
       "    <tr>\n",
       "      <th>4</th>\n",
       "      <td>010 2007902403UN03CN0UN</td>\n",
       "      <td>010 2007902403</td>\n",
       "      <td>6103115</td>\n",
       "      <td>N04</td>\n",
       "      <td>2020-04-01</td>\n",
       "      <td>Servicio principal</td>\n",
       "      <td>2020-01-25</td>\n",
       "      <td>0102007902403UN03CN0UN</td>\n",
       "    </tr>\n",
       "    <tr>\n",
       "      <th>...</th>\n",
       "      <td>...</td>\n",
       "      <td>...</td>\n",
       "      <td>...</td>\n",
       "      <td>...</td>\n",
       "      <td>...</td>\n",
       "      <td>...</td>\n",
       "      <td>...</td>\n",
       "      <td>...</td>\n",
       "    </tr>\n",
       "    <tr>\n",
       "      <th>13580</th>\n",
       "      <td>005 4804400046UNPBUN001</td>\n",
       "      <td>005 4804400046</td>\n",
       "      <td>75816</td>\n",
       "      <td>N06</td>\n",
       "      <td>2020-03-01</td>\n",
       "      <td>Servicio principal</td>\n",
       "      <td>2020-03-14</td>\n",
       "      <td>0054804400046UNPBUN001</td>\n",
       "    </tr>\n",
       "    <tr>\n",
       "      <th>13581</th>\n",
       "      <td>005 0103601575UN020C0UN</td>\n",
       "      <td>005 0103601575</td>\n",
       "      <td>6109233</td>\n",
       "      <td>N01</td>\n",
       "      <td>2020-02-01</td>\n",
       "      <td>Servicio sin cuota</td>\n",
       "      <td>2020-02-06</td>\n",
       "      <td>0050103601575UN020C0UN</td>\n",
       "    </tr>\n",
       "    <tr>\n",
       "      <th>13582</th>\n",
       "      <td>001 2004501209UNUNUNPOR</td>\n",
       "      <td>001 2004501209</td>\n",
       "      <td>2239094</td>\n",
       "      <td>N06</td>\n",
       "      <td>2020-03-01</td>\n",
       "      <td>Servicio principal</td>\n",
       "      <td>2020-03-24</td>\n",
       "      <td>0012004501209UNUNUNPOR</td>\n",
       "    </tr>\n",
       "    <tr>\n",
       "      <th>13583</th>\n",
       "      <td>001 4802009095UN050C0UN</td>\n",
       "      <td>001 4802009095</td>\n",
       "      <td>6119594</td>\n",
       "      <td>N01</td>\n",
       "      <td>2020-05-01</td>\n",
       "      <td>Servicio principal</td>\n",
       "      <td>2020-03-07</td>\n",
       "      <td>0014802009095UN050C0UN</td>\n",
       "    </tr>\n",
       "    <tr>\n",
       "      <th>13584</th>\n",
       "      <td>011 3120101590UN070C0UN</td>\n",
       "      <td>011 3120101590</td>\n",
       "      <td>6111352</td>\n",
       "      <td>N06</td>\n",
       "      <td>2020-05-01</td>\n",
       "      <td>Servicio principal</td>\n",
       "      <td>2020-02-16</td>\n",
       "      <td>0113120101590UN070C0UN</td>\n",
       "    </tr>\n",
       "  </tbody>\n",
       "</table>\n",
       "<p>13585 rows × 8 columns</p>\n",
       "</div>"
      ],
      "text/plain": [
       "                   CatastroMax  CPReferenciado IdCliente Producto      Fecha  \\\n",
       "0      087 2000501120UN02UN0UN  087 2000501120   6105422      N01 2020-05-01   \n",
       "1      033 2006900750UN040B0UN  033 2006900750   6125687      N01 2020-04-01   \n",
       "2      008 0105902010UN060C0UN  008 0105902010   6098841      N06 2020-02-01   \n",
       "3      002 4802008896UN040C0UN  002 4802008896   6115427      N06 2020-04-01   \n",
       "4      010 2007902403UN03CN0UN  010 2007902403   6103115      N04 2020-04-01   \n",
       "...                        ...             ...       ...      ...        ...   \n",
       "13580  005 4804400046UNPBUN001  005 4804400046     75816      N06 2020-03-01   \n",
       "13581  005 0103601575UN020C0UN  005 0103601575   6109233      N01 2020-02-01   \n",
       "13582  001 2004501209UNUNUNPOR  001 2004501209   2239094      N06 2020-03-01   \n",
       "13583  001 4802009095UN050C0UN  001 4802009095   6119594      N01 2020-05-01   \n",
       "13584  011 3120101590UN070C0UN  011 3120101590   6111352      N06 2020-05-01   \n",
       "\n",
       "             TipoProducto AltaCliente               Provincia  \n",
       "0      Servicio principal  2020-02-16  0872000501120UN02UN0UN  \n",
       "1      Servicio sin cuota  2020-03-19  0332006900750UN040B0UN  \n",
       "2      Servicio principal  2020-01-11  0080105902010UN060C0UN  \n",
       "3      Servicio principal  2020-02-26  0024802008896UN040C0UN  \n",
       "4      Servicio principal  2020-01-25  0102007902403UN03CN0UN  \n",
       "...                   ...         ...                     ...  \n",
       "13580  Servicio principal  2020-03-14  0054804400046UNPBUN001  \n",
       "13581  Servicio sin cuota  2020-02-06  0050103601575UN020C0UN  \n",
       "13582  Servicio principal  2020-03-24  0012004501209UNUNUNPOR  \n",
       "13583  Servicio principal  2020-03-07  0014802009095UN050C0UN  \n",
       "13584  Servicio principal  2020-02-16  0113120101590UN070C0UN  \n",
       "\n",
       "[13585 rows x 8 columns]"
      ]
     },
     "execution_count": 34,
     "metadata": {},
     "output_type": "execute_result"
    }
   ],
   "source": [
    "df"
   ]
  },
  {
   "cell_type": "code",
   "execution_count": 35,
   "metadata": {},
   "outputs": [],
   "source": [
    "df['Provincia'] = df['Provincia'].str.slice(3,5)\n"
   ]
  },
  {
   "cell_type": "code",
   "execution_count": 36,
   "metadata": {},
   "outputs": [
    {
     "data": {
      "text/html": [
       "<div>\n",
       "<style scoped>\n",
       "    .dataframe tbody tr th:only-of-type {\n",
       "        vertical-align: middle;\n",
       "    }\n",
       "\n",
       "    .dataframe tbody tr th {\n",
       "        vertical-align: top;\n",
       "    }\n",
       "\n",
       "    .dataframe thead th {\n",
       "        text-align: right;\n",
       "    }\n",
       "</style>\n",
       "<table border=\"1\" class=\"dataframe\">\n",
       "  <thead>\n",
       "    <tr style=\"text-align: right;\">\n",
       "      <th></th>\n",
       "      <th>CatastroMax</th>\n",
       "      <th>CPReferenciado</th>\n",
       "      <th>IdCliente</th>\n",
       "      <th>Producto</th>\n",
       "      <th>Fecha</th>\n",
       "      <th>TipoProducto</th>\n",
       "      <th>AltaCliente</th>\n",
       "      <th>Provincia</th>\n",
       "    </tr>\n",
       "  </thead>\n",
       "  <tbody>\n",
       "    <tr>\n",
       "      <th>13580</th>\n",
       "      <td>005 4804400046UNPBUN001</td>\n",
       "      <td>005 4804400046</td>\n",
       "      <td>75816</td>\n",
       "      <td>N06</td>\n",
       "      <td>2020-03-01</td>\n",
       "      <td>Servicio principal</td>\n",
       "      <td>2020-03-14</td>\n",
       "      <td>48</td>\n",
       "    </tr>\n",
       "    <tr>\n",
       "      <th>13581</th>\n",
       "      <td>005 0103601575UN020C0UN</td>\n",
       "      <td>005 0103601575</td>\n",
       "      <td>6109233</td>\n",
       "      <td>N01</td>\n",
       "      <td>2020-02-01</td>\n",
       "      <td>Servicio sin cuota</td>\n",
       "      <td>2020-02-06</td>\n",
       "      <td>01</td>\n",
       "    </tr>\n",
       "    <tr>\n",
       "      <th>13582</th>\n",
       "      <td>001 2004501209UNUNUNPOR</td>\n",
       "      <td>001 2004501209</td>\n",
       "      <td>2239094</td>\n",
       "      <td>N06</td>\n",
       "      <td>2020-03-01</td>\n",
       "      <td>Servicio principal</td>\n",
       "      <td>2020-03-24</td>\n",
       "      <td>20</td>\n",
       "    </tr>\n",
       "    <tr>\n",
       "      <th>13583</th>\n",
       "      <td>001 4802009095UN050C0UN</td>\n",
       "      <td>001 4802009095</td>\n",
       "      <td>6119594</td>\n",
       "      <td>N01</td>\n",
       "      <td>2020-05-01</td>\n",
       "      <td>Servicio principal</td>\n",
       "      <td>2020-03-07</td>\n",
       "      <td>48</td>\n",
       "    </tr>\n",
       "    <tr>\n",
       "      <th>13584</th>\n",
       "      <td>011 3120101590UN070C0UN</td>\n",
       "      <td>011 3120101590</td>\n",
       "      <td>6111352</td>\n",
       "      <td>N06</td>\n",
       "      <td>2020-05-01</td>\n",
       "      <td>Servicio principal</td>\n",
       "      <td>2020-02-16</td>\n",
       "      <td>31</td>\n",
       "    </tr>\n",
       "  </tbody>\n",
       "</table>\n",
       "</div>"
      ],
      "text/plain": [
       "                   CatastroMax  CPReferenciado IdCliente Producto      Fecha  \\\n",
       "13580  005 4804400046UNPBUN001  005 4804400046     75816      N06 2020-03-01   \n",
       "13581  005 0103601575UN020C0UN  005 0103601575   6109233      N01 2020-02-01   \n",
       "13582  001 2004501209UNUNUNPOR  001 2004501209   2239094      N06 2020-03-01   \n",
       "13583  001 4802009095UN050C0UN  001 4802009095   6119594      N01 2020-05-01   \n",
       "13584  011 3120101590UN070C0UN  011 3120101590   6111352      N06 2020-05-01   \n",
       "\n",
       "             TipoProducto AltaCliente Provincia  \n",
       "13580  Servicio principal  2020-03-14        48  \n",
       "13581  Servicio sin cuota  2020-02-06        01  \n",
       "13582  Servicio principal  2020-03-24        20  \n",
       "13583  Servicio principal  2020-03-07        48  \n",
       "13584  Servicio principal  2020-02-16        31  "
      ]
     },
     "execution_count": 36,
     "metadata": {},
     "output_type": "execute_result"
    }
   ],
   "source": [
    "df.tail()"
   ]
  },
  {
   "cell_type": "code",
   "execution_count": null,
   "metadata": {
    "colab": {
     "base_uri": "https://localhost:8080/",
     "height": 423
    },
    "executionInfo": {
     "elapsed": 86,
     "status": "ok",
     "timestamp": 1750763402629,
     "user": {
      "displayName": "Aitor Donado",
      "userId": "08246046509718212083"
     },
     "user_tz": -120
    },
    "id": "75we6fbeuFYK",
    "outputId": "23b824b6-7d81-4959-bdb0-92606c98bec4"
   },
   "outputs": [],
   "source": [
    "df"
   ]
  },
  {
   "cell_type": "markdown",
   "metadata": {
    "id": "pinzGy6nuFYK"
   },
   "source": [
    "### Generar variables dummies"
   ]
  },
  {
   "cell_type": "markdown",
   "metadata": {
    "id": "tDPIQgo_dSMO"
   },
   "source": [
    "Las variables dummy permiten representar información categórica en un formato que pueda ser utilizado por algoritmos de Machine Learning que **requieren entradas numéricas**. Aquí hay algunas razones principales para utilizar variables dummy:\n",
    "\n",
    " 1. **Adaptación a Algoritmos Numéricos:**\n",
    "   - Las variables categóricas, que pueden ser texto o etiquetas, no pueden ser procesadas directamente por estos algoritmos. Las variables dummy transforman estas categorías en valores numéricos binarios (0 o 1), lo que permite que los algoritmos las utilicen.\n",
    "\n",
    "2. **Evitar Relaciones Falsas:**\n",
    "   - Si se codifican las categorías directamente como números (por ejemplo, \"Rojo\" = 1, \"Verde\" = 2, \"Azul\" = 3), el algoritmo podría interpretar incorrectamente que existe una relación ordinal entre las categorías, como si \"Azul\" fuera \"mejor\" que \"Verde\" o \"Rojo\". Las variables dummy evitan este problema al representar cada categoría de manera independiente.\n",
    "\n",
    "3. **Interpretación de Modelos:**\n",
    "   - Las variables dummy facilitan la interpretación de los resultados del modelo. Por ejemplo, en un modelo de regresión, cada variable dummy representa la influencia de una categoría específica en la variable objetivo, lo que permite una comprensión más clara de cómo cada categoría afecta el resultado."
   ]
  },
  {
   "cell_type": "code",
   "execution_count": 37,
   "metadata": {
    "colab": {
     "base_uri": "https://localhost:8080/",
     "height": 313
    },
    "executionInfo": {
     "elapsed": 14,
     "status": "ok",
     "timestamp": 1732123550029,
     "user": {
      "displayName": "Aitor Donado",
      "userId": "08246046509718212083"
     },
     "user_tz": -60
    },
    "id": "urcdrQVPcqa4",
    "outputId": "e08944ed-6612-46c9-f57c-9aec179bf42e"
   },
   "outputs": [],
   "source": [
    "df_dummies_Producto = pd.get_dummies(df, columns=['Producto'])\n"
   ]
  },
  {
   "cell_type": "code",
   "execution_count": 38,
   "metadata": {},
   "outputs": [
    {
     "data": {
      "text/html": [
       "<div>\n",
       "<style scoped>\n",
       "    .dataframe tbody tr th:only-of-type {\n",
       "        vertical-align: middle;\n",
       "    }\n",
       "\n",
       "    .dataframe tbody tr th {\n",
       "        vertical-align: top;\n",
       "    }\n",
       "\n",
       "    .dataframe thead th {\n",
       "        text-align: right;\n",
       "    }\n",
       "</style>\n",
       "<table border=\"1\" class=\"dataframe\">\n",
       "  <thead>\n",
       "    <tr style=\"text-align: right;\">\n",
       "      <th></th>\n",
       "      <th>CatastroMax</th>\n",
       "      <th>CPReferenciado</th>\n",
       "      <th>IdCliente</th>\n",
       "      <th>Fecha</th>\n",
       "      <th>TipoProducto</th>\n",
       "      <th>AltaCliente</th>\n",
       "      <th>Provincia</th>\n",
       "      <th>Producto_N01</th>\n",
       "      <th>Producto_N03</th>\n",
       "      <th>Producto_N04</th>\n",
       "      <th>Producto_N06</th>\n",
       "    </tr>\n",
       "  </thead>\n",
       "  <tbody>\n",
       "    <tr>\n",
       "      <th>0</th>\n",
       "      <td>087 2000501120UN02UN0UN</td>\n",
       "      <td>087 2000501120</td>\n",
       "      <td>6105422</td>\n",
       "      <td>2020-05-01</td>\n",
       "      <td>Servicio principal</td>\n",
       "      <td>2020-02-16</td>\n",
       "      <td>20</td>\n",
       "      <td>1</td>\n",
       "      <td>0</td>\n",
       "      <td>0</td>\n",
       "      <td>0</td>\n",
       "    </tr>\n",
       "    <tr>\n",
       "      <th>1</th>\n",
       "      <td>033 2006900750UN040B0UN</td>\n",
       "      <td>033 2006900750</td>\n",
       "      <td>6125687</td>\n",
       "      <td>2020-04-01</td>\n",
       "      <td>Servicio sin cuota</td>\n",
       "      <td>2020-03-19</td>\n",
       "      <td>20</td>\n",
       "      <td>1</td>\n",
       "      <td>0</td>\n",
       "      <td>0</td>\n",
       "      <td>0</td>\n",
       "    </tr>\n",
       "    <tr>\n",
       "      <th>2</th>\n",
       "      <td>008 0105902010UN060C0UN</td>\n",
       "      <td>008 0105902010</td>\n",
       "      <td>6098841</td>\n",
       "      <td>2020-02-01</td>\n",
       "      <td>Servicio principal</td>\n",
       "      <td>2020-01-11</td>\n",
       "      <td>01</td>\n",
       "      <td>0</td>\n",
       "      <td>0</td>\n",
       "      <td>0</td>\n",
       "      <td>1</td>\n",
       "    </tr>\n",
       "    <tr>\n",
       "      <th>3</th>\n",
       "      <td>002 4802008896UN040C0UN</td>\n",
       "      <td>002 4802008896</td>\n",
       "      <td>6115427</td>\n",
       "      <td>2020-04-01</td>\n",
       "      <td>Servicio principal</td>\n",
       "      <td>2020-02-26</td>\n",
       "      <td>48</td>\n",
       "      <td>0</td>\n",
       "      <td>0</td>\n",
       "      <td>0</td>\n",
       "      <td>1</td>\n",
       "    </tr>\n",
       "    <tr>\n",
       "      <th>4</th>\n",
       "      <td>010 2007902403UN03CN0UN</td>\n",
       "      <td>010 2007902403</td>\n",
       "      <td>6103115</td>\n",
       "      <td>2020-04-01</td>\n",
       "      <td>Servicio principal</td>\n",
       "      <td>2020-01-25</td>\n",
       "      <td>20</td>\n",
       "      <td>0</td>\n",
       "      <td>0</td>\n",
       "      <td>1</td>\n",
       "      <td>0</td>\n",
       "    </tr>\n",
       "  </tbody>\n",
       "</table>\n",
       "</div>"
      ],
      "text/plain": [
       "               CatastroMax  CPReferenciado IdCliente      Fecha  \\\n",
       "0  087 2000501120UN02UN0UN  087 2000501120   6105422 2020-05-01   \n",
       "1  033 2006900750UN040B0UN  033 2006900750   6125687 2020-04-01   \n",
       "2  008 0105902010UN060C0UN  008 0105902010   6098841 2020-02-01   \n",
       "3  002 4802008896UN040C0UN  002 4802008896   6115427 2020-04-01   \n",
       "4  010 2007902403UN03CN0UN  010 2007902403   6103115 2020-04-01   \n",
       "\n",
       "         TipoProducto AltaCliente Provincia  Producto_N01  Producto_N03  \\\n",
       "0  Servicio principal  2020-02-16        20             1             0   \n",
       "1  Servicio sin cuota  2020-03-19        20             1             0   \n",
       "2  Servicio principal  2020-01-11        01             0             0   \n",
       "3  Servicio principal  2020-02-26        48             0             0   \n",
       "4  Servicio principal  2020-01-25        20             0             0   \n",
       "\n",
       "   Producto_N04  Producto_N06  \n",
       "0             0             0  \n",
       "1             0             0  \n",
       "2             0             1  \n",
       "3             0             1  \n",
       "4             1             0  "
      ]
     },
     "execution_count": 38,
     "metadata": {},
     "output_type": "execute_result"
    }
   ],
   "source": [
    "df_dummies_Producto.head()"
   ]
  },
  {
   "cell_type": "code",
   "execution_count": 39,
   "metadata": {
    "colab": {
     "base_uri": "https://localhost:8080/"
    },
    "executionInfo": {
     "elapsed": 14,
     "status": "ok",
     "timestamp": 1732123550029,
     "user": {
      "displayName": "Aitor Donado",
      "userId": "08246046509718212083"
     },
     "user_tz": -60
    },
    "id": "AQrfq9LzuFYK",
    "outputId": "711c1f80-fccc-4f71-81fa-4ea6c44f96b5"
   },
   "outputs": [
    {
     "name": "stdout",
     "output_type": "stream",
     "text": [
      "<class 'pandas.core.frame.DataFrame'>\n",
      "RangeIndex: 13585 entries, 0 to 13584\n",
      "Data columns (total 11 columns):\n",
      " #   Column          Non-Null Count  Dtype         \n",
      "---  ------          --------------  -----         \n",
      " 0   CatastroMax     13573 non-null  string        \n",
      " 1   CPReferenciado  13585 non-null  object        \n",
      " 2   IdCliente       13585 non-null  string        \n",
      " 3   Fecha           13585 non-null  datetime64[ns]\n",
      " 4   TipoProducto    13585 non-null  category      \n",
      " 5   AltaCliente     13585 non-null  datetime64[ns]\n",
      " 6   Provincia       13573 non-null  string        \n",
      " 7   Producto_N01    13585 non-null  uint8         \n",
      " 8   Producto_N03    13585 non-null  uint8         \n",
      " 9   Producto_N04    13585 non-null  uint8         \n",
      " 10  Producto_N06    13585 non-null  uint8         \n",
      "dtypes: category(1), datetime64[ns](2), object(1), string(3), uint8(4)\n",
      "memory usage: 703.4+ KB\n"
     ]
    }
   ],
   "source": [
    "df_dummies_Producto.info()"
   ]
  },
  {
   "cell_type": "code",
   "execution_count": 40,
   "metadata": {
    "colab": {
     "base_uri": "https://localhost:8080/",
     "height": 178
    },
    "executionInfo": {
     "elapsed": 13,
     "status": "ok",
     "timestamp": 1732123550029,
     "user": {
      "displayName": "Aitor Donado",
      "userId": "08246046509718212083"
     },
     "user_tz": -60
    },
    "id": "IxRxS8ZeGixf",
    "outputId": "044a98d0-f246-4820-f86a-be58d6f90d65"
   },
   "outputs": [
    {
     "data": {
      "text/plain": [
       "Servicio principal    11010\n",
       "Servicio sin cuota     2575\n",
       "Name: TipoProducto, dtype: int64"
      ]
     },
     "execution_count": 40,
     "metadata": {},
     "output_type": "execute_result"
    }
   ],
   "source": [
    "df[\"TipoProducto\"].value_counts()"
   ]
  },
  {
   "cell_type": "code",
   "execution_count": 41,
   "metadata": {
    "id": "ZNYGAtPR8F_y"
   },
   "outputs": [],
   "source": [
    "df_dummies_Producto[\"TipoProducto\"] = df_dummies_Producto[\"TipoProducto\"] == \"Servicio principal\""
   ]
  },
  {
   "cell_type": "code",
   "execution_count": 42,
   "metadata": {
    "colab": {
     "base_uri": "https://localhost:8080/",
     "height": 178
    },
    "executionInfo": {
     "elapsed": 13,
     "status": "ok",
     "timestamp": 1732123550030,
     "user": {
      "displayName": "Aitor Donado",
      "userId": "08246046509718212083"
     },
     "user_tz": -60
    },
    "id": "XJWd-VW58LsN",
    "outputId": "04b7368c-819c-46eb-f762-aa8cedae3100"
   },
   "outputs": [
    {
     "data": {
      "text/plain": [
       "True     11010\n",
       "False     2575\n",
       "Name: TipoProducto, dtype: int64"
      ]
     },
     "execution_count": 42,
     "metadata": {},
     "output_type": "execute_result"
    }
   ],
   "source": [
    "df_dummies_Producto[\"TipoProducto\"].value_counts()"
   ]
  },
  {
   "cell_type": "code",
   "execution_count": 43,
   "metadata": {
    "id": "65okKwvqelRr"
   },
   "outputs": [],
   "source": [
    "df_dummies_Producto.rename(columns={\"TipoProducto\":\"Cuota\"}, inplace=True)"
   ]
  },
  {
   "cell_type": "markdown",
   "metadata": {
    "id": "6ehHlpFUCReI"
   },
   "source": [
    "Voy a generar una columna con supuestos datos de facturación"
   ]
  },
  {
   "cell_type": "code",
   "execution_count": 44,
   "metadata": {
    "id": "t9yIDlOGCUVE"
   },
   "outputs": [],
   "source": [
    "import numpy as np"
   ]
  },
  {
   "cell_type": "code",
   "execution_count": 45,
   "metadata": {
    "id": "iJDhiRX3uFYL"
   },
   "outputs": [],
   "source": [
    "df_dummies_Producto ['Facturacion'] = np.random.randint(100, 1000, df_dummies_Producto.shape[0])"
   ]
  },
  {
   "cell_type": "code",
   "execution_count": 46,
   "metadata": {
    "colab": {
     "base_uri": "https://localhost:8080/",
     "height": 447
    },
    "executionInfo": {
     "elapsed": 13,
     "status": "ok",
     "timestamp": 1732123550030,
     "user": {
      "displayName": "Aitor Donado",
      "userId": "08246046509718212083"
     },
     "user_tz": -60
    },
    "id": "jztFt2m-CYsG",
    "outputId": "fe6de1f6-d506-4b77-90c2-af1ee76fe70d"
   },
   "outputs": [
    {
     "data": {
      "text/plain": [
       "<Axes: >"
      ]
     },
     "execution_count": 46,
     "metadata": {},
     "output_type": "execute_result"
    },
    {
     "data": {
      "image/png": "[encoded data removed]",
      "text/plain": [
       "<Figure size 640x480 with 1 Axes>"
      ]
     },
     "metadata": {},
     "output_type": "display_data"
    }
   ],
   "source": [
    "df_dummies_Producto ['Facturacion'].plot(kind=\"box\")"
   ]
  },
  {
   "cell_type": "code",
   "execution_count": 47,
   "metadata": {
    "colab": {
     "base_uri": "https://localhost:8080/",
     "height": 450
    },
    "executionInfo": {
     "elapsed": 1929,
     "status": "ok",
     "timestamp": 1732123551947,
     "user": {
      "displayName": "Aitor Donado",
      "userId": "08246046509718212083"
     },
     "user_tz": -60
    },
    "id": "sM_9eK6PCogA",
    "outputId": "c4bef0b5-baf4-4fa8-9e55-2820d0c9321c"
   },
   "outputs": [
    {
     "data": {
      "text/plain": [
       "<Axes: ylabel='Density'>"
      ]
     },
     "execution_count": 47,
     "metadata": {},
     "output_type": "execute_result"
    },
    {
     "data": {
      "image/png": "[encoded data removed]",
      "text/plain": [
       "<Figure size 640x480 with 1 Axes>"
      ]
     },
     "metadata": {},
     "output_type": "display_data"
    }
   ],
   "source": [
    "df_dummies_Producto ['Facturacion'].plot(kind=\"kde\")"
   ]
  },
  {
   "cell_type": "code",
   "execution_count": 48,
   "metadata": {
    "colab": {
     "base_uri": "https://localhost:8080/",
     "height": 313
    },
    "executionInfo": {
     "elapsed": 22,
     "status": "ok",
     "timestamp": 1732123551947,
     "user": {
      "displayName": "Aitor Donado",
      "userId": "08246046509718212083"
     },
     "user_tz": -60
    },
    "id": "PvoA0RO8uFYL",
    "outputId": "8413cdb0-063b-461a-a770-8ae21c35f570"
   },
   "outputs": [
    {
     "data": {
      "text/html": [
       "<div>\n",
       "<style scoped>\n",
       "    .dataframe tbody tr th:only-of-type {\n",
       "        vertical-align: middle;\n",
       "    }\n",
       "\n",
       "    .dataframe tbody tr th {\n",
       "        vertical-align: top;\n",
       "    }\n",
       "\n",
       "    .dataframe thead th {\n",
       "        text-align: right;\n",
       "    }\n",
       "</style>\n",
       "<table border=\"1\" class=\"dataframe\">\n",
       "  <thead>\n",
       "    <tr style=\"text-align: right;\">\n",
       "      <th></th>\n",
       "      <th>CatastroMax</th>\n",
       "      <th>CPReferenciado</th>\n",
       "      <th>IdCliente</th>\n",
       "      <th>Fecha</th>\n",
       "      <th>Cuota</th>\n",
       "      <th>AltaCliente</th>\n",
       "      <th>Provincia</th>\n",
       "      <th>Producto_N01</th>\n",
       "      <th>Producto_N03</th>\n",
       "      <th>Producto_N04</th>\n",
       "      <th>Producto_N06</th>\n",
       "      <th>Facturacion</th>\n",
       "    </tr>\n",
       "  </thead>\n",
       "  <tbody>\n",
       "    <tr>\n",
       "      <th>0</th>\n",
       "      <td>087 2000501120UN02UN0UN</td>\n",
       "      <td>087 2000501120</td>\n",
       "      <td>6105422</td>\n",
       "      <td>2020-05-01</td>\n",
       "      <td>True</td>\n",
       "      <td>2020-02-16</td>\n",
       "      <td>20</td>\n",
       "      <td>1</td>\n",
       "      <td>0</td>\n",
       "      <td>0</td>\n",
       "      <td>0</td>\n",
       "      <td>726</td>\n",
       "    </tr>\n",
       "    <tr>\n",
       "      <th>1</th>\n",
       "      <td>033 2006900750UN040B0UN</td>\n",
       "      <td>033 2006900750</td>\n",
       "      <td>6125687</td>\n",
       "      <td>2020-04-01</td>\n",
       "      <td>False</td>\n",
       "      <td>2020-03-19</td>\n",
       "      <td>20</td>\n",
       "      <td>1</td>\n",
       "      <td>0</td>\n",
       "      <td>0</td>\n",
       "      <td>0</td>\n",
       "      <td>403</td>\n",
       "    </tr>\n",
       "    <tr>\n",
       "      <th>2</th>\n",
       "      <td>008 0105902010UN060C0UN</td>\n",
       "      <td>008 0105902010</td>\n",
       "      <td>6098841</td>\n",
       "      <td>2020-02-01</td>\n",
       "      <td>True</td>\n",
       "      <td>2020-01-11</td>\n",
       "      <td>01</td>\n",
       "      <td>0</td>\n",
       "      <td>0</td>\n",
       "      <td>0</td>\n",
       "      <td>1</td>\n",
       "      <td>432</td>\n",
       "    </tr>\n",
       "    <tr>\n",
       "      <th>3</th>\n",
       "      <td>002 4802008896UN040C0UN</td>\n",
       "      <td>002 4802008896</td>\n",
       "      <td>6115427</td>\n",
       "      <td>2020-04-01</td>\n",
       "      <td>True</td>\n",
       "      <td>2020-02-26</td>\n",
       "      <td>48</td>\n",
       "      <td>0</td>\n",
       "      <td>0</td>\n",
       "      <td>0</td>\n",
       "      <td>1</td>\n",
       "      <td>847</td>\n",
       "    </tr>\n",
       "    <tr>\n",
       "      <th>4</th>\n",
       "      <td>010 2007902403UN03CN0UN</td>\n",
       "      <td>010 2007902403</td>\n",
       "      <td>6103115</td>\n",
       "      <td>2020-04-01</td>\n",
       "      <td>True</td>\n",
       "      <td>2020-01-25</td>\n",
       "      <td>20</td>\n",
       "      <td>0</td>\n",
       "      <td>0</td>\n",
       "      <td>1</td>\n",
       "      <td>0</td>\n",
       "      <td>301</td>\n",
       "    </tr>\n",
       "  </tbody>\n",
       "</table>\n",
       "</div>"
      ],
      "text/plain": [
       "               CatastroMax  CPReferenciado IdCliente      Fecha  Cuota  \\\n",
       "0  087 2000501120UN02UN0UN  087 2000501120   6105422 2020-05-01   True   \n",
       "1  033 2006900750UN040B0UN  033 2006900750   6125687 2020-04-01  False   \n",
       "2  008 0105902010UN060C0UN  008 0105902010   6098841 2020-02-01   True   \n",
       "3  002 4802008896UN040C0UN  002 4802008896   6115427 2020-04-01   True   \n",
       "4  010 2007902403UN03CN0UN  010 2007902403   6103115 2020-04-01   True   \n",
       "\n",
       "  AltaCliente Provincia  Producto_N01  Producto_N03  Producto_N04  \\\n",
       "0  2020-02-16        20             1             0             0   \n",
       "1  2020-03-19        20             1             0             0   \n",
       "2  2020-01-11        01             0             0             0   \n",
       "3  2020-02-26        48             0             0             0   \n",
       "4  2020-01-25        20             0             0             1   \n",
       "\n",
       "   Producto_N06  Facturacion  \n",
       "0             0          726  \n",
       "1             0          403  \n",
       "2             1          432  \n",
       "3             1          847  \n",
       "4             0          301  "
      ]
     },
     "execution_count": 48,
     "metadata": {},
     "output_type": "execute_result"
    }
   ],
   "source": [
    "df_dummies_Producto.head()"
   ]
  },
  {
   "cell_type": "code",
   "execution_count": 49,
   "metadata": {
    "colab": {
     "base_uri": "https://localhost:8080/"
    },
    "executionInfo": {
     "elapsed": 22,
     "status": "ok",
     "timestamp": 1732123551947,
     "user": {
      "displayName": "Aitor Donado",
      "userId": "08246046509718212083"
     },
     "user_tz": -60
    },
    "id": "GT84eLzKG9iy",
    "outputId": "48f258de-c367-4289-c574-92e3caf5fc7c"
   },
   "outputs": [
    {
     "name": "stdout",
     "output_type": "stream",
     "text": [
      "<class 'pandas.core.frame.DataFrame'>\n",
      "RangeIndex: 13585 entries, 0 to 13584\n",
      "Data columns (total 12 columns):\n",
      " #   Column          Non-Null Count  Dtype         \n",
      "---  ------          --------------  -----         \n",
      " 0   CatastroMax     13573 non-null  string        \n",
      " 1   CPReferenciado  13585 non-null  object        \n",
      " 2   IdCliente       13585 non-null  string        \n",
      " 3   Fecha           13585 non-null  datetime64[ns]\n",
      " 4   Cuota           13585 non-null  bool          \n",
      " 5   AltaCliente     13585 non-null  datetime64[ns]\n",
      " 6   Provincia       13573 non-null  string        \n",
      " 7   Producto_N01    13585 non-null  uint8         \n",
      " 8   Producto_N03    13585 non-null  uint8         \n",
      " 9   Producto_N04    13585 non-null  uint8         \n",
      " 10  Producto_N06    13585 non-null  uint8         \n",
      " 11  Facturacion     13585 non-null  int32         \n",
      "dtypes: bool(1), datetime64[ns](2), int32(1), object(1), string(3), uint8(4)\n",
      "memory usage: 756.3+ KB\n"
     ]
    }
   ],
   "source": [
    "df_dummies_Producto.info()"
   ]
  },
  {
   "cell_type": "code",
   "execution_count": 50,
   "metadata": {
    "colab": {
     "base_uri": "https://localhost:8080/",
     "height": 423
    },
    "executionInfo": {
     "elapsed": 20,
     "status": "ok",
     "timestamp": 1732123551947,
     "user": {
      "displayName": "Aitor Donado",
      "userId": "08246046509718212083"
     },
     "user_tz": -60
    },
    "id": "xcODgLOA8uwn",
    "outputId": "4a73daa7-457d-4b6b-b2a3-b0787db2e78e"
   },
   "outputs": [
    {
     "data": {
      "text/html": [
       "<div>\n",
       "<style scoped>\n",
       "    .dataframe tbody tr th:only-of-type {\n",
       "        vertical-align: middle;\n",
       "    }\n",
       "\n",
       "    .dataframe tbody tr th {\n",
       "        vertical-align: top;\n",
       "    }\n",
       "\n",
       "    .dataframe thead th {\n",
       "        text-align: right;\n",
       "    }\n",
       "</style>\n",
       "<table border=\"1\" class=\"dataframe\">\n",
       "  <thead>\n",
       "    <tr style=\"text-align: right;\">\n",
       "      <th></th>\n",
       "      <th>Fecha</th>\n",
       "      <th>Cuota</th>\n",
       "      <th>AltaCliente</th>\n",
       "      <th>Producto_N01</th>\n",
       "      <th>Producto_N03</th>\n",
       "      <th>Producto_N04</th>\n",
       "      <th>Producto_N06</th>\n",
       "      <th>Facturacion</th>\n",
       "    </tr>\n",
       "  </thead>\n",
       "  <tbody>\n",
       "    <tr>\n",
       "      <th>0</th>\n",
       "      <td>2020-05-01</td>\n",
       "      <td>True</td>\n",
       "      <td>2020-02-16</td>\n",
       "      <td>1</td>\n",
       "      <td>0</td>\n",
       "      <td>0</td>\n",
       "      <td>0</td>\n",
       "      <td>726</td>\n",
       "    </tr>\n",
       "    <tr>\n",
       "      <th>1</th>\n",
       "      <td>2020-04-01</td>\n",
       "      <td>False</td>\n",
       "      <td>2020-03-19</td>\n",
       "      <td>1</td>\n",
       "      <td>0</td>\n",
       "      <td>0</td>\n",
       "      <td>0</td>\n",
       "      <td>403</td>\n",
       "    </tr>\n",
       "    <tr>\n",
       "      <th>2</th>\n",
       "      <td>2020-02-01</td>\n",
       "      <td>True</td>\n",
       "      <td>2020-01-11</td>\n",
       "      <td>0</td>\n",
       "      <td>0</td>\n",
       "      <td>0</td>\n",
       "      <td>1</td>\n",
       "      <td>432</td>\n",
       "    </tr>\n",
       "    <tr>\n",
       "      <th>3</th>\n",
       "      <td>2020-04-01</td>\n",
       "      <td>True</td>\n",
       "      <td>2020-02-26</td>\n",
       "      <td>0</td>\n",
       "      <td>0</td>\n",
       "      <td>0</td>\n",
       "      <td>1</td>\n",
       "      <td>847</td>\n",
       "    </tr>\n",
       "    <tr>\n",
       "      <th>4</th>\n",
       "      <td>2020-04-01</td>\n",
       "      <td>True</td>\n",
       "      <td>2020-01-25</td>\n",
       "      <td>0</td>\n",
       "      <td>0</td>\n",
       "      <td>1</td>\n",
       "      <td>0</td>\n",
       "      <td>301</td>\n",
       "    </tr>\n",
       "    <tr>\n",
       "      <th>...</th>\n",
       "      <td>...</td>\n",
       "      <td>...</td>\n",
       "      <td>...</td>\n",
       "      <td>...</td>\n",
       "      <td>...</td>\n",
       "      <td>...</td>\n",
       "      <td>...</td>\n",
       "      <td>...</td>\n",
       "    </tr>\n",
       "    <tr>\n",
       "      <th>13580</th>\n",
       "      <td>2020-03-01</td>\n",
       "      <td>True</td>\n",
       "      <td>2020-03-14</td>\n",
       "      <td>0</td>\n",
       "      <td>0</td>\n",
       "      <td>0</td>\n",
       "      <td>1</td>\n",
       "      <td>153</td>\n",
       "    </tr>\n",
       "    <tr>\n",
       "      <th>13581</th>\n",
       "      <td>2020-02-01</td>\n",
       "      <td>False</td>\n",
       "      <td>2020-02-06</td>\n",
       "      <td>1</td>\n",
       "      <td>0</td>\n",
       "      <td>0</td>\n",
       "      <td>0</td>\n",
       "      <td>489</td>\n",
       "    </tr>\n",
       "    <tr>\n",
       "      <th>13582</th>\n",
       "      <td>2020-03-01</td>\n",
       "      <td>True</td>\n",
       "      <td>2020-03-24</td>\n",
       "      <td>0</td>\n",
       "      <td>0</td>\n",
       "      <td>0</td>\n",
       "      <td>1</td>\n",
       "      <td>770</td>\n",
       "    </tr>\n",
       "    <tr>\n",
       "      <th>13583</th>\n",
       "      <td>2020-05-01</td>\n",
       "      <td>True</td>\n",
       "      <td>2020-03-07</td>\n",
       "      <td>1</td>\n",
       "      <td>0</td>\n",
       "      <td>0</td>\n",
       "      <td>0</td>\n",
       "      <td>591</td>\n",
       "    </tr>\n",
       "    <tr>\n",
       "      <th>13584</th>\n",
       "      <td>2020-05-01</td>\n",
       "      <td>True</td>\n",
       "      <td>2020-02-16</td>\n",
       "      <td>0</td>\n",
       "      <td>0</td>\n",
       "      <td>0</td>\n",
       "      <td>1</td>\n",
       "      <td>265</td>\n",
       "    </tr>\n",
       "  </tbody>\n",
       "</table>\n",
       "<p>13585 rows × 8 columns</p>\n",
       "</div>"
      ],
      "text/plain": [
       "           Fecha  Cuota AltaCliente  Producto_N01  Producto_N03  Producto_N04  \\\n",
       "0     2020-05-01   True  2020-02-16             1             0             0   \n",
       "1     2020-04-01  False  2020-03-19             1             0             0   \n",
       "2     2020-02-01   True  2020-01-11             0             0             0   \n",
       "3     2020-04-01   True  2020-02-26             0             0             0   \n",
       "4     2020-04-01   True  2020-01-25             0             0             1   \n",
       "...          ...    ...         ...           ...           ...           ...   \n",
       "13580 2020-03-01   True  2020-03-14             0             0             0   \n",
       "13581 2020-02-01  False  2020-02-06             1             0             0   \n",
       "13582 2020-03-01   True  2020-03-24             0             0             0   \n",
       "13583 2020-05-01   True  2020-03-07             1             0             0   \n",
       "13584 2020-05-01   True  2020-02-16             0             0             0   \n",
       "\n",
       "       Producto_N06  Facturacion  \n",
       "0                 0          726  \n",
       "1                 0          403  \n",
       "2                 1          432  \n",
       "3                 1          847  \n",
       "4                 0          301  \n",
       "...             ...          ...  \n",
       "13580             1          153  \n",
       "13581             0          489  \n",
       "13582             1          770  \n",
       "13583             0          591  \n",
       "13584             1          265  \n",
       "\n",
       "[13585 rows x 8 columns]"
      ]
     },
     "execution_count": 50,
     "metadata": {},
     "output_type": "execute_result"
    }
   ],
   "source": [
    "df_dummies_Producto_num = df_dummies_Producto.select_dtypes([\"number\", \"datetime\", \"bool\"])\n",
    "df_dummies_Producto_num"
   ]
  },
  {
   "cell_type": "code",
   "execution_count": 52,
   "metadata": {
    "id": "RTehpBadHbZW"
   },
   "outputs": [
    {
     "ename": "KeyError",
     "evalue": "\"['AltaCliente'] not found in axis\"",
     "output_type": "error",
     "traceback": [
      "\u001b[1;31m---------------------------------------------------------------------------\u001b[0m",
      "\u001b[1;31mKeyError\u001b[0m                                  Traceback (most recent call last)",
      "Cell \u001b[1;32mIn[52], line 1\u001b[0m\n\u001b[1;32m----> 1\u001b[0m \u001b[43mdf_dummies_Producto_num\u001b[49m\u001b[38;5;241;43m.\u001b[39;49m\u001b[43mdrop\u001b[49m\u001b[43m(\u001b[49m\u001b[43mcolumns\u001b[49m\u001b[38;5;241;43m=\u001b[39;49m\u001b[38;5;124;43m\"\u001b[39;49m\u001b[38;5;124;43mAltaCliente\u001b[39;49m\u001b[38;5;124;43m\"\u001b[39;49m\u001b[43m,\u001b[49m\u001b[43m \u001b[49m\u001b[43minplace\u001b[49m\u001b[38;5;241;43m=\u001b[39;49m\u001b[38;5;28;43;01mTrue\u001b[39;49;00m\u001b[43m)\u001b[49m\n",
      "File \u001b[1;32mc:\\Users\\Dell\\anaconda3\\lib\\site-packages\\pandas\\util\\_decorators.py:331\u001b[0m, in \u001b[0;36mdeprecate_nonkeyword_arguments.<locals>.decorate.<locals>.wrapper\u001b[1;34m(*args, **kwargs)\u001b[0m\n\u001b[0;32m    325\u001b[0m \u001b[38;5;28;01mif\u001b[39;00m \u001b[38;5;28mlen\u001b[39m(args) \u001b[38;5;241m>\u001b[39m num_allow_args:\n\u001b[0;32m    326\u001b[0m     warnings\u001b[38;5;241m.\u001b[39mwarn(\n\u001b[0;32m    327\u001b[0m         msg\u001b[38;5;241m.\u001b[39mformat(arguments\u001b[38;5;241m=\u001b[39m_format_argument_list(allow_args)),\n\u001b[0;32m    328\u001b[0m         \u001b[38;5;167;01mFutureWarning\u001b[39;00m,\n\u001b[0;32m    329\u001b[0m         stacklevel\u001b[38;5;241m=\u001b[39mfind_stack_level(),\n\u001b[0;32m    330\u001b[0m     )\n\u001b[1;32m--> 331\u001b[0m \u001b[38;5;28;01mreturn\u001b[39;00m func(\u001b[38;5;241m*\u001b[39margs, \u001b[38;5;241m*\u001b[39m\u001b[38;5;241m*\u001b[39mkwargs)\n",
      "File \u001b[1;32mc:\\Users\\Dell\\anaconda3\\lib\\site-packages\\pandas\\core\\frame.py:5399\u001b[0m, in \u001b[0;36mDataFrame.drop\u001b[1;34m(self, labels, axis, index, columns, level, inplace, errors)\u001b[0m\n\u001b[0;32m   5251\u001b[0m \u001b[38;5;129m@deprecate_nonkeyword_arguments\u001b[39m(version\u001b[38;5;241m=\u001b[39m\u001b[38;5;28;01mNone\u001b[39;00m, allowed_args\u001b[38;5;241m=\u001b[39m[\u001b[38;5;124m\"\u001b[39m\u001b[38;5;124mself\u001b[39m\u001b[38;5;124m\"\u001b[39m, \u001b[38;5;124m\"\u001b[39m\u001b[38;5;124mlabels\u001b[39m\u001b[38;5;124m\"\u001b[39m])\n\u001b[0;32m   5252\u001b[0m \u001b[38;5;28;01mdef\u001b[39;00m \u001b[38;5;21mdrop\u001b[39m(  \u001b[38;5;66;03m# type: ignore[override]\u001b[39;00m\n\u001b[0;32m   5253\u001b[0m     \u001b[38;5;28mself\u001b[39m,\n\u001b[1;32m   (...)\u001b[0m\n\u001b[0;32m   5260\u001b[0m     errors: IgnoreRaise \u001b[38;5;241m=\u001b[39m \u001b[38;5;124m\"\u001b[39m\u001b[38;5;124mraise\u001b[39m\u001b[38;5;124m\"\u001b[39m,\n\u001b[0;32m   5261\u001b[0m ) \u001b[38;5;241m-\u001b[39m\u001b[38;5;241m>\u001b[39m DataFrame \u001b[38;5;241m|\u001b[39m \u001b[38;5;28;01mNone\u001b[39;00m:\n\u001b[0;32m   5262\u001b[0m     \u001b[38;5;124;03m\"\"\"\u001b[39;00m\n\u001b[0;32m   5263\u001b[0m \u001b[38;5;124;03m    Drop specified labels from rows or columns.\u001b[39;00m\n\u001b[0;32m   5264\u001b[0m \n\u001b[1;32m   (...)\u001b[0m\n\u001b[0;32m   5397\u001b[0m \u001b[38;5;124;03m            weight  1.0     0.8\u001b[39;00m\n\u001b[0;32m   5398\u001b[0m \u001b[38;5;124;03m    \"\"\"\u001b[39;00m\n\u001b[1;32m-> 5399\u001b[0m     \u001b[38;5;28;01mreturn\u001b[39;00m \u001b[38;5;28;43msuper\u001b[39;49m\u001b[43m(\u001b[49m\u001b[43m)\u001b[49m\u001b[38;5;241;43m.\u001b[39;49m\u001b[43mdrop\u001b[49m\u001b[43m(\u001b[49m\n\u001b[0;32m   5400\u001b[0m \u001b[43m        \u001b[49m\u001b[43mlabels\u001b[49m\u001b[38;5;241;43m=\u001b[39;49m\u001b[43mlabels\u001b[49m\u001b[43m,\u001b[49m\n\u001b[0;32m   5401\u001b[0m \u001b[43m        \u001b[49m\u001b[43maxis\u001b[49m\u001b[38;5;241;43m=\u001b[39;49m\u001b[43maxis\u001b[49m\u001b[43m,\u001b[49m\n\u001b[0;32m   5402\u001b[0m \u001b[43m        \u001b[49m\u001b[43mindex\u001b[49m\u001b[38;5;241;43m=\u001b[39;49m\u001b[43mindex\u001b[49m\u001b[43m,\u001b[49m\n\u001b[0;32m   5403\u001b[0m \u001b[43m        \u001b[49m\u001b[43mcolumns\u001b[49m\u001b[38;5;241;43m=\u001b[39;49m\u001b[43mcolumns\u001b[49m\u001b[43m,\u001b[49m\n\u001b[0;32m   5404\u001b[0m \u001b[43m        \u001b[49m\u001b[43mlevel\u001b[49m\u001b[38;5;241;43m=\u001b[39;49m\u001b[43mlevel\u001b[49m\u001b[43m,\u001b[49m\n\u001b[0;32m   5405\u001b[0m \u001b[43m        \u001b[49m\u001b[43minplace\u001b[49m\u001b[38;5;241;43m=\u001b[39;49m\u001b[43minplace\u001b[49m\u001b[43m,\u001b[49m\n\u001b[0;32m   5406\u001b[0m \u001b[43m        \u001b[49m\u001b[43merrors\u001b[49m\u001b[38;5;241;43m=\u001b[39;49m\u001b[43merrors\u001b[49m\u001b[43m,\u001b[49m\n\u001b[0;32m   5407\u001b[0m \u001b[43m    \u001b[49m\u001b[43m)\u001b[49m\n",
      "File \u001b[1;32mc:\\Users\\Dell\\anaconda3\\lib\\site-packages\\pandas\\util\\_decorators.py:331\u001b[0m, in \u001b[0;36mdeprecate_nonkeyword_arguments.<locals>.decorate.<locals>.wrapper\u001b[1;34m(*args, **kwargs)\u001b[0m\n\u001b[0;32m    325\u001b[0m \u001b[38;5;28;01mif\u001b[39;00m \u001b[38;5;28mlen\u001b[39m(args) \u001b[38;5;241m>\u001b[39m num_allow_args:\n\u001b[0;32m    326\u001b[0m     warnings\u001b[38;5;241m.\u001b[39mwarn(\n\u001b[0;32m    327\u001b[0m         msg\u001b[38;5;241m.\u001b[39mformat(arguments\u001b[38;5;241m=\u001b[39m_format_argument_list(allow_args)),\n\u001b[0;32m    328\u001b[0m         \u001b[38;5;167;01mFutureWarning\u001b[39;00m,\n\u001b[0;32m    329\u001b[0m         stacklevel\u001b[38;5;241m=\u001b[39mfind_stack_level(),\n\u001b[0;32m    330\u001b[0m     )\n\u001b[1;32m--> 331\u001b[0m \u001b[38;5;28;01mreturn\u001b[39;00m func(\u001b[38;5;241m*\u001b[39margs, \u001b[38;5;241m*\u001b[39m\u001b[38;5;241m*\u001b[39mkwargs)\n",
      "File \u001b[1;32mc:\\Users\\Dell\\anaconda3\\lib\\site-packages\\pandas\\core\\generic.py:4505\u001b[0m, in \u001b[0;36mNDFrame.drop\u001b[1;34m(self, labels, axis, index, columns, level, inplace, errors)\u001b[0m\n\u001b[0;32m   4503\u001b[0m \u001b[38;5;28;01mfor\u001b[39;00m axis, labels \u001b[38;5;129;01min\u001b[39;00m axes\u001b[38;5;241m.\u001b[39mitems():\n\u001b[0;32m   4504\u001b[0m     \u001b[38;5;28;01mif\u001b[39;00m labels \u001b[38;5;129;01mis\u001b[39;00m \u001b[38;5;129;01mnot\u001b[39;00m \u001b[38;5;28;01mNone\u001b[39;00m:\n\u001b[1;32m-> 4505\u001b[0m         obj \u001b[38;5;241m=\u001b[39m \u001b[43mobj\u001b[49m\u001b[38;5;241;43m.\u001b[39;49m\u001b[43m_drop_axis\u001b[49m\u001b[43m(\u001b[49m\u001b[43mlabels\u001b[49m\u001b[43m,\u001b[49m\u001b[43m \u001b[49m\u001b[43maxis\u001b[49m\u001b[43m,\u001b[49m\u001b[43m \u001b[49m\u001b[43mlevel\u001b[49m\u001b[38;5;241;43m=\u001b[39;49m\u001b[43mlevel\u001b[49m\u001b[43m,\u001b[49m\u001b[43m \u001b[49m\u001b[43merrors\u001b[49m\u001b[38;5;241;43m=\u001b[39;49m\u001b[43merrors\u001b[49m\u001b[43m)\u001b[49m\n\u001b[0;32m   4507\u001b[0m \u001b[38;5;28;01mif\u001b[39;00m inplace:\n\u001b[0;32m   4508\u001b[0m     \u001b[38;5;28mself\u001b[39m\u001b[38;5;241m.\u001b[39m_update_inplace(obj)\n",
      "File \u001b[1;32mc:\\Users\\Dell\\anaconda3\\lib\\site-packages\\pandas\\core\\generic.py:4546\u001b[0m, in \u001b[0;36mNDFrame._drop_axis\u001b[1;34m(self, labels, axis, level, errors, only_slice)\u001b[0m\n\u001b[0;32m   4544\u001b[0m         new_axis \u001b[38;5;241m=\u001b[39m axis\u001b[38;5;241m.\u001b[39mdrop(labels, level\u001b[38;5;241m=\u001b[39mlevel, errors\u001b[38;5;241m=\u001b[39merrors)\n\u001b[0;32m   4545\u001b[0m     \u001b[38;5;28;01melse\u001b[39;00m:\n\u001b[1;32m-> 4546\u001b[0m         new_axis \u001b[38;5;241m=\u001b[39m \u001b[43maxis\u001b[49m\u001b[38;5;241;43m.\u001b[39;49m\u001b[43mdrop\u001b[49m\u001b[43m(\u001b[49m\u001b[43mlabels\u001b[49m\u001b[43m,\u001b[49m\u001b[43m \u001b[49m\u001b[43merrors\u001b[49m\u001b[38;5;241;43m=\u001b[39;49m\u001b[43merrors\u001b[49m\u001b[43m)\u001b[49m\n\u001b[0;32m   4547\u001b[0m     indexer \u001b[38;5;241m=\u001b[39m axis\u001b[38;5;241m.\u001b[39mget_indexer(new_axis)\n\u001b[0;32m   4549\u001b[0m \u001b[38;5;66;03m# Case for non-unique axis\u001b[39;00m\n\u001b[0;32m   4550\u001b[0m \u001b[38;5;28;01melse\u001b[39;00m:\n",
      "File \u001b[1;32mc:\\Users\\Dell\\anaconda3\\lib\\site-packages\\pandas\\core\\indexes\\base.py:6934\u001b[0m, in \u001b[0;36mIndex.drop\u001b[1;34m(self, labels, errors)\u001b[0m\n\u001b[0;32m   6932\u001b[0m \u001b[38;5;28;01mif\u001b[39;00m mask\u001b[38;5;241m.\u001b[39many():\n\u001b[0;32m   6933\u001b[0m     \u001b[38;5;28;01mif\u001b[39;00m errors \u001b[38;5;241m!=\u001b[39m \u001b[38;5;124m\"\u001b[39m\u001b[38;5;124mignore\u001b[39m\u001b[38;5;124m\"\u001b[39m:\n\u001b[1;32m-> 6934\u001b[0m         \u001b[38;5;28;01mraise\u001b[39;00m \u001b[38;5;167;01mKeyError\u001b[39;00m(\u001b[38;5;124mf\u001b[39m\u001b[38;5;124m\"\u001b[39m\u001b[38;5;132;01m{\u001b[39;00m\u001b[38;5;28mlist\u001b[39m(labels[mask])\u001b[38;5;132;01m}\u001b[39;00m\u001b[38;5;124m not found in axis\u001b[39m\u001b[38;5;124m\"\u001b[39m)\n\u001b[0;32m   6935\u001b[0m     indexer \u001b[38;5;241m=\u001b[39m indexer[\u001b[38;5;241m~\u001b[39mmask]\n\u001b[0;32m   6936\u001b[0m \u001b[38;5;28;01mreturn\u001b[39;00m \u001b[38;5;28mself\u001b[39m\u001b[38;5;241m.\u001b[39mdelete(indexer)\n",
      "\u001b[1;31mKeyError\u001b[0m: \"['AltaCliente'] not found in axis\""
     ]
    }
   ],
   "source": [
    "df_dummies_Producto_num.drop(columns=\"AltaCliente\", inplace=True)"
   ]
  },
  {
   "cell_type": "code",
   "execution_count": 53,
   "metadata": {
    "colab": {
     "base_uri": "https://localhost:8080/",
     "height": 206
    },
    "executionInfo": {
     "elapsed": 20,
     "status": "ok",
     "timestamp": 1732123551947,
     "user": {
      "displayName": "Aitor Donado",
      "userId": "08246046509718212083"
     },
     "user_tz": -60
    },
    "id": "2YVNz2eduFYL",
    "outputId": "832b683d-f69f-4623-cff3-6589f84f02d5"
   },
   "outputs": [],
   "source": [
    "df_dummies_Producto_num['IdCliente'] = df_dummies_Producto['IdCliente']\n"
   ]
  },
  {
   "cell_type": "code",
   "execution_count": 54,
   "metadata": {},
   "outputs": [],
   "source": [
    "df_productos_cliente = df_dummies_Producto_num.groupby(['IdCliente', \"Fecha\"]).sum().reset_index()\n"
   ]
  },
  {
   "cell_type": "code",
   "execution_count": 56,
   "metadata": {},
   "outputs": [
    {
     "data": {
      "text/html": [
       "<div>\n",
       "<style scoped>\n",
       "    .dataframe tbody tr th:only-of-type {\n",
       "        vertical-align: middle;\n",
       "    }\n",
       "\n",
       "    .dataframe tbody tr th {\n",
       "        vertical-align: top;\n",
       "    }\n",
       "\n",
       "    .dataframe thead th {\n",
       "        text-align: right;\n",
       "    }\n",
       "</style>\n",
       "<table border=\"1\" class=\"dataframe\">\n",
       "  <thead>\n",
       "    <tr style=\"text-align: right;\">\n",
       "      <th></th>\n",
       "      <th>IdCliente</th>\n",
       "      <th>Fecha</th>\n",
       "      <th>Cuota</th>\n",
       "      <th>Producto_N01</th>\n",
       "      <th>Producto_N03</th>\n",
       "      <th>Producto_N04</th>\n",
       "      <th>Producto_N06</th>\n",
       "      <th>Facturacion</th>\n",
       "    </tr>\n",
       "  </thead>\n",
       "  <tbody>\n",
       "    <tr>\n",
       "      <th>0</th>\n",
       "      <td>100787</td>\n",
       "      <td>2020-04-01</td>\n",
       "      <td>1</td>\n",
       "      <td>0</td>\n",
       "      <td>0</td>\n",
       "      <td>0</td>\n",
       "      <td>1</td>\n",
       "      <td>773</td>\n",
       "    </tr>\n",
       "    <tr>\n",
       "      <th>1</th>\n",
       "      <td>101376</td>\n",
       "      <td>2020-04-01</td>\n",
       "      <td>1</td>\n",
       "      <td>0</td>\n",
       "      <td>0</td>\n",
       "      <td>0</td>\n",
       "      <td>1</td>\n",
       "      <td>710</td>\n",
       "    </tr>\n",
       "    <tr>\n",
       "      <th>2</th>\n",
       "      <td>1018161</td>\n",
       "      <td>2020-04-01</td>\n",
       "      <td>1</td>\n",
       "      <td>0</td>\n",
       "      <td>0</td>\n",
       "      <td>0</td>\n",
       "      <td>1</td>\n",
       "      <td>486</td>\n",
       "    </tr>\n",
       "    <tr>\n",
       "      <th>3</th>\n",
       "      <td>103899</td>\n",
       "      <td>2020-04-01</td>\n",
       "      <td>1</td>\n",
       "      <td>0</td>\n",
       "      <td>0</td>\n",
       "      <td>1</td>\n",
       "      <td>0</td>\n",
       "      <td>836</td>\n",
       "    </tr>\n",
       "    <tr>\n",
       "      <th>4</th>\n",
       "      <td>103899</td>\n",
       "      <td>2020-05-01</td>\n",
       "      <td>1</td>\n",
       "      <td>0</td>\n",
       "      <td>0</td>\n",
       "      <td>1</td>\n",
       "      <td>0</td>\n",
       "      <td>713</td>\n",
       "    </tr>\n",
       "  </tbody>\n",
       "</table>\n",
       "</div>"
      ],
      "text/plain": [
       "  IdCliente      Fecha  Cuota  Producto_N01  Producto_N03  Producto_N04  \\\n",
       "0    100787 2020-04-01      1             0             0             0   \n",
       "1    101376 2020-04-01      1             0             0             0   \n",
       "2   1018161 2020-04-01      1             0             0             0   \n",
       "3    103899 2020-04-01      1             0             0             1   \n",
       "4    103899 2020-05-01      1             0             0             1   \n",
       "\n",
       "   Producto_N06  Facturacion  \n",
       "0             1          773  \n",
       "1             1          710  \n",
       "2             1          486  \n",
       "3             0          836  \n",
       "4             0          713  "
      ]
     },
     "execution_count": 56,
     "metadata": {},
     "output_type": "execute_result"
    }
   ],
   "source": [
    "df_productos_cliente.head()"
   ]
  },
  {
   "cell_type": "code",
   "execution_count": 57,
   "metadata": {
    "colab": {
     "base_uri": "https://localhost:8080/"
    },
    "executionInfo": {
     "elapsed": 19,
     "status": "ok",
     "timestamp": 1732123551947,
     "user": {
      "displayName": "Aitor Donado",
      "userId": "08246046509718212083"
     },
     "user_tz": -60
    },
    "id": "-Re0eb9Rirl-",
    "outputId": "fe2738f9-95c3-4134-c75d-67fac2948c8f"
   },
   "outputs": [
    {
     "data": {
      "text/plain": [
       "((13585, 8), (13059, 8))"
      ]
     },
     "execution_count": 57,
     "metadata": {},
     "output_type": "execute_result"
    }
   ],
   "source": [
    "df_dummies_Producto_num.shape, df_productos_cliente.shape"
   ]
  },
  {
   "cell_type": "markdown",
   "metadata": {
    "id": "Z4rUMtbguFYL"
   },
   "source": [
    "## Consultas a dataframes con .query()\n",
    "[Documentación `.query()`](https://pandas.pydata.org/docs/reference/api/pandas.DataFrame.query.html)\n",
    "---"
   ]
  },
  {
   "cell_type": "code",
   "execution_count": 58,
   "metadata": {
    "colab": {
     "base_uri": "https://localhost:8080/",
     "height": 458
    },
    "executionInfo": {
     "elapsed": 18,
     "status": "ok",
     "timestamp": 1732123551947,
     "user": {
      "displayName": "Aitor Donado",
      "userId": "08246046509718212083"
     },
     "user_tz": -60
    },
    "id": "R-hfFxKqHwue",
    "outputId": "d3258dd1-be63-4c3d-ad20-2735c8321093"
   },
   "outputs": [
    {
     "data": {
      "text/plain": [
       "0        6\n",
       "1        3\n",
       "2        5\n",
       "3        2\n",
       "4        5\n",
       "        ..\n",
       "13580    5\n",
       "13581    3\n",
       "13582    1\n",
       "13583    5\n",
       "13584    6\n",
       "Name: AltaCliente, Length: 13585, dtype: int64"
      ]
     },
     "execution_count": 58,
     "metadata": {},
     "output_type": "execute_result"
    }
   ],
   "source": [
    "df[\"AltaCliente\"].dt.weekday"
   ]
  },
  {
   "cell_type": "code",
   "execution_count": 59,
   "metadata": {
    "colab": {
     "base_uri": "https://localhost:8080/",
     "height": 458
    },
    "executionInfo": {
     "elapsed": 18,
     "status": "ok",
     "timestamp": 1732123551947,
     "user": {
      "displayName": "Aitor Donado",
      "userId": "08246046509718212083"
     },
     "user_tz": -60
    },
    "id": "DIVtxPnN9WF_",
    "outputId": "c1ab7ee3-c057-40f5-9bcd-3a31151d1ca9"
   },
   "outputs": [
    {
     "data": {
      "text/plain": [
       "0        False\n",
       "1        False\n",
       "2        False\n",
       "3         True\n",
       "4        False\n",
       "         ...  \n",
       "13580    False\n",
       "13581    False\n",
       "13582    False\n",
       "13583    False\n",
       "13584    False\n",
       "Name: AltaCliente, Length: 13585, dtype: bool"
      ]
     },
     "execution_count": 59,
     "metadata": {},
     "output_type": "execute_result"
    }
   ],
   "source": [
    "df[\"AltaCliente\"].dt.weekday == 2"
   ]
  },
  {
   "cell_type": "code",
   "execution_count": 60,
   "metadata": {
    "colab": {
     "base_uri": "https://localhost:8080/",
     "height": 423
    },
    "executionInfo": {
     "elapsed": 17,
     "status": "ok",
     "timestamp": 1732123551947,
     "user": {
      "displayName": "Aitor Donado",
      "userId": "08246046509718212083"
     },
     "user_tz": -60
    },
    "id": "_rtqHmoguFYL",
    "outputId": "f67bd0ca-9109-4170-ac64-a2ba0dd93590"
   },
   "outputs": [
    {
     "data": {
      "text/html": [
       "<div>\n",
       "<style scoped>\n",
       "    .dataframe tbody tr th:only-of-type {\n",
       "        vertical-align: middle;\n",
       "    }\n",
       "\n",
       "    .dataframe tbody tr th {\n",
       "        vertical-align: top;\n",
       "    }\n",
       "\n",
       "    .dataframe thead th {\n",
       "        text-align: right;\n",
       "    }\n",
       "</style>\n",
       "<table border=\"1\" class=\"dataframe\">\n",
       "  <thead>\n",
       "    <tr style=\"text-align: right;\">\n",
       "      <th></th>\n",
       "      <th>CatastroMax</th>\n",
       "      <th>CPReferenciado</th>\n",
       "      <th>IdCliente</th>\n",
       "      <th>Producto</th>\n",
       "      <th>Fecha</th>\n",
       "      <th>TipoProducto</th>\n",
       "      <th>AltaCliente</th>\n",
       "      <th>Provincia</th>\n",
       "    </tr>\n",
       "  </thead>\n",
       "  <tbody>\n",
       "    <tr>\n",
       "      <th>3</th>\n",
       "      <td>002 4802008896UN040C0UN</td>\n",
       "      <td>002 4802008896</td>\n",
       "      <td>6115427</td>\n",
       "      <td>N06</td>\n",
       "      <td>2020-04-01</td>\n",
       "      <td>Servicio principal</td>\n",
       "      <td>2020-02-26</td>\n",
       "      <td>48</td>\n",
       "    </tr>\n",
       "    <tr>\n",
       "      <th>7</th>\n",
       "      <td>005A2007401640UN030C0UN</td>\n",
       "      <td>005A2007401640</td>\n",
       "      <td>2305530</td>\n",
       "      <td>N04</td>\n",
       "      <td>2020-03-01</td>\n",
       "      <td>Servicio principal</td>\n",
       "      <td>2020-02-12</td>\n",
       "      <td>A2</td>\n",
       "    </tr>\n",
       "    <tr>\n",
       "      <th>11</th>\n",
       "      <td>004 2003201842UN040A0UN</td>\n",
       "      <td>004 2003201842</td>\n",
       "      <td>6122564</td>\n",
       "      <td>N04</td>\n",
       "      <td>2020-03-01</td>\n",
       "      <td>Servicio principal</td>\n",
       "      <td>2020-03-18</td>\n",
       "      <td>20</td>\n",
       "    </tr>\n",
       "    <tr>\n",
       "      <th>15</th>\n",
       "      <td>002A4804300015UN02DR0UN</td>\n",
       "      <td>002A4804300015</td>\n",
       "      <td>6102122</td>\n",
       "      <td>N06</td>\n",
       "      <td>2020-03-01</td>\n",
       "      <td>Servicio principal</td>\n",
       "      <td>2020-01-29</td>\n",
       "      <td>A4</td>\n",
       "    </tr>\n",
       "    <tr>\n",
       "      <th>26</th>\n",
       "      <td>008 2005502340UN04DR0UN</td>\n",
       "      <td>008 2005502340</td>\n",
       "      <td>6116007</td>\n",
       "      <td>N01</td>\n",
       "      <td>2020-04-01</td>\n",
       "      <td>Servicio sin cuota</td>\n",
       "      <td>2020-02-26</td>\n",
       "      <td>20</td>\n",
       "    </tr>\n",
       "    <tr>\n",
       "      <th>...</th>\n",
       "      <td>...</td>\n",
       "      <td>...</td>\n",
       "      <td>...</td>\n",
       "      <td>...</td>\n",
       "      <td>...</td>\n",
       "      <td>...</td>\n",
       "      <td>...</td>\n",
       "      <td>...</td>\n",
       "    </tr>\n",
       "    <tr>\n",
       "      <th>13546</th>\n",
       "      <td>008 4808200026UN01EX0DR</td>\n",
       "      <td>008 4808200026</td>\n",
       "      <td>620616</td>\n",
       "      <td>N06</td>\n",
       "      <td>2020-03-01</td>\n",
       "      <td>Servicio principal</td>\n",
       "      <td>2020-03-25</td>\n",
       "      <td>48</td>\n",
       "    </tr>\n",
       "    <tr>\n",
       "      <th>13556</th>\n",
       "      <td>014 4801300805UN01CN0UN</td>\n",
       "      <td>014 4801300805</td>\n",
       "      <td>3462093</td>\n",
       "      <td>N06</td>\n",
       "      <td>2020-05-01</td>\n",
       "      <td>Servicio principal</td>\n",
       "      <td>2020-03-04</td>\n",
       "      <td>48</td>\n",
       "    </tr>\n",
       "    <tr>\n",
       "      <th>13567</th>\n",
       "      <td>019 4800100078UN190A0UN</td>\n",
       "      <td>019 4800100078</td>\n",
       "      <td>6135789</td>\n",
       "      <td>N01</td>\n",
       "      <td>2020-04-01</td>\n",
       "      <td>Servicio sin cuota</td>\n",
       "      <td>2020-04-29</td>\n",
       "      <td>48</td>\n",
       "    </tr>\n",
       "    <tr>\n",
       "      <th>13573</th>\n",
       "      <td>032B4804600076UN01DR0UN</td>\n",
       "      <td>032B4804600076</td>\n",
       "      <td>6102785</td>\n",
       "      <td>N04</td>\n",
       "      <td>2020-02-01</td>\n",
       "      <td>Servicio principal</td>\n",
       "      <td>2020-01-29</td>\n",
       "      <td>B4</td>\n",
       "    </tr>\n",
       "    <tr>\n",
       "      <th>13574</th>\n",
       "      <td>070 4802005015UN030B0UN</td>\n",
       "      <td>070 4802005015</td>\n",
       "      <td>6125476</td>\n",
       "      <td>N06</td>\n",
       "      <td>2020-03-01</td>\n",
       "      <td>Servicio principal</td>\n",
       "      <td>2020-03-18</td>\n",
       "      <td>48</td>\n",
       "    </tr>\n",
       "  </tbody>\n",
       "</table>\n",
       "<p>2351 rows × 8 columns</p>\n",
       "</div>"
      ],
      "text/plain": [
       "                   CatastroMax  CPReferenciado IdCliente Producto      Fecha  \\\n",
       "3      002 4802008896UN040C0UN  002 4802008896   6115427      N06 2020-04-01   \n",
       "7      005A2007401640UN030C0UN  005A2007401640   2305530      N04 2020-03-01   \n",
       "11     004 2003201842UN040A0UN  004 2003201842   6122564      N04 2020-03-01   \n",
       "15     002A4804300015UN02DR0UN  002A4804300015   6102122      N06 2020-03-01   \n",
       "26     008 2005502340UN04DR0UN  008 2005502340   6116007      N01 2020-04-01   \n",
       "...                        ...             ...       ...      ...        ...   \n",
       "13546  008 4808200026UN01EX0DR  008 4808200026    620616      N06 2020-03-01   \n",
       "13556  014 4801300805UN01CN0UN  014 4801300805   3462093      N06 2020-05-01   \n",
       "13567  019 4800100078UN190A0UN  019 4800100078   6135789      N01 2020-04-01   \n",
       "13573  032B4804600076UN01DR0UN  032B4804600076   6102785      N04 2020-02-01   \n",
       "13574  070 4802005015UN030B0UN  070 4802005015   6125476      N06 2020-03-01   \n",
       "\n",
       "             TipoProducto AltaCliente Provincia  \n",
       "3      Servicio principal  2020-02-26        48  \n",
       "7      Servicio principal  2020-02-12        A2  \n",
       "11     Servicio principal  2020-03-18        20  \n",
       "15     Servicio principal  2020-01-29        A4  \n",
       "26     Servicio sin cuota  2020-02-26        20  \n",
       "...                   ...         ...       ...  \n",
       "13546  Servicio principal  2020-03-25        48  \n",
       "13556  Servicio principal  2020-03-04        48  \n",
       "13567  Servicio sin cuota  2020-04-29        48  \n",
       "13573  Servicio principal  2020-01-29        B4  \n",
       "13574  Servicio principal  2020-03-18        48  \n",
       "\n",
       "[2351 rows x 8 columns]"
      ]
     },
     "execution_count": 60,
     "metadata": {},
     "output_type": "execute_result"
    }
   ],
   "source": [
    "df.query('AltaCliente.dt.weekday == 2')"
   ]
  },
  {
   "cell_type": "markdown",
   "metadata": {
    "id": "pq6bgp__uFYL"
   },
   "source": [
    "### Contrataciones del primer trimestre"
   ]
  },
  {
   "cell_type": "code",
   "execution_count": 61,
   "metadata": {
    "colab": {
     "base_uri": "https://localhost:8080/",
     "height": 423
    },
    "executionInfo": {
     "elapsed": 17,
     "status": "ok",
     "timestamp": 1732123551947,
     "user": {
      "displayName": "Aitor Donado",
      "userId": "08246046509718212083"
     },
     "user_tz": -60
    },
    "id": "GepBRP3ZuFYL",
    "outputId": "dcb0b87c-9866-4b45-e404-9ca141a25ecc",
    "scrolled": true,
    "tags": []
   },
   "outputs": [
    {
     "data": {
      "text/html": [
       "<div>\n",
       "<style scoped>\n",
       "    .dataframe tbody tr th:only-of-type {\n",
       "        vertical-align: middle;\n",
       "    }\n",
       "\n",
       "    .dataframe tbody tr th {\n",
       "        vertical-align: top;\n",
       "    }\n",
       "\n",
       "    .dataframe thead th {\n",
       "        text-align: right;\n",
       "    }\n",
       "</style>\n",
       "<table border=\"1\" class=\"dataframe\">\n",
       "  <thead>\n",
       "    <tr style=\"text-align: right;\">\n",
       "      <th></th>\n",
       "      <th>CatastroMax</th>\n",
       "      <th>CPReferenciado</th>\n",
       "      <th>IdCliente</th>\n",
       "      <th>Producto</th>\n",
       "      <th>Fecha</th>\n",
       "      <th>TipoProducto</th>\n",
       "      <th>AltaCliente</th>\n",
       "      <th>Provincia</th>\n",
       "    </tr>\n",
       "  </thead>\n",
       "  <tbody>\n",
       "    <tr>\n",
       "      <th>0</th>\n",
       "      <td>087 2000501120UN02UN0UN</td>\n",
       "      <td>087 2000501120</td>\n",
       "      <td>6105422</td>\n",
       "      <td>N01</td>\n",
       "      <td>2020-05-01</td>\n",
       "      <td>Servicio principal</td>\n",
       "      <td>2020-02-16</td>\n",
       "      <td>20</td>\n",
       "    </tr>\n",
       "    <tr>\n",
       "      <th>1</th>\n",
       "      <td>033 2006900750UN040B0UN</td>\n",
       "      <td>033 2006900750</td>\n",
       "      <td>6125687</td>\n",
       "      <td>N01</td>\n",
       "      <td>2020-04-01</td>\n",
       "      <td>Servicio sin cuota</td>\n",
       "      <td>2020-03-19</td>\n",
       "      <td>20</td>\n",
       "    </tr>\n",
       "    <tr>\n",
       "      <th>2</th>\n",
       "      <td>008 0105902010UN060C0UN</td>\n",
       "      <td>008 0105902010</td>\n",
       "      <td>6098841</td>\n",
       "      <td>N06</td>\n",
       "      <td>2020-02-01</td>\n",
       "      <td>Servicio principal</td>\n",
       "      <td>2020-01-11</td>\n",
       "      <td>01</td>\n",
       "    </tr>\n",
       "    <tr>\n",
       "      <th>3</th>\n",
       "      <td>002 4802008896UN040C0UN</td>\n",
       "      <td>002 4802008896</td>\n",
       "      <td>6115427</td>\n",
       "      <td>N06</td>\n",
       "      <td>2020-04-01</td>\n",
       "      <td>Servicio principal</td>\n",
       "      <td>2020-02-26</td>\n",
       "      <td>48</td>\n",
       "    </tr>\n",
       "    <tr>\n",
       "      <th>4</th>\n",
       "      <td>010 2007902403UN03CN0UN</td>\n",
       "      <td>010 2007902403</td>\n",
       "      <td>6103115</td>\n",
       "      <td>N04</td>\n",
       "      <td>2020-04-01</td>\n",
       "      <td>Servicio principal</td>\n",
       "      <td>2020-01-25</td>\n",
       "      <td>20</td>\n",
       "    </tr>\n",
       "    <tr>\n",
       "      <th>...</th>\n",
       "      <td>...</td>\n",
       "      <td>...</td>\n",
       "      <td>...</td>\n",
       "      <td>...</td>\n",
       "      <td>...</td>\n",
       "      <td>...</td>\n",
       "      <td>...</td>\n",
       "      <td>...</td>\n",
       "    </tr>\n",
       "    <tr>\n",
       "      <th>13580</th>\n",
       "      <td>005 4804400046UNPBUN001</td>\n",
       "      <td>005 4804400046</td>\n",
       "      <td>75816</td>\n",
       "      <td>N06</td>\n",
       "      <td>2020-03-01</td>\n",
       "      <td>Servicio principal</td>\n",
       "      <td>2020-03-14</td>\n",
       "      <td>48</td>\n",
       "    </tr>\n",
       "    <tr>\n",
       "      <th>13581</th>\n",
       "      <td>005 0103601575UN020C0UN</td>\n",
       "      <td>005 0103601575</td>\n",
       "      <td>6109233</td>\n",
       "      <td>N01</td>\n",
       "      <td>2020-02-01</td>\n",
       "      <td>Servicio sin cuota</td>\n",
       "      <td>2020-02-06</td>\n",
       "      <td>01</td>\n",
       "    </tr>\n",
       "    <tr>\n",
       "      <th>13582</th>\n",
       "      <td>001 2004501209UNUNUNPOR</td>\n",
       "      <td>001 2004501209</td>\n",
       "      <td>2239094</td>\n",
       "      <td>N06</td>\n",
       "      <td>2020-03-01</td>\n",
       "      <td>Servicio principal</td>\n",
       "      <td>2020-03-24</td>\n",
       "      <td>20</td>\n",
       "    </tr>\n",
       "    <tr>\n",
       "      <th>13583</th>\n",
       "      <td>001 4802009095UN050C0UN</td>\n",
       "      <td>001 4802009095</td>\n",
       "      <td>6119594</td>\n",
       "      <td>N01</td>\n",
       "      <td>2020-05-01</td>\n",
       "      <td>Servicio principal</td>\n",
       "      <td>2020-03-07</td>\n",
       "      <td>48</td>\n",
       "    </tr>\n",
       "    <tr>\n",
       "      <th>13584</th>\n",
       "      <td>011 3120101590UN070C0UN</td>\n",
       "      <td>011 3120101590</td>\n",
       "      <td>6111352</td>\n",
       "      <td>N06</td>\n",
       "      <td>2020-05-01</td>\n",
       "      <td>Servicio principal</td>\n",
       "      <td>2020-02-16</td>\n",
       "      <td>31</td>\n",
       "    </tr>\n",
       "  </tbody>\n",
       "</table>\n",
       "<p>11467 rows × 8 columns</p>\n",
       "</div>"
      ],
      "text/plain": [
       "                   CatastroMax  CPReferenciado IdCliente Producto      Fecha  \\\n",
       "0      087 2000501120UN02UN0UN  087 2000501120   6105422      N01 2020-05-01   \n",
       "1      033 2006900750UN040B0UN  033 2006900750   6125687      N01 2020-04-01   \n",
       "2      008 0105902010UN060C0UN  008 0105902010   6098841      N06 2020-02-01   \n",
       "3      002 4802008896UN040C0UN  002 4802008896   6115427      N06 2020-04-01   \n",
       "4      010 2007902403UN03CN0UN  010 2007902403   6103115      N04 2020-04-01   \n",
       "...                        ...             ...       ...      ...        ...   \n",
       "13580  005 4804400046UNPBUN001  005 4804400046     75816      N06 2020-03-01   \n",
       "13581  005 0103601575UN020C0UN  005 0103601575   6109233      N01 2020-02-01   \n",
       "13582  001 2004501209UNUNUNPOR  001 2004501209   2239094      N06 2020-03-01   \n",
       "13583  001 4802009095UN050C0UN  001 4802009095   6119594      N01 2020-05-01   \n",
       "13584  011 3120101590UN070C0UN  011 3120101590   6111352      N06 2020-05-01   \n",
       "\n",
       "             TipoProducto AltaCliente Provincia  \n",
       "0      Servicio principal  2020-02-16        20  \n",
       "1      Servicio sin cuota  2020-03-19        20  \n",
       "2      Servicio principal  2020-01-11        01  \n",
       "3      Servicio principal  2020-02-26        48  \n",
       "4      Servicio principal  2020-01-25        20  \n",
       "...                   ...         ...       ...  \n",
       "13580  Servicio principal  2020-03-14        48  \n",
       "13581  Servicio sin cuota  2020-02-06        01  \n",
       "13582  Servicio principal  2020-03-24        20  \n",
       "13583  Servicio principal  2020-03-07        48  \n",
       "13584  Servicio principal  2020-02-16        31  \n",
       "\n",
       "[11467 rows x 8 columns]"
      ]
     },
     "execution_count": 61,
     "metadata": {},
     "output_type": "execute_result"
    }
   ],
   "source": [
    "df.query('AltaCliente.dt.month <= 3')"
   ]
  },
  {
   "cell_type": "markdown",
   "metadata": {
    "id": "fawf2PwYltb8"
   },
   "source": [
    "Dos condiciones simultáneas"
   ]
  },
  {
   "cell_type": "code",
   "execution_count": 62,
   "metadata": {
    "id": "2ICFrSbAuFYM"
   },
   "outputs": [],
   "source": [
    "df['IdCliente'] = df['IdCliente'].astype('int')"
   ]
  },
  {
   "cell_type": "code",
   "execution_count": 63,
   "metadata": {
    "colab": {
     "base_uri": "https://localhost:8080/",
     "height": 423
    },
    "executionInfo": {
     "elapsed": 16,
     "status": "ok",
     "timestamp": 1732123551947,
     "user": {
      "displayName": "Aitor Donado",
      "userId": "08246046509718212083"
     },
     "user_tz": -60
    },
    "id": "JXx00UUpuFYM",
    "outputId": "57b1ae04-f238-4472-edd1-3f850a116158"
   },
   "outputs": [
    {
     "data": {
      "text/html": [
       "<div>\n",
       "<style scoped>\n",
       "    .dataframe tbody tr th:only-of-type {\n",
       "        vertical-align: middle;\n",
       "    }\n",
       "\n",
       "    .dataframe tbody tr th {\n",
       "        vertical-align: top;\n",
       "    }\n",
       "\n",
       "    .dataframe thead th {\n",
       "        text-align: right;\n",
       "    }\n",
       "</style>\n",
       "<table border=\"1\" class=\"dataframe\">\n",
       "  <thead>\n",
       "    <tr style=\"text-align: right;\">\n",
       "      <th></th>\n",
       "      <th>CatastroMax</th>\n",
       "      <th>CPReferenciado</th>\n",
       "      <th>IdCliente</th>\n",
       "      <th>Producto</th>\n",
       "      <th>Fecha</th>\n",
       "      <th>TipoProducto</th>\n",
       "      <th>AltaCliente</th>\n",
       "      <th>Provincia</th>\n",
       "    </tr>\n",
       "  </thead>\n",
       "  <tbody>\n",
       "    <tr>\n",
       "      <th>112</th>\n",
       "      <td>033 2006902990UNUNUNPOR</td>\n",
       "      <td>033 2006902990</td>\n",
       "      <td>45810</td>\n",
       "      <td>N06</td>\n",
       "      <td>2020-05-01</td>\n",
       "      <td>Servicio principal</td>\n",
       "      <td>2020-03-24</td>\n",
       "      <td>20</td>\n",
       "    </tr>\n",
       "    <tr>\n",
       "      <th>284</th>\n",
       "      <td>027 2006906120UN010A0UN</td>\n",
       "      <td>027 2006906120</td>\n",
       "      <td>94619</td>\n",
       "      <td>N06</td>\n",
       "      <td>2020-04-01</td>\n",
       "      <td>Servicio sin cuota</td>\n",
       "      <td>2020-02-23</td>\n",
       "      <td>20</td>\n",
       "    </tr>\n",
       "    <tr>\n",
       "      <th>320</th>\n",
       "      <td>011 4801301560UN030C0UN</td>\n",
       "      <td>011 4801301560</td>\n",
       "      <td>22248</td>\n",
       "      <td>N06</td>\n",
       "      <td>2020-05-01</td>\n",
       "      <td>Servicio principal</td>\n",
       "      <td>2020-03-13</td>\n",
       "      <td>48</td>\n",
       "    </tr>\n",
       "    <tr>\n",
       "      <th>371</th>\n",
       "      <td>009A4804400124UNUNUN0UN</td>\n",
       "      <td>009A4804400124</td>\n",
       "      <td>52219</td>\n",
       "      <td>N06</td>\n",
       "      <td>2020-03-01</td>\n",
       "      <td>Servicio principal</td>\n",
       "      <td>2020-03-24</td>\n",
       "      <td>A4</td>\n",
       "    </tr>\n",
       "    <tr>\n",
       "      <th>534</th>\n",
       "      <td>021 4801300040UN03IZ0UN</td>\n",
       "      <td>021 4801300040</td>\n",
       "      <td>43543</td>\n",
       "      <td>N04</td>\n",
       "      <td>2020-05-01</td>\n",
       "      <td>Servicio principal</td>\n",
       "      <td>2020-01-09</td>\n",
       "      <td>48</td>\n",
       "    </tr>\n",
       "    <tr>\n",
       "      <th>...</th>\n",
       "      <td>...</td>\n",
       "      <td>...</td>\n",
       "      <td>...</td>\n",
       "      <td>...</td>\n",
       "      <td>...</td>\n",
       "      <td>...</td>\n",
       "      <td>...</td>\n",
       "      <td>...</td>\n",
       "    </tr>\n",
       "    <tr>\n",
       "      <th>13446</th>\n",
       "      <td>017 2006902170UN010D0UN</td>\n",
       "      <td>017 2006902170</td>\n",
       "      <td>38243</td>\n",
       "      <td>N01</td>\n",
       "      <td>2020-03-01</td>\n",
       "      <td>Servicio sin cuota</td>\n",
       "      <td>2020-01-31</td>\n",
       "      <td>20</td>\n",
       "    </tr>\n",
       "    <tr>\n",
       "      <th>13453</th>\n",
       "      <td>074 0105902310UN06CN0UN</td>\n",
       "      <td>074 0105902310</td>\n",
       "      <td>98592</td>\n",
       "      <td>N01</td>\n",
       "      <td>2020-04-01</td>\n",
       "      <td>Servicio principal</td>\n",
       "      <td>2020-02-01</td>\n",
       "      <td>01</td>\n",
       "    </tr>\n",
       "    <tr>\n",
       "      <th>13549</th>\n",
       "      <td>002 2005502480UN01DR0UN</td>\n",
       "      <td>002 2005502480</td>\n",
       "      <td>49833</td>\n",
       "      <td>N04</td>\n",
       "      <td>2020-01-01</td>\n",
       "      <td>Servicio principal</td>\n",
       "      <td>2020-01-05</td>\n",
       "      <td>20</td>\n",
       "    </tr>\n",
       "    <tr>\n",
       "      <th>13560</th>\n",
       "      <td>008 4800300164UN02UN00A</td>\n",
       "      <td>008 4800300164</td>\n",
       "      <td>76072</td>\n",
       "      <td>N04</td>\n",
       "      <td>2020-02-01</td>\n",
       "      <td>Servicio principal</td>\n",
       "      <td>2020-03-01</td>\n",
       "      <td>48</td>\n",
       "    </tr>\n",
       "    <tr>\n",
       "      <th>13580</th>\n",
       "      <td>005 4804400046UNPBUN001</td>\n",
       "      <td>005 4804400046</td>\n",
       "      <td>75816</td>\n",
       "      <td>N06</td>\n",
       "      <td>2020-03-01</td>\n",
       "      <td>Servicio principal</td>\n",
       "      <td>2020-03-14</td>\n",
       "      <td>48</td>\n",
       "    </tr>\n",
       "  </tbody>\n",
       "</table>\n",
       "<p>192 rows × 8 columns</p>\n",
       "</div>"
      ],
      "text/plain": [
       "                   CatastroMax  CPReferenciado  IdCliente Producto      Fecha  \\\n",
       "112    033 2006902990UNUNUNPOR  033 2006902990      45810      N06 2020-05-01   \n",
       "284    027 2006906120UN010A0UN  027 2006906120      94619      N06 2020-04-01   \n",
       "320    011 4801301560UN030C0UN  011 4801301560      22248      N06 2020-05-01   \n",
       "371    009A4804400124UNUNUN0UN  009A4804400124      52219      N06 2020-03-01   \n",
       "534    021 4801300040UN03IZ0UN  021 4801300040      43543      N04 2020-05-01   \n",
       "...                        ...             ...        ...      ...        ...   \n",
       "13446  017 2006902170UN010D0UN  017 2006902170      38243      N01 2020-03-01   \n",
       "13453  074 0105902310UN06CN0UN  074 0105902310      98592      N01 2020-04-01   \n",
       "13549  002 2005502480UN01DR0UN  002 2005502480      49833      N04 2020-01-01   \n",
       "13560  008 4800300164UN02UN00A  008 4800300164      76072      N04 2020-02-01   \n",
       "13580  005 4804400046UNPBUN001  005 4804400046      75816      N06 2020-03-01   \n",
       "\n",
       "             TipoProducto AltaCliente Provincia  \n",
       "112    Servicio principal  2020-03-24        20  \n",
       "284    Servicio sin cuota  2020-02-23        20  \n",
       "320    Servicio principal  2020-03-13        48  \n",
       "371    Servicio principal  2020-03-24        A4  \n",
       "534    Servicio principal  2020-01-09        48  \n",
       "...                   ...         ...       ...  \n",
       "13446  Servicio sin cuota  2020-01-31        20  \n",
       "13453  Servicio principal  2020-02-01        01  \n",
       "13549  Servicio principal  2020-01-05        20  \n",
       "13560  Servicio principal  2020-03-01        48  \n",
       "13580  Servicio principal  2020-03-14        48  \n",
       "\n",
       "[192 rows x 8 columns]"
      ]
     },
     "execution_count": 63,
     "metadata": {},
     "output_type": "execute_result"
    }
   ],
   "source": [
    "df.query('AltaCliente.dt.month <= 3 and IdCliente<100000')"
   ]
  },
  {
   "cell_type": "markdown",
   "metadata": {
    "id": "jblPdtwnuFYM",
    "tags": []
   },
   "source": [
    "### Consultas más complejas"
   ]
  },
  {
   "cell_type": "markdown",
   "metadata": {
    "id": "l76TQwW-mCBv"
   },
   "source": [
    "Usando variables"
   ]
  },
  {
   "cell_type": "code",
   "execution_count": 64,
   "metadata": {
    "colab": {
     "base_uri": "https://localhost:8080/",
     "height": 423
    },
    "executionInfo": {
     "elapsed": 16,
     "status": "ok",
     "timestamp": 1732123551947,
     "user": {
      "displayName": "Aitor Donado",
      "userId": "08246046509718212083"
     },
     "user_tz": -60
    },
    "id": "uXeNaeFyuFYM",
    "outputId": "053d3148-56d7-47e7-f1f6-70bc206c8794"
   },
   "outputs": [
    {
     "data": {
      "text/html": [
       "<div>\n",
       "<style scoped>\n",
       "    .dataframe tbody tr th:only-of-type {\n",
       "        vertical-align: middle;\n",
       "    }\n",
       "\n",
       "    .dataframe tbody tr th {\n",
       "        vertical-align: top;\n",
       "    }\n",
       "\n",
       "    .dataframe thead th {\n",
       "        text-align: right;\n",
       "    }\n",
       "</style>\n",
       "<table border=\"1\" class=\"dataframe\">\n",
       "  <thead>\n",
       "    <tr style=\"text-align: right;\">\n",
       "      <th></th>\n",
       "      <th>CatastroMax</th>\n",
       "      <th>CPReferenciado</th>\n",
       "      <th>IdCliente</th>\n",
       "      <th>Producto</th>\n",
       "      <th>Fecha</th>\n",
       "      <th>TipoProducto</th>\n",
       "      <th>AltaCliente</th>\n",
       "      <th>Provincia</th>\n",
       "    </tr>\n",
       "  </thead>\n",
       "  <tbody>\n",
       "    <tr>\n",
       "      <th>0</th>\n",
       "      <td>087 2000501120UN02UN0UN</td>\n",
       "      <td>087 2000501120</td>\n",
       "      <td>6105422</td>\n",
       "      <td>N01</td>\n",
       "      <td>2020-05-01</td>\n",
       "      <td>Servicio principal</td>\n",
       "      <td>2020-02-16</td>\n",
       "      <td>20</td>\n",
       "    </tr>\n",
       "    <tr>\n",
       "      <th>1</th>\n",
       "      <td>033 2006900750UN040B0UN</td>\n",
       "      <td>033 2006900750</td>\n",
       "      <td>6125687</td>\n",
       "      <td>N01</td>\n",
       "      <td>2020-04-01</td>\n",
       "      <td>Servicio sin cuota</td>\n",
       "      <td>2020-03-19</td>\n",
       "      <td>20</td>\n",
       "    </tr>\n",
       "    <tr>\n",
       "      <th>10</th>\n",
       "      <td>026 4802003260UN080D0UN</td>\n",
       "      <td>026 4802003260</td>\n",
       "      <td>4163892</td>\n",
       "      <td>N01</td>\n",
       "      <td>2020-05-01</td>\n",
       "      <td>Servicio sin cuota</td>\n",
       "      <td>2020-01-19</td>\n",
       "      <td>48</td>\n",
       "    </tr>\n",
       "    <tr>\n",
       "      <th>13</th>\n",
       "      <td>016 0819600232UNLOUN001</td>\n",
       "      <td>016 0819600232</td>\n",
       "      <td>6106541</td>\n",
       "      <td>N01</td>\n",
       "      <td>2020-05-01</td>\n",
       "      <td>Servicio principal</td>\n",
       "      <td>2020-02-02</td>\n",
       "      <td>08</td>\n",
       "    </tr>\n",
       "    <tr>\n",
       "      <th>14</th>\n",
       "      <td>014 3114900001UN050A0UN</td>\n",
       "      <td>014 3114900001</td>\n",
       "      <td>6099661</td>\n",
       "      <td>N01</td>\n",
       "      <td>2020-04-01</td>\n",
       "      <td>Servicio principal</td>\n",
       "      <td>2020-01-16</td>\n",
       "      <td>31</td>\n",
       "    </tr>\n",
       "    <tr>\n",
       "      <th>...</th>\n",
       "      <td>...</td>\n",
       "      <td>...</td>\n",
       "      <td>...</td>\n",
       "      <td>...</td>\n",
       "      <td>...</td>\n",
       "      <td>...</td>\n",
       "      <td>...</td>\n",
       "      <td>...</td>\n",
       "    </tr>\n",
       "    <tr>\n",
       "      <th>13552</th>\n",
       "      <td>003 4801300650UN040D0UN</td>\n",
       "      <td>003 4801300650</td>\n",
       "      <td>6128374</td>\n",
       "      <td>N01</td>\n",
       "      <td>2020-04-01</td>\n",
       "      <td>Servicio principal</td>\n",
       "      <td>2020-03-28</td>\n",
       "      <td>48</td>\n",
       "    </tr>\n",
       "    <tr>\n",
       "      <th>13555</th>\n",
       "      <td>012A2008001170UN040A0UN</td>\n",
       "      <td>012A2008001170</td>\n",
       "      <td>6111046</td>\n",
       "      <td>N01</td>\n",
       "      <td>2020-03-01</td>\n",
       "      <td>Servicio sin cuota</td>\n",
       "      <td>2020-02-14</td>\n",
       "      <td>A2</td>\n",
       "    </tr>\n",
       "    <tr>\n",
       "      <th>13570</th>\n",
       "      <td>003 2008001350UN040H0UN</td>\n",
       "      <td>003 2008001350</td>\n",
       "      <td>6103683</td>\n",
       "      <td>N01</td>\n",
       "      <td>2020-02-01</td>\n",
       "      <td>Servicio principal</td>\n",
       "      <td>2020-02-01</td>\n",
       "      <td>20</td>\n",
       "    </tr>\n",
       "    <tr>\n",
       "      <th>13581</th>\n",
       "      <td>005 0103601575UN020C0UN</td>\n",
       "      <td>005 0103601575</td>\n",
       "      <td>6109233</td>\n",
       "      <td>N01</td>\n",
       "      <td>2020-02-01</td>\n",
       "      <td>Servicio sin cuota</td>\n",
       "      <td>2020-02-06</td>\n",
       "      <td>01</td>\n",
       "    </tr>\n",
       "    <tr>\n",
       "      <th>13583</th>\n",
       "      <td>001 4802009095UN050C0UN</td>\n",
       "      <td>001 4802009095</td>\n",
       "      <td>6119594</td>\n",
       "      <td>N01</td>\n",
       "      <td>2020-05-01</td>\n",
       "      <td>Servicio principal</td>\n",
       "      <td>2020-03-07</td>\n",
       "      <td>48</td>\n",
       "    </tr>\n",
       "  </tbody>\n",
       "</table>\n",
       "<p>3641 rows × 8 columns</p>\n",
       "</div>"
      ],
      "text/plain": [
       "                   CatastroMax  CPReferenciado  IdCliente Producto      Fecha  \\\n",
       "0      087 2000501120UN02UN0UN  087 2000501120    6105422      N01 2020-05-01   \n",
       "1      033 2006900750UN040B0UN  033 2006900750    6125687      N01 2020-04-01   \n",
       "10     026 4802003260UN080D0UN  026 4802003260    4163892      N01 2020-05-01   \n",
       "13     016 0819600232UNLOUN001  016 0819600232    6106541      N01 2020-05-01   \n",
       "14     014 3114900001UN050A0UN  014 3114900001    6099661      N01 2020-04-01   \n",
       "...                        ...             ...        ...      ...        ...   \n",
       "13552  003 4801300650UN040D0UN  003 4801300650    6128374      N01 2020-04-01   \n",
       "13555  012A2008001170UN040A0UN  012A2008001170    6111046      N01 2020-03-01   \n",
       "13570  003 2008001350UN040H0UN  003 2008001350    6103683      N01 2020-02-01   \n",
       "13581  005 0103601575UN020C0UN  005 0103601575    6109233      N01 2020-02-01   \n",
       "13583  001 4802009095UN050C0UN  001 4802009095    6119594      N01 2020-05-01   \n",
       "\n",
       "             TipoProducto AltaCliente Provincia  \n",
       "0      Servicio principal  2020-02-16        20  \n",
       "1      Servicio sin cuota  2020-03-19        20  \n",
       "10     Servicio sin cuota  2020-01-19        48  \n",
       "13     Servicio principal  2020-02-02        08  \n",
       "14     Servicio principal  2020-01-16        31  \n",
       "...                   ...         ...       ...  \n",
       "13552  Servicio principal  2020-03-28        48  \n",
       "13555  Servicio sin cuota  2020-02-14        A2  \n",
       "13570  Servicio principal  2020-02-01        20  \n",
       "13581  Servicio sin cuota  2020-02-06        01  \n",
       "13583  Servicio principal  2020-03-07        48  \n",
       "\n",
       "[3641 rows x 8 columns]"
      ]
     },
     "execution_count": 64,
     "metadata": {},
     "output_type": "execute_result"
    }
   ],
   "source": [
    "producto = 'N01'\n",
    "df.query('AltaCliente.dt.month <= 3 and Producto == @producto')"
   ]
  },
  {
   "cell_type": "code",
   "execution_count": 65,
   "metadata": {
    "colab": {
     "base_uri": "https://localhost:8080/",
     "height": 423
    },
    "executionInfo": {
     "elapsed": 16,
     "status": "ok",
     "timestamp": 1732123551947,
     "user": {
      "displayName": "Aitor Donado",
      "userId": "08246046509718212083"
     },
     "user_tz": -60
    },
    "id": "VPvmOeK5uFYM",
    "outputId": "9ce15ff6-0854-4a66-c6f1-d4da54204fb8"
   },
   "outputs": [
    {
     "data": {
      "text/html": [
       "<div>\n",
       "<style scoped>\n",
       "    .dataframe tbody tr th:only-of-type {\n",
       "        vertical-align: middle;\n",
       "    }\n",
       "\n",
       "    .dataframe tbody tr th {\n",
       "        vertical-align: top;\n",
       "    }\n",
       "\n",
       "    .dataframe thead th {\n",
       "        text-align: right;\n",
       "    }\n",
       "</style>\n",
       "<table border=\"1\" class=\"dataframe\">\n",
       "  <thead>\n",
       "    <tr style=\"text-align: right;\">\n",
       "      <th></th>\n",
       "      <th>CatastroMax</th>\n",
       "      <th>CPReferenciado</th>\n",
       "      <th>IdCliente</th>\n",
       "      <th>Producto</th>\n",
       "      <th>Fecha</th>\n",
       "      <th>TipoProducto</th>\n",
       "      <th>AltaCliente</th>\n",
       "      <th>Provincia</th>\n",
       "    </tr>\n",
       "  </thead>\n",
       "  <tbody>\n",
       "    <tr>\n",
       "      <th>0</th>\n",
       "      <td>087 2000501120UN02UN0UN</td>\n",
       "      <td>087 2000501120</td>\n",
       "      <td>6105422</td>\n",
       "      <td>N01</td>\n",
       "      <td>2020-05-01</td>\n",
       "      <td>Servicio principal</td>\n",
       "      <td>2020-02-16</td>\n",
       "      <td>20</td>\n",
       "    </tr>\n",
       "    <tr>\n",
       "      <th>1</th>\n",
       "      <td>033 2006900750UN040B0UN</td>\n",
       "      <td>033 2006900750</td>\n",
       "      <td>6125687</td>\n",
       "      <td>N01</td>\n",
       "      <td>2020-04-01</td>\n",
       "      <td>Servicio sin cuota</td>\n",
       "      <td>2020-03-19</td>\n",
       "      <td>20</td>\n",
       "    </tr>\n",
       "    <tr>\n",
       "      <th>10</th>\n",
       "      <td>026 4802003260UN080D0UN</td>\n",
       "      <td>026 4802003260</td>\n",
       "      <td>4163892</td>\n",
       "      <td>N01</td>\n",
       "      <td>2020-05-01</td>\n",
       "      <td>Servicio sin cuota</td>\n",
       "      <td>2020-01-19</td>\n",
       "      <td>48</td>\n",
       "    </tr>\n",
       "    <tr>\n",
       "      <th>13</th>\n",
       "      <td>016 0819600232UNLOUN001</td>\n",
       "      <td>016 0819600232</td>\n",
       "      <td>6106541</td>\n",
       "      <td>N01</td>\n",
       "      <td>2020-05-01</td>\n",
       "      <td>Servicio principal</td>\n",
       "      <td>2020-02-02</td>\n",
       "      <td>08</td>\n",
       "    </tr>\n",
       "    <tr>\n",
       "      <th>14</th>\n",
       "      <td>014 3114900001UN050A0UN</td>\n",
       "      <td>014 3114900001</td>\n",
       "      <td>6099661</td>\n",
       "      <td>N01</td>\n",
       "      <td>2020-04-01</td>\n",
       "      <td>Servicio principal</td>\n",
       "      <td>2020-01-16</td>\n",
       "      <td>31</td>\n",
       "    </tr>\n",
       "    <tr>\n",
       "      <th>...</th>\n",
       "      <td>...</td>\n",
       "      <td>...</td>\n",
       "      <td>...</td>\n",
       "      <td>...</td>\n",
       "      <td>...</td>\n",
       "      <td>...</td>\n",
       "      <td>...</td>\n",
       "      <td>...</td>\n",
       "    </tr>\n",
       "    <tr>\n",
       "      <th>13561</th>\n",
       "      <td>040 3109700650UN02UN0UN</td>\n",
       "      <td>040 3109700650</td>\n",
       "      <td>4234135</td>\n",
       "      <td>N06</td>\n",
       "      <td>2020-05-01</td>\n",
       "      <td>Servicio sin cuota</td>\n",
       "      <td>2020-03-27</td>\n",
       "      <td>31</td>\n",
       "    </tr>\n",
       "    <tr>\n",
       "      <th>13568</th>\n",
       "      <td>005 3120103015UNPB0B0UN</td>\n",
       "      <td>005 3120103015</td>\n",
       "      <td>6115786</td>\n",
       "      <td>N06</td>\n",
       "      <td>2020-05-01</td>\n",
       "      <td>Servicio sin cuota</td>\n",
       "      <td>2020-02-23</td>\n",
       "      <td>31</td>\n",
       "    </tr>\n",
       "    <tr>\n",
       "      <th>13570</th>\n",
       "      <td>003 2008001350UN040H0UN</td>\n",
       "      <td>003 2008001350</td>\n",
       "      <td>6103683</td>\n",
       "      <td>N01</td>\n",
       "      <td>2020-02-01</td>\n",
       "      <td>Servicio principal</td>\n",
       "      <td>2020-02-01</td>\n",
       "      <td>20</td>\n",
       "    </tr>\n",
       "    <tr>\n",
       "      <th>13581</th>\n",
       "      <td>005 0103601575UN020C0UN</td>\n",
       "      <td>005 0103601575</td>\n",
       "      <td>6109233</td>\n",
       "      <td>N01</td>\n",
       "      <td>2020-02-01</td>\n",
       "      <td>Servicio sin cuota</td>\n",
       "      <td>2020-02-06</td>\n",
       "      <td>01</td>\n",
       "    </tr>\n",
       "    <tr>\n",
       "      <th>13583</th>\n",
       "      <td>001 4802009095UN050C0UN</td>\n",
       "      <td>001 4802009095</td>\n",
       "      <td>6119594</td>\n",
       "      <td>N01</td>\n",
       "      <td>2020-05-01</td>\n",
       "      <td>Servicio principal</td>\n",
       "      <td>2020-03-07</td>\n",
       "      <td>48</td>\n",
       "    </tr>\n",
       "  </tbody>\n",
       "</table>\n",
       "<p>4561 rows × 8 columns</p>\n",
       "</div>"
      ],
      "text/plain": [
       "                   CatastroMax  CPReferenciado  IdCliente Producto      Fecha  \\\n",
       "0      087 2000501120UN02UN0UN  087 2000501120    6105422      N01 2020-05-01   \n",
       "1      033 2006900750UN040B0UN  033 2006900750    6125687      N01 2020-04-01   \n",
       "10     026 4802003260UN080D0UN  026 4802003260    4163892      N01 2020-05-01   \n",
       "13     016 0819600232UNLOUN001  016 0819600232    6106541      N01 2020-05-01   \n",
       "14     014 3114900001UN050A0UN  014 3114900001    6099661      N01 2020-04-01   \n",
       "...                        ...             ...        ...      ...        ...   \n",
       "13561  040 3109700650UN02UN0UN  040 3109700650    4234135      N06 2020-05-01   \n",
       "13568  005 3120103015UNPB0B0UN  005 3120103015    6115786      N06 2020-05-01   \n",
       "13570  003 2008001350UN040H0UN  003 2008001350    6103683      N01 2020-02-01   \n",
       "13581  005 0103601575UN020C0UN  005 0103601575    6109233      N01 2020-02-01   \n",
       "13583  001 4802009095UN050C0UN  001 4802009095    6119594      N01 2020-05-01   \n",
       "\n",
       "             TipoProducto AltaCliente Provincia  \n",
       "0      Servicio principal  2020-02-16        20  \n",
       "1      Servicio sin cuota  2020-03-19        20  \n",
       "10     Servicio sin cuota  2020-01-19        48  \n",
       "13     Servicio principal  2020-02-02        08  \n",
       "14     Servicio principal  2020-01-16        31  \n",
       "...                   ...         ...       ...  \n",
       "13561  Servicio sin cuota  2020-03-27        31  \n",
       "13568  Servicio sin cuota  2020-02-23        31  \n",
       "13570  Servicio principal  2020-02-01        20  \n",
       "13581  Servicio sin cuota  2020-02-06        01  \n",
       "13583  Servicio principal  2020-03-07        48  \n",
       "\n",
       "[4561 rows x 8 columns]"
      ]
     },
     "execution_count": 65,
     "metadata": {},
     "output_type": "execute_result"
    }
   ],
   "source": [
    "producto = 'N01'\n",
    "tipoprod = 'Servicio sin cuota'\n",
    "df.query('AltaCliente.dt.month <= 3 and (Producto == @producto or TipoProducto == @tipoprod)')"
   ]
  },
  {
   "cell_type": "markdown",
   "metadata": {
    "id": "6IsVczy_uFYR"
   },
   "source": [
    "### Facturación media del mes de abril del 2020"
   ]
  },
  {
   "cell_type": "code",
   "execution_count": 66,
   "metadata": {
    "id": "PN0N2BjUuFYR"
   },
   "outputs": [],
   "source": [
    "df['Facturacion'] = np.random.randint(100, 1000, df.shape[0])"
   ]
  },
  {
   "cell_type": "code",
   "execution_count": 71,
   "metadata": {},
   "outputs": [
    {
     "data": {
      "text/html": [
       "<div>\n",
       "<style scoped>\n",
       "    .dataframe tbody tr th:only-of-type {\n",
       "        vertical-align: middle;\n",
       "    }\n",
       "\n",
       "    .dataframe tbody tr th {\n",
       "        vertical-align: top;\n",
       "    }\n",
       "\n",
       "    .dataframe thead th {\n",
       "        text-align: right;\n",
       "    }\n",
       "</style>\n",
       "<table border=\"1\" class=\"dataframe\">\n",
       "  <thead>\n",
       "    <tr style=\"text-align: right;\">\n",
       "      <th></th>\n",
       "      <th>CatastroMax</th>\n",
       "      <th>CPReferenciado</th>\n",
       "      <th>IdCliente</th>\n",
       "      <th>Producto</th>\n",
       "      <th>Fecha</th>\n",
       "      <th>TipoProducto</th>\n",
       "      <th>AltaCliente</th>\n",
       "      <th>Provincia</th>\n",
       "      <th>Facturacion</th>\n",
       "    </tr>\n",
       "  </thead>\n",
       "  <tbody>\n",
       "    <tr>\n",
       "      <th>0</th>\n",
       "      <td>087 2000501120UN02UN0UN</td>\n",
       "      <td>087 2000501120</td>\n",
       "      <td>6105422</td>\n",
       "      <td>N01</td>\n",
       "      <td>2020-05-01</td>\n",
       "      <td>Servicio principal</td>\n",
       "      <td>2020-02-16</td>\n",
       "      <td>20</td>\n",
       "      <td>271</td>\n",
       "    </tr>\n",
       "    <tr>\n",
       "      <th>1</th>\n",
       "      <td>033 2006900750UN040B0UN</td>\n",
       "      <td>033 2006900750</td>\n",
       "      <td>6125687</td>\n",
       "      <td>N01</td>\n",
       "      <td>2020-04-01</td>\n",
       "      <td>Servicio sin cuota</td>\n",
       "      <td>2020-03-19</td>\n",
       "      <td>20</td>\n",
       "      <td>756</td>\n",
       "    </tr>\n",
       "    <tr>\n",
       "      <th>2</th>\n",
       "      <td>008 0105902010UN060C0UN</td>\n",
       "      <td>008 0105902010</td>\n",
       "      <td>6098841</td>\n",
       "      <td>N06</td>\n",
       "      <td>2020-02-01</td>\n",
       "      <td>Servicio principal</td>\n",
       "      <td>2020-01-11</td>\n",
       "      <td>01</td>\n",
       "      <td>577</td>\n",
       "    </tr>\n",
       "    <tr>\n",
       "      <th>3</th>\n",
       "      <td>002 4802008896UN040C0UN</td>\n",
       "      <td>002 4802008896</td>\n",
       "      <td>6115427</td>\n",
       "      <td>N06</td>\n",
       "      <td>2020-04-01</td>\n",
       "      <td>Servicio principal</td>\n",
       "      <td>2020-02-26</td>\n",
       "      <td>48</td>\n",
       "      <td>637</td>\n",
       "    </tr>\n",
       "    <tr>\n",
       "      <th>4</th>\n",
       "      <td>010 2007902403UN03CN0UN</td>\n",
       "      <td>010 2007902403</td>\n",
       "      <td>6103115</td>\n",
       "      <td>N04</td>\n",
       "      <td>2020-04-01</td>\n",
       "      <td>Servicio principal</td>\n",
       "      <td>2020-01-25</td>\n",
       "      <td>20</td>\n",
       "      <td>939</td>\n",
       "    </tr>\n",
       "    <tr>\n",
       "      <th>...</th>\n",
       "      <td>...</td>\n",
       "      <td>...</td>\n",
       "      <td>...</td>\n",
       "      <td>...</td>\n",
       "      <td>...</td>\n",
       "      <td>...</td>\n",
       "      <td>...</td>\n",
       "      <td>...</td>\n",
       "      <td>...</td>\n",
       "    </tr>\n",
       "    <tr>\n",
       "      <th>13580</th>\n",
       "      <td>005 4804400046UNPBUN001</td>\n",
       "      <td>005 4804400046</td>\n",
       "      <td>75816</td>\n",
       "      <td>N06</td>\n",
       "      <td>2020-03-01</td>\n",
       "      <td>Servicio principal</td>\n",
       "      <td>2020-03-14</td>\n",
       "      <td>48</td>\n",
       "      <td>647</td>\n",
       "    </tr>\n",
       "    <tr>\n",
       "      <th>13581</th>\n",
       "      <td>005 0103601575UN020C0UN</td>\n",
       "      <td>005 0103601575</td>\n",
       "      <td>6109233</td>\n",
       "      <td>N01</td>\n",
       "      <td>2020-02-01</td>\n",
       "      <td>Servicio sin cuota</td>\n",
       "      <td>2020-02-06</td>\n",
       "      <td>01</td>\n",
       "      <td>715</td>\n",
       "    </tr>\n",
       "    <tr>\n",
       "      <th>13582</th>\n",
       "      <td>001 2004501209UNUNUNPOR</td>\n",
       "      <td>001 2004501209</td>\n",
       "      <td>2239094</td>\n",
       "      <td>N06</td>\n",
       "      <td>2020-03-01</td>\n",
       "      <td>Servicio principal</td>\n",
       "      <td>2020-03-24</td>\n",
       "      <td>20</td>\n",
       "      <td>852</td>\n",
       "    </tr>\n",
       "    <tr>\n",
       "      <th>13583</th>\n",
       "      <td>001 4802009095UN050C0UN</td>\n",
       "      <td>001 4802009095</td>\n",
       "      <td>6119594</td>\n",
       "      <td>N01</td>\n",
       "      <td>2020-05-01</td>\n",
       "      <td>Servicio principal</td>\n",
       "      <td>2020-03-07</td>\n",
       "      <td>48</td>\n",
       "      <td>734</td>\n",
       "    </tr>\n",
       "    <tr>\n",
       "      <th>13584</th>\n",
       "      <td>011 3120101590UN070C0UN</td>\n",
       "      <td>011 3120101590</td>\n",
       "      <td>6111352</td>\n",
       "      <td>N06</td>\n",
       "      <td>2020-05-01</td>\n",
       "      <td>Servicio principal</td>\n",
       "      <td>2020-02-16</td>\n",
       "      <td>31</td>\n",
       "      <td>578</td>\n",
       "    </tr>\n",
       "  </tbody>\n",
       "</table>\n",
       "<p>13585 rows × 9 columns</p>\n",
       "</div>"
      ],
      "text/plain": [
       "                   CatastroMax  CPReferenciado  IdCliente Producto      Fecha  \\\n",
       "0      087 2000501120UN02UN0UN  087 2000501120    6105422      N01 2020-05-01   \n",
       "1      033 2006900750UN040B0UN  033 2006900750    6125687      N01 2020-04-01   \n",
       "2      008 0105902010UN060C0UN  008 0105902010    6098841      N06 2020-02-01   \n",
       "3      002 4802008896UN040C0UN  002 4802008896    6115427      N06 2020-04-01   \n",
       "4      010 2007902403UN03CN0UN  010 2007902403    6103115      N04 2020-04-01   \n",
       "...                        ...             ...        ...      ...        ...   \n",
       "13580  005 4804400046UNPBUN001  005 4804400046      75816      N06 2020-03-01   \n",
       "13581  005 0103601575UN020C0UN  005 0103601575    6109233      N01 2020-02-01   \n",
       "13582  001 2004501209UNUNUNPOR  001 2004501209    2239094      N06 2020-03-01   \n",
       "13583  001 4802009095UN050C0UN  001 4802009095    6119594      N01 2020-05-01   \n",
       "13584  011 3120101590UN070C0UN  011 3120101590    6111352      N06 2020-05-01   \n",
       "\n",
       "             TipoProducto AltaCliente Provincia  Facturacion  \n",
       "0      Servicio principal  2020-02-16        20          271  \n",
       "1      Servicio sin cuota  2020-03-19        20          756  \n",
       "2      Servicio principal  2020-01-11        01          577  \n",
       "3      Servicio principal  2020-02-26        48          637  \n",
       "4      Servicio principal  2020-01-25        20          939  \n",
       "...                   ...         ...       ...          ...  \n",
       "13580  Servicio principal  2020-03-14        48          647  \n",
       "13581  Servicio sin cuota  2020-02-06        01          715  \n",
       "13582  Servicio principal  2020-03-24        20          852  \n",
       "13583  Servicio principal  2020-03-07        48          734  \n",
       "13584  Servicio principal  2020-02-16        31          578  \n",
       "\n",
       "[13585 rows x 9 columns]"
      ]
     },
     "execution_count": 71,
     "metadata": {},
     "output_type": "execute_result"
    }
   ],
   "source": [
    "df"
   ]
  },
  {
   "cell_type": "markdown",
   "metadata": {
    "id": "-GlSI6bIuFYR"
   },
   "source": [
    "### Facturación maxima y minima para Producto N06 de los clientes que no pertenezcan a Bizkaia"
   ]
  },
  {
   "cell_type": "code",
   "execution_count": 67,
   "metadata": {
    "colab": {
     "base_uri": "https://localhost:8080/"
    },
    "executionInfo": {
     "elapsed": 2,
     "status": "ok",
     "timestamp": 1732123624858,
     "user": {
      "displayName": "Aitor Donado",
      "userId": "08246046509718212083"
     },
     "user_tz": -60
    },
    "id": "SoWklMgBuFYS",
    "outputId": "05dbf107-4ac7-4dbf-9a7c-d71010161c6a"
   },
   "outputs": [
    {
     "name": "stdout",
     "output_type": "stream",
     "text": [
      "<class 'pandas.core.frame.DataFrame'>\n",
      "RangeIndex: 13585 entries, 0 to 13584\n",
      "Data columns (total 9 columns):\n",
      " #   Column          Non-Null Count  Dtype         \n",
      "---  ------          --------------  -----         \n",
      " 0   CatastroMax     13573 non-null  string        \n",
      " 1   CPReferenciado  13585 non-null  object        \n",
      " 2   IdCliente       13585 non-null  int32         \n",
      " 3   Producto        13585 non-null  category      \n",
      " 4   Fecha           13585 non-null  datetime64[ns]\n",
      " 5   TipoProducto    13585 non-null  category      \n",
      " 6   AltaCliente     13585 non-null  datetime64[ns]\n",
      " 7   Provincia       13573 non-null  string        \n",
      " 8   Facturacion     13585 non-null  int32         \n",
      "dtypes: category(2), datetime64[ns](2), int32(2), object(1), string(2)\n",
      "memory usage: 663.8+ KB\n"
     ]
    }
   ],
   "source": [
    "df.info()"
   ]
  },
  {
   "cell_type": "code",
   "execution_count": 72,
   "metadata": {
    "id": "_NHgZUfHuFYS"
   },
   "outputs": [],
   "source": [
    "df['Provincia'] = df['Provincia'].astype('string')"
   ]
  },
  {
   "cell_type": "code",
   "execution_count": 73,
   "metadata": {},
   "outputs": [
    {
     "data": {
      "text/html": [
       "<div>\n",
       "<style scoped>\n",
       "    .dataframe tbody tr th:only-of-type {\n",
       "        vertical-align: middle;\n",
       "    }\n",
       "\n",
       "    .dataframe tbody tr th {\n",
       "        vertical-align: top;\n",
       "    }\n",
       "\n",
       "    .dataframe thead th {\n",
       "        text-align: right;\n",
       "    }\n",
       "</style>\n",
       "<table border=\"1\" class=\"dataframe\">\n",
       "  <thead>\n",
       "    <tr style=\"text-align: right;\">\n",
       "      <th></th>\n",
       "      <th>CatastroMax</th>\n",
       "      <th>CPReferenciado</th>\n",
       "      <th>IdCliente</th>\n",
       "      <th>Producto</th>\n",
       "      <th>Fecha</th>\n",
       "      <th>TipoProducto</th>\n",
       "      <th>AltaCliente</th>\n",
       "      <th>Provincia</th>\n",
       "      <th>Facturacion</th>\n",
       "    </tr>\n",
       "  </thead>\n",
       "  <tbody>\n",
       "    <tr>\n",
       "      <th>0</th>\n",
       "      <td>087 2000501120UN02UN0UN</td>\n",
       "      <td>087 2000501120</td>\n",
       "      <td>6105422</td>\n",
       "      <td>N01</td>\n",
       "      <td>2020-05-01</td>\n",
       "      <td>Servicio principal</td>\n",
       "      <td>2020-02-16</td>\n",
       "      <td>20</td>\n",
       "      <td>271</td>\n",
       "    </tr>\n",
       "    <tr>\n",
       "      <th>1</th>\n",
       "      <td>033 2006900750UN040B0UN</td>\n",
       "      <td>033 2006900750</td>\n",
       "      <td>6125687</td>\n",
       "      <td>N01</td>\n",
       "      <td>2020-04-01</td>\n",
       "      <td>Servicio sin cuota</td>\n",
       "      <td>2020-03-19</td>\n",
       "      <td>20</td>\n",
       "      <td>756</td>\n",
       "    </tr>\n",
       "    <tr>\n",
       "      <th>2</th>\n",
       "      <td>008 0105902010UN060C0UN</td>\n",
       "      <td>008 0105902010</td>\n",
       "      <td>6098841</td>\n",
       "      <td>N06</td>\n",
       "      <td>2020-02-01</td>\n",
       "      <td>Servicio principal</td>\n",
       "      <td>2020-01-11</td>\n",
       "      <td>01</td>\n",
       "      <td>577</td>\n",
       "    </tr>\n",
       "    <tr>\n",
       "      <th>3</th>\n",
       "      <td>002 4802008896UN040C0UN</td>\n",
       "      <td>002 4802008896</td>\n",
       "      <td>6115427</td>\n",
       "      <td>N06</td>\n",
       "      <td>2020-04-01</td>\n",
       "      <td>Servicio principal</td>\n",
       "      <td>2020-02-26</td>\n",
       "      <td>48</td>\n",
       "      <td>637</td>\n",
       "    </tr>\n",
       "    <tr>\n",
       "      <th>4</th>\n",
       "      <td>010 2007902403UN03CN0UN</td>\n",
       "      <td>010 2007902403</td>\n",
       "      <td>6103115</td>\n",
       "      <td>N04</td>\n",
       "      <td>2020-04-01</td>\n",
       "      <td>Servicio principal</td>\n",
       "      <td>2020-01-25</td>\n",
       "      <td>20</td>\n",
       "      <td>939</td>\n",
       "    </tr>\n",
       "    <tr>\n",
       "      <th>...</th>\n",
       "      <td>...</td>\n",
       "      <td>...</td>\n",
       "      <td>...</td>\n",
       "      <td>...</td>\n",
       "      <td>...</td>\n",
       "      <td>...</td>\n",
       "      <td>...</td>\n",
       "      <td>...</td>\n",
       "      <td>...</td>\n",
       "    </tr>\n",
       "    <tr>\n",
       "      <th>13580</th>\n",
       "      <td>005 4804400046UNPBUN001</td>\n",
       "      <td>005 4804400046</td>\n",
       "      <td>75816</td>\n",
       "      <td>N06</td>\n",
       "      <td>2020-03-01</td>\n",
       "      <td>Servicio principal</td>\n",
       "      <td>2020-03-14</td>\n",
       "      <td>48</td>\n",
       "      <td>647</td>\n",
       "    </tr>\n",
       "    <tr>\n",
       "      <th>13581</th>\n",
       "      <td>005 0103601575UN020C0UN</td>\n",
       "      <td>005 0103601575</td>\n",
       "      <td>6109233</td>\n",
       "      <td>N01</td>\n",
       "      <td>2020-02-01</td>\n",
       "      <td>Servicio sin cuota</td>\n",
       "      <td>2020-02-06</td>\n",
       "      <td>01</td>\n",
       "      <td>715</td>\n",
       "    </tr>\n",
       "    <tr>\n",
       "      <th>13582</th>\n",
       "      <td>001 2004501209UNUNUNPOR</td>\n",
       "      <td>001 2004501209</td>\n",
       "      <td>2239094</td>\n",
       "      <td>N06</td>\n",
       "      <td>2020-03-01</td>\n",
       "      <td>Servicio principal</td>\n",
       "      <td>2020-03-24</td>\n",
       "      <td>20</td>\n",
       "      <td>852</td>\n",
       "    </tr>\n",
       "    <tr>\n",
       "      <th>13583</th>\n",
       "      <td>001 4802009095UN050C0UN</td>\n",
       "      <td>001 4802009095</td>\n",
       "      <td>6119594</td>\n",
       "      <td>N01</td>\n",
       "      <td>2020-05-01</td>\n",
       "      <td>Servicio principal</td>\n",
       "      <td>2020-03-07</td>\n",
       "      <td>48</td>\n",
       "      <td>734</td>\n",
       "    </tr>\n",
       "    <tr>\n",
       "      <th>13584</th>\n",
       "      <td>011 3120101590UN070C0UN</td>\n",
       "      <td>011 3120101590</td>\n",
       "      <td>6111352</td>\n",
       "      <td>N06</td>\n",
       "      <td>2020-05-01</td>\n",
       "      <td>Servicio principal</td>\n",
       "      <td>2020-02-16</td>\n",
       "      <td>31</td>\n",
       "      <td>578</td>\n",
       "    </tr>\n",
       "  </tbody>\n",
       "</table>\n",
       "<p>13585 rows × 9 columns</p>\n",
       "</div>"
      ],
      "text/plain": [
       "                   CatastroMax  CPReferenciado  IdCliente Producto      Fecha  \\\n",
       "0      087 2000501120UN02UN0UN  087 2000501120    6105422      N01 2020-05-01   \n",
       "1      033 2006900750UN040B0UN  033 2006900750    6125687      N01 2020-04-01   \n",
       "2      008 0105902010UN060C0UN  008 0105902010    6098841      N06 2020-02-01   \n",
       "3      002 4802008896UN040C0UN  002 4802008896    6115427      N06 2020-04-01   \n",
       "4      010 2007902403UN03CN0UN  010 2007902403    6103115      N04 2020-04-01   \n",
       "...                        ...             ...        ...      ...        ...   \n",
       "13580  005 4804400046UNPBUN001  005 4804400046      75816      N06 2020-03-01   \n",
       "13581  005 0103601575UN020C0UN  005 0103601575    6109233      N01 2020-02-01   \n",
       "13582  001 2004501209UNUNUNPOR  001 2004501209    2239094      N06 2020-03-01   \n",
       "13583  001 4802009095UN050C0UN  001 4802009095    6119594      N01 2020-05-01   \n",
       "13584  011 3120101590UN070C0UN  011 3120101590    6111352      N06 2020-05-01   \n",
       "\n",
       "             TipoProducto AltaCliente Provincia  Facturacion  \n",
       "0      Servicio principal  2020-02-16        20          271  \n",
       "1      Servicio sin cuota  2020-03-19        20          756  \n",
       "2      Servicio principal  2020-01-11        01          577  \n",
       "3      Servicio principal  2020-02-26        48          637  \n",
       "4      Servicio principal  2020-01-25        20          939  \n",
       "...                   ...         ...       ...          ...  \n",
       "13580  Servicio principal  2020-03-14        48          647  \n",
       "13581  Servicio sin cuota  2020-02-06        01          715  \n",
       "13582  Servicio principal  2020-03-24        20          852  \n",
       "13583  Servicio principal  2020-03-07        48          734  \n",
       "13584  Servicio principal  2020-02-16        31          578  \n",
       "\n",
       "[13585 rows x 9 columns]"
      ]
     },
     "execution_count": 73,
     "metadata": {},
     "output_type": "execute_result"
    }
   ],
   "source": [
    "df"
   ]
  },
  {
   "cell_type": "code",
   "execution_count": 76,
   "metadata": {
    "id": "pG6IoLH0uFYS"
   },
   "outputs": [],
   "source": [
    "df2 = df.query('Provincia ==\"48\"')"
   ]
  },
  {
   "cell_type": "code",
   "execution_count": 77,
   "metadata": {
    "colab": {
     "base_uri": "https://localhost:8080/",
     "height": 597
    },
    "executionInfo": {
     "elapsed": 12,
     "status": "ok",
     "timestamp": 1732123551947,
     "user": {
      "displayName": "Aitor Donado",
      "userId": "08246046509718212083"
     },
     "user_tz": -60
    },
    "id": "tV3OATLjuFYS",
    "outputId": "77dcdaa5-2cbe-4570-8578-105f6c9ef359"
   },
   "outputs": [
    {
     "data": {
      "text/html": [
       "<div>\n",
       "<style scoped>\n",
       "    .dataframe tbody tr th:only-of-type {\n",
       "        vertical-align: middle;\n",
       "    }\n",
       "\n",
       "    .dataframe tbody tr th {\n",
       "        vertical-align: top;\n",
       "    }\n",
       "\n",
       "    .dataframe thead th {\n",
       "        text-align: right;\n",
       "    }\n",
       "</style>\n",
       "<table border=\"1\" class=\"dataframe\">\n",
       "  <thead>\n",
       "    <tr style=\"text-align: right;\">\n",
       "      <th></th>\n",
       "      <th>CatastroMax</th>\n",
       "      <th>CPReferenciado</th>\n",
       "      <th>IdCliente</th>\n",
       "      <th>Producto</th>\n",
       "      <th>Fecha</th>\n",
       "      <th>TipoProducto</th>\n",
       "      <th>AltaCliente</th>\n",
       "      <th>Provincia</th>\n",
       "      <th>Facturacion</th>\n",
       "    </tr>\n",
       "  </thead>\n",
       "  <tbody>\n",
       "    <tr>\n",
       "      <th>3</th>\n",
       "      <td>002 4802008896UN040C0UN</td>\n",
       "      <td>002 4802008896</td>\n",
       "      <td>6115427</td>\n",
       "      <td>N06</td>\n",
       "      <td>2020-04-01</td>\n",
       "      <td>Servicio principal</td>\n",
       "      <td>2020-02-26</td>\n",
       "      <td>48</td>\n",
       "      <td>637</td>\n",
       "    </tr>\n",
       "    <tr>\n",
       "      <th>6</th>\n",
       "      <td>078 4802004120UN07IZ0UN</td>\n",
       "      <td>078 4802004120</td>\n",
       "      <td>6100111</td>\n",
       "      <td>N04</td>\n",
       "      <td>2020-04-01</td>\n",
       "      <td>Servicio principal</td>\n",
       "      <td>2020-01-18</td>\n",
       "      <td>48</td>\n",
       "      <td>424</td>\n",
       "    </tr>\n",
       "    <tr>\n",
       "      <th>9</th>\n",
       "      <td>004 4802008720UNPBUN001</td>\n",
       "      <td>004 4802008720</td>\n",
       "      <td>6133971</td>\n",
       "      <td>N06</td>\n",
       "      <td>2020-04-01</td>\n",
       "      <td>Servicio principal</td>\n",
       "      <td>2020-04-18</td>\n",
       "      <td>48</td>\n",
       "      <td>773</td>\n",
       "    </tr>\n",
       "    <tr>\n",
       "      <th>10</th>\n",
       "      <td>026 4802003260UN080D0UN</td>\n",
       "      <td>026 4802003260</td>\n",
       "      <td>4163892</td>\n",
       "      <td>N01</td>\n",
       "      <td>2020-05-01</td>\n",
       "      <td>Servicio sin cuota</td>\n",
       "      <td>2020-01-19</td>\n",
       "      <td>48</td>\n",
       "      <td>450</td>\n",
       "    </tr>\n",
       "    <tr>\n",
       "      <th>12</th>\n",
       "      <td>008 4807800250UN040C0UN</td>\n",
       "      <td>008 4807800250</td>\n",
       "      <td>409451</td>\n",
       "      <td>N06</td>\n",
       "      <td>2020-04-01</td>\n",
       "      <td>Servicio principal</td>\n",
       "      <td>2020-04-26</td>\n",
       "      <td>48</td>\n",
       "      <td>956</td>\n",
       "    </tr>\n",
       "    <tr>\n",
       "      <th>...</th>\n",
       "      <td>...</td>\n",
       "      <td>...</td>\n",
       "      <td>...</td>\n",
       "      <td>...</td>\n",
       "      <td>...</td>\n",
       "      <td>...</td>\n",
       "      <td>...</td>\n",
       "      <td>...</td>\n",
       "      <td>...</td>\n",
       "    </tr>\n",
       "    <tr>\n",
       "      <th>13572</th>\n",
       "      <td>008 4808000092UN01IZ0UN</td>\n",
       "      <td>008 4808000092</td>\n",
       "      <td>6105510</td>\n",
       "      <td>N06</td>\n",
       "      <td>2020-02-01</td>\n",
       "      <td>Servicio principal</td>\n",
       "      <td>2020-01-30</td>\n",
       "      <td>48</td>\n",
       "      <td>848</td>\n",
       "    </tr>\n",
       "    <tr>\n",
       "      <th>13574</th>\n",
       "      <td>070 4802005015UN030B0UN</td>\n",
       "      <td>070 4802005015</td>\n",
       "      <td>6125476</td>\n",
       "      <td>N06</td>\n",
       "      <td>2020-03-01</td>\n",
       "      <td>Servicio principal</td>\n",
       "      <td>2020-03-18</td>\n",
       "      <td>48</td>\n",
       "      <td>421</td>\n",
       "    </tr>\n",
       "    <tr>\n",
       "      <th>13577</th>\n",
       "      <td>004 4890200004UN020E0UN</td>\n",
       "      <td>004 4890200004</td>\n",
       "      <td>6106187</td>\n",
       "      <td>N04</td>\n",
       "      <td>2020-03-01</td>\n",
       "      <td>Servicio principal</td>\n",
       "      <td>2020-02-06</td>\n",
       "      <td>48</td>\n",
       "      <td>138</td>\n",
       "    </tr>\n",
       "    <tr>\n",
       "      <th>13580</th>\n",
       "      <td>005 4804400046UNPBUN001</td>\n",
       "      <td>005 4804400046</td>\n",
       "      <td>75816</td>\n",
       "      <td>N06</td>\n",
       "      <td>2020-03-01</td>\n",
       "      <td>Servicio principal</td>\n",
       "      <td>2020-03-14</td>\n",
       "      <td>48</td>\n",
       "      <td>647</td>\n",
       "    </tr>\n",
       "    <tr>\n",
       "      <th>13583</th>\n",
       "      <td>001 4802009095UN050C0UN</td>\n",
       "      <td>001 4802009095</td>\n",
       "      <td>6119594</td>\n",
       "      <td>N01</td>\n",
       "      <td>2020-05-01</td>\n",
       "      <td>Servicio principal</td>\n",
       "      <td>2020-03-07</td>\n",
       "      <td>48</td>\n",
       "      <td>734</td>\n",
       "    </tr>\n",
       "  </tbody>\n",
       "</table>\n",
       "<p>5802 rows × 9 columns</p>\n",
       "</div>"
      ],
      "text/plain": [
       "                   CatastroMax  CPReferenciado  IdCliente Producto      Fecha  \\\n",
       "3      002 4802008896UN040C0UN  002 4802008896    6115427      N06 2020-04-01   \n",
       "6      078 4802004120UN07IZ0UN  078 4802004120    6100111      N04 2020-04-01   \n",
       "9      004 4802008720UNPBUN001  004 4802008720    6133971      N06 2020-04-01   \n",
       "10     026 4802003260UN080D0UN  026 4802003260    4163892      N01 2020-05-01   \n",
       "12     008 4807800250UN040C0UN  008 4807800250     409451      N06 2020-04-01   \n",
       "...                        ...             ...        ...      ...        ...   \n",
       "13572  008 4808000092UN01IZ0UN  008 4808000092    6105510      N06 2020-02-01   \n",
       "13574  070 4802005015UN030B0UN  070 4802005015    6125476      N06 2020-03-01   \n",
       "13577  004 4890200004UN020E0UN  004 4890200004    6106187      N04 2020-03-01   \n",
       "13580  005 4804400046UNPBUN001  005 4804400046      75816      N06 2020-03-01   \n",
       "13583  001 4802009095UN050C0UN  001 4802009095    6119594      N01 2020-05-01   \n",
       "\n",
       "             TipoProducto AltaCliente Provincia  Facturacion  \n",
       "3      Servicio principal  2020-02-26        48          637  \n",
       "6      Servicio principal  2020-01-18        48          424  \n",
       "9      Servicio principal  2020-04-18        48          773  \n",
       "10     Servicio sin cuota  2020-01-19        48          450  \n",
       "12     Servicio principal  2020-04-26        48          956  \n",
       "...                   ...         ...       ...          ...  \n",
       "13572  Servicio principal  2020-01-30        48          848  \n",
       "13574  Servicio principal  2020-03-18        48          421  \n",
       "13577  Servicio principal  2020-02-06        48          138  \n",
       "13580  Servicio principal  2020-03-14        48          647  \n",
       "13583  Servicio principal  2020-03-07        48          734  \n",
       "\n",
       "[5802 rows x 9 columns]"
      ]
     },
     "execution_count": 77,
     "metadata": {},
     "output_type": "execute_result"
    }
   ],
   "source": [
    "df2"
   ]
  },
  {
   "cell_type": "code",
   "execution_count": 78,
   "metadata": {
    "colab": {
     "base_uri": "https://localhost:8080/"
    },
    "executionInfo": {
     "elapsed": 1007,
     "status": "ok",
     "timestamp": 1732123647860,
     "user": {
      "displayName": "Aitor Donado",
      "userId": "08246046509718212083"
     },
     "user_tz": -60
    },
    "id": "bqezUbJC_uLE",
    "outputId": "88d0a589-88a9-4d6e-8278-59c910bc8b6f"
   },
   "outputs": [
    {
     "data": {
      "text/plain": [
       "999"
      ]
     },
     "execution_count": 78,
     "metadata": {},
     "output_type": "execute_result"
    }
   ],
   "source": [
    "df2[\"Facturacion\"].max()"
   ]
  },
  {
   "cell_type": "code",
   "execution_count": 79,
   "metadata": {
    "colab": {
     "base_uri": "https://localhost:8080/"
    },
    "executionInfo": {
     "elapsed": 2,
     "status": "ok",
     "timestamp": 1732123650957,
     "user": {
      "displayName": "Aitor Donado",
      "userId": "08246046509718212083"
     },
     "user_tz": -60
    },
    "id": "zSL35qsz_x64",
    "outputId": "8867d9b1-56c2-477e-9c4c-3ae1d57d2fb5"
   },
   "outputs": [
    {
     "data": {
      "text/plain": [
       "100"
      ]
     },
     "execution_count": 79,
     "metadata": {},
     "output_type": "execute_result"
    }
   ],
   "source": [
    "df2[\"Facturacion\"].min()"
   ]
  },
  {
   "cell_type": "code",
   "execution_count": null,
   "metadata": {},
   "outputs": [],
   "source": []
  }
 ],
 "metadata": {
  "colab": {
   "provenance": []
  },
  "kernelspec": {
   "display_name": "base",
   "language": "python",
   "name": "python3"
  },
  "language_info": {
   "codemirror_mode": {
    "name": "ipython",
    "version": 3
   },
   "file_extension": ".py",
   "mimetype": "text/x-python",
   "name": "python",
   "nbconvert_exporter": "python",
   "pygments_lexer": "ipython3",
   "version": "3.10.9"
  },
  "varInspector": {
   "cols": {
    "lenName": 16,
    "lenType": 16,
    "lenVar": 40
   },
   "kernels_config": {
    "python": {
     "delete_cmd_postfix": "",
     "delete_cmd_prefix": "del ",
     "library": "var_list.py",
     "varRefreshCmd": "print(var_dic_list())"
    },
    "r": {
     "delete_cmd_postfix": ") ",
     "delete_cmd_prefix": "rm(",
     "library": "var_list.r",
     "varRefreshCmd": "cat(var_dic_list()) "
    }
   },
   "types_to_exclude": [
    "module",
    "function",
    "builtin_function_or_method",
    "instance",
    "_Feature"
   ],
   "window_display": false
  }
 },
 "nbformat": 4,
 "nbformat_minor": 0
}
