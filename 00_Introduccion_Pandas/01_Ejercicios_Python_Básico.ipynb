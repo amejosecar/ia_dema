{
 "cells": [
  {
   "cell_type": "markdown",
   "metadata": {
    "id": "hoqcoKznoYR4"
   },
   "source": [
    "# Ejercicios de Pandas - Nivel Inicial"
   ]
  },
  {
   "cell_type": "markdown",
   "metadata": {
    "id": "ZYMkG6NXobZ0"
   },
   "source": [
    "## Ejercicio 1: Creación y manipulación de Series\n",
    "1. Crea una Serie a partir del diccionario {'Matemáticas': 9, 'Historia': 7.5, 'Física': 8.2}\n",
    "2. Accede a la nota de 'Historia' usando la notación de corchetes\n",
    "3. Crea otra Serie con las mismas materias pero diferentes notas y suma ambas Series"
   ]
  },
  {
   "cell_type": "code",
   "execution_count": 1,
   "metadata": {},
   "outputs": [],
   "source": [
    "import numpy as np\n",
    "import pandas as pd"
   ]
  },
  {
   "cell_type": "code",
   "execution_count": null,
   "metadata": {
    "id": "cp5926gUokSN"
   },
   "outputs": [],
   "source": [
    "#1. Crea una Serie a partir del diccionario {'Matemáticas': 9, 'Historia': 7.5, 'Física': 8.2}\n",
    "notas_1 = pd.Series({'Matemáticas': 9, 'Historia': 7.5, 'Física': 8.2})\n"
   ]
  },
  {
   "cell_type": "code",
   "execution_count": 3,
   "metadata": {},
   "outputs": [
    {
     "name": "stdout",
     "output_type": "stream",
     "text": [
      "Serie 1:\n",
      " Matemáticas    9.0\n",
      "Historia       7.5\n",
      "Física         8.2\n",
      "dtype: float64\n"
     ]
    }
   ],
   "source": [
    "print(\"Serie 1:\\n\", notas_1)\n"
   ]
  },
  {
   "cell_type": "code",
   "execution_count": null,
   "metadata": {},
   "outputs": [],
   "source": [
    "#2. Accede a la nota de 'Historia' usando la notación de corchetes\n",
    "nota_historia = notas_1['Historia']\n"
   ]
  },
  {
   "cell_type": "code",
   "execution_count": 5,
   "metadata": {},
   "outputs": [
    {
     "name": "stdout",
     "output_type": "stream",
     "text": [
      "\n",
      "Nota de Historia: 7.5\n"
     ]
    }
   ],
   "source": [
    "print(\"\\nNota de Historia:\", nota_historia)\n"
   ]
  },
  {
   "cell_type": "code",
   "execution_count": 7,
   "metadata": {},
   "outputs": [],
   "source": [
    "#3. Crea otra Serie con las mismas materias pero diferentes notas y suma ambas Series\n",
    "notas_2 = pd.Series({'Matemáticas': 8, 'Historia': 6.2, 'Física': 7.3})"
   ]
  },
  {
   "cell_type": "code",
   "execution_count": 8,
   "metadata": {},
   "outputs": [
    {
     "name": "stdout",
     "output_type": "stream",
     "text": [
      "Serie 2:\n",
      " Matemáticas    9.0\n",
      "Historia       7.5\n",
      "Física         8.2\n",
      "dtype: float64\n"
     ]
    }
   ],
   "source": [
    "print(\"Serie 2:\\n\", notas_1)"
   ]
  },
  {
   "cell_type": "code",
   "execution_count": 11,
   "metadata": {},
   "outputs": [],
   "source": [
    "suma_notas = notas_1 + notas_2"
   ]
  },
  {
   "cell_type": "code",
   "execution_count": 13,
   "metadata": {},
   "outputs": [
    {
     "name": "stdout",
     "output_type": "stream",
     "text": [
      "Serie notas1:\n",
      " Matemáticas    9.0\n",
      "Historia       7.5\n",
      "Física         8.2\n",
      "dtype: float64\n",
      "\n",
      "Serie notas2:\n",
      " Matemáticas    8.0\n",
      "Historia       6.2\n",
      "Física         7.3\n",
      "dtype: float64\n",
      "\n",
      "Suma notas:\n",
      " Matemáticas    17.0\n",
      "Historia       13.7\n",
      "Física         15.5\n",
      "dtype: float64\n"
     ]
    }
   ],
   "source": [
    "print(\"Serie notas1:\\n\", notas_1) \n",
    "print()\n",
    "print(\"Serie notas2:\\n\", notas_2)\n",
    "print()\n",
    "print(\"Suma notas:\\n\", suma_notas)"
   ]
  },
  {
   "cell_type": "markdown",
   "metadata": {
    "id": "rlu9yHX3o_sZ"
   },
   "source": [
    "## Ejercicio 2: Operaciones básicas con DataFrames\n",
    "Dado el siguiente DataFrame:"
   ]
  },
  {
   "cell_type": "code",
   "execution_count": 14,
   "metadata": {
    "id": "y2JA-iCkp4zX"
   },
   "outputs": [],
   "source": [
    "df = pd.DataFrame({\n",
    "    'Producto': ['Manzana', 'Pera', 'Plátano'],\n",
    "    'Precio': [1.2, 1.5, 0.8],\n",
    "    'Stock': [45, 32, 67]\n",
    "})"
   ]
  },
  {
   "cell_type": "code",
   "execution_count": 15,
   "metadata": {},
   "outputs": [
    {
     "data": {
      "text/html": [
       "<div>\n",
       "<style scoped>\n",
       "    .dataframe tbody tr th:only-of-type {\n",
       "        vertical-align: middle;\n",
       "    }\n",
       "\n",
       "    .dataframe tbody tr th {\n",
       "        vertical-align: top;\n",
       "    }\n",
       "\n",
       "    .dataframe thead th {\n",
       "        text-align: right;\n",
       "    }\n",
       "</style>\n",
       "<table border=\"1\" class=\"dataframe\">\n",
       "  <thead>\n",
       "    <tr style=\"text-align: right;\">\n",
       "      <th></th>\n",
       "      <th>Producto</th>\n",
       "      <th>Precio</th>\n",
       "      <th>Stock</th>\n",
       "    </tr>\n",
       "  </thead>\n",
       "  <tbody>\n",
       "    <tr>\n",
       "      <th>0</th>\n",
       "      <td>Manzana</td>\n",
       "      <td>1.2</td>\n",
       "      <td>45</td>\n",
       "    </tr>\n",
       "    <tr>\n",
       "      <th>1</th>\n",
       "      <td>Pera</td>\n",
       "      <td>1.5</td>\n",
       "      <td>32</td>\n",
       "    </tr>\n",
       "    <tr>\n",
       "      <th>2</th>\n",
       "      <td>Plátano</td>\n",
       "      <td>0.8</td>\n",
       "      <td>67</td>\n",
       "    </tr>\n",
       "  </tbody>\n",
       "</table>\n",
       "</div>"
      ],
      "text/plain": [
       "  Producto  Precio  Stock\n",
       "0  Manzana     1.2     45\n",
       "1     Pera     1.5     32\n",
       "2  Plátano     0.8     67"
      ]
     },
     "execution_count": 15,
     "metadata": {},
     "output_type": "execute_result"
    }
   ],
   "source": [
    "df"
   ]
  },
  {
   "cell_type": "markdown",
   "metadata": {
    "id": "D065yGIip34E"
   },
   "source": [
    "\n",
    "1. Muestra solo la columna 'Precio'\n",
    "2. Filtra los productos con precio mayor a 1.0\n",
    "3. Añade una nueva columna 'Valor_total' que sea Precio * Stock"
   ]
  },
  {
   "cell_type": "code",
   "execution_count": 24,
   "metadata": {
    "id": "cONflLPUqDa0"
   },
   "outputs": [
    {
     "data": {
      "text/plain": [
       "0    1.2\n",
       "1    1.5\n",
       "2    0.8\n",
       "Name: Precio, dtype: float64"
      ]
     },
     "execution_count": 24,
     "metadata": {},
     "output_type": "execute_result"
    }
   ],
   "source": [
    "#1. Muestra solo la columna 'Precio'\n",
    "df['Precio']"
   ]
  },
  {
   "cell_type": "code",
   "execution_count": 25,
   "metadata": {},
   "outputs": [
    {
     "data": {
      "text/html": [
       "<div>\n",
       "<style scoped>\n",
       "    .dataframe tbody tr th:only-of-type {\n",
       "        vertical-align: middle;\n",
       "    }\n",
       "\n",
       "    .dataframe tbody tr th {\n",
       "        vertical-align: top;\n",
       "    }\n",
       "\n",
       "    .dataframe thead th {\n",
       "        text-align: right;\n",
       "    }\n",
       "</style>\n",
       "<table border=\"1\" class=\"dataframe\">\n",
       "  <thead>\n",
       "    <tr style=\"text-align: right;\">\n",
       "      <th></th>\n",
       "      <th>Producto</th>\n",
       "      <th>Precio</th>\n",
       "      <th>Stock</th>\n",
       "    </tr>\n",
       "  </thead>\n",
       "  <tbody>\n",
       "    <tr>\n",
       "      <th>0</th>\n",
       "      <td>Manzana</td>\n",
       "      <td>1.2</td>\n",
       "      <td>45</td>\n",
       "    </tr>\n",
       "    <tr>\n",
       "      <th>1</th>\n",
       "      <td>Pera</td>\n",
       "      <td>1.5</td>\n",
       "      <td>32</td>\n",
       "    </tr>\n",
       "  </tbody>\n",
       "</table>\n",
       "</div>"
      ],
      "text/plain": [
       "  Producto  Precio  Stock\n",
       "0  Manzana     1.2     45\n",
       "1     Pera     1.5     32"
      ]
     },
     "execution_count": 25,
     "metadata": {},
     "output_type": "execute_result"
    }
   ],
   "source": [
    "#2. Filtra los productos con precio mayor a 1.0\n",
    "df[df['Precio'] > 1.0]"
   ]
  },
  {
   "cell_type": "code",
   "execution_count": 26,
   "metadata": {},
   "outputs": [],
   "source": [
    "#3. Añade una nueva columna 'Valor_total' que sea Precio * Stock\n",
    "df['Valor_total'] = df['Precio'] * df['Stock']"
   ]
  },
  {
   "cell_type": "code",
   "execution_count": 27,
   "metadata": {},
   "outputs": [
    {
     "data": {
      "text/html": [
       "<div>\n",
       "<style scoped>\n",
       "    .dataframe tbody tr th:only-of-type {\n",
       "        vertical-align: middle;\n",
       "    }\n",
       "\n",
       "    .dataframe tbody tr th {\n",
       "        vertical-align: top;\n",
       "    }\n",
       "\n",
       "    .dataframe thead th {\n",
       "        text-align: right;\n",
       "    }\n",
       "</style>\n",
       "<table border=\"1\" class=\"dataframe\">\n",
       "  <thead>\n",
       "    <tr style=\"text-align: right;\">\n",
       "      <th></th>\n",
       "      <th>Producto</th>\n",
       "      <th>Precio</th>\n",
       "      <th>Stock</th>\n",
       "      <th>Valor_total</th>\n",
       "    </tr>\n",
       "  </thead>\n",
       "  <tbody>\n",
       "    <tr>\n",
       "      <th>0</th>\n",
       "      <td>Manzana</td>\n",
       "      <td>1.2</td>\n",
       "      <td>45</td>\n",
       "      <td>54.0</td>\n",
       "    </tr>\n",
       "    <tr>\n",
       "      <th>1</th>\n",
       "      <td>Pera</td>\n",
       "      <td>1.5</td>\n",
       "      <td>32</td>\n",
       "      <td>48.0</td>\n",
       "    </tr>\n",
       "    <tr>\n",
       "      <th>2</th>\n",
       "      <td>Plátano</td>\n",
       "      <td>0.8</td>\n",
       "      <td>67</td>\n",
       "      <td>53.6</td>\n",
       "    </tr>\n",
       "  </tbody>\n",
       "</table>\n",
       "</div>"
      ],
      "text/plain": [
       "  Producto  Precio  Stock  Valor_total\n",
       "0  Manzana     1.2     45         54.0\n",
       "1     Pera     1.5     32         48.0\n",
       "2  Plátano     0.8     67         53.6"
      ]
     },
     "execution_count": 27,
     "metadata": {},
     "output_type": "execute_result"
    }
   ],
   "source": [
    "df"
   ]
  },
  {
   "cell_type": "markdown",
   "metadata": {
    "id": "3W-ZmEw4pq1X"
   },
   "source": [
    "## Ejercicio 3: Selección de datos\n",
    "Usando el DataFrame del ejercicio 2:\n",
    "1. Selecciona la fila del 'Plátano' usando loc\n",
    "2. Selecciona el precio de la 'Pera' usando iloc\n",
    "3. Muestra solo las columnas 'Producto' y 'Stock' para todos los productos"
   ]
  },
  {
   "cell_type": "code",
   "execution_count": 33,
   "metadata": {},
   "outputs": [
    {
     "name": "stdout",
     "output_type": "stream",
     "text": [
      "\n",
      "Fila del Plátano:\n",
      "   Producto  Precio  Stock  Valor_total\n",
      "2  Plátano     0.8     67         53.6\n"
     ]
    }
   ],
   "source": [
    "#1. Selecciona la fila del 'Plátano' usando loc\n",
    "\n",
    "fila_platano = df.loc[df['Producto'] == 'Plátano']\n",
    "print(\"\\nFila del Plátano:\\n\", fila_platano)\n"
   ]
  },
  {
   "cell_type": "code",
   "execution_count": 34,
   "metadata": {},
   "outputs": [
    {
     "name": "stdout",
     "output_type": "stream",
     "text": [
      "\n",
      "Precio de la Pera: 1.5\n"
     ]
    }
   ],
   "source": [
    "# 2. Selecciona el precio de la 'Pera' usando iloc\n",
    "fila_pera_precio = df.iloc[1]['Precio']\n",
    "print(\"\\nPrecio de la Pera:\", fila_pera_precio)\n"
   ]
  },
  {
   "cell_type": "code",
   "execution_count": 35,
   "metadata": {},
   "outputs": [
    {
     "name": "stdout",
     "output_type": "stream",
     "text": [
      "\n",
      "Productos y Stock:\n",
      "   Producto  Stock\n",
      "0  Manzana     45\n",
      "1     Pera     32\n",
      "2  Plátano     67\n"
     ]
    }
   ],
   "source": [
    "#3. Muestra solo las columnas 'Producto' y 'Stock' para todos los productos\n",
    "productos_stock = df[['Producto', 'Stock']]\n",
    "print(\"\\nProductos y Stock:\\n\", productos_stock)\n"
   ]
  },
  {
   "cell_type": "markdown",
   "metadata": {
    "id": "BjLbxM59ptmP"
   },
   "source": [
    "## Ejercicio 4: Valores faltantes\n",
    "Dado este DataFrame:"
   ]
  },
  {
   "cell_type": "code",
   "execution_count": 37,
   "metadata": {
    "id": "IoQtiXy_qJnS"
   },
   "outputs": [],
   "source": [
    "df=pd.DataFrame({\n",
    "'A':[1,np.nan,3,4],\n",
    "'B':[5,6,np.nan,8],\n",
    "'C':[9,10,11,12]\n",
    "})"
   ]
  },
  {
   "cell_type": "code",
   "execution_count": 38,
   "metadata": {},
   "outputs": [
    {
     "data": {
      "text/html": [
       "<div>\n",
       "<style scoped>\n",
       "    .dataframe tbody tr th:only-of-type {\n",
       "        vertical-align: middle;\n",
       "    }\n",
       "\n",
       "    .dataframe tbody tr th {\n",
       "        vertical-align: top;\n",
       "    }\n",
       "\n",
       "    .dataframe thead th {\n",
       "        text-align: right;\n",
       "    }\n",
       "</style>\n",
       "<table border=\"1\" class=\"dataframe\">\n",
       "  <thead>\n",
       "    <tr style=\"text-align: right;\">\n",
       "      <th></th>\n",
       "      <th>A</th>\n",
       "      <th>B</th>\n",
       "      <th>C</th>\n",
       "    </tr>\n",
       "  </thead>\n",
       "  <tbody>\n",
       "    <tr>\n",
       "      <th>0</th>\n",
       "      <td>1.0</td>\n",
       "      <td>5.0</td>\n",
       "      <td>9</td>\n",
       "    </tr>\n",
       "    <tr>\n",
       "      <th>1</th>\n",
       "      <td>NaN</td>\n",
       "      <td>6.0</td>\n",
       "      <td>10</td>\n",
       "    </tr>\n",
       "    <tr>\n",
       "      <th>2</th>\n",
       "      <td>3.0</td>\n",
       "      <td>NaN</td>\n",
       "      <td>11</td>\n",
       "    </tr>\n",
       "    <tr>\n",
       "      <th>3</th>\n",
       "      <td>4.0</td>\n",
       "      <td>8.0</td>\n",
       "      <td>12</td>\n",
       "    </tr>\n",
       "  </tbody>\n",
       "</table>\n",
       "</div>"
      ],
      "text/plain": [
       "     A    B   C\n",
       "0  1.0  5.0   9\n",
       "1  NaN  6.0  10\n",
       "2  3.0  NaN  11\n",
       "3  4.0  8.0  12"
      ]
     },
     "execution_count": 38,
     "metadata": {},
     "output_type": "execute_result"
    }
   ],
   "source": [
    "df"
   ]
  },
  {
   "cell_type": "markdown",
   "metadata": {
    "id": "4Yz4bFUcqJAO"
   },
   "source": [
    "1. Elimina las filas que contengan algún NaN\n",
    "2. Rellena los NaN de la columna 'A' con su valor medio\n",
    "3. Rellena los NaN de la columna 'B' con el valor máximo de esa columna"
   ]
  },
  {
   "cell_type": "code",
   "execution_count": 39,
   "metadata": {
    "id": "QR6cKBH_qOBi"
   },
   "outputs": [
    {
     "name": "stdout",
     "output_type": "stream",
     "text": [
      "\n",
      "DataFrame sin NaN:\n",
      "      A    B   C\n",
      "0  1.0  5.0   9\n",
      "3  4.0  8.0  12\n"
     ]
    }
   ],
   "source": [
    "#1. Elimina las filas que contengan algún NaN\n",
    "df_sin_nan = df.dropna()\n",
    "print(\"\\nDataFrame sin NaN:\\n\", df_sin_nan)"
   ]
  },
  {
   "cell_type": "code",
   "execution_count": 42,
   "metadata": {},
   "outputs": [
    {
     "name": "stdout",
     "output_type": "stream",
     "text": [
      "\n",
      "Media de la columna 'A': 2.6666666666666665\n"
     ]
    }
   ],
   "source": [
    "#2. Rellena los NaN de la columna 'A' con su valor medio\n",
    "\n",
    "#calcular la media de la columna 'A'\n",
    "media_A = df['A'].mean()\n",
    "print(\"\\nMedia de la columna 'A':\", media_A) \n"
   ]
  },
  {
   "cell_type": "code",
   "execution_count": 43,
   "metadata": {},
   "outputs": [
    {
     "name": "stdout",
     "output_type": "stream",
     "text": [
      "\n",
      "Columna 'A' con NaN rellenados con la media:\n",
      " 0    1.000000\n",
      "1    2.666667\n",
      "2    3.000000\n",
      "3    4.000000\n",
      "Name: A, dtype: float64\n"
     ]
    }
   ],
   "source": [
    "#3. Rellena los NaN de la columna 'A' con su valor medio\n",
    "df['A'] = df['A'].fillna(media_A)\n",
    "print(\"\\nColumna 'A' con NaN rellenados con la media:\\n\", df['A'])\n"
   ]
  },
  {
   "cell_type": "code",
   "execution_count": 44,
   "metadata": {},
   "outputs": [
    {
     "name": "stdout",
     "output_type": "stream",
     "text": [
      "\n",
      "Valor máximo de la columna 'B': 8.0\n"
     ]
    }
   ],
   "source": [
    "#3. Rellena los NaN de la columna 'B' con el valor máximo de esa columna\n",
    "max_B = df['B'].max()\n",
    "print(\"\\nValor máximo de la columna 'B':\", max_B)"
   ]
  },
  {
   "cell_type": "code",
   "execution_count": 45,
   "metadata": {},
   "outputs": [
    {
     "name": "stdout",
     "output_type": "stream",
     "text": [
      "\n",
      "Columna 'B' con NaN rellenados con el máximo:\n",
      " 0    5.0\n",
      "1    6.0\n",
      "2    8.0\n",
      "3    8.0\n",
      "Name: B, dtype: float64\n"
     ]
    }
   ],
   "source": [
    "df['B'] = df['B'].fillna(max_B)\n",
    "print(\"\\nColumna 'B' con NaN rellenados con el máximo:\\n\", df['B'])"
   ]
  },
  {
   "cell_type": "code",
   "execution_count": 47,
   "metadata": {},
   "outputs": [
    {
     "data": {
      "text/html": [
       "<div>\n",
       "<style scoped>\n",
       "    .dataframe tbody tr th:only-of-type {\n",
       "        vertical-align: middle;\n",
       "    }\n",
       "\n",
       "    .dataframe tbody tr th {\n",
       "        vertical-align: top;\n",
       "    }\n",
       "\n",
       "    .dataframe thead th {\n",
       "        text-align: right;\n",
       "    }\n",
       "</style>\n",
       "<table border=\"1\" class=\"dataframe\">\n",
       "  <thead>\n",
       "    <tr style=\"text-align: right;\">\n",
       "      <th></th>\n",
       "      <th>A</th>\n",
       "      <th>B</th>\n",
       "      <th>C</th>\n",
       "    </tr>\n",
       "  </thead>\n",
       "  <tbody>\n",
       "    <tr>\n",
       "      <th>0</th>\n",
       "      <td>1.000000</td>\n",
       "      <td>5.0</td>\n",
       "      <td>9</td>\n",
       "    </tr>\n",
       "    <tr>\n",
       "      <th>1</th>\n",
       "      <td>2.666667</td>\n",
       "      <td>6.0</td>\n",
       "      <td>10</td>\n",
       "    </tr>\n",
       "    <tr>\n",
       "      <th>2</th>\n",
       "      <td>3.000000</td>\n",
       "      <td>8.0</td>\n",
       "      <td>11</td>\n",
       "    </tr>\n",
       "    <tr>\n",
       "      <th>3</th>\n",
       "      <td>4.000000</td>\n",
       "      <td>8.0</td>\n",
       "      <td>12</td>\n",
       "    </tr>\n",
       "  </tbody>\n",
       "</table>\n",
       "</div>"
      ],
      "text/plain": [
       "          A    B   C\n",
       "0  1.000000  5.0   9\n",
       "1  2.666667  6.0  10\n",
       "2  3.000000  8.0  11\n",
       "3  4.000000  8.0  12"
      ]
     },
     "execution_count": 47,
     "metadata": {},
     "output_type": "execute_result"
    }
   ],
   "source": [
    "df"
   ]
  },
  {
   "cell_type": "markdown",
   "metadata": {
    "id": "hcJGii8qpjLl"
   },
   "source": [
    "## Ejercicio 5: Índices\n",
    "1. Crea un DataFrame con datos aleatorios (3x3) y los índices ['X', 'Y', 'Z']\n",
    "2. Resetea el índice y muestra el resultado\n",
    "3. Vuelve a establecer la columna de índice como índice principal"
   ]
  },
  {
   "cell_type": "code",
   "execution_count": 48,
   "metadata": {
    "id": "f6JHzH_hqO8S"
   },
   "outputs": [
    {
     "name": "stdout",
     "output_type": "stream",
     "text": [
      "\n",
      "DataFrame aleatorio:\n",
      "           A         B         C\n",
      "X  0.367406  0.055261  0.304115\n",
      "Y  0.047365  0.932662  0.641097\n",
      "Z  0.856042  0.342571  0.611421\n"
     ]
    }
   ],
   "source": [
    "#1. Crea un DataFrame con datos aleatorios (3x3) y los índices ['X', 'Y', 'Z']\n",
    "datos_aleatorios = np.random.rand(3, 3)\n",
    "df_aleatorio = pd.DataFrame(datos_aleatorios, index=['X', 'Y', 'Z'], columns=['A', 'B', 'C'])\n",
    "print(\"\\nDataFrame aleatorio:\\n\", df_aleatorio)"
   ]
  },
  {
   "cell_type": "code",
   "execution_count": 49,
   "metadata": {},
   "outputs": [
    {
     "name": "stdout",
     "output_type": "stream",
     "text": [
      "\n",
      "DataFrame con índice reseteado:\n",
      "   index         A         B         C\n",
      "0     X  0.367406  0.055261  0.304115\n",
      "1     Y  0.047365  0.932662  0.641097\n",
      "2     Z  0.856042  0.342571  0.611421\n"
     ]
    }
   ],
   "source": [
    "#2. Resetea el índice y muestra el resultado\n",
    "df_aleatorio_reset = df_aleatorio.reset_index()\n",
    "print(\"\\nDataFrame con índice reseteado:\\n\", df_aleatorio_reset)"
   ]
  },
  {
   "cell_type": "code",
   "execution_count": 51,
   "metadata": {},
   "outputs": [
    {
     "name": "stdout",
     "output_type": "stream",
     "text": [
      "\n",
      "DataFrame con índice principal restablecido:\n",
      "               A         B         C\n",
      "index                              \n",
      "X      0.367406  0.055261  0.304115\n",
      "Y      0.047365  0.932662  0.641097\n",
      "Z      0.856042  0.342571  0.611421\n"
     ]
    }
   ],
   "source": [
    "#3. Vuelve a establecer la columna de índice como índice principal\n",
    "df_aleatorio_final = df_aleatorio_reset.set_index('index')\n",
    "print(\"\\nDataFrame con índice principal restablecido:\\n\", df_aleatorio_final)"
   ]
  },
  {
   "cell_type": "markdown",
   "metadata": {
    "id": "CQ16M3y5pfAo"
   },
   "source": [
    "## Ejercicio 6: Filtrado condicional\n",
    "Dado este DataFrame"
   ]
  },
  {
   "cell_type": "code",
   "execution_count": 57,
   "metadata": {
    "id": "Ps7oP_YhpTQO"
   },
   "outputs": [],
   "source": [
    "datos = {\n",
    "    'Nombre': ['Ana', 'Juan', 'Sofía', 'Carlos'],\n",
    "    'Edad': [25, 32, 28, 40],\n",
    "    'Ciudad': ['Madrid', 'Barcelona', 'Madrid', 'Valencia']\n",
    "}\n",
    "df_personas = pd.DataFrame(datos)"
   ]
  },
  {
   "cell_type": "code",
   "execution_count": 58,
   "metadata": {},
   "outputs": [
    {
     "name": "stdout",
     "output_type": "stream",
     "text": [
      "\n",
      "DataFrame de personas:\n",
      "    Nombre  Edad     Ciudad\n",
      "0     Ana    25     Madrid\n",
      "1    Juan    32  Barcelona\n",
      "2   Sofía    28     Madrid\n",
      "3  Carlos    40   Valencia\n"
     ]
    }
   ],
   "source": [
    "print(\"\\nDataFrame de personas:\\n\", df_personas)"
   ]
  },
  {
   "cell_type": "markdown",
   "metadata": {
    "id": "yIq3w4OQpOud"
   },
   "source": [
    "1. Filtra las personas que viven en 'Madrid'\n",
    "2. Muestra los nombres de las personas mayores de 30 años\n",
    "3. Crea un filtro combinado: personas de Madrid mayores de 26 años"
   ]
  },
  {
   "cell_type": "code",
   "execution_count": 61,
   "metadata": {
    "id": "OkvYvwyFqRza"
   },
   "outputs": [
    {
     "name": "stdout",
     "output_type": "stream",
     "text": [
      "\n",
      "Personas que viven en Madrid:\n",
      "   Nombre  Edad  Ciudad\n",
      "0    Ana    25  Madrid\n",
      "2  Sofía    28  Madrid\n"
     ]
    }
   ],
   "source": [
    "#1. Filtra las personas que viven en 'Madrid'\n",
    "madrid_personas = df_personas[df_personas['Ciudad'] == 'Madrid']\n",
    "print(\"\\nPersonas que viven en Madrid:\\n\", madrid_personas)"
   ]
  },
  {
   "cell_type": "code",
   "execution_count": 68,
   "metadata": {},
   "outputs": [
    {
     "name": "stdout",
     "output_type": "stream",
     "text": [
      "\n",
      "Nombres de personas mayores de 30 años:\n",
      "    Nombre  Edad\n",
      "1    Juan    32\n",
      "3  Carlos    40\n"
     ]
    }
   ],
   "source": [
    "#2. Muestra los nombres de las personas mayores de 30 años\n",
    "ano_mayores_30 = df_personas[df_personas['Edad'] > 30][['Nombre', 'Edad']]\n",
    "print(\"\\nNombres de personas mayores de 30 años:\\n\", ano_mayores_30)"
   ]
  },
  {
   "cell_type": "code",
   "execution_count": 67,
   "metadata": {},
   "outputs": [
    {
     "name": "stdout",
     "output_type": "stream",
     "text": [
      "\n",
      "Personas de Madrid mayores de 26 años:\n",
      "   Nombre  Edad  Ciudad\n",
      "2  Sofía    28  Madrid\n"
     ]
    }
   ],
   "source": [
    "#3. Crea un filtro combinado: personas de Madrid mayores de 26 años\n",
    "filtro_madrid_mayores_26 = df_personas[(df_personas['Ciudad'] == 'Madrid') & (df_personas['Edad'] > 26)]\n",
    "print(\"\\nPersonas de Madrid mayores de 26 años:\\n\", filtro_madrid_mayores_26)"
   ]
  },
  {
   "cell_type": "code",
   "execution_count": null,
   "metadata": {},
   "outputs": [],
   "source": []
  }
 ],
 "metadata": {
  "colab": {
   "authorship_tag": "ABX9TyM/+XstxkRzN+zqde2RvY50",
   "provenance": []
  },
  "kernelspec": {
   "display_name": "base",
   "language": "python",
   "name": "python3"
  },
  "language_info": {
   "codemirror_mode": {
    "name": "ipython",
    "version": 3
   },
   "file_extension": ".py",
   "mimetype": "text/x-python",
   "name": "python",
   "nbconvert_exporter": "python",
   "pygments_lexer": "ipython3",
   "version": "3.10.9"
  }
 },
 "nbformat": 4,
 "nbformat_minor": 0
}
