{
 "cells": [
  {
   "cell_type": "markdown",
   "metadata": {
    "id": "TIuAbJR0apgn"
   },
   "source": [
    "# Fechas"
   ]
  },
  {
   "cell_type": "markdown",
   "metadata": {
    "id": "3Mjl4r0KamTK"
   },
   "source": [
    "Establecemos el directorio de trabajo"
   ]
  },
  {
   "cell_type": "markdown",
   "metadata": {
    "id": "zJ7I61P-aJFj"
   },
   "source": [
    "# Formatos\n",
    "* %a\tNombre local abreviado de día de semana\n",
    "* %A\tNombre local completo de día de semana\n",
    "* %b\tNombre local abreviado de mes\n",
    "* %B\tNombre local completo de mes\n",
    "* %c\tRepresentación local de fecha y hora\n",
    "* %d\tDía de mes\n",
    "* %H\tHora (horario 24 horas)\n",
    "* %I\tHora (horario 12 horas)\n",
    "* %j\tNúmero de día del año\n",
    "* %m\tMes\n",
    "* %M\tMinuto\n",
    "* %p\tEtiqueta AM o PM\n",
    "* %S\tSegundo\n",
    "* %U\tNº semana del año. Se considera al Domingo como primer día de semana\n",
    "* %w\tEstablece el primer día de semana [0(Domingo),1(Lunes)... 6].\n",
    "* %W\tNº semana del año (Se considera al Lunes como primer día de semana)\n",
    "* %x\tFecha local\n",
    "* %X\tHora local\n",
    "* %y\tAño en formato corto\n",
    "* %Y\tAño en formato largo\n",
    "* %Z\tNombre de Zona Horaria\n",
    "\n"
   ]
  }
 ],
 "metadata": {
  "colab": {
   "authorship_tag": "ABX9TyN3gxiC/1gjt7DTZ5qlkC4s",
   "provenance": [],
   "toc_visible": true
  },
  "kernelspec": {
   "display_name": "base",
   "language": "python",
   "name": "python3"
  },
  "language_info": {
   "codemirror_mode": {
    "name": "ipython",
    "version": 3
   },
   "file_extension": ".py",
   "mimetype": "text/x-python",
   "name": "python",
   "nbconvert_exporter": "python",
   "pygments_lexer": "ipython3",
   "version": "3.10.9"
  }
 },
 "nbformat": 4,
 "nbformat_minor": 0
}
