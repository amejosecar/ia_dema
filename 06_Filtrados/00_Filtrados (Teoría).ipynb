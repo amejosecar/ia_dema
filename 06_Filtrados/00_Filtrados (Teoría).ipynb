{
 "cells": [
  {
   "cell_type": "code",
   "execution_count": 5,
   "metadata": {
    "executionInfo": {
     "elapsed": 3,
     "status": "ok",
     "timestamp": 1747561629438,
     "user": {
      "displayName": "Aitor Donado",
      "userId": "08246046509718212083"
     },
     "user_tz": -120
    },
    "id": "qK-21EKtOZ98"
   },
   "outputs": [],
   "source": [
    "import pandas as pd"
   ]
  },
  {
   "cell_type": "markdown",
   "metadata": {
    "id": "8IZUuKyJzKQ1"
   },
   "source": [
    "# Creamos dos datasets en los que se repiten filas o columnas"
   ]
  },
  {
   "cell_type": "code",
   "execution_count": 6,
   "metadata": {
    "executionInfo": {
     "elapsed": 11,
     "status": "ok",
     "timestamp": 1747561629448,
     "user": {
      "displayName": "Aitor Donado",
      "userId": "08246046509718212083"
     },
     "user_tz": -120
    },
    "id": "I0rtBct5OUfs"
   },
   "outputs": [],
   "source": [
    "biblioteca = pd.DataFrame(\n",
    "    {\"DNI\": [\"12345678L\", \"45454123I\", \"85957515J\", \"77777777K\", \"58224564J\"],\n",
    "     \"Nombre\": [\"Aitor\", \"María\", \"Gregorio\", \"David\", \"Vanesa\"],\n",
    "     \"Apellidos\": [\"Donado Urquizu\", \"Díaz García\", \"Gómez Gómez\", \"López Suárez\", \"Sánchez Pérez\"],\n",
    "     \"Teléfono\": [\"645454545\", \"612121212\", \"652525252\", \"685858585\", \"677555999\"],\n",
    "     \"Género\": [\"Espionaje\", \"Romántico\", \"Bricolaje\", \"Historia\", \"Filosofía\"],\n",
    "     \"Calle\": [\"Iturribide\", \"María Díaz de Haro\", \"Zabalbide\", \"Larraskitu\", \"Blas de Otero\"],\n",
    "     \"Zona\": [\"Santutxu\", \"Indautxu\", \"Santutxu\", \"Recalde\", \"Deusto\"],\n",
    "     \"Inscripción\": [\"12/12/2024\", \"10/2/2025\", \"12/7/1955\", \"7/5/2023\", \"19/8/2024\"],\n",
    "     \"Nacimiento\": [\"15/01/1977\", \"12/05/1994\", \"3/3/1993\", \"3/3/2000\", \"7/12/1995\"]}\n",
    ")"
   ]
  },
  {
   "cell_type": "code",
   "execution_count": 7,
   "metadata": {
    "executionInfo": {
     "elapsed": 5,
     "status": "ok",
     "timestamp": 1747561629453,
     "user": {
      "displayName": "Aitor Donado",
      "userId": "08246046509718212083"
     },
     "user_tz": -120
    },
    "id": "iGHfB0HoTHxS"
   },
   "outputs": [],
   "source": [
    "piscinas = pd.DataFrame(\n",
    "    {\"DNI\": [\"12345678L\", \"45454123I\", \"77777777K\", \"13131313G\", \"58224564J\"],\n",
    "     \"Nombre\": [\"Aitor\", \"María\", \"David\", \"Evaristo\", \"Vanesa\"],\n",
    "     \"Apellidos\": [\"Donado Urquizu\", \"Díaz García\", \"López Suárez\", \"González Sanz\", \"Sánchez Pérez\"],\n",
    "     \"email\": [\"aitor.donado@gmail.com\", \"maria_dg@hotmail.com\", \"DDG@garcia.es\", \"elreydelabaraja@gmail.com\", \"la_vane95@outlook.es\"],\n",
    "     \"Teléfono\": [\"645454545\", \"612121212\", \"685858585\", \"612345678\", \"677555999\"],\n",
    "     \"Tiempos_largo\": [1.0, 0.9, 0.7, 1.2, 1.1],\n",
    "     \"Zona\": [\"Santutxu\", \"Indautxu\", \"Recalde\", \"Recalde\", \"Deusto\"],\n",
    "     \"Inscripción\": [\"25/2/2025\", \"13/2/2024\", \"15/3/2020\", \"13/12/2013\", \"2/6/2022\"],\n",
    "     \"Nacimiento\": [\"15/01/1977\", \"12/05/1994\", \"3/3/2000\", \"15/5/1962\", \"7/12/1995\"]}\n",
    ")"
   ]
  },
  {
   "cell_type": "code",
   "execution_count": 8,
   "metadata": {
    "colab": {
     "base_uri": "https://localhost:8080/",
     "height": 330
    },
    "executionInfo": {
     "elapsed": 50,
     "status": "ok",
     "timestamp": 1747561629502,
     "user": {
      "displayName": "Aitor Donado",
      "userId": "08246046509718212083"
     },
     "user_tz": -120
    },
    "id": "nuQwkZm6QKSs",
    "outputId": "fba7f050-2739-4f9d-c080-8cb1b604eb8e"
   },
   "outputs": [
    {
     "data": {
      "text/html": [
       "<div>\n",
       "<style scoped>\n",
       "    .dataframe tbody tr th:only-of-type {\n",
       "        vertical-align: middle;\n",
       "    }\n",
       "\n",
       "    .dataframe tbody tr th {\n",
       "        vertical-align: top;\n",
       "    }\n",
       "\n",
       "    .dataframe thead th {\n",
       "        text-align: right;\n",
       "    }\n",
       "</style>\n",
       "<table border=\"1\" class=\"dataframe\">\n",
       "  <thead>\n",
       "    <tr style=\"text-align: right;\">\n",
       "      <th></th>\n",
       "      <th>DNI</th>\n",
       "      <th>Nombre</th>\n",
       "      <th>Apellidos</th>\n",
       "      <th>Teléfono</th>\n",
       "      <th>Género</th>\n",
       "      <th>Calle</th>\n",
       "      <th>Zona</th>\n",
       "      <th>Inscripción</th>\n",
       "      <th>Nacimiento</th>\n",
       "    </tr>\n",
       "  </thead>\n",
       "  <tbody>\n",
       "    <tr>\n",
       "      <th>0</th>\n",
       "      <td>12345678L</td>\n",
       "      <td>Aitor</td>\n",
       "      <td>Donado Urquizu</td>\n",
       "      <td>645454545</td>\n",
       "      <td>Espionaje</td>\n",
       "      <td>Iturribide</td>\n",
       "      <td>Santutxu</td>\n",
       "      <td>12/12/2024</td>\n",
       "      <td>15/01/1977</td>\n",
       "    </tr>\n",
       "    <tr>\n",
       "      <th>1</th>\n",
       "      <td>45454123I</td>\n",
       "      <td>María</td>\n",
       "      <td>Díaz García</td>\n",
       "      <td>612121212</td>\n",
       "      <td>Romántico</td>\n",
       "      <td>María Díaz de Haro</td>\n",
       "      <td>Indautxu</td>\n",
       "      <td>10/2/2025</td>\n",
       "      <td>12/05/1994</td>\n",
       "    </tr>\n",
       "    <tr>\n",
       "      <th>2</th>\n",
       "      <td>85957515J</td>\n",
       "      <td>Gregorio</td>\n",
       "      <td>Gómez Gómez</td>\n",
       "      <td>652525252</td>\n",
       "      <td>Bricolaje</td>\n",
       "      <td>Zabalbide</td>\n",
       "      <td>Santutxu</td>\n",
       "      <td>12/7/1955</td>\n",
       "      <td>3/3/1993</td>\n",
       "    </tr>\n",
       "    <tr>\n",
       "      <th>3</th>\n",
       "      <td>77777777K</td>\n",
       "      <td>David</td>\n",
       "      <td>López Suárez</td>\n",
       "      <td>685858585</td>\n",
       "      <td>Historia</td>\n",
       "      <td>Larraskitu</td>\n",
       "      <td>Recalde</td>\n",
       "      <td>7/5/2023</td>\n",
       "      <td>3/3/2000</td>\n",
       "    </tr>\n",
       "    <tr>\n",
       "      <th>4</th>\n",
       "      <td>58224564J</td>\n",
       "      <td>Vanesa</td>\n",
       "      <td>Sánchez Pérez</td>\n",
       "      <td>677555999</td>\n",
       "      <td>Filosofía</td>\n",
       "      <td>Blas de Otero</td>\n",
       "      <td>Deusto</td>\n",
       "      <td>19/8/2024</td>\n",
       "      <td>7/12/1995</td>\n",
       "    </tr>\n",
       "  </tbody>\n",
       "</table>\n",
       "</div>"
      ],
      "text/plain": [
       "         DNI    Nombre       Apellidos   Teléfono     Género  \\\n",
       "0  12345678L     Aitor  Donado Urquizu  645454545  Espionaje   \n",
       "1  45454123I     María     Díaz García  612121212  Romántico   \n",
       "2  85957515J  Gregorio     Gómez Gómez  652525252  Bricolaje   \n",
       "3  77777777K     David    López Suárez  685858585   Historia   \n",
       "4  58224564J    Vanesa   Sánchez Pérez  677555999  Filosofía   \n",
       "\n",
       "                Calle      Zona Inscripción  Nacimiento  \n",
       "0          Iturribide  Santutxu  12/12/2024  15/01/1977  \n",
       "1  María Díaz de Haro  Indautxu   10/2/2025  12/05/1994  \n",
       "2           Zabalbide  Santutxu   12/7/1955    3/3/1993  \n",
       "3          Larraskitu   Recalde    7/5/2023    3/3/2000  \n",
       "4       Blas de Otero    Deusto   19/8/2024   7/12/1995  "
      ]
     },
     "execution_count": 8,
     "metadata": {},
     "output_type": "execute_result"
    }
   ],
   "source": [
    "biblioteca"
   ]
  },
  {
   "cell_type": "code",
   "execution_count": 9,
   "metadata": {
    "colab": {
     "base_uri": "https://localhost:8080/",
     "height": 295
    },
    "executionInfo": {
     "elapsed": 31,
     "status": "ok",
     "timestamp": 1747561629534,
     "user": {
      "displayName": "Aitor Donado",
      "userId": "08246046509718212083"
     },
     "user_tz": -120
    },
    "id": "pWphGhdaTa00",
    "outputId": "c8d7a3cd-991a-4da4-befe-666cdbbe6c33"
   },
   "outputs": [
    {
     "data": {
      "text/html": [
       "<div>\n",
       "<style scoped>\n",
       "    .dataframe tbody tr th:only-of-type {\n",
       "        vertical-align: middle;\n",
       "    }\n",
       "\n",
       "    .dataframe tbody tr th {\n",
       "        vertical-align: top;\n",
       "    }\n",
       "\n",
       "    .dataframe thead th {\n",
       "        text-align: right;\n",
       "    }\n",
       "</style>\n",
       "<table border=\"1\" class=\"dataframe\">\n",
       "  <thead>\n",
       "    <tr style=\"text-align: right;\">\n",
       "      <th></th>\n",
       "      <th>DNI</th>\n",
       "      <th>Nombre</th>\n",
       "      <th>Apellidos</th>\n",
       "      <th>email</th>\n",
       "      <th>Teléfono</th>\n",
       "      <th>Tiempos_largo</th>\n",
       "      <th>Zona</th>\n",
       "      <th>Inscripción</th>\n",
       "      <th>Nacimiento</th>\n",
       "    </tr>\n",
       "  </thead>\n",
       "  <tbody>\n",
       "    <tr>\n",
       "      <th>0</th>\n",
       "      <td>12345678L</td>\n",
       "      <td>Aitor</td>\n",
       "      <td>Donado Urquizu</td>\n",
       "      <td>aitor.donado@gmail.com</td>\n",
       "      <td>645454545</td>\n",
       "      <td>1.0</td>\n",
       "      <td>Santutxu</td>\n",
       "      <td>25/2/2025</td>\n",
       "      <td>15/01/1977</td>\n",
       "    </tr>\n",
       "    <tr>\n",
       "      <th>1</th>\n",
       "      <td>45454123I</td>\n",
       "      <td>María</td>\n",
       "      <td>Díaz García</td>\n",
       "      <td>maria_dg@hotmail.com</td>\n",
       "      <td>612121212</td>\n",
       "      <td>0.9</td>\n",
       "      <td>Indautxu</td>\n",
       "      <td>13/2/2024</td>\n",
       "      <td>12/05/1994</td>\n",
       "    </tr>\n",
       "    <tr>\n",
       "      <th>2</th>\n",
       "      <td>77777777K</td>\n",
       "      <td>David</td>\n",
       "      <td>López Suárez</td>\n",
       "      <td>DDG@garcia.es</td>\n",
       "      <td>685858585</td>\n",
       "      <td>0.7</td>\n",
       "      <td>Recalde</td>\n",
       "      <td>15/3/2020</td>\n",
       "      <td>3/3/2000</td>\n",
       "    </tr>\n",
       "    <tr>\n",
       "      <th>3</th>\n",
       "      <td>13131313G</td>\n",
       "      <td>Evaristo</td>\n",
       "      <td>González Sanz</td>\n",
       "      <td>elreydelabaraja@gmail.com</td>\n",
       "      <td>612345678</td>\n",
       "      <td>1.2</td>\n",
       "      <td>Recalde</td>\n",
       "      <td>13/12/2013</td>\n",
       "      <td>15/5/1962</td>\n",
       "    </tr>\n",
       "    <tr>\n",
       "      <th>4</th>\n",
       "      <td>58224564J</td>\n",
       "      <td>Vanesa</td>\n",
       "      <td>Sánchez Pérez</td>\n",
       "      <td>la_vane95@outlook.es</td>\n",
       "      <td>677555999</td>\n",
       "      <td>1.1</td>\n",
       "      <td>Deusto</td>\n",
       "      <td>2/6/2022</td>\n",
       "      <td>7/12/1995</td>\n",
       "    </tr>\n",
       "  </tbody>\n",
       "</table>\n",
       "</div>"
      ],
      "text/plain": [
       "         DNI    Nombre       Apellidos                      email   Teléfono  \\\n",
       "0  12345678L     Aitor  Donado Urquizu     aitor.donado@gmail.com  645454545   \n",
       "1  45454123I     María     Díaz García       maria_dg@hotmail.com  612121212   \n",
       "2  77777777K     David    López Suárez              DDG@garcia.es  685858585   \n",
       "3  13131313G  Evaristo   González Sanz  elreydelabaraja@gmail.com  612345678   \n",
       "4  58224564J    Vanesa   Sánchez Pérez       la_vane95@outlook.es  677555999   \n",
       "\n",
       "   Tiempos_largo      Zona Inscripción  Nacimiento  \n",
       "0            1.0  Santutxu   25/2/2025  15/01/1977  \n",
       "1            0.9  Indautxu   13/2/2024  12/05/1994  \n",
       "2            0.7   Recalde   15/3/2020    3/3/2000  \n",
       "3            1.2   Recalde  13/12/2013   15/5/1962  \n",
       "4            1.1    Deusto    2/6/2022   7/12/1995  "
      ]
     },
     "execution_count": 9,
     "metadata": {},
     "output_type": "execute_result"
    }
   ],
   "source": [
    "piscinas"
   ]
  },
  {
   "cell_type": "markdown",
   "metadata": {
    "id": "vK33CZPh0ZF4"
   },
   "source": [
    "Ahora tenemos dos datasets.\n",
    "- `biblioteca` tiene los datos de la biblioteca municipal\n",
    "- `piscinas` tiene los datos de las piscinas municipales\n",
    "- Tenemos usuarios de la biblioteca que no están apuntados a las piscinas y viceversa\n",
    "- También tenemos campos como el nombre y los apellidos que están tanto en una tabla como en la otra y otros específicos de cada tabla\n",
    "\n",
    "Por tanto tenemos filas y columnas tanto comunes como distintas\n",
    "\n",
    "Vamos a filtrar los datos de una de las tablas usando los índices de la otra"
   ]
  },
  {
   "cell_type": "markdown",
   "metadata": {
    "id": "rOPbu4PSzKQ9"
   },
   "source": [
    "## Seleccionar filas en base a variables\n",
    "\n"
   ]
  },
  {
   "cell_type": "markdown",
   "metadata": {
    "id": "r7_YvTPY6WI0"
   },
   "source": [
    "Ya hemos seleccionado filas filtrando en base a variables."
   ]
  },
  {
   "cell_type": "code",
   "execution_count": 10,
   "metadata": {
    "colab": {
     "base_uri": "https://localhost:8080/"
    },
    "executionInfo": {
     "elapsed": 12,
     "status": "ok",
     "timestamp": 1747563298528,
     "user": {
      "displayName": "Aitor Donado",
      "userId": "08246046509718212083"
     },
     "user_tz": -120
    },
    "id": "QAiYaqhl45Qs",
    "outputId": "834e01cf-fe5b-4938-fd35-f3c0ede733f2"
   },
   "outputs": [],
   "source": [
    "rapidos = piscinas[(piscinas[\"Tiempos_largo\"] <= 1)]\n"
   ]
  },
  {
   "cell_type": "code",
   "execution_count": 11,
   "metadata": {},
   "outputs": [
    {
     "data": {
      "text/html": [
       "<div>\n",
       "<style scoped>\n",
       "    .dataframe tbody tr th:only-of-type {\n",
       "        vertical-align: middle;\n",
       "    }\n",
       "\n",
       "    .dataframe tbody tr th {\n",
       "        vertical-align: top;\n",
       "    }\n",
       "\n",
       "    .dataframe thead th {\n",
       "        text-align: right;\n",
       "    }\n",
       "</style>\n",
       "<table border=\"1\" class=\"dataframe\">\n",
       "  <thead>\n",
       "    <tr style=\"text-align: right;\">\n",
       "      <th></th>\n",
       "      <th>DNI</th>\n",
       "      <th>Nombre</th>\n",
       "      <th>Apellidos</th>\n",
       "      <th>email</th>\n",
       "      <th>Teléfono</th>\n",
       "      <th>Tiempos_largo</th>\n",
       "      <th>Zona</th>\n",
       "      <th>Inscripción</th>\n",
       "      <th>Nacimiento</th>\n",
       "    </tr>\n",
       "  </thead>\n",
       "  <tbody>\n",
       "    <tr>\n",
       "      <th>0</th>\n",
       "      <td>12345678L</td>\n",
       "      <td>Aitor</td>\n",
       "      <td>Donado Urquizu</td>\n",
       "      <td>aitor.donado@gmail.com</td>\n",
       "      <td>645454545</td>\n",
       "      <td>1.0</td>\n",
       "      <td>Santutxu</td>\n",
       "      <td>25/2/2025</td>\n",
       "      <td>15/01/1977</td>\n",
       "    </tr>\n",
       "    <tr>\n",
       "      <th>1</th>\n",
       "      <td>45454123I</td>\n",
       "      <td>María</td>\n",
       "      <td>Díaz García</td>\n",
       "      <td>maria_dg@hotmail.com</td>\n",
       "      <td>612121212</td>\n",
       "      <td>0.9</td>\n",
       "      <td>Indautxu</td>\n",
       "      <td>13/2/2024</td>\n",
       "      <td>12/05/1994</td>\n",
       "    </tr>\n",
       "    <tr>\n",
       "      <th>2</th>\n",
       "      <td>77777777K</td>\n",
       "      <td>David</td>\n",
       "      <td>López Suárez</td>\n",
       "      <td>DDG@garcia.es</td>\n",
       "      <td>685858585</td>\n",
       "      <td>0.7</td>\n",
       "      <td>Recalde</td>\n",
       "      <td>15/3/2020</td>\n",
       "      <td>3/3/2000</td>\n",
       "    </tr>\n",
       "  </tbody>\n",
       "</table>\n",
       "</div>"
      ],
      "text/plain": [
       "         DNI Nombre       Apellidos                   email   Teléfono  \\\n",
       "0  12345678L  Aitor  Donado Urquizu  aitor.donado@gmail.com  645454545   \n",
       "1  45454123I  María     Díaz García    maria_dg@hotmail.com  612121212   \n",
       "2  77777777K  David    López Suárez           DDG@garcia.es  685858585   \n",
       "\n",
       "   Tiempos_largo      Zona Inscripción  Nacimiento  \n",
       "0            1.0  Santutxu   25/2/2025  15/01/1977  \n",
       "1            0.9  Indautxu   13/2/2024  12/05/1994  \n",
       "2            0.7   Recalde   15/3/2020    3/3/2000  "
      ]
     },
     "execution_count": 11,
     "metadata": {},
     "output_type": "execute_result"
    }
   ],
   "source": [
    "rapidos"
   ]
  },
  {
   "cell_type": "code",
   "execution_count": 12,
   "metadata": {
    "colab": {
     "base_uri": "https://localhost:8080/"
    },
    "executionInfo": {
     "elapsed": 32,
     "status": "ok",
     "timestamp": 1747563393013,
     "user": {
      "displayName": "Aitor Donado",
      "userId": "08246046509718212083"
     },
     "user_tz": -120
    },
    "id": "5_giOqVAzKQ-",
    "outputId": "e9afc98a-1ecf-41f1-8837-2bbaf8beefa5"
   },
   "outputs": [],
   "source": [
    "normales = piscinas[piscinas[\"Tiempos_largo\"].between(0.8, 1.1)]\n"
   ]
  },
  {
   "cell_type": "code",
   "execution_count": 13,
   "metadata": {},
   "outputs": [
    {
     "data": {
      "text/html": [
       "<div>\n",
       "<style scoped>\n",
       "    .dataframe tbody tr th:only-of-type {\n",
       "        vertical-align: middle;\n",
       "    }\n",
       "\n",
       "    .dataframe tbody tr th {\n",
       "        vertical-align: top;\n",
       "    }\n",
       "\n",
       "    .dataframe thead th {\n",
       "        text-align: right;\n",
       "    }\n",
       "</style>\n",
       "<table border=\"1\" class=\"dataframe\">\n",
       "  <thead>\n",
       "    <tr style=\"text-align: right;\">\n",
       "      <th></th>\n",
       "      <th>DNI</th>\n",
       "      <th>Nombre</th>\n",
       "      <th>Apellidos</th>\n",
       "      <th>email</th>\n",
       "      <th>Teléfono</th>\n",
       "      <th>Tiempos_largo</th>\n",
       "      <th>Zona</th>\n",
       "      <th>Inscripción</th>\n",
       "      <th>Nacimiento</th>\n",
       "    </tr>\n",
       "  </thead>\n",
       "  <tbody>\n",
       "    <tr>\n",
       "      <th>0</th>\n",
       "      <td>12345678L</td>\n",
       "      <td>Aitor</td>\n",
       "      <td>Donado Urquizu</td>\n",
       "      <td>aitor.donado@gmail.com</td>\n",
       "      <td>645454545</td>\n",
       "      <td>1.0</td>\n",
       "      <td>Santutxu</td>\n",
       "      <td>25/2/2025</td>\n",
       "      <td>15/01/1977</td>\n",
       "    </tr>\n",
       "    <tr>\n",
       "      <th>1</th>\n",
       "      <td>45454123I</td>\n",
       "      <td>María</td>\n",
       "      <td>Díaz García</td>\n",
       "      <td>maria_dg@hotmail.com</td>\n",
       "      <td>612121212</td>\n",
       "      <td>0.9</td>\n",
       "      <td>Indautxu</td>\n",
       "      <td>13/2/2024</td>\n",
       "      <td>12/05/1994</td>\n",
       "    </tr>\n",
       "    <tr>\n",
       "      <th>4</th>\n",
       "      <td>58224564J</td>\n",
       "      <td>Vanesa</td>\n",
       "      <td>Sánchez Pérez</td>\n",
       "      <td>la_vane95@outlook.es</td>\n",
       "      <td>677555999</td>\n",
       "      <td>1.1</td>\n",
       "      <td>Deusto</td>\n",
       "      <td>2/6/2022</td>\n",
       "      <td>7/12/1995</td>\n",
       "    </tr>\n",
       "  </tbody>\n",
       "</table>\n",
       "</div>"
      ],
      "text/plain": [
       "         DNI  Nombre       Apellidos                   email   Teléfono  \\\n",
       "0  12345678L   Aitor  Donado Urquizu  aitor.donado@gmail.com  645454545   \n",
       "1  45454123I   María     Díaz García    maria_dg@hotmail.com  612121212   \n",
       "4  58224564J  Vanesa   Sánchez Pérez    la_vane95@outlook.es  677555999   \n",
       "\n",
       "   Tiempos_largo      Zona Inscripción  Nacimiento  \n",
       "0            1.0  Santutxu   25/2/2025  15/01/1977  \n",
       "1            0.9  Indautxu   13/2/2024  12/05/1994  \n",
       "4            1.1    Deusto    2/6/2022   7/12/1995  "
      ]
     },
     "execution_count": 13,
     "metadata": {},
     "output_type": "execute_result"
    }
   ],
   "source": [
    "normales"
   ]
  },
  {
   "cell_type": "code",
   "execution_count": 14,
   "metadata": {
    "colab": {
     "base_uri": "https://localhost:8080/"
    },
    "executionInfo": {
     "elapsed": 31,
     "status": "ok",
     "timestamp": 1747563464745,
     "user": {
      "displayName": "Aitor Donado",
      "userId": "08246046509718212083"
     },
     "user_tz": -120
    },
    "id": "riB1Nh15zKQ-",
    "outputId": "936c5b27-fa26-46c2-e51c-b42187fe9f20"
   },
   "outputs": [],
   "source": [
    "santutxu = biblioteca[(biblioteca[\"Zona\"]==\"Santutxu\")]\n"
   ]
  },
  {
   "cell_type": "code",
   "execution_count": 15,
   "metadata": {},
   "outputs": [
    {
     "data": {
      "text/html": [
       "<div>\n",
       "<style scoped>\n",
       "    .dataframe tbody tr th:only-of-type {\n",
       "        vertical-align: middle;\n",
       "    }\n",
       "\n",
       "    .dataframe tbody tr th {\n",
       "        vertical-align: top;\n",
       "    }\n",
       "\n",
       "    .dataframe thead th {\n",
       "        text-align: right;\n",
       "    }\n",
       "</style>\n",
       "<table border=\"1\" class=\"dataframe\">\n",
       "  <thead>\n",
       "    <tr style=\"text-align: right;\">\n",
       "      <th></th>\n",
       "      <th>DNI</th>\n",
       "      <th>Nombre</th>\n",
       "      <th>Apellidos</th>\n",
       "      <th>Teléfono</th>\n",
       "      <th>Género</th>\n",
       "      <th>Calle</th>\n",
       "      <th>Zona</th>\n",
       "      <th>Inscripción</th>\n",
       "      <th>Nacimiento</th>\n",
       "    </tr>\n",
       "  </thead>\n",
       "  <tbody>\n",
       "    <tr>\n",
       "      <th>0</th>\n",
       "      <td>12345678L</td>\n",
       "      <td>Aitor</td>\n",
       "      <td>Donado Urquizu</td>\n",
       "      <td>645454545</td>\n",
       "      <td>Espionaje</td>\n",
       "      <td>Iturribide</td>\n",
       "      <td>Santutxu</td>\n",
       "      <td>12/12/2024</td>\n",
       "      <td>15/01/1977</td>\n",
       "    </tr>\n",
       "    <tr>\n",
       "      <th>2</th>\n",
       "      <td>85957515J</td>\n",
       "      <td>Gregorio</td>\n",
       "      <td>Gómez Gómez</td>\n",
       "      <td>652525252</td>\n",
       "      <td>Bricolaje</td>\n",
       "      <td>Zabalbide</td>\n",
       "      <td>Santutxu</td>\n",
       "      <td>12/7/1955</td>\n",
       "      <td>3/3/1993</td>\n",
       "    </tr>\n",
       "  </tbody>\n",
       "</table>\n",
       "</div>"
      ],
      "text/plain": [
       "         DNI    Nombre       Apellidos   Teléfono     Género       Calle  \\\n",
       "0  12345678L     Aitor  Donado Urquizu  645454545  Espionaje  Iturribide   \n",
       "2  85957515J  Gregorio     Gómez Gómez  652525252  Bricolaje   Zabalbide   \n",
       "\n",
       "       Zona Inscripción  Nacimiento  \n",
       "0  Santutxu  12/12/2024  15/01/1977  \n",
       "2  Santutxu   12/7/1955    3/3/1993  "
      ]
     },
     "execution_count": 15,
     "metadata": {},
     "output_type": "execute_result"
    }
   ],
   "source": [
    "santutxu"
   ]
  },
  {
   "cell_type": "markdown",
   "metadata": {
    "id": "aHx7Hkr4zKQ4"
   },
   "source": [
    "# 1. Selección de Columnas en una tabla en función de las presentes en otra"
   ]
  },
  {
   "cell_type": "markdown",
   "metadata": {
    "id": "hvf0iP3bzKQ4"
   },
   "source": [
    "## 1.1. Seleccionamos columnas de la biblioteca **si están** en la piscina"
   ]
  },
  {
   "cell_type": "markdown",
   "metadata": {
    "id": "UbIvgEI_zKQ4"
   },
   "source": [
    "Cuando obtenemos las columnas de un DataFrame vemos que estamos obteniendo un objeto \"Index\""
   ]
  },
  {
   "cell_type": "code",
   "execution_count": 16,
   "metadata": {
    "colab": {
     "base_uri": "https://localhost:8080/"
    },
    "executionInfo": {
     "elapsed": 8,
     "status": "ok",
     "timestamp": 1747561629541,
     "user": {
      "displayName": "Aitor Donado",
      "userId": "08246046509718212083"
     },
     "user_tz": -120
    },
    "id": "TD_Z1wPvzKQ4",
    "outputId": "ab4f1f33-483c-422b-d6c6-59f222cbe347"
   },
   "outputs": [
    {
     "data": {
      "text/plain": [
       "Index(['DNI', 'Nombre', 'Apellidos', 'Teléfono', 'Género', 'Calle', 'Zona',\n",
       "       'Inscripción', 'Nacimiento'],\n",
       "      dtype='object')"
      ]
     },
     "execution_count": 16,
     "metadata": {},
     "output_type": "execute_result"
    }
   ],
   "source": [
    "biblioteca.columns"
   ]
  },
  {
   "cell_type": "code",
   "execution_count": 17,
   "metadata": {},
   "outputs": [
    {
     "data": {
      "text/plain": [
       "Index(['DNI', 'Nombre', 'Apellidos', 'email', 'Teléfono', 'Tiempos_largo',\n",
       "       'Zona', 'Inscripción', 'Nacimiento'],\n",
       "      dtype='object')"
      ]
     },
     "execution_count": 17,
     "metadata": {},
     "output_type": "execute_result"
    }
   ],
   "source": [
    "piscinas.columns"
   ]
  },
  {
   "cell_type": "code",
   "execution_count": null,
   "metadata": {},
   "outputs": [],
   "source": []
  },
  {
   "cell_type": "markdown",
   "metadata": {
    "id": "l0MtjMsKzKQ4"
   },
   "source": [
    "# Lógica de conjuntos"
   ]
  },
  {
   "cell_type": "markdown",
   "metadata": {
    "id": "I2j7AQ94zKQ4"
   },
   "source": [
    "Sean dos índices distintos"
   ]
  },
  {
   "cell_type": "code",
   "execution_count": 18,
   "metadata": {
    "executionInfo": {
     "elapsed": 21,
     "status": "ok",
     "timestamp": 1747561629560,
     "user": {
      "displayName": "Aitor Donado",
      "userId": "08246046509718212083"
     },
     "user_tz": -120
    },
    "id": "WDywZrD1qSAS"
   },
   "outputs": [],
   "source": [
    "seriea = pd.Series([\"a\", \"b\", \"c\"], index=[1,3,6])"
   ]
  },
  {
   "cell_type": "code",
   "execution_count": 19,
   "metadata": {
    "colab": {
     "base_uri": "https://localhost:8080/"
    },
    "executionInfo": {
     "elapsed": 7,
     "status": "ok",
     "timestamp": 1747561629568,
     "user": {
      "displayName": "Aitor Donado",
      "userId": "08246046509718212083"
     },
     "user_tz": -120
    },
    "id": "mEdcAOTIqaWw",
    "outputId": "3bd128b7-4189-4147-d116-0656e1ce7025"
   },
   "outputs": [
    {
     "data": {
      "text/plain": [
       "Index([1, 3, 6], dtype='int64')"
      ]
     },
     "execution_count": 19,
     "metadata": {},
     "output_type": "execute_result"
    }
   ],
   "source": [
    "seriea.index"
   ]
  },
  {
   "cell_type": "code",
   "execution_count": 20,
   "metadata": {
    "executionInfo": {
     "elapsed": 1,
     "status": "ok",
     "timestamp": 1747561629570,
     "user": {
      "displayName": "Aitor Donado",
      "userId": "08246046509718212083"
     },
     "user_tz": -120
    },
    "id": "uz7_6YTNzKQ4"
   },
   "outputs": [],
   "source": [
    "lista_a = pd.Index([0,1,3,5,7])\n"
   ]
  },
  {
   "cell_type": "code",
   "execution_count": 21,
   "metadata": {},
   "outputs": [
    {
     "data": {
      "text/plain": [
       "Index([0, 1, 3, 5, 7], dtype='int64')"
      ]
     },
     "execution_count": 21,
     "metadata": {},
     "output_type": "execute_result"
    }
   ],
   "source": [
    "lista_a"
   ]
  },
  {
   "cell_type": "code",
   "execution_count": 22,
   "metadata": {},
   "outputs": [],
   "source": [
    "lista_b = pd.Index([0,3,6,9])"
   ]
  },
  {
   "cell_type": "code",
   "execution_count": 23,
   "metadata": {},
   "outputs": [
    {
     "data": {
      "text/plain": [
       "Index([0, 3, 6, 9], dtype='int64')"
      ]
     },
     "execution_count": 23,
     "metadata": {},
     "output_type": "execute_result"
    }
   ],
   "source": [
    "lista_b"
   ]
  },
  {
   "cell_type": "code",
   "execution_count": 24,
   "metadata": {},
   "outputs": [
    {
     "name": "stdout",
     "output_type": "stream",
     "text": [
      "Index([0, 1, 3, 5, 7], dtype='int64')\n",
      "Index([0, 3, 6, 9], dtype='int64')\n"
     ]
    }
   ],
   "source": [
    "print(lista_a)\n",
    "print(lista_b)"
   ]
  },
  {
   "cell_type": "markdown",
   "metadata": {
    "id": "HiJfFPV0zKQ4"
   },
   "source": [
    "Todos los elementos estén en la lista que estén"
   ]
  },
  {
   "cell_type": "code",
   "execution_count": 25,
   "metadata": {
    "colab": {
     "base_uri": "https://localhost:8080/"
    },
    "executionInfo": {
     "elapsed": 4,
     "status": "ok",
     "timestamp": 1747561629575,
     "user": {
      "displayName": "Aitor Donado",
      "userId": "08246046509718212083"
     },
     "user_tz": -120
    },
    "id": "PqkFXQFAzKQ4",
    "outputId": "fa07b590-f6d8-46ca-bab0-fb3504a6ef5d"
   },
   "outputs": [
    {
     "data": {
      "text/plain": [
       "Index([0, 1, 3, 5, 6, 7, 9], dtype='int64')"
      ]
     },
     "execution_count": 25,
     "metadata": {},
     "output_type": "execute_result"
    }
   ],
   "source": [
    "lista_b.union(lista_a)"
   ]
  },
  {
   "cell_type": "code",
   "execution_count": 26,
   "metadata": {
    "colab": {
     "base_uri": "https://localhost:8080/"
    },
    "executionInfo": {
     "elapsed": 11,
     "status": "ok",
     "timestamp": 1747561629632,
     "user": {
      "displayName": "Aitor Donado",
      "userId": "08246046509718212083"
     },
     "user_tz": -120
    },
    "id": "oLjHdr6szKQ4",
    "outputId": "37056536-b955-4f9d-f73a-2d0f1bc61d1d"
   },
   "outputs": [
    {
     "data": {
      "text/plain": [
       "Index([0, 3], dtype='int64')"
      ]
     },
     "execution_count": 26,
     "metadata": {},
     "output_type": "execute_result"
    }
   ],
   "source": [
    "lista_a.intersection(lista_b)"
   ]
  },
  {
   "cell_type": "code",
   "execution_count": 27,
   "metadata": {
    "colab": {
     "base_uri": "https://localhost:8080/"
    },
    "executionInfo": {
     "elapsed": 4,
     "status": "ok",
     "timestamp": 1747561629637,
     "user": {
      "displayName": "Aitor Donado",
      "userId": "08246046509718212083"
     },
     "user_tz": -120
    },
    "id": "-E2XRsE9zKQ4",
    "outputId": "1fce9d3e-12d3-4ea6-b259-d08f63dab7d3"
   },
   "outputs": [
    {
     "data": {
      "text/plain": [
       "Index([1, 5, 7], dtype='int64')"
      ]
     },
     "execution_count": 27,
     "metadata": {},
     "output_type": "execute_result"
    }
   ],
   "source": [
    "lista_a.difference(lista_b)"
   ]
  },
  {
   "cell_type": "code",
   "execution_count": 28,
   "metadata": {
    "colab": {
     "base_uri": "https://localhost:8080/"
    },
    "executionInfo": {
     "elapsed": 6,
     "status": "ok",
     "timestamp": 1747561629644,
     "user": {
      "displayName": "Aitor Donado",
      "userId": "08246046509718212083"
     },
     "user_tz": -120
    },
    "id": "w81EHhIczKQ4",
    "outputId": "bba1ba15-9086-460a-c0e7-339e71a28a8f"
   },
   "outputs": [
    {
     "data": {
      "text/plain": [
       "Index([6, 9], dtype='int64')"
      ]
     },
     "execution_count": 28,
     "metadata": {},
     "output_type": "execute_result"
    }
   ],
   "source": [
    "lista_b.difference(lista_a)"
   ]
  },
  {
   "cell_type": "markdown",
   "metadata": {
    "id": "uaTz-mVCzKQ4"
   },
   "source": [
    "Valores que están en una lista o en la otra pero no en las dos"
   ]
  },
  {
   "cell_type": "code",
   "execution_count": 29,
   "metadata": {
    "colab": {
     "base_uri": "https://localhost:8080/"
    },
    "executionInfo": {
     "elapsed": 5,
     "status": "ok",
     "timestamp": 1747561629650,
     "user": {
      "displayName": "Aitor Donado",
      "userId": "08246046509718212083"
     },
     "user_tz": -120
    },
    "id": "1bW1MzhTzKQ5",
    "outputId": "cd638745-1e7f-4607-f90b-8113cfd00e4c"
   },
   "outputs": [
    {
     "data": {
      "text/plain": [
       "Index([1, 5, 6, 7, 9], dtype='int64')"
      ]
     },
     "execution_count": 29,
     "metadata": {},
     "output_type": "execute_result"
    }
   ],
   "source": [
    "lista_b.symmetric_difference(lista_a)"
   ]
  },
  {
   "cell_type": "markdown",
   "metadata": {
    "id": "JtVU5xIAzKQ5"
   },
   "source": [
    "Podemos usar la lógica de conjuntos para filtrar columnas"
   ]
  },
  {
   "cell_type": "code",
   "execution_count": 30,
   "metadata": {},
   "outputs": [
    {
     "name": "stdout",
     "output_type": "stream",
     "text": [
      "Index(['DNI', 'Nombre', 'Apellidos', 'Teléfono', 'Género', 'Calle', 'Zona',\n",
      "       'Inscripción', 'Nacimiento'],\n",
      "      dtype='object')\n",
      "Index(['DNI', 'Nombre', 'Apellidos', 'email', 'Teléfono', 'Tiempos_largo',\n",
      "       'Zona', 'Inscripción', 'Nacimiento'],\n",
      "      dtype='object')\n"
     ]
    }
   ],
   "source": [
    "print(biblioteca.columns)\n",
    "print(piscinas.columns) "
   ]
  },
  {
   "cell_type": "code",
   "execution_count": 31,
   "metadata": {
    "colab": {
     "base_uri": "https://localhost:8080/"
    },
    "executionInfo": {
     "elapsed": 3,
     "status": "ok",
     "timestamp": 1747561629654,
     "user": {
      "displayName": "Aitor Donado",
      "userId": "08246046509718212083"
     },
     "user_tz": -120
    },
    "id": "vS9R5Ii1vTp3",
    "outputId": "e5dec25d-b2b7-44c0-c3e1-18a4b04d39ef"
   },
   "outputs": [
    {
     "data": {
      "text/plain": [
       "Index(['DNI', 'Nombre', 'Apellidos', 'Teléfono', 'Zona', 'Inscripción',\n",
       "       'Nacimiento'],\n",
       "      dtype='object')"
      ]
     },
     "execution_count": 31,
     "metadata": {},
     "output_type": "execute_result"
    }
   ],
   "source": [
    "biblioteca.columns.intersection(piscinas.columns)"
   ]
  },
  {
   "cell_type": "markdown",
   "metadata": {
    "id": "f7sbMsljvdc_"
   },
   "source": [
    "Vemos cómo la columna de \"Género\" de la biblioteca como los \"Tiempos_largo\" de las piscinas no están."
   ]
  },
  {
   "cell_type": "code",
   "execution_count": 32,
   "metadata": {
    "colab": {
     "base_uri": "https://localhost:8080/",
     "height": 275
    },
    "executionInfo": {
     "elapsed": 31,
     "status": "ok",
     "timestamp": 1747561629686,
     "user": {
      "displayName": "Aitor Donado",
      "userId": "08246046509718212083"
     },
     "user_tz": -120
    },
    "id": "o0x9UTC0zKQ5",
    "outputId": "b6b50880-9b3a-464c-d38f-bff2f6792bff"
   },
   "outputs": [],
   "source": [
    "campos_comunes = biblioteca[(biblioteca.columns.intersection(piscinas.columns))]\n"
   ]
  },
  {
   "cell_type": "code",
   "execution_count": 33,
   "metadata": {},
   "outputs": [
    {
     "data": {
      "text/html": [
       "<div>\n",
       "<style scoped>\n",
       "    .dataframe tbody tr th:only-of-type {\n",
       "        vertical-align: middle;\n",
       "    }\n",
       "\n",
       "    .dataframe tbody tr th {\n",
       "        vertical-align: top;\n",
       "    }\n",
       "\n",
       "    .dataframe thead th {\n",
       "        text-align: right;\n",
       "    }\n",
       "</style>\n",
       "<table border=\"1\" class=\"dataframe\">\n",
       "  <thead>\n",
       "    <tr style=\"text-align: right;\">\n",
       "      <th></th>\n",
       "      <th>DNI</th>\n",
       "      <th>Nombre</th>\n",
       "      <th>Apellidos</th>\n",
       "      <th>Teléfono</th>\n",
       "      <th>Zona</th>\n",
       "      <th>Inscripción</th>\n",
       "      <th>Nacimiento</th>\n",
       "    </tr>\n",
       "  </thead>\n",
       "  <tbody>\n",
       "    <tr>\n",
       "      <th>0</th>\n",
       "      <td>12345678L</td>\n",
       "      <td>Aitor</td>\n",
       "      <td>Donado Urquizu</td>\n",
       "      <td>645454545</td>\n",
       "      <td>Santutxu</td>\n",
       "      <td>12/12/2024</td>\n",
       "      <td>15/01/1977</td>\n",
       "    </tr>\n",
       "    <tr>\n",
       "      <th>1</th>\n",
       "      <td>45454123I</td>\n",
       "      <td>María</td>\n",
       "      <td>Díaz García</td>\n",
       "      <td>612121212</td>\n",
       "      <td>Indautxu</td>\n",
       "      <td>10/2/2025</td>\n",
       "      <td>12/05/1994</td>\n",
       "    </tr>\n",
       "    <tr>\n",
       "      <th>2</th>\n",
       "      <td>85957515J</td>\n",
       "      <td>Gregorio</td>\n",
       "      <td>Gómez Gómez</td>\n",
       "      <td>652525252</td>\n",
       "      <td>Santutxu</td>\n",
       "      <td>12/7/1955</td>\n",
       "      <td>3/3/1993</td>\n",
       "    </tr>\n",
       "    <tr>\n",
       "      <th>3</th>\n",
       "      <td>77777777K</td>\n",
       "      <td>David</td>\n",
       "      <td>López Suárez</td>\n",
       "      <td>685858585</td>\n",
       "      <td>Recalde</td>\n",
       "      <td>7/5/2023</td>\n",
       "      <td>3/3/2000</td>\n",
       "    </tr>\n",
       "    <tr>\n",
       "      <th>4</th>\n",
       "      <td>58224564J</td>\n",
       "      <td>Vanesa</td>\n",
       "      <td>Sánchez Pérez</td>\n",
       "      <td>677555999</td>\n",
       "      <td>Deusto</td>\n",
       "      <td>19/8/2024</td>\n",
       "      <td>7/12/1995</td>\n",
       "    </tr>\n",
       "  </tbody>\n",
       "</table>\n",
       "</div>"
      ],
      "text/plain": [
       "         DNI    Nombre       Apellidos   Teléfono      Zona Inscripción  \\\n",
       "0  12345678L     Aitor  Donado Urquizu  645454545  Santutxu  12/12/2024   \n",
       "1  45454123I     María     Díaz García  612121212  Indautxu   10/2/2025   \n",
       "2  85957515J  Gregorio     Gómez Gómez  652525252  Santutxu   12/7/1955   \n",
       "3  77777777K     David    López Suárez  685858585   Recalde    7/5/2023   \n",
       "4  58224564J    Vanesa   Sánchez Pérez  677555999    Deusto   19/8/2024   \n",
       "\n",
       "   Nacimiento  \n",
       "0  15/01/1977  \n",
       "1  12/05/1994  \n",
       "2    3/3/1993  \n",
       "3    3/3/2000  \n",
       "4   7/12/1995  "
      ]
     },
     "execution_count": 33,
     "metadata": {},
     "output_type": "execute_result"
    }
   ],
   "source": [
    "campos_comunes"
   ]
  },
  {
   "cell_type": "markdown",
   "metadata": {
    "id": "U4slfomdzKQ5"
   },
   "source": [
    "## 1.2. Seleccionamos columnas de la biblioteca **si NO están** en la piscina y viceversa"
   ]
  },
  {
   "cell_type": "code",
   "execution_count": 35,
   "metadata": {
    "colab": {
     "base_uri": "https://localhost:8080/",
     "height": 206
    },
    "executionInfo": {
     "elapsed": 3,
     "status": "ok",
     "timestamp": 1747561629687,
     "user": {
      "displayName": "Aitor Donado",
      "userId": "08246046509718212083"
     },
     "user_tz": -120
    },
    "id": "EWZKXwixzKQ5",
    "outputId": "fe980ffd-74fb-4db3-96a6-76b3fda8a632"
   },
   "outputs": [],
   "source": [
    "solo_biblio = biblioteca[(biblioteca.columns.difference(piscinas.columns))]\n"
   ]
  },
  {
   "cell_type": "code",
   "execution_count": 36,
   "metadata": {},
   "outputs": [
    {
     "data": {
      "text/html": [
       "<div>\n",
       "<style scoped>\n",
       "    .dataframe tbody tr th:only-of-type {\n",
       "        vertical-align: middle;\n",
       "    }\n",
       "\n",
       "    .dataframe tbody tr th {\n",
       "        vertical-align: top;\n",
       "    }\n",
       "\n",
       "    .dataframe thead th {\n",
       "        text-align: right;\n",
       "    }\n",
       "</style>\n",
       "<table border=\"1\" class=\"dataframe\">\n",
       "  <thead>\n",
       "    <tr style=\"text-align: right;\">\n",
       "      <th></th>\n",
       "      <th>Calle</th>\n",
       "      <th>Género</th>\n",
       "    </tr>\n",
       "  </thead>\n",
       "  <tbody>\n",
       "    <tr>\n",
       "      <th>0</th>\n",
       "      <td>Iturribide</td>\n",
       "      <td>Espionaje</td>\n",
       "    </tr>\n",
       "    <tr>\n",
       "      <th>1</th>\n",
       "      <td>María Díaz de Haro</td>\n",
       "      <td>Romántico</td>\n",
       "    </tr>\n",
       "    <tr>\n",
       "      <th>2</th>\n",
       "      <td>Zabalbide</td>\n",
       "      <td>Bricolaje</td>\n",
       "    </tr>\n",
       "    <tr>\n",
       "      <th>3</th>\n",
       "      <td>Larraskitu</td>\n",
       "      <td>Historia</td>\n",
       "    </tr>\n",
       "    <tr>\n",
       "      <th>4</th>\n",
       "      <td>Blas de Otero</td>\n",
       "      <td>Filosofía</td>\n",
       "    </tr>\n",
       "  </tbody>\n",
       "</table>\n",
       "</div>"
      ],
      "text/plain": [
       "                Calle     Género\n",
       "0          Iturribide  Espionaje\n",
       "1  María Díaz de Haro  Romántico\n",
       "2           Zabalbide  Bricolaje\n",
       "3          Larraskitu   Historia\n",
       "4       Blas de Otero  Filosofía"
      ]
     },
     "execution_count": 36,
     "metadata": {},
     "output_type": "execute_result"
    }
   ],
   "source": [
    "solo_biblio"
   ]
  },
  {
   "cell_type": "code",
   "execution_count": 37,
   "metadata": {
    "colab": {
     "base_uri": "https://localhost:8080/",
     "height": 206
    },
    "executionInfo": {
     "elapsed": 64,
     "status": "ok",
     "timestamp": 1747561629751,
     "user": {
      "displayName": "Aitor Donado",
      "userId": "08246046509718212083"
     },
     "user_tz": -120
    },
    "id": "FcX2aDkew6oE",
    "outputId": "563f391e-5c61-43ee-96d1-e45f82f32d6d"
   },
   "outputs": [],
   "source": [
    "solo_pisci = piscinas[(piscinas.columns.difference(biblioteca.columns))]\n"
   ]
  },
  {
   "cell_type": "code",
   "execution_count": 38,
   "metadata": {},
   "outputs": [
    {
     "data": {
      "text/html": [
       "<div>\n",
       "<style scoped>\n",
       "    .dataframe tbody tr th:only-of-type {\n",
       "        vertical-align: middle;\n",
       "    }\n",
       "\n",
       "    .dataframe tbody tr th {\n",
       "        vertical-align: top;\n",
       "    }\n",
       "\n",
       "    .dataframe thead th {\n",
       "        text-align: right;\n",
       "    }\n",
       "</style>\n",
       "<table border=\"1\" class=\"dataframe\">\n",
       "  <thead>\n",
       "    <tr style=\"text-align: right;\">\n",
       "      <th></th>\n",
       "      <th>Tiempos_largo</th>\n",
       "      <th>email</th>\n",
       "    </tr>\n",
       "  </thead>\n",
       "  <tbody>\n",
       "    <tr>\n",
       "      <th>0</th>\n",
       "      <td>1.0</td>\n",
       "      <td>aitor.donado@gmail.com</td>\n",
       "    </tr>\n",
       "    <tr>\n",
       "      <th>1</th>\n",
       "      <td>0.9</td>\n",
       "      <td>maria_dg@hotmail.com</td>\n",
       "    </tr>\n",
       "    <tr>\n",
       "      <th>2</th>\n",
       "      <td>0.7</td>\n",
       "      <td>DDG@garcia.es</td>\n",
       "    </tr>\n",
       "    <tr>\n",
       "      <th>3</th>\n",
       "      <td>1.2</td>\n",
       "      <td>elreydelabaraja@gmail.com</td>\n",
       "    </tr>\n",
       "    <tr>\n",
       "      <th>4</th>\n",
       "      <td>1.1</td>\n",
       "      <td>la_vane95@outlook.es</td>\n",
       "    </tr>\n",
       "  </tbody>\n",
       "</table>\n",
       "</div>"
      ],
      "text/plain": [
       "   Tiempos_largo                      email\n",
       "0            1.0     aitor.donado@gmail.com\n",
       "1            0.9       maria_dg@hotmail.com\n",
       "2            0.7              DDG@garcia.es\n",
       "3            1.2  elreydelabaraja@gmail.com\n",
       "4            1.1       la_vane95@outlook.es"
      ]
     },
     "execution_count": 38,
     "metadata": {},
     "output_type": "execute_result"
    }
   ],
   "source": [
    "solo_pisci"
   ]
  },
  {
   "cell_type": "markdown",
   "metadata": {
    "id": "BYsz7XSnzKQ5"
   },
   "source": [
    "# 2. Selección de Filas en una tabla en función de las presentes en otra"
   ]
  },
  {
   "cell_type": "markdown",
   "metadata": {
    "id": "ErtArTCgzKQ5"
   },
   "source": [
    "## 2.1 Seleccionamos filas en común (índice)"
   ]
  },
  {
   "cell_type": "code",
   "execution_count": 39,
   "metadata": {
    "colab": {
     "base_uri": "https://localhost:8080/"
    },
    "executionInfo": {
     "elapsed": 4,
     "status": "ok",
     "timestamp": 1747561629756,
     "user": {
      "displayName": "Aitor Donado",
      "userId": "08246046509718212083"
     },
     "user_tz": -120
    },
    "id": "fFFBNHkRr3W3",
    "outputId": "a6c9388d-4af5-4d96-be8d-1951b7464ba2"
   },
   "outputs": [
    {
     "data": {
      "text/plain": [
       "Index([0, 1, 3, 5, 7], dtype='int64')"
      ]
     },
     "execution_count": 39,
     "metadata": {},
     "output_type": "execute_result"
    }
   ],
   "source": [
    "lista_a"
   ]
  },
  {
   "cell_type": "code",
   "execution_count": 40,
   "metadata": {
    "colab": {
     "base_uri": "https://localhost:8080/"
    },
    "executionInfo": {
     "elapsed": 10,
     "status": "ok",
     "timestamp": 1747561629767,
     "user": {
      "displayName": "Aitor Donado",
      "userId": "08246046509718212083"
     },
     "user_tz": -120
    },
    "id": "BPV8jHQer5HA",
    "outputId": "b380e89f-73df-4f83-ca68-fd840f0fd4a9"
   },
   "outputs": [
    {
     "data": {
      "text/plain": [
       "Index([0, 3, 6, 9], dtype='int64')"
      ]
     },
     "execution_count": 40,
     "metadata": {},
     "output_type": "execute_result"
    }
   ],
   "source": [
    "lista_b"
   ]
  },
  {
   "cell_type": "code",
   "execution_count": 41,
   "metadata": {
    "colab": {
     "base_uri": "https://localhost:8080/"
    },
    "executionInfo": {
     "elapsed": 5,
     "status": "ok",
     "timestamp": 1747561629767,
     "user": {
      "displayName": "Aitor Donado",
      "userId": "08246046509718212083"
     },
     "user_tz": -120
    },
    "id": "RXt0zYkUzKQ5",
    "outputId": "e0b5e59b-4c80-488e-fd86-2e51df052d81"
   },
   "outputs": [
    {
     "name": "stdout",
     "output_type": "stream",
     "text": [
      "Index([0, 1, 3, 5, 7], dtype='int64') Index([0, 3, 6, 9], dtype='int64')\n"
     ]
    }
   ],
   "source": [
    "print(lista_a, lista_b)\n"
   ]
  },
  {
   "cell_type": "markdown",
   "metadata": {},
   "source": [
    "validamos cuales son iguales (nombre de columnas)"
   ]
  },
  {
   "cell_type": "code",
   "execution_count": 42,
   "metadata": {},
   "outputs": [
    {
     "data": {
      "text/plain": [
       "array([ True, False,  True, False, False])"
      ]
     },
     "execution_count": 42,
     "metadata": {},
     "output_type": "execute_result"
    }
   ],
   "source": [
    "lista_a.isin(lista_b)"
   ]
  },
  {
   "cell_type": "code",
   "execution_count": 43,
   "metadata": {
    "colab": {
     "base_uri": "https://localhost:8080/"
    },
    "executionInfo": {
     "elapsed": 6,
     "status": "ok",
     "timestamp": 1747561631034,
     "user": {
      "displayName": "Aitor Donado",
      "userId": "08246046509718212083"
     },
     "user_tz": -120
    },
    "id": "Fre8zAPTzKQ5",
    "outputId": "964cddc8-0114-4f16-aa9a-5e4741d4dcf3"
   },
   "outputs": [
    {
     "data": {
      "text/plain": [
       "(RangeIndex(start=0, stop=5, step=1), RangeIndex(start=0, stop=5, step=1))"
      ]
     },
     "execution_count": 43,
     "metadata": {},
     "output_type": "execute_result"
    }
   ],
   "source": [
    "biblioteca.index, piscinas.index"
   ]
  },
  {
   "cell_type": "markdown",
   "metadata": {
    "id": "PggnSc8gynDE"
   },
   "source": [
    "Puedo usar un índice para comprobar si un elemento está en una tabla y no en otra y viceversa, pero no puede ser el índice que se ha generado por defecto."
   ]
  },
  {
   "cell_type": "code",
   "execution_count": 44,
   "metadata": {
    "executionInfo": {
     "elapsed": 6,
     "status": "ok",
     "timestamp": 1747561760105,
     "user": {
      "displayName": "Aitor Donado",
      "userId": "08246046509718212083"
     },
     "user_tz": -120
    },
    "id": "B38CjdHjy5sS"
   },
   "outputs": [],
   "source": [
    "biblioteca.set_index(\"DNI\", inplace=True)\n"
   ]
  },
  {
   "cell_type": "code",
   "execution_count": 45,
   "metadata": {},
   "outputs": [],
   "source": [
    "piscinas.set_index(\"DNI\", inplace=True)"
   ]
  },
  {
   "cell_type": "code",
   "execution_count": 46,
   "metadata": {
    "colab": {
     "base_uri": "https://localhost:8080/"
    },
    "executionInfo": {
     "elapsed": 6,
     "status": "ok",
     "timestamp": 1747561773859,
     "user": {
      "displayName": "Aitor Donado",
      "userId": "08246046509718212083"
     },
     "user_tz": -120
    },
    "id": "NptqNd8QzFqq",
    "outputId": "bb0ffd0c-2d8b-47a0-bfd8-0d6a3ef82a7b"
   },
   "outputs": [
    {
     "data": {
      "text/plain": [
       "(Index(['12345678L', '45454123I', '85957515J', '77777777K', '58224564J'], dtype='object', name='DNI'),\n",
       " Index(['12345678L', '45454123I', '77777777K', '13131313G', '58224564J'], dtype='object', name='DNI'))"
      ]
     },
     "execution_count": 46,
     "metadata": {},
     "output_type": "execute_result"
    }
   ],
   "source": [
    "biblioteca.index, piscinas.index"
   ]
  },
  {
   "cell_type": "code",
   "execution_count": 47,
   "metadata": {
    "colab": {
     "base_uri": "https://localhost:8080/"
    },
    "executionInfo": {
     "elapsed": 8,
     "status": "ok",
     "timestamp": 1747561853594,
     "user": {
      "displayName": "Aitor Donado",
      "userId": "08246046509718212083"
     },
     "user_tz": -120
    },
    "id": "KT8EQrxSzKQ5",
    "outputId": "7a947edd-5408-4bf7-ca93-3b3c4c4611f3"
   },
   "outputs": [],
   "source": [
    "# filtro_filas = piscinas.index.isin(biblioteca.index)\n",
    "filtro_filas = biblioteca.index.isin(piscinas.index)\n"
   ]
  },
  {
   "cell_type": "code",
   "execution_count": 48,
   "metadata": {},
   "outputs": [
    {
     "data": {
      "text/plain": [
       "array([ True,  True, False,  True,  True])"
      ]
     },
     "execution_count": 48,
     "metadata": {},
     "output_type": "execute_result"
    }
   ],
   "source": [
    "filtro_filas"
   ]
  },
  {
   "cell_type": "code",
   "execution_count": 49,
   "metadata": {
    "colab": {
     "base_uri": "https://localhost:8080/",
     "height": 313
    },
    "executionInfo": {
     "elapsed": 37,
     "status": "ok",
     "timestamp": 1747561854969,
     "user": {
      "displayName": "Aitor Donado",
      "userId": "08246046509718212083"
     },
     "user_tz": -120
    },
    "id": "37M-t3wyzKQ5",
    "outputId": "ffdcdb71-29bd-453c-e4fa-fa9ad58c50d5"
   },
   "outputs": [
    {
     "data": {
      "text/html": [
       "<div>\n",
       "<style scoped>\n",
       "    .dataframe tbody tr th:only-of-type {\n",
       "        vertical-align: middle;\n",
       "    }\n",
       "\n",
       "    .dataframe tbody tr th {\n",
       "        vertical-align: top;\n",
       "    }\n",
       "\n",
       "    .dataframe thead th {\n",
       "        text-align: right;\n",
       "    }\n",
       "</style>\n",
       "<table border=\"1\" class=\"dataframe\">\n",
       "  <thead>\n",
       "    <tr style=\"text-align: right;\">\n",
       "      <th></th>\n",
       "      <th>Nombre</th>\n",
       "      <th>Apellidos</th>\n",
       "      <th>Teléfono</th>\n",
       "      <th>Género</th>\n",
       "      <th>Calle</th>\n",
       "      <th>Zona</th>\n",
       "      <th>Inscripción</th>\n",
       "      <th>Nacimiento</th>\n",
       "    </tr>\n",
       "    <tr>\n",
       "      <th>DNI</th>\n",
       "      <th></th>\n",
       "      <th></th>\n",
       "      <th></th>\n",
       "      <th></th>\n",
       "      <th></th>\n",
       "      <th></th>\n",
       "      <th></th>\n",
       "      <th></th>\n",
       "    </tr>\n",
       "  </thead>\n",
       "  <tbody>\n",
       "    <tr>\n",
       "      <th>12345678L</th>\n",
       "      <td>Aitor</td>\n",
       "      <td>Donado Urquizu</td>\n",
       "      <td>645454545</td>\n",
       "      <td>Espionaje</td>\n",
       "      <td>Iturribide</td>\n",
       "      <td>Santutxu</td>\n",
       "      <td>12/12/2024</td>\n",
       "      <td>15/01/1977</td>\n",
       "    </tr>\n",
       "    <tr>\n",
       "      <th>45454123I</th>\n",
       "      <td>María</td>\n",
       "      <td>Díaz García</td>\n",
       "      <td>612121212</td>\n",
       "      <td>Romántico</td>\n",
       "      <td>María Díaz de Haro</td>\n",
       "      <td>Indautxu</td>\n",
       "      <td>10/2/2025</td>\n",
       "      <td>12/05/1994</td>\n",
       "    </tr>\n",
       "    <tr>\n",
       "      <th>77777777K</th>\n",
       "      <td>David</td>\n",
       "      <td>López Suárez</td>\n",
       "      <td>685858585</td>\n",
       "      <td>Historia</td>\n",
       "      <td>Larraskitu</td>\n",
       "      <td>Recalde</td>\n",
       "      <td>7/5/2023</td>\n",
       "      <td>3/3/2000</td>\n",
       "    </tr>\n",
       "    <tr>\n",
       "      <th>58224564J</th>\n",
       "      <td>Vanesa</td>\n",
       "      <td>Sánchez Pérez</td>\n",
       "      <td>677555999</td>\n",
       "      <td>Filosofía</td>\n",
       "      <td>Blas de Otero</td>\n",
       "      <td>Deusto</td>\n",
       "      <td>19/8/2024</td>\n",
       "      <td>7/12/1995</td>\n",
       "    </tr>\n",
       "  </tbody>\n",
       "</table>\n",
       "</div>"
      ],
      "text/plain": [
       "           Nombre       Apellidos   Teléfono     Género               Calle  \\\n",
       "DNI                                                                           \n",
       "12345678L   Aitor  Donado Urquizu  645454545  Espionaje          Iturribide   \n",
       "45454123I   María     Díaz García  612121212  Romántico  María Díaz de Haro   \n",
       "77777777K   David    López Suárez  685858585   Historia          Larraskitu   \n",
       "58224564J  Vanesa   Sánchez Pérez  677555999  Filosofía       Blas de Otero   \n",
       "\n",
       "               Zona Inscripción  Nacimiento  \n",
       "DNI                                          \n",
       "12345678L  Santutxu  12/12/2024  15/01/1977  \n",
       "45454123I  Indautxu   10/2/2025  12/05/1994  \n",
       "77777777K   Recalde    7/5/2023    3/3/2000  \n",
       "58224564J    Deusto   19/8/2024   7/12/1995  "
      ]
     },
     "execution_count": 49,
     "metadata": {},
     "output_type": "execute_result"
    }
   ],
   "source": [
    "biblioteca[filtro_filas]"
   ]
  },
  {
   "cell_type": "markdown",
   "metadata": {
    "id": "nijYB-A6zKQ5"
   },
   "source": [
    "Todo en un mismo paso\n"
   ]
  },
  {
   "cell_type": "code",
   "execution_count": 50,
   "metadata": {
    "colab": {
     "base_uri": "https://localhost:8080/",
     "height": 313
    },
    "executionInfo": {
     "elapsed": 14,
     "status": "ok",
     "timestamp": 1747561956672,
     "user": {
      "displayName": "Aitor Donado",
      "userId": "08246046509718212083"
     },
     "user_tz": -120
    },
    "id": "1UyhmTOKzKQ5",
    "outputId": "63ea3669-586f-4cbc-ffd3-bd2e40fb496f"
   },
   "outputs": [],
   "source": [
    "registros_comunes = biblioteca[biblioteca.index.isin(piscinas.index)]\n",
    "# registros_comunes = piscinas[piscinas.index.isin(biblioteca.index)]\n"
   ]
  },
  {
   "cell_type": "code",
   "execution_count": 51,
   "metadata": {},
   "outputs": [
    {
     "data": {
      "text/html": [
       "<div>\n",
       "<style scoped>\n",
       "    .dataframe tbody tr th:only-of-type {\n",
       "        vertical-align: middle;\n",
       "    }\n",
       "\n",
       "    .dataframe tbody tr th {\n",
       "        vertical-align: top;\n",
       "    }\n",
       "\n",
       "    .dataframe thead th {\n",
       "        text-align: right;\n",
       "    }\n",
       "</style>\n",
       "<table border=\"1\" class=\"dataframe\">\n",
       "  <thead>\n",
       "    <tr style=\"text-align: right;\">\n",
       "      <th></th>\n",
       "      <th>Nombre</th>\n",
       "      <th>Apellidos</th>\n",
       "      <th>Teléfono</th>\n",
       "      <th>Género</th>\n",
       "      <th>Calle</th>\n",
       "      <th>Zona</th>\n",
       "      <th>Inscripción</th>\n",
       "      <th>Nacimiento</th>\n",
       "    </tr>\n",
       "    <tr>\n",
       "      <th>DNI</th>\n",
       "      <th></th>\n",
       "      <th></th>\n",
       "      <th></th>\n",
       "      <th></th>\n",
       "      <th></th>\n",
       "      <th></th>\n",
       "      <th></th>\n",
       "      <th></th>\n",
       "    </tr>\n",
       "  </thead>\n",
       "  <tbody>\n",
       "    <tr>\n",
       "      <th>12345678L</th>\n",
       "      <td>Aitor</td>\n",
       "      <td>Donado Urquizu</td>\n",
       "      <td>645454545</td>\n",
       "      <td>Espionaje</td>\n",
       "      <td>Iturribide</td>\n",
       "      <td>Santutxu</td>\n",
       "      <td>12/12/2024</td>\n",
       "      <td>15/01/1977</td>\n",
       "    </tr>\n",
       "    <tr>\n",
       "      <th>45454123I</th>\n",
       "      <td>María</td>\n",
       "      <td>Díaz García</td>\n",
       "      <td>612121212</td>\n",
       "      <td>Romántico</td>\n",
       "      <td>María Díaz de Haro</td>\n",
       "      <td>Indautxu</td>\n",
       "      <td>10/2/2025</td>\n",
       "      <td>12/05/1994</td>\n",
       "    </tr>\n",
       "    <tr>\n",
       "      <th>77777777K</th>\n",
       "      <td>David</td>\n",
       "      <td>López Suárez</td>\n",
       "      <td>685858585</td>\n",
       "      <td>Historia</td>\n",
       "      <td>Larraskitu</td>\n",
       "      <td>Recalde</td>\n",
       "      <td>7/5/2023</td>\n",
       "      <td>3/3/2000</td>\n",
       "    </tr>\n",
       "    <tr>\n",
       "      <th>58224564J</th>\n",
       "      <td>Vanesa</td>\n",
       "      <td>Sánchez Pérez</td>\n",
       "      <td>677555999</td>\n",
       "      <td>Filosofía</td>\n",
       "      <td>Blas de Otero</td>\n",
       "      <td>Deusto</td>\n",
       "      <td>19/8/2024</td>\n",
       "      <td>7/12/1995</td>\n",
       "    </tr>\n",
       "  </tbody>\n",
       "</table>\n",
       "</div>"
      ],
      "text/plain": [
       "           Nombre       Apellidos   Teléfono     Género               Calle  \\\n",
       "DNI                                                                           \n",
       "12345678L   Aitor  Donado Urquizu  645454545  Espionaje          Iturribide   \n",
       "45454123I   María     Díaz García  612121212  Romántico  María Díaz de Haro   \n",
       "77777777K   David    López Suárez  685858585   Historia          Larraskitu   \n",
       "58224564J  Vanesa   Sánchez Pérez  677555999  Filosofía       Blas de Otero   \n",
       "\n",
       "               Zona Inscripción  Nacimiento  \n",
       "DNI                                          \n",
       "12345678L  Santutxu  12/12/2024  15/01/1977  \n",
       "45454123I  Indautxu   10/2/2025  12/05/1994  \n",
       "77777777K   Recalde    7/5/2023    3/3/2000  \n",
       "58224564J    Deusto   19/8/2024   7/12/1995  "
      ]
     },
     "execution_count": 51,
     "metadata": {},
     "output_type": "execute_result"
    }
   ],
   "source": [
    "registros_comunes"
   ]
  },
  {
   "cell_type": "code",
   "execution_count": 52,
   "metadata": {
    "colab": {
     "base_uri": "https://localhost:8080/"
    },
    "executionInfo": {
     "elapsed": 4,
     "status": "ok",
     "timestamp": 1747562022714,
     "user": {
      "displayName": "Aitor Donado",
      "userId": "08246046509718212083"
     },
     "user_tz": -120
    },
    "id": "m0QNOAjzUSL6",
    "outputId": "33ee00a9-5032-4b3b-c036-144f34729fcf"
   },
   "outputs": [
    {
     "data": {
      "text/plain": [
       "Index(['12345678L', '45454123I', '77777777K', '58224564J'], dtype='object', name='DNI')"
      ]
     },
     "execution_count": 52,
     "metadata": {},
     "output_type": "execute_result"
    }
   ],
   "source": [
    "biblioteca.index.intersection(piscinas.index)"
   ]
  },
  {
   "cell_type": "code",
   "execution_count": 53,
   "metadata": {
    "colab": {
     "base_uri": "https://localhost:8080/",
     "height": 313
    },
    "executionInfo": {
     "elapsed": 17,
     "status": "ok",
     "timestamp": 1747562048327,
     "user": {
      "displayName": "Aitor Donado",
      "userId": "08246046509718212083"
     },
     "user_tz": -120
    },
    "id": "DeK4MOPjs1F2",
    "outputId": "1a36960b-aea8-4b8f-8f25-d8ce4e2e83f1"
   },
   "outputs": [
    {
     "data": {
      "text/html": [
       "<div>\n",
       "<style scoped>\n",
       "    .dataframe tbody tr th:only-of-type {\n",
       "        vertical-align: middle;\n",
       "    }\n",
       "\n",
       "    .dataframe tbody tr th {\n",
       "        vertical-align: top;\n",
       "    }\n",
       "\n",
       "    .dataframe thead th {\n",
       "        text-align: right;\n",
       "    }\n",
       "</style>\n",
       "<table border=\"1\" class=\"dataframe\">\n",
       "  <thead>\n",
       "    <tr style=\"text-align: right;\">\n",
       "      <th></th>\n",
       "      <th>Nombre</th>\n",
       "      <th>Apellidos</th>\n",
       "      <th>Teléfono</th>\n",
       "      <th>Género</th>\n",
       "      <th>Calle</th>\n",
       "      <th>Zona</th>\n",
       "      <th>Inscripción</th>\n",
       "      <th>Nacimiento</th>\n",
       "    </tr>\n",
       "    <tr>\n",
       "      <th>DNI</th>\n",
       "      <th></th>\n",
       "      <th></th>\n",
       "      <th></th>\n",
       "      <th></th>\n",
       "      <th></th>\n",
       "      <th></th>\n",
       "      <th></th>\n",
       "      <th></th>\n",
       "    </tr>\n",
       "  </thead>\n",
       "  <tbody>\n",
       "    <tr>\n",
       "      <th>12345678L</th>\n",
       "      <td>Aitor</td>\n",
       "      <td>Donado Urquizu</td>\n",
       "      <td>645454545</td>\n",
       "      <td>Espionaje</td>\n",
       "      <td>Iturribide</td>\n",
       "      <td>Santutxu</td>\n",
       "      <td>12/12/2024</td>\n",
       "      <td>15/01/1977</td>\n",
       "    </tr>\n",
       "    <tr>\n",
       "      <th>45454123I</th>\n",
       "      <td>María</td>\n",
       "      <td>Díaz García</td>\n",
       "      <td>612121212</td>\n",
       "      <td>Romántico</td>\n",
       "      <td>María Díaz de Haro</td>\n",
       "      <td>Indautxu</td>\n",
       "      <td>10/2/2025</td>\n",
       "      <td>12/05/1994</td>\n",
       "    </tr>\n",
       "    <tr>\n",
       "      <th>77777777K</th>\n",
       "      <td>David</td>\n",
       "      <td>López Suárez</td>\n",
       "      <td>685858585</td>\n",
       "      <td>Historia</td>\n",
       "      <td>Larraskitu</td>\n",
       "      <td>Recalde</td>\n",
       "      <td>7/5/2023</td>\n",
       "      <td>3/3/2000</td>\n",
       "    </tr>\n",
       "    <tr>\n",
       "      <th>58224564J</th>\n",
       "      <td>Vanesa</td>\n",
       "      <td>Sánchez Pérez</td>\n",
       "      <td>677555999</td>\n",
       "      <td>Filosofía</td>\n",
       "      <td>Blas de Otero</td>\n",
       "      <td>Deusto</td>\n",
       "      <td>19/8/2024</td>\n",
       "      <td>7/12/1995</td>\n",
       "    </tr>\n",
       "  </tbody>\n",
       "</table>\n",
       "</div>"
      ],
      "text/plain": [
       "           Nombre       Apellidos   Teléfono     Género               Calle  \\\n",
       "DNI                                                                           \n",
       "12345678L   Aitor  Donado Urquizu  645454545  Espionaje          Iturribide   \n",
       "45454123I   María     Díaz García  612121212  Romántico  María Díaz de Haro   \n",
       "77777777K   David    López Suárez  685858585   Historia          Larraskitu   \n",
       "58224564J  Vanesa   Sánchez Pérez  677555999  Filosofía       Blas de Otero   \n",
       "\n",
       "               Zona Inscripción  Nacimiento  \n",
       "DNI                                          \n",
       "12345678L  Santutxu  12/12/2024  15/01/1977  \n",
       "45454123I  Indautxu   10/2/2025  12/05/1994  \n",
       "77777777K   Recalde    7/5/2023    3/3/2000  \n",
       "58224564J    Deusto   19/8/2024   7/12/1995  "
      ]
     },
     "execution_count": 53,
     "metadata": {},
     "output_type": "execute_result"
    }
   ],
   "source": [
    "biblioteca.loc[biblioteca.index.intersection(piscinas.index)]"
   ]
  },
  {
   "cell_type": "markdown",
   "metadata": {
    "id": "F0QS2tYC0XQj"
   },
   "source": [
    "No puedo usar el DNI directamente entre los corchetes como hicimos con el filtro booleano porque me buscaría los DNIs en los nombres de las columnas"
   ]
  },
  {
   "cell_type": "code",
   "execution_count": null,
   "metadata": {
    "executionInfo": {
     "elapsed": 9,
     "status": "ok",
     "timestamp": 1747562212791,
     "user": {
      "displayName": "Aitor Donado",
      "userId": "08246046509718212083"
     },
     "user_tz": -120
    },
    "id": "RcjMF6ls0NaF"
   },
   "outputs": [],
   "source": [
    "# biblioteca[biblioteca.index.intersection(piscinas.index)]"
   ]
  },
  {
   "cell_type": "markdown",
   "metadata": {
    "id": "htiU0b5YzKQ5"
   },
   "source": [
    "## 2.2 Seleccionamos filas diferentes (índice)"
   ]
  },
  {
   "cell_type": "markdown",
   "metadata": {
    "id": "GNQDk_UPzKQ6"
   },
   "source": [
    "### Operando `~` [AlGr+4]"
   ]
  },
  {
   "cell_type": "code",
   "execution_count": 54,
   "metadata": {
    "colab": {
     "base_uri": "https://localhost:8080/"
    },
    "executionInfo": {
     "elapsed": 303,
     "status": "ok",
     "timestamp": 1727871059157,
     "user": {
      "displayName": "Aitor Donado",
      "userId": "08246046509718212083"
     },
     "user_tz": -120
    },
    "id": "UAD3ThngzKQ6",
    "outputId": "226f0d55-a465-4ee5-e1d5-7797f9e91994"
   },
   "outputs": [
    {
     "data": {
      "text/plain": [
       "Index([False, True, False], dtype='bool')"
      ]
     },
     "execution_count": 54,
     "metadata": {},
     "output_type": "execute_result"
    }
   ],
   "source": [
    "~pd.Index([True, False, True])"
   ]
  },
  {
   "cell_type": "markdown",
   "metadata": {
    "id": "lt9fmFXP0-7k"
   },
   "source": [
    "El usuario que está en la biblioteca pero no en las piscinas"
   ]
  },
  {
   "cell_type": "code",
   "execution_count": 55,
   "metadata": {
    "colab": {
     "base_uri": "https://localhost:8080/",
     "height": 149
    },
    "executionInfo": {
     "elapsed": 28,
     "status": "ok",
     "timestamp": 1747562246289,
     "user": {
      "displayName": "Aitor Donado",
      "userId": "08246046509718212083"
     },
     "user_tz": -120
    },
    "id": "GDg8R2L0zKQ8",
    "outputId": "c0c4162e-e89f-4859-928e-697069509ed9"
   },
   "outputs": [
    {
     "data": {
      "text/html": [
       "<div>\n",
       "<style scoped>\n",
       "    .dataframe tbody tr th:only-of-type {\n",
       "        vertical-align: middle;\n",
       "    }\n",
       "\n",
       "    .dataframe tbody tr th {\n",
       "        vertical-align: top;\n",
       "    }\n",
       "\n",
       "    .dataframe thead th {\n",
       "        text-align: right;\n",
       "    }\n",
       "</style>\n",
       "<table border=\"1\" class=\"dataframe\">\n",
       "  <thead>\n",
       "    <tr style=\"text-align: right;\">\n",
       "      <th></th>\n",
       "      <th>Nombre</th>\n",
       "      <th>Apellidos</th>\n",
       "      <th>Teléfono</th>\n",
       "      <th>Género</th>\n",
       "      <th>Calle</th>\n",
       "      <th>Zona</th>\n",
       "      <th>Inscripción</th>\n",
       "      <th>Nacimiento</th>\n",
       "    </tr>\n",
       "    <tr>\n",
       "      <th>DNI</th>\n",
       "      <th></th>\n",
       "      <th></th>\n",
       "      <th></th>\n",
       "      <th></th>\n",
       "      <th></th>\n",
       "      <th></th>\n",
       "      <th></th>\n",
       "      <th></th>\n",
       "    </tr>\n",
       "  </thead>\n",
       "  <tbody>\n",
       "    <tr>\n",
       "      <th>85957515J</th>\n",
       "      <td>Gregorio</td>\n",
       "      <td>Gómez Gómez</td>\n",
       "      <td>652525252</td>\n",
       "      <td>Bricolaje</td>\n",
       "      <td>Zabalbide</td>\n",
       "      <td>Santutxu</td>\n",
       "      <td>12/7/1955</td>\n",
       "      <td>3/3/1993</td>\n",
       "    </tr>\n",
       "  </tbody>\n",
       "</table>\n",
       "</div>"
      ],
      "text/plain": [
       "             Nombre    Apellidos   Teléfono     Género      Calle      Zona  \\\n",
       "DNI                                                                           \n",
       "85957515J  Gregorio  Gómez Gómez  652525252  Bricolaje  Zabalbide  Santutxu   \n",
       "\n",
       "          Inscripción Nacimiento  \n",
       "DNI                               \n",
       "85957515J   12/7/1955   3/3/1993  "
      ]
     },
     "execution_count": 55,
     "metadata": {},
     "output_type": "execute_result"
    }
   ],
   "source": [
    "biblioteca[~biblioteca.index.isin(piscinas.index)]"
   ]
  },
  {
   "cell_type": "markdown",
   "metadata": {
    "id": "yHwGK6Hk1GfJ"
   },
   "source": [
    "El usuario que está en las piscinas pero no en la biblioteca"
   ]
  },
  {
   "cell_type": "code",
   "execution_count": 56,
   "metadata": {
    "colab": {
     "base_uri": "https://localhost:8080/",
     "height": 149
    },
    "executionInfo": {
     "elapsed": 7,
     "status": "ok",
     "timestamp": 1747562339602,
     "user": {
      "displayName": "Aitor Donado",
      "userId": "08246046509718212083"
     },
     "user_tz": -120
    },
    "id": "MmnYa7vd1GfK",
    "outputId": "7ed7c29d-9303-4fb1-f4c3-26e95668c119"
   },
   "outputs": [
    {
     "data": {
      "text/html": [
       "<div>\n",
       "<style scoped>\n",
       "    .dataframe tbody tr th:only-of-type {\n",
       "        vertical-align: middle;\n",
       "    }\n",
       "\n",
       "    .dataframe tbody tr th {\n",
       "        vertical-align: top;\n",
       "    }\n",
       "\n",
       "    .dataframe thead th {\n",
       "        text-align: right;\n",
       "    }\n",
       "</style>\n",
       "<table border=\"1\" class=\"dataframe\">\n",
       "  <thead>\n",
       "    <tr style=\"text-align: right;\">\n",
       "      <th></th>\n",
       "      <th>Nombre</th>\n",
       "      <th>Apellidos</th>\n",
       "      <th>email</th>\n",
       "      <th>Teléfono</th>\n",
       "      <th>Tiempos_largo</th>\n",
       "      <th>Zona</th>\n",
       "      <th>Inscripción</th>\n",
       "      <th>Nacimiento</th>\n",
       "    </tr>\n",
       "    <tr>\n",
       "      <th>DNI</th>\n",
       "      <th></th>\n",
       "      <th></th>\n",
       "      <th></th>\n",
       "      <th></th>\n",
       "      <th></th>\n",
       "      <th></th>\n",
       "      <th></th>\n",
       "      <th></th>\n",
       "    </tr>\n",
       "  </thead>\n",
       "  <tbody>\n",
       "    <tr>\n",
       "      <th>13131313G</th>\n",
       "      <td>Evaristo</td>\n",
       "      <td>González Sanz</td>\n",
       "      <td>elreydelabaraja@gmail.com</td>\n",
       "      <td>612345678</td>\n",
       "      <td>1.2</td>\n",
       "      <td>Recalde</td>\n",
       "      <td>13/12/2013</td>\n",
       "      <td>15/5/1962</td>\n",
       "    </tr>\n",
       "  </tbody>\n",
       "</table>\n",
       "</div>"
      ],
      "text/plain": [
       "             Nombre      Apellidos                      email   Teléfono  \\\n",
       "DNI                                                                        \n",
       "13131313G  Evaristo  González Sanz  elreydelabaraja@gmail.com  612345678   \n",
       "\n",
       "           Tiempos_largo     Zona Inscripción Nacimiento  \n",
       "DNI                                                       \n",
       "13131313G            1.2  Recalde  13/12/2013  15/5/1962  "
      ]
     },
     "execution_count": 56,
     "metadata": {},
     "output_type": "execute_result"
    }
   ],
   "source": [
    "piscinas[~piscinas.index.isin(biblioteca.index)]"
   ]
  },
  {
   "cell_type": "markdown",
   "metadata": {
    "id": "Ig2b82Au4eQS"
   },
   "source": [
    "De otra manera..."
   ]
  },
  {
   "cell_type": "code",
   "execution_count": 58,
   "metadata": {
    "colab": {
     "base_uri": "https://localhost:8080/"
    },
    "executionInfo": {
     "elapsed": 9,
     "status": "ok",
     "timestamp": 1747562394637,
     "user": {
      "displayName": "Aitor Donado",
      "userId": "08246046509718212083"
     },
     "user_tz": -120
    },
    "id": "yFfMDSV5U1ob",
    "outputId": "797aa1cd-1303-4991-b29d-549f61c12687"
   },
   "outputs": [
    {
     "data": {
      "text/plain": [
       "Index(['13131313G'], dtype='object', name='DNI')"
      ]
     },
     "execution_count": 58,
     "metadata": {},
     "output_type": "execute_result"
    }
   ],
   "source": [
    "piscinas.index.difference(biblioteca.index)"
   ]
  },
  {
   "cell_type": "code",
   "execution_count": 59,
   "metadata": {
    "colab": {
     "base_uri": "https://localhost:8080/",
     "height": 149
    },
    "executionInfo": {
     "elapsed": 25,
     "status": "ok",
     "timestamp": 1747562397736,
     "user": {
      "displayName": "Aitor Donado",
      "userId": "08246046509718212083"
     },
     "user_tz": -120
    },
    "id": "umqaQKaEzKQ8",
    "outputId": "47b0a746-f19e-40cb-b6d4-bba25351a2e9"
   },
   "outputs": [
    {
     "data": {
      "text/html": [
       "<div>\n",
       "<style scoped>\n",
       "    .dataframe tbody tr th:only-of-type {\n",
       "        vertical-align: middle;\n",
       "    }\n",
       "\n",
       "    .dataframe tbody tr th {\n",
       "        vertical-align: top;\n",
       "    }\n",
       "\n",
       "    .dataframe thead th {\n",
       "        text-align: right;\n",
       "    }\n",
       "</style>\n",
       "<table border=\"1\" class=\"dataframe\">\n",
       "  <thead>\n",
       "    <tr style=\"text-align: right;\">\n",
       "      <th></th>\n",
       "      <th>Nombre</th>\n",
       "      <th>Apellidos</th>\n",
       "      <th>email</th>\n",
       "      <th>Teléfono</th>\n",
       "      <th>Tiempos_largo</th>\n",
       "      <th>Zona</th>\n",
       "      <th>Inscripción</th>\n",
       "      <th>Nacimiento</th>\n",
       "    </tr>\n",
       "    <tr>\n",
       "      <th>DNI</th>\n",
       "      <th></th>\n",
       "      <th></th>\n",
       "      <th></th>\n",
       "      <th></th>\n",
       "      <th></th>\n",
       "      <th></th>\n",
       "      <th></th>\n",
       "      <th></th>\n",
       "    </tr>\n",
       "  </thead>\n",
       "  <tbody>\n",
       "    <tr>\n",
       "      <th>13131313G</th>\n",
       "      <td>Evaristo</td>\n",
       "      <td>González Sanz</td>\n",
       "      <td>elreydelabaraja@gmail.com</td>\n",
       "      <td>612345678</td>\n",
       "      <td>1.2</td>\n",
       "      <td>Recalde</td>\n",
       "      <td>13/12/2013</td>\n",
       "      <td>15/5/1962</td>\n",
       "    </tr>\n",
       "  </tbody>\n",
       "</table>\n",
       "</div>"
      ],
      "text/plain": [
       "             Nombre      Apellidos                      email   Teléfono  \\\n",
       "DNI                                                                        \n",
       "13131313G  Evaristo  González Sanz  elreydelabaraja@gmail.com  612345678   \n",
       "\n",
       "           Tiempos_largo     Zona Inscripción Nacimiento  \n",
       "DNI                                                       \n",
       "13131313G            1.2  Recalde  13/12/2013  15/5/1962  "
      ]
     },
     "execution_count": 59,
     "metadata": {},
     "output_type": "execute_result"
    }
   ],
   "source": [
    "piscinas.loc[piscinas.index.difference(biblioteca.index)]"
   ]
  },
  {
   "cell_type": "markdown",
   "metadata": {
    "id": "qK6P95Ve4pwz"
   },
   "source": [
    "... y la tercera manera"
   ]
  },
  {
   "cell_type": "code",
   "execution_count": 60,
   "metadata": {
    "colab": {
     "base_uri": "https://localhost:8080/"
    },
    "executionInfo": {
     "elapsed": 316,
     "status": "ok",
     "timestamp": 1731581956448,
     "user": {
      "displayName": "Aitor Donado",
      "userId": "08246046509718212083"
     },
     "user_tz": -60
    },
    "id": "bhDV8cUbzKQ8",
    "outputId": "e18afdc8-88dc-4685-ff6c-f5b3e2c3eba0"
   },
   "outputs": [
    {
     "data": {
      "text/plain": [
       "array([False,  True, False])"
      ]
     },
     "execution_count": 60,
     "metadata": {},
     "output_type": "execute_result"
    }
   ],
   "source": [
    "pd.Index([True, False, True]) == False"
   ]
  },
  {
   "cell_type": "code",
   "execution_count": 61,
   "metadata": {
    "colab": {
     "base_uri": "https://localhost:8080/",
     "height": 149
    },
    "executionInfo": {
     "elapsed": 19,
     "status": "ok",
     "timestamp": 1747562436708,
     "user": {
      "displayName": "Aitor Donado",
      "userId": "08246046509718212083"
     },
     "user_tz": -120
    },
    "id": "B98xUINDzKQ9",
    "outputId": "72c44a1c-94cd-4c50-dbc9-81a2f4e64279"
   },
   "outputs": [
    {
     "data": {
      "text/html": [
       "<div>\n",
       "<style scoped>\n",
       "    .dataframe tbody tr th:only-of-type {\n",
       "        vertical-align: middle;\n",
       "    }\n",
       "\n",
       "    .dataframe tbody tr th {\n",
       "        vertical-align: top;\n",
       "    }\n",
       "\n",
       "    .dataframe thead th {\n",
       "        text-align: right;\n",
       "    }\n",
       "</style>\n",
       "<table border=\"1\" class=\"dataframe\">\n",
       "  <thead>\n",
       "    <tr style=\"text-align: right;\">\n",
       "      <th></th>\n",
       "      <th>Nombre</th>\n",
       "      <th>Apellidos</th>\n",
       "      <th>email</th>\n",
       "      <th>Teléfono</th>\n",
       "      <th>Tiempos_largo</th>\n",
       "      <th>Zona</th>\n",
       "      <th>Inscripción</th>\n",
       "      <th>Nacimiento</th>\n",
       "    </tr>\n",
       "    <tr>\n",
       "      <th>DNI</th>\n",
       "      <th></th>\n",
       "      <th></th>\n",
       "      <th></th>\n",
       "      <th></th>\n",
       "      <th></th>\n",
       "      <th></th>\n",
       "      <th></th>\n",
       "      <th></th>\n",
       "    </tr>\n",
       "  </thead>\n",
       "  <tbody>\n",
       "    <tr>\n",
       "      <th>13131313G</th>\n",
       "      <td>Evaristo</td>\n",
       "      <td>González Sanz</td>\n",
       "      <td>elreydelabaraja@gmail.com</td>\n",
       "      <td>612345678</td>\n",
       "      <td>1.2</td>\n",
       "      <td>Recalde</td>\n",
       "      <td>13/12/2013</td>\n",
       "      <td>15/5/1962</td>\n",
       "    </tr>\n",
       "  </tbody>\n",
       "</table>\n",
       "</div>"
      ],
      "text/plain": [
       "             Nombre      Apellidos                      email   Teléfono  \\\n",
       "DNI                                                                        \n",
       "13131313G  Evaristo  González Sanz  elreydelabaraja@gmail.com  612345678   \n",
       "\n",
       "           Tiempos_largo     Zona Inscripción Nacimiento  \n",
       "DNI                                                       \n",
       "13131313G            1.2  Recalde  13/12/2013  15/5/1962  "
      ]
     },
     "execution_count": 61,
     "metadata": {},
     "output_type": "execute_result"
    }
   ],
   "source": [
    "piscinas[piscinas.index.isin(biblioteca.index) == False]"
   ]
  },
  {
   "cell_type": "markdown",
   "metadata": {
    "id": "s7VNI5GGzKQ9"
   },
   "source": [
    "## 2.3 Seleccionar filas en base a dos tablas teniendo en cuenta una variable"
   ]
  },
  {
   "cell_type": "markdown",
   "metadata": {
    "id": "dCyeVwkx1sKN"
   },
   "source": [
    "Puedo seleccionar filas sin tener que poner una columna como índice. Usando el valor que se guarde en una o varias columnas"
   ]
  },
  {
   "cell_type": "code",
   "execution_count": 62,
   "metadata": {
    "colab": {
     "base_uri": "https://localhost:8080/"
    },
    "executionInfo": {
     "elapsed": 8,
     "status": "ok",
     "timestamp": 1747562561722,
     "user": {
      "displayName": "Aitor Donado",
      "userId": "08246046509718212083"
     },
     "user_tz": -120
    },
    "id": "24dGxGRPAwQ6",
    "outputId": "f5cb9b4b-d633-45a9-ff5a-9a63a9a10569"
   },
   "outputs": [
    {
     "data": {
      "text/plain": [
       "array(['Aitor', 'María', 'Gregorio', 'David', 'Vanesa'], dtype=object)"
      ]
     },
     "execution_count": 62,
     "metadata": {},
     "output_type": "execute_result"
    }
   ],
   "source": [
    "biblioteca[\"Nombre\"].unique()"
   ]
  },
  {
   "cell_type": "markdown",
   "metadata": {
    "id": "sbQ0aSA9CFzr"
   },
   "source": [
    "Vamos a crear un DataFrame que tiene todas las categorías de \"LotShape\" excepto \"Reg\""
   ]
  },
  {
   "cell_type": "code",
   "execution_count": 63,
   "metadata": {
    "colab": {
     "base_uri": "https://localhost:8080/",
     "height": 143
    },
    "executionInfo": {
     "elapsed": 6,
     "status": "ok",
     "timestamp": 1747562618072,
     "user": {
      "displayName": "Aitor Donado",
      "userId": "08246046509718212083"
     },
     "user_tz": -120
    },
    "id": "PdgpeeyKA_z-",
    "outputId": "1f2b7d81-3aae-4250-e71a-2cf983d04a32"
   },
   "outputs": [],
   "source": [
    "seleccionados = pd.DataFrame(['Aitor', 'Gregorio', 'Vanesa'], columns= [\"Nombre\"])\n"
   ]
  },
  {
   "cell_type": "code",
   "execution_count": 64,
   "metadata": {},
   "outputs": [
    {
     "data": {
      "text/html": [
       "<div>\n",
       "<style scoped>\n",
       "    .dataframe tbody tr th:only-of-type {\n",
       "        vertical-align: middle;\n",
       "    }\n",
       "\n",
       "    .dataframe tbody tr th {\n",
       "        vertical-align: top;\n",
       "    }\n",
       "\n",
       "    .dataframe thead th {\n",
       "        text-align: right;\n",
       "    }\n",
       "</style>\n",
       "<table border=\"1\" class=\"dataframe\">\n",
       "  <thead>\n",
       "    <tr style=\"text-align: right;\">\n",
       "      <th></th>\n",
       "      <th>Nombre</th>\n",
       "    </tr>\n",
       "  </thead>\n",
       "  <tbody>\n",
       "    <tr>\n",
       "      <th>0</th>\n",
       "      <td>Aitor</td>\n",
       "    </tr>\n",
       "    <tr>\n",
       "      <th>1</th>\n",
       "      <td>Gregorio</td>\n",
       "    </tr>\n",
       "    <tr>\n",
       "      <th>2</th>\n",
       "      <td>Vanesa</td>\n",
       "    </tr>\n",
       "  </tbody>\n",
       "</table>\n",
       "</div>"
      ],
      "text/plain": [
       "     Nombre\n",
       "0     Aitor\n",
       "1  Gregorio\n",
       "2    Vanesa"
      ]
     },
     "execution_count": 64,
     "metadata": {},
     "output_type": "execute_result"
    }
   ],
   "source": [
    "seleccionados"
   ]
  },
  {
   "cell_type": "code",
   "execution_count": null,
   "metadata": {
    "colab": {
     "base_uri": "https://localhost:8080/",
     "height": 272
    },
    "executionInfo": {
     "elapsed": 29,
     "status": "ok",
     "timestamp": 1747562643798,
     "user": {
      "displayName": "Aitor Donado",
      "userId": "08246046509718212083"
     },
     "user_tz": -120
    },
    "id": "1cJZsdsYVkym",
    "outputId": "d1ed7dce-f044-4f5c-f5f2-2759dde8f806"
   },
   "outputs": [
    {
     "data": {
      "text/plain": [
       "DNI\n",
       "12345678L     True\n",
       "45454123I    False\n",
       "85957515J     True\n",
       "77777777K    False\n",
       "58224564J     True\n",
       "Name: Nombre, dtype: bool"
      ]
     },
     "execution_count": 65,
     "metadata": {},
     "output_type": "execute_result"
    }
   ],
   "source": [
    "#                            df\n",
    "biblioteca[\"Nombre\"].isin(seleccionados[\"Nombre\"])"
   ]
  },
  {
   "cell_type": "markdown",
   "metadata": {
    "id": "y_L58TqDDojH"
   },
   "source": [
    "... y cuáles NO"
   ]
  },
  {
   "cell_type": "code",
   "execution_count": 66,
   "metadata": {
    "colab": {
     "base_uri": "https://localhost:8080/",
     "height": 272
    },
    "executionInfo": {
     "elapsed": 7,
     "status": "ok",
     "timestamp": 1747562730713,
     "user": {
      "displayName": "Aitor Donado",
      "userId": "08246046509718212083"
     },
     "user_tz": -120
    },
    "id": "6L1Kw0bdzKQ9",
    "outputId": "6407f849-07ca-4707-bcfb-4b73035435bc"
   },
   "outputs": [
    {
     "data": {
      "text/plain": [
       "DNI\n",
       "12345678L    False\n",
       "45454123I     True\n",
       "85957515J    False\n",
       "77777777K     True\n",
       "58224564J    False\n",
       "Name: Nombre, dtype: bool"
      ]
     },
     "execution_count": 66,
     "metadata": {},
     "output_type": "execute_result"
    }
   ],
   "source": [
    "~biblioteca[\"Nombre\"].isin(seleccionados[\"Nombre\"])"
   ]
  },
  {
   "cell_type": "markdown",
   "metadata": {
    "id": "WRJtfJxv3Ore"
   },
   "source": [
    "Usando varias columnas. Veo la coincidencia individual"
   ]
  },
  {
   "cell_type": "code",
   "execution_count": 68,
   "metadata": {},
   "outputs": [
    {
     "data": {
      "text/html": [
       "<div>\n",
       "<style scoped>\n",
       "    .dataframe tbody tr th:only-of-type {\n",
       "        vertical-align: middle;\n",
       "    }\n",
       "\n",
       "    .dataframe tbody tr th {\n",
       "        vertical-align: top;\n",
       "    }\n",
       "\n",
       "    .dataframe thead th {\n",
       "        text-align: right;\n",
       "    }\n",
       "</style>\n",
       "<table border=\"1\" class=\"dataframe\">\n",
       "  <thead>\n",
       "    <tr style=\"text-align: right;\">\n",
       "      <th></th>\n",
       "      <th>Nombre</th>\n",
       "      <th>Apellidos</th>\n",
       "    </tr>\n",
       "    <tr>\n",
       "      <th>DNI</th>\n",
       "      <th></th>\n",
       "      <th></th>\n",
       "    </tr>\n",
       "  </thead>\n",
       "  <tbody>\n",
       "    <tr>\n",
       "      <th>12345678L</th>\n",
       "      <td>Aitor</td>\n",
       "      <td>Donado Urquizu</td>\n",
       "    </tr>\n",
       "    <tr>\n",
       "      <th>45454123I</th>\n",
       "      <td>María</td>\n",
       "      <td>Díaz García</td>\n",
       "    </tr>\n",
       "    <tr>\n",
       "      <th>85957515J</th>\n",
       "      <td>Gregorio</td>\n",
       "      <td>Gómez Gómez</td>\n",
       "    </tr>\n",
       "    <tr>\n",
       "      <th>77777777K</th>\n",
       "      <td>David</td>\n",
       "      <td>López Suárez</td>\n",
       "    </tr>\n",
       "    <tr>\n",
       "      <th>58224564J</th>\n",
       "      <td>Vanesa</td>\n",
       "      <td>Sánchez Pérez</td>\n",
       "    </tr>\n",
       "  </tbody>\n",
       "</table>\n",
       "</div>"
      ],
      "text/plain": [
       "             Nombre       Apellidos\n",
       "DNI                                \n",
       "12345678L     Aitor  Donado Urquizu\n",
       "45454123I     María     Díaz García\n",
       "85957515J  Gregorio     Gómez Gómez\n",
       "77777777K     David    López Suárez\n",
       "58224564J    Vanesa   Sánchez Pérez"
      ]
     },
     "execution_count": 68,
     "metadata": {},
     "output_type": "execute_result"
    }
   ],
   "source": [
    "biblioteca[[\"Nombre\", \"Apellidos\"]]"
   ]
  },
  {
   "cell_type": "code",
   "execution_count": 69,
   "metadata": {},
   "outputs": [
    {
     "data": {
      "text/html": [
       "<div>\n",
       "<style scoped>\n",
       "    .dataframe tbody tr th:only-of-type {\n",
       "        vertical-align: middle;\n",
       "    }\n",
       "\n",
       "    .dataframe tbody tr th {\n",
       "        vertical-align: top;\n",
       "    }\n",
       "\n",
       "    .dataframe thead th {\n",
       "        text-align: right;\n",
       "    }\n",
       "</style>\n",
       "<table border=\"1\" class=\"dataframe\">\n",
       "  <thead>\n",
       "    <tr style=\"text-align: right;\">\n",
       "      <th></th>\n",
       "      <th>Nombre</th>\n",
       "      <th>Apellidos</th>\n",
       "    </tr>\n",
       "    <tr>\n",
       "      <th>DNI</th>\n",
       "      <th></th>\n",
       "      <th></th>\n",
       "    </tr>\n",
       "  </thead>\n",
       "  <tbody>\n",
       "    <tr>\n",
       "      <th>12345678L</th>\n",
       "      <td>Aitor</td>\n",
       "      <td>Donado Urquizu</td>\n",
       "    </tr>\n",
       "    <tr>\n",
       "      <th>45454123I</th>\n",
       "      <td>María</td>\n",
       "      <td>Díaz García</td>\n",
       "    </tr>\n",
       "    <tr>\n",
       "      <th>77777777K</th>\n",
       "      <td>David</td>\n",
       "      <td>López Suárez</td>\n",
       "    </tr>\n",
       "    <tr>\n",
       "      <th>13131313G</th>\n",
       "      <td>Evaristo</td>\n",
       "      <td>González Sanz</td>\n",
       "    </tr>\n",
       "    <tr>\n",
       "      <th>58224564J</th>\n",
       "      <td>Vanesa</td>\n",
       "      <td>Sánchez Pérez</td>\n",
       "    </tr>\n",
       "  </tbody>\n",
       "</table>\n",
       "</div>"
      ],
      "text/plain": [
       "             Nombre       Apellidos\n",
       "DNI                                \n",
       "12345678L     Aitor  Donado Urquizu\n",
       "45454123I     María     Díaz García\n",
       "77777777K     David    López Suárez\n",
       "13131313G  Evaristo   González Sanz\n",
       "58224564J    Vanesa   Sánchez Pérez"
      ]
     },
     "execution_count": 69,
     "metadata": {},
     "output_type": "execute_result"
    }
   ],
   "source": [
    "piscinas[[\"Nombre\", \"Apellidos\"]]"
   ]
  },
  {
   "cell_type": "code",
   "execution_count": 67,
   "metadata": {
    "colab": {
     "base_uri": "https://localhost:8080/",
     "height": 237
    },
    "executionInfo": {
     "elapsed": 3,
     "status": "ok",
     "timestamp": 1747562816996,
     "user": {
      "displayName": "Aitor Donado",
      "userId": "08246046509718212083"
     },
     "user_tz": -120
    },
    "id": "fpbI4rAG23je",
    "outputId": "d7c13307-3ca1-448d-a055-b738d05810c9"
   },
   "outputs": [
    {
     "data": {
      "text/html": [
       "<div>\n",
       "<style scoped>\n",
       "    .dataframe tbody tr th:only-of-type {\n",
       "        vertical-align: middle;\n",
       "    }\n",
       "\n",
       "    .dataframe tbody tr th {\n",
       "        vertical-align: top;\n",
       "    }\n",
       "\n",
       "    .dataframe thead th {\n",
       "        text-align: right;\n",
       "    }\n",
       "</style>\n",
       "<table border=\"1\" class=\"dataframe\">\n",
       "  <thead>\n",
       "    <tr style=\"text-align: right;\">\n",
       "      <th></th>\n",
       "      <th>Nombre</th>\n",
       "      <th>Apellidos</th>\n",
       "    </tr>\n",
       "    <tr>\n",
       "      <th>DNI</th>\n",
       "      <th></th>\n",
       "      <th></th>\n",
       "    </tr>\n",
       "  </thead>\n",
       "  <tbody>\n",
       "    <tr>\n",
       "      <th>12345678L</th>\n",
       "      <td>False</td>\n",
       "      <td>False</td>\n",
       "    </tr>\n",
       "    <tr>\n",
       "      <th>45454123I</th>\n",
       "      <td>False</td>\n",
       "      <td>False</td>\n",
       "    </tr>\n",
       "    <tr>\n",
       "      <th>85957515J</th>\n",
       "      <td>True</td>\n",
       "      <td>True</td>\n",
       "    </tr>\n",
       "    <tr>\n",
       "      <th>77777777K</th>\n",
       "      <td>False</td>\n",
       "      <td>False</td>\n",
       "    </tr>\n",
       "    <tr>\n",
       "      <th>58224564J</th>\n",
       "      <td>False</td>\n",
       "      <td>False</td>\n",
       "    </tr>\n",
       "  </tbody>\n",
       "</table>\n",
       "</div>"
      ],
      "text/plain": [
       "           Nombre  Apellidos\n",
       "DNI                         \n",
       "12345678L   False      False\n",
       "45454123I   False      False\n",
       "85957515J    True       True\n",
       "77777777K   False      False\n",
       "58224564J   False      False"
      ]
     },
     "execution_count": 67,
     "metadata": {},
     "output_type": "execute_result"
    }
   ],
   "source": [
    "~biblioteca[[\"Nombre\", \"Apellidos\"]].isin(piscinas[[\"Nombre\", \"Apellidos\"]])"
   ]
  },
  {
   "cell_type": "code",
   "execution_count": 70,
   "metadata": {},
   "outputs": [
    {
     "data": {
      "text/html": [
       "<div>\n",
       "<style scoped>\n",
       "    .dataframe tbody tr th:only-of-type {\n",
       "        vertical-align: middle;\n",
       "    }\n",
       "\n",
       "    .dataframe tbody tr th {\n",
       "        vertical-align: top;\n",
       "    }\n",
       "\n",
       "    .dataframe thead th {\n",
       "        text-align: right;\n",
       "    }\n",
       "</style>\n",
       "<table border=\"1\" class=\"dataframe\">\n",
       "  <thead>\n",
       "    <tr style=\"text-align: right;\">\n",
       "      <th></th>\n",
       "      <th>Nombre</th>\n",
       "      <th>Apellidos</th>\n",
       "    </tr>\n",
       "    <tr>\n",
       "      <th>DNI</th>\n",
       "      <th></th>\n",
       "      <th></th>\n",
       "    </tr>\n",
       "  </thead>\n",
       "  <tbody>\n",
       "    <tr>\n",
       "      <th>12345678L</th>\n",
       "      <td>False</td>\n",
       "      <td>False</td>\n",
       "    </tr>\n",
       "    <tr>\n",
       "      <th>45454123I</th>\n",
       "      <td>False</td>\n",
       "      <td>False</td>\n",
       "    </tr>\n",
       "    <tr>\n",
       "      <th>77777777K</th>\n",
       "      <td>False</td>\n",
       "      <td>False</td>\n",
       "    </tr>\n",
       "    <tr>\n",
       "      <th>13131313G</th>\n",
       "      <td>True</td>\n",
       "      <td>True</td>\n",
       "    </tr>\n",
       "    <tr>\n",
       "      <th>58224564J</th>\n",
       "      <td>False</td>\n",
       "      <td>False</td>\n",
       "    </tr>\n",
       "  </tbody>\n",
       "</table>\n",
       "</div>"
      ],
      "text/plain": [
       "           Nombre  Apellidos\n",
       "DNI                         \n",
       "12345678L   False      False\n",
       "45454123I   False      False\n",
       "77777777K   False      False\n",
       "13131313G    True       True\n",
       "58224564J   False      False"
      ]
     },
     "execution_count": 70,
     "metadata": {},
     "output_type": "execute_result"
    }
   ],
   "source": [
    "~piscinas[[\"Nombre\", \"Apellidos\"]].isin(biblioteca[[\"Nombre\", \"Apellidos\"]])"
   ]
  },
  {
   "cell_type": "code",
   "execution_count": null,
   "metadata": {},
   "outputs": [],
   "source": []
  }
 ],
 "metadata": {
  "colab": {
   "provenance": [],
   "toc_visible": true
  },
  "kernelspec": {
   "display_name": "Python 3",
   "language": "python",
   "name": "python3"
  },
  "language_info": {
   "codemirror_mode": {
    "name": "ipython",
    "version": 3
   },
   "file_extension": ".py",
   "mimetype": "text/x-python",
   "name": "python",
   "nbconvert_exporter": "python",
   "pygments_lexer": "ipython3",
   "version": "3.12.7"
  }
 },
 "nbformat": 4,
 "nbformat_minor": 0
}
