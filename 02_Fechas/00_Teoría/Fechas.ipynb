{
 "cells": [
  {
   "cell_type": "markdown",
   "metadata": {
    "id": "TIuAbJR0apgn"
   },
   "source": [
    "# Fechas"
   ]
  },
  {
   "cell_type": "markdown",
   "metadata": {
    "id": "3Mjl4r0KamTK"
   },
   "source": [
    "Establecemos el directorio de trabajo"
   ]
  },
  {
   "cell_type": "code",
   "execution_count": 47,
   "metadata": {
    "executionInfo": {
     "elapsed": 320,
     "status": "ok",
     "timestamp": 1731856277425,
     "user": {
      "displayName": "Aitor Donado",
      "userId": "08246046509718212083"
     },
     "user_tz": -60
    },
    "id": "Yk7LCU6xavrn"
   },
   "outputs": [],
   "source": [
    "import os\n",
    "os.chdir(r\"C:\\americo\\ia_dema\\02_Fechas\\00_Teoría\")"
   ]
  },
  {
   "cell_type": "markdown",
   "metadata": {
    "id": "O3z35rZSalKz"
   },
   "source": [
    "Importamos las librerias necesarias"
   ]
  },
  {
   "cell_type": "code",
   "execution_count": 48,
   "metadata": {
    "executionInfo": {
     "elapsed": 309,
     "status": "ok",
     "timestamp": 1731856279067,
     "user": {
      "displayName": "Aitor Donado",
      "userId": "08246046509718212083"
     },
     "user_tz": -60
    },
    "id": "tG8TxG5Ea0Ve"
   },
   "outputs": [],
   "source": [
    "import pandas as pd\n",
    "import numpy as np"
   ]
  },
  {
   "cell_type": "markdown",
   "metadata": {
    "id": "KYtFMQ67akCN"
   },
   "source": [
    "# Cargamos los datos"
   ]
  },
  {
   "cell_type": "code",
   "execution_count": 49,
   "metadata": {
    "executionInfo": {
     "elapsed": 304,
     "status": "ok",
     "timestamp": 1731856289414,
     "user": {
      "displayName": "Aitor Donado",
      "userId": "08246046509718212083"
     },
     "user_tz": -60
    },
    "id": "Z-YzZ8rCbERg"
   },
   "outputs": [],
   "source": [
    "df2=pd.read_csv(\"Ejemplo_1.csv\", sep=\",\", encoding='latin-1')"
   ]
  },
  {
   "cell_type": "markdown",
   "metadata": {
    "id": "iLahdssDajPB"
   },
   "source": [
    "Sacamos un breve resumen estadistico de las variables"
   ]
  },
  {
   "cell_type": "code",
   "execution_count": 50,
   "metadata": {
    "colab": {
     "base_uri": "https://localhost:8080/",
     "height": 431
    },
    "executionInfo": {
     "elapsed": 310,
     "status": "ok",
     "timestamp": 1731853387655,
     "user": {
      "displayName": "Aitor Donado",
      "userId": "08246046509718212083"
     },
     "user_tz": -60
    },
    "id": "4OpIZdQ8bLeE",
    "outputId": "7f292362-053c-422b-d3a3-a0254b081259"
   },
   "outputs": [
    {
     "data": {
      "text/html": [
       "<div>\n",
       "<style scoped>\n",
       "    .dataframe tbody tr th:only-of-type {\n",
       "        vertical-align: middle;\n",
       "    }\n",
       "\n",
       "    .dataframe tbody tr th {\n",
       "        vertical-align: top;\n",
       "    }\n",
       "\n",
       "    .dataframe thead th {\n",
       "        text-align: right;\n",
       "    }\n",
       "</style>\n",
       "<table border=\"1\" class=\"dataframe\">\n",
       "  <thead>\n",
       "    <tr style=\"text-align: right;\">\n",
       "      <th></th>\n",
       "      <th>date</th>\n",
       "      <th>ws</th>\n",
       "      <th>wd</th>\n",
       "      <th>nox</th>\n",
       "      <th>no2</th>\n",
       "      <th>o3</th>\n",
       "      <th>pm10</th>\n",
       "      <th>so2</th>\n",
       "      <th>co</th>\n",
       "      <th>pm25</th>\n",
       "    </tr>\n",
       "  </thead>\n",
       "  <tbody>\n",
       "    <tr>\n",
       "      <th>count</th>\n",
       "      <td>65533</td>\n",
       "      <td>64907.000000</td>\n",
       "      <td>65314.000000</td>\n",
       "      <td>63110.000000</td>\n",
       "      <td>63095.000000</td>\n",
       "      <td>62947.000000</td>\n",
       "      <td>63372.000000</td>\n",
       "      <td>55499.000000</td>\n",
       "      <td>63604.000000</td>\n",
       "      <td>56759.000000</td>\n",
       "    </tr>\n",
       "    <tr>\n",
       "      <th>unique</th>\n",
       "      <td>65533</td>\n",
       "      <td>NaN</td>\n",
       "      <td>NaN</td>\n",
       "      <td>NaN</td>\n",
       "      <td>NaN</td>\n",
       "      <td>NaN</td>\n",
       "      <td>NaN</td>\n",
       "      <td>NaN</td>\n",
       "      <td>NaN</td>\n",
       "      <td>NaN</td>\n",
       "    </tr>\n",
       "    <tr>\n",
       "      <th>top</th>\n",
       "      <td>01/01/1998 00:00</td>\n",
       "      <td>NaN</td>\n",
       "      <td>NaN</td>\n",
       "      <td>NaN</td>\n",
       "      <td>NaN</td>\n",
       "      <td>NaN</td>\n",
       "      <td>NaN</td>\n",
       "      <td>NaN</td>\n",
       "      <td>NaN</td>\n",
       "      <td>NaN</td>\n",
       "    </tr>\n",
       "    <tr>\n",
       "      <th>freq</th>\n",
       "      <td>1</td>\n",
       "      <td>NaN</td>\n",
       "      <td>NaN</td>\n",
       "      <td>NaN</td>\n",
       "      <td>NaN</td>\n",
       "      <td>NaN</td>\n",
       "      <td>NaN</td>\n",
       "      <td>NaN</td>\n",
       "      <td>NaN</td>\n",
       "      <td>NaN</td>\n",
       "    </tr>\n",
       "    <tr>\n",
       "      <th>mean</th>\n",
       "      <td>NaN</td>\n",
       "      <td>4.488275</td>\n",
       "      <td>200.027100</td>\n",
       "      <td>178.798558</td>\n",
       "      <td>49.129757</td>\n",
       "      <td>7.122150</td>\n",
       "      <td>34.381856</td>\n",
       "      <td>4.754911</td>\n",
       "      <td>1.463840</td>\n",
       "      <td>21.695343</td>\n",
       "    </tr>\n",
       "    <tr>\n",
       "      <th>std</th>\n",
       "      <td>NaN</td>\n",
       "      <td>2.398349</td>\n",
       "      <td>94.457268</td>\n",
       "      <td>121.515278</td>\n",
       "      <td>22.638220</td>\n",
       "      <td>7.539047</td>\n",
       "      <td>20.467023</td>\n",
       "      <td>3.648367</td>\n",
       "      <td>1.120033</td>\n",
       "      <td>12.637921</td>\n",
       "    </tr>\n",
       "    <tr>\n",
       "      <th>min</th>\n",
       "      <td>NaN</td>\n",
       "      <td>-0.240000</td>\n",
       "      <td>0.000000</td>\n",
       "      <td>0.000000</td>\n",
       "      <td>0.000000</td>\n",
       "      <td>-1.000000</td>\n",
       "      <td>-1.000000</td>\n",
       "      <td>-2.167474</td>\n",
       "      <td>-0.033333</td>\n",
       "      <td>-1.000000</td>\n",
       "    </tr>\n",
       "    <tr>\n",
       "      <th>25%</th>\n",
       "      <td>NaN</td>\n",
       "      <td>2.600000</td>\n",
       "      <td>140.000000</td>\n",
       "      <td>82.000000</td>\n",
       "      <td>33.000000</td>\n",
       "      <td>2.000000</td>\n",
       "      <td>22.000000</td>\n",
       "      <td>2.103333</td>\n",
       "      <td>0.634583</td>\n",
       "      <td>13.000000</td>\n",
       "    </tr>\n",
       "    <tr>\n",
       "      <th>50%</th>\n",
       "      <td>NaN</td>\n",
       "      <td>4.100000</td>\n",
       "      <td>210.000000</td>\n",
       "      <td>153.000000</td>\n",
       "      <td>46.000000</td>\n",
       "      <td>4.000000</td>\n",
       "      <td>31.000000</td>\n",
       "      <td>4.000000</td>\n",
       "      <td>1.140000</td>\n",
       "      <td>20.000000</td>\n",
       "    </tr>\n",
       "    <tr>\n",
       "      <th>75%</th>\n",
       "      <td>NaN</td>\n",
       "      <td>5.760000</td>\n",
       "      <td>270.000000</td>\n",
       "      <td>249.000000</td>\n",
       "      <td>61.000000</td>\n",
       "      <td>10.000000</td>\n",
       "      <td>44.000000</td>\n",
       "      <td>6.500000</td>\n",
       "      <td>1.980000</td>\n",
       "      <td>28.000000</td>\n",
       "    </tr>\n",
       "    <tr>\n",
       "      <th>max</th>\n",
       "      <td>NaN</td>\n",
       "      <td>20.160000</td>\n",
       "      <td>360.000000</td>\n",
       "      <td>1144.000000</td>\n",
       "      <td>206.000000</td>\n",
       "      <td>70.000000</td>\n",
       "      <td>801.000000</td>\n",
       "      <td>63.205000</td>\n",
       "      <td>19.705000</td>\n",
       "      <td>398.000000</td>\n",
       "    </tr>\n",
       "  </tbody>\n",
       "</table>\n",
       "</div>"
      ],
      "text/plain": [
       "                    date            ws            wd           nox  \\\n",
       "count              65533  64907.000000  65314.000000  63110.000000   \n",
       "unique             65533           NaN           NaN           NaN   \n",
       "top     01/01/1998 00:00           NaN           NaN           NaN   \n",
       "freq                   1           NaN           NaN           NaN   \n",
       "mean                 NaN      4.488275    200.027100    178.798558   \n",
       "std                  NaN      2.398349     94.457268    121.515278   \n",
       "min                  NaN     -0.240000      0.000000      0.000000   \n",
       "25%                  NaN      2.600000    140.000000     82.000000   \n",
       "50%                  NaN      4.100000    210.000000    153.000000   \n",
       "75%                  NaN      5.760000    270.000000    249.000000   \n",
       "max                  NaN     20.160000    360.000000   1144.000000   \n",
       "\n",
       "                 no2            o3          pm10           so2            co  \\\n",
       "count   63095.000000  62947.000000  63372.000000  55499.000000  63604.000000   \n",
       "unique           NaN           NaN           NaN           NaN           NaN   \n",
       "top              NaN           NaN           NaN           NaN           NaN   \n",
       "freq             NaN           NaN           NaN           NaN           NaN   \n",
       "mean       49.129757      7.122150     34.381856      4.754911      1.463840   \n",
       "std        22.638220      7.539047     20.467023      3.648367      1.120033   \n",
       "min         0.000000     -1.000000     -1.000000     -2.167474     -0.033333   \n",
       "25%        33.000000      2.000000     22.000000      2.103333      0.634583   \n",
       "50%        46.000000      4.000000     31.000000      4.000000      1.140000   \n",
       "75%        61.000000     10.000000     44.000000      6.500000      1.980000   \n",
       "max       206.000000     70.000000    801.000000     63.205000     19.705000   \n",
       "\n",
       "                pm25  \n",
       "count   56759.000000  \n",
       "unique           NaN  \n",
       "top              NaN  \n",
       "freq             NaN  \n",
       "mean       21.695343  \n",
       "std        12.637921  \n",
       "min        -1.000000  \n",
       "25%        13.000000  \n",
       "50%        20.000000  \n",
       "75%        28.000000  \n",
       "max       398.000000  "
      ]
     },
     "execution_count": 50,
     "metadata": {},
     "output_type": "execute_result"
    }
   ],
   "source": [
    "df2.describe(include = 'all')"
   ]
  },
  {
   "cell_type": "markdown",
   "metadata": {
    "id": "MDr8QldibQtr"
   },
   "source": [
    "Podriamos cambiar el nombre de las variables"
   ]
  },
  {
   "cell_type": "code",
   "execution_count": 51,
   "metadata": {
    "colab": {
     "base_uri": "https://localhost:8080/",
     "height": 423
    },
    "executionInfo": {
     "elapsed": 245,
     "status": "ok",
     "timestamp": 1731856638654,
     "user": {
      "displayName": "Aitor Donado",
      "userId": "08246046509718212083"
     },
     "user_tz": -60
    },
    "id": "GX-TA3ZzbcxB",
    "outputId": "cb4cef60-3d32-48dc-fbab-0dd44cc010c9"
   },
   "outputs": [
    {
     "data": {
      "text/html": [
       "<div>\n",
       "<style scoped>\n",
       "    .dataframe tbody tr th:only-of-type {\n",
       "        vertical-align: middle;\n",
       "    }\n",
       "\n",
       "    .dataframe tbody tr th {\n",
       "        vertical-align: top;\n",
       "    }\n",
       "\n",
       "    .dataframe thead th {\n",
       "        text-align: right;\n",
       "    }\n",
       "</style>\n",
       "<table border=\"1\" class=\"dataframe\">\n",
       "  <thead>\n",
       "    <tr style=\"text-align: right;\">\n",
       "      <th></th>\n",
       "      <th>date</th>\n",
       "      <th>Wind_Speed</th>\n",
       "      <th>wd</th>\n",
       "      <th>nox</th>\n",
       "      <th>no2</th>\n",
       "      <th>o3</th>\n",
       "      <th>pm10</th>\n",
       "      <th>so2</th>\n",
       "      <th>co</th>\n",
       "      <th>pm25</th>\n",
       "    </tr>\n",
       "  </thead>\n",
       "  <tbody>\n",
       "    <tr>\n",
       "      <th>0</th>\n",
       "      <td>01/01/1998 00:00</td>\n",
       "      <td>0.60</td>\n",
       "      <td>280.0</td>\n",
       "      <td>285.0</td>\n",
       "      <td>39.0</td>\n",
       "      <td>1.0</td>\n",
       "      <td>29.0</td>\n",
       "      <td>4.7225</td>\n",
       "      <td>3.372500</td>\n",
       "      <td>NaN</td>\n",
       "    </tr>\n",
       "    <tr>\n",
       "      <th>1</th>\n",
       "      <td>01/01/1998 01:00</td>\n",
       "      <td>2.16</td>\n",
       "      <td>230.0</td>\n",
       "      <td>NaN</td>\n",
       "      <td>NaN</td>\n",
       "      <td>NaN</td>\n",
       "      <td>37.0</td>\n",
       "      <td>NaN</td>\n",
       "      <td>NaN</td>\n",
       "      <td>NaN</td>\n",
       "    </tr>\n",
       "    <tr>\n",
       "      <th>2</th>\n",
       "      <td>01/01/1998 02:00</td>\n",
       "      <td>2.76</td>\n",
       "      <td>190.0</td>\n",
       "      <td>NaN</td>\n",
       "      <td>NaN</td>\n",
       "      <td>3.0</td>\n",
       "      <td>34.0</td>\n",
       "      <td>6.8300</td>\n",
       "      <td>9.602500</td>\n",
       "      <td>NaN</td>\n",
       "    </tr>\n",
       "    <tr>\n",
       "      <th>3</th>\n",
       "      <td>01/01/1998 03:00</td>\n",
       "      <td>2.16</td>\n",
       "      <td>170.0</td>\n",
       "      <td>493.0</td>\n",
       "      <td>52.0</td>\n",
       "      <td>3.0</td>\n",
       "      <td>35.0</td>\n",
       "      <td>7.6625</td>\n",
       "      <td>10.217500</td>\n",
       "      <td>NaN</td>\n",
       "    </tr>\n",
       "    <tr>\n",
       "      <th>4</th>\n",
       "      <td>01/01/1998 04:00</td>\n",
       "      <td>2.40</td>\n",
       "      <td>180.0</td>\n",
       "      <td>468.0</td>\n",
       "      <td>78.0</td>\n",
       "      <td>2.0</td>\n",
       "      <td>34.0</td>\n",
       "      <td>8.0700</td>\n",
       "      <td>8.912500</td>\n",
       "      <td>NaN</td>\n",
       "    </tr>\n",
       "    <tr>\n",
       "      <th>...</th>\n",
       "      <td>...</td>\n",
       "      <td>...</td>\n",
       "      <td>...</td>\n",
       "      <td>...</td>\n",
       "      <td>...</td>\n",
       "      <td>...</td>\n",
       "      <td>...</td>\n",
       "      <td>...</td>\n",
       "      <td>...</td>\n",
       "      <td>...</td>\n",
       "    </tr>\n",
       "    <tr>\n",
       "      <th>65528</th>\n",
       "      <td>23/06/2005 08:00</td>\n",
       "      <td>1.50</td>\n",
       "      <td>260.0</td>\n",
       "      <td>388.0</td>\n",
       "      <td>145.0</td>\n",
       "      <td>6.0</td>\n",
       "      <td>48.0</td>\n",
       "      <td>NaN</td>\n",
       "      <td>1.637931</td>\n",
       "      <td>26.0</td>\n",
       "    </tr>\n",
       "    <tr>\n",
       "      <th>65529</th>\n",
       "      <td>23/06/2005 09:00</td>\n",
       "      <td>1.50</td>\n",
       "      <td>210.0</td>\n",
       "      <td>404.0</td>\n",
       "      <td>168.0</td>\n",
       "      <td>7.0</td>\n",
       "      <td>58.0</td>\n",
       "      <td>NaN</td>\n",
       "      <td>1.293103</td>\n",
       "      <td>34.0</td>\n",
       "    </tr>\n",
       "    <tr>\n",
       "      <th>65530</th>\n",
       "      <td>23/06/2005 10:00</td>\n",
       "      <td>2.60</td>\n",
       "      <td>240.0</td>\n",
       "      <td>387.0</td>\n",
       "      <td>175.0</td>\n",
       "      <td>10.0</td>\n",
       "      <td>55.0</td>\n",
       "      <td>NaN</td>\n",
       "      <td>1.293103</td>\n",
       "      <td>34.0</td>\n",
       "    </tr>\n",
       "    <tr>\n",
       "      <th>65531</th>\n",
       "      <td>23/06/2005 11:00</td>\n",
       "      <td>3.10</td>\n",
       "      <td>220.0</td>\n",
       "      <td>312.0</td>\n",
       "      <td>125.0</td>\n",
       "      <td>15.0</td>\n",
       "      <td>52.0</td>\n",
       "      <td>NaN</td>\n",
       "      <td>1.293103</td>\n",
       "      <td>33.0</td>\n",
       "    </tr>\n",
       "    <tr>\n",
       "      <th>65532</th>\n",
       "      <td>23/06/2005 12:00</td>\n",
       "      <td>3.10</td>\n",
       "      <td>220.0</td>\n",
       "      <td>287.0</td>\n",
       "      <td>119.0</td>\n",
       "      <td>17.0</td>\n",
       "      <td>55.0</td>\n",
       "      <td>NaN</td>\n",
       "      <td>1.293103</td>\n",
       "      <td>35.0</td>\n",
       "    </tr>\n",
       "  </tbody>\n",
       "</table>\n",
       "<p>65533 rows × 10 columns</p>\n",
       "</div>"
      ],
      "text/plain": [
       "                   date  Wind_Speed     wd    nox    no2    o3  pm10     so2  \\\n",
       "0      01/01/1998 00:00        0.60  280.0  285.0   39.0   1.0  29.0  4.7225   \n",
       "1      01/01/1998 01:00        2.16  230.0    NaN    NaN   NaN  37.0     NaN   \n",
       "2      01/01/1998 02:00        2.76  190.0    NaN    NaN   3.0  34.0  6.8300   \n",
       "3      01/01/1998 03:00        2.16  170.0  493.0   52.0   3.0  35.0  7.6625   \n",
       "4      01/01/1998 04:00        2.40  180.0  468.0   78.0   2.0  34.0  8.0700   \n",
       "...                 ...         ...    ...    ...    ...   ...   ...     ...   \n",
       "65528  23/06/2005 08:00        1.50  260.0  388.0  145.0   6.0  48.0     NaN   \n",
       "65529  23/06/2005 09:00        1.50  210.0  404.0  168.0   7.0  58.0     NaN   \n",
       "65530  23/06/2005 10:00        2.60  240.0  387.0  175.0  10.0  55.0     NaN   \n",
       "65531  23/06/2005 11:00        3.10  220.0  312.0  125.0  15.0  52.0     NaN   \n",
       "65532  23/06/2005 12:00        3.10  220.0  287.0  119.0  17.0  55.0     NaN   \n",
       "\n",
       "              co  pm25  \n",
       "0       3.372500   NaN  \n",
       "1            NaN   NaN  \n",
       "2       9.602500   NaN  \n",
       "3      10.217500   NaN  \n",
       "4       8.912500   NaN  \n",
       "...          ...   ...  \n",
       "65528   1.637931  26.0  \n",
       "65529   1.293103  34.0  \n",
       "65530   1.293103  34.0  \n",
       "65531   1.293103  33.0  \n",
       "65532   1.293103  35.0  \n",
       "\n",
       "[65533 rows x 10 columns]"
      ]
     },
     "execution_count": 51,
     "metadata": {},
     "output_type": "execute_result"
    }
   ],
   "source": [
    "df2 = df2.rename(columns={'ws': 'Wind_Speed'})\n",
    "df2"
   ]
  },
  {
   "cell_type": "markdown",
   "metadata": {
    "id": "8rozOmGWaiaH"
   },
   "source": [
    "Analizamos las clases/tipos de las variables"
   ]
  },
  {
   "cell_type": "code",
   "execution_count": 52,
   "metadata": {
    "colab": {
     "base_uri": "https://localhost:8080/",
     "height": 397
    },
    "executionInfo": {
     "elapsed": 3,
     "status": "ok",
     "timestamp": 1731853387656,
     "user": {
      "displayName": "Aitor Donado",
      "userId": "08246046509718212083"
     },
     "user_tz": -60
    },
    "id": "-GK8bqB-brmq",
    "outputId": "fcb6ef74-bb3b-49e9-e8c0-8e1ae70b1be3"
   },
   "outputs": [
    {
     "data": {
      "text/plain": [
       "date           object\n",
       "Wind_Speed    float64\n",
       "wd            float64\n",
       "nox           float64\n",
       "no2           float64\n",
       "o3            float64\n",
       "pm10          float64\n",
       "so2           float64\n",
       "co            float64\n",
       "pm25          float64\n",
       "dtype: object"
      ]
     },
     "execution_count": 52,
     "metadata": {},
     "output_type": "execute_result"
    }
   ],
   "source": [
    "df2.dtypes"
   ]
  },
  {
   "cell_type": "markdown",
   "metadata": {
    "id": "eRPuP8Cpdo5z"
   },
   "source": [
    "# Parseado de fechas"
   ]
  },
  {
   "cell_type": "markdown",
   "metadata": {
    "id": "99BAkoEwbpWg"
   },
   "source": [
    "La variable 'date' se ha clasificado como object, por lo que habrá que darle formato fecha para poder realizar cualquier cálculo con esa variable."
   ]
  },
  {
   "cell_type": "markdown",
   "metadata": {},
   "source": [
    "### creamos un campo llamado fecha que sera igual al campo original date"
   ]
  },
  {
   "cell_type": "code",
   "execution_count": 53,
   "metadata": {
    "executionInfo": {
     "elapsed": 532,
     "status": "ok",
     "timestamp": 1731853388185,
     "user": {
      "displayName": "Aitor Donado",
      "userId": "08246046509718212083"
     },
     "user_tz": -60
    },
    "id": "bgZo-dL4b1Bj"
   },
   "outputs": [],
   "source": [
    "df2['fecha'] = pd.to_datetime(df2['date'], format='%d/%m/%Y %H:%M')"
   ]
  },
  {
   "cell_type": "markdown",
   "metadata": {
    "id": "EEdZ9RtVahRc"
   },
   "source": [
    "Comprobamos el cambio"
   ]
  },
  {
   "cell_type": "code",
   "execution_count": 54,
   "metadata": {
    "colab": {
     "base_uri": "https://localhost:8080/",
     "height": 429
    },
    "executionInfo": {
     "elapsed": 12,
     "status": "ok",
     "timestamp": 1731853388186,
     "user": {
      "displayName": "Aitor Donado",
      "userId": "08246046509718212083"
     },
     "user_tz": -60
    },
    "id": "2e2M7923cHUg",
    "outputId": "2d042ff2-a0c4-4ea5-b66c-81fb563baae4"
   },
   "outputs": [
    {
     "data": {
      "text/plain": [
       "date                  object\n",
       "Wind_Speed           float64\n",
       "wd                   float64\n",
       "nox                  float64\n",
       "no2                  float64\n",
       "o3                   float64\n",
       "pm10                 float64\n",
       "so2                  float64\n",
       "co                   float64\n",
       "pm25                 float64\n",
       "fecha         datetime64[ns]\n",
       "dtype: object"
      ]
     },
     "execution_count": 54,
     "metadata": {},
     "output_type": "execute_result"
    }
   ],
   "source": [
    "df2.dtypes"
   ]
  },
  {
   "cell_type": "markdown",
   "metadata": {
    "id": "Xeo91ZsMcJit"
   },
   "source": [
    "Ahora ya podriamos hacer calculos con la fechas. Por ejemplo, la frecuencia de medida..."
   ]
  },
  {
   "cell_type": "code",
   "execution_count": 55,
   "metadata": {
    "colab": {
     "base_uri": "https://localhost:8080/"
    },
    "executionInfo": {
     "elapsed": 11,
     "status": "ok",
     "timestamp": 1731853388186,
     "user": {
      "displayName": "Aitor Donado",
      "userId": "08246046509718212083"
     },
     "user_tz": -60
    },
    "id": "tXhJvwGkcKOk",
    "outputId": "e5fd6a28-c4f3-46af-ce1e-1525b93bbc45"
   },
   "outputs": [
    {
     "data": {
      "text/plain": [
       "Timedelta('0 days 01:00:00')"
      ]
     },
     "execution_count": 55,
     "metadata": {},
     "output_type": "execute_result"
    }
   ],
   "source": [
    "df2['fecha'][1] - df2['fecha'][0]"
   ]
  },
  {
   "cell_type": "markdown",
   "metadata": {
    "id": "A_rhSLjmcja8"
   },
   "source": [
    "...o el rango temporal de los datos"
   ]
  },
  {
   "cell_type": "code",
   "execution_count": 56,
   "metadata": {
    "colab": {
     "base_uri": "https://localhost:8080/"
    },
    "executionInfo": {
     "elapsed": 10,
     "status": "ok",
     "timestamp": 1731853388186,
     "user": {
      "displayName": "Aitor Donado",
      "userId": "08246046509718212083"
     },
     "user_tz": -60
    },
    "id": "jseQhVEwdD7O",
    "outputId": "9b59488d-188e-4fc3-82da-2a84039eee29"
   },
   "outputs": [
    {
     "data": {
      "text/plain": [
       "RangeIndex(start=0, stop=65533, step=1)"
      ]
     },
     "execution_count": 56,
     "metadata": {},
     "output_type": "execute_result"
    }
   ],
   "source": [
    "df2.index"
   ]
  },
  {
   "cell_type": "code",
   "execution_count": 57,
   "metadata": {
    "colab": {
     "base_uri": "https://localhost:8080/"
    },
    "executionInfo": {
     "elapsed": 9,
     "status": "ok",
     "timestamp": 1731853388186,
     "user": {
      "displayName": "Aitor Donado",
      "userId": "08246046509718212083"
     },
     "user_tz": -60
    },
    "id": "0KODjFQDcZxo",
    "outputId": "7b940d94-6af3-47fd-f21b-57dbe413265a"
   },
   "outputs": [
    {
     "data": {
      "text/plain": [
       "Timedelta('2730 days 12:00:00')"
      ]
     },
     "execution_count": 57,
     "metadata": {},
     "output_type": "execute_result"
    }
   ],
   "source": [
    "df2.loc[65532, 'fecha'] - df2.loc[0,'fecha']\n",
    "#        fila, campo              fila, campo "
   ]
  },
  {
   "cell_type": "markdown",
   "metadata": {
    "id": "86IZCgiDaf3I"
   },
   "source": [
    "# Funciones específicas relacionadas con las fechas y horas."
   ]
  },
  {
   "cell_type": "code",
   "execution_count": 58,
   "metadata": {
    "executionInfo": {
     "elapsed": 8,
     "status": "ok",
     "timestamp": 1731853388186,
     "user": {
      "displayName": "Aitor Donado",
      "userId": "08246046509718212083"
     },
     "user_tz": -60
    },
    "id": "6GQmt18JdcFY"
   },
   "outputs": [],
   "source": [
    "from datetime import datetime, date, time, timedelta\n",
    "import calendar"
   ]
  },
  {
   "cell_type": "code",
   "execution_count": 59,
   "metadata": {
    "colab": {
     "base_uri": "https://localhost:8080/"
    },
    "executionInfo": {
     "elapsed": 8,
     "status": "ok",
     "timestamp": 1731853388186,
     "user": {
      "displayName": "Aitor Donado",
      "userId": "08246046509718212083"
     },
     "user_tz": -60
    },
    "id": "ngrr4SKIeD1k",
    "outputId": "d7a54019-533c-4c96-b7d7-22400b247b8a"
   },
   "outputs": [
    {
     "data": {
      "text/plain": [
       "datetime.datetime(2025, 6, 24, 9, 0, 38, 552881)"
      ]
     },
     "execution_count": 59,
     "metadata": {},
     "output_type": "execute_result"
    }
   ],
   "source": [
    "ahora = datetime.now()\n",
    "ahora"
   ]
  },
  {
   "cell_type": "code",
   "execution_count": 60,
   "metadata": {
    "colab": {
     "base_uri": "https://localhost:8080/"
    },
    "executionInfo": {
     "elapsed": 7,
     "status": "ok",
     "timestamp": 1731853388186,
     "user": {
      "displayName": "Aitor Donado",
      "userId": "08246046509718212083"
     },
     "user_tz": -60
    },
    "id": "pQQNCkhIeFFb",
    "outputId": "e27d52fc-ead2-497b-8500-0177e7fbef29"
   },
   "outputs": [
    {
     "data": {
      "text/plain": [
       "24"
      ]
     },
     "execution_count": 60,
     "metadata": {},
     "output_type": "execute_result"
    }
   ],
   "source": [
    "datetime.now().day"
   ]
  },
  {
   "cell_type": "code",
   "execution_count": 61,
   "metadata": {
    "colab": {
     "base_uri": "https://localhost:8080/"
    },
    "executionInfo": {
     "elapsed": 6,
     "status": "ok",
     "timestamp": 1731853388186,
     "user": {
      "displayName": "Aitor Donado",
      "userId": "08246046509718212083"
     },
     "user_tz": -60
    },
    "id": "Y0bBGCbVeWMN",
    "outputId": "96749c96-8ca5-4a06-98bf-02abe67c07e5"
   },
   "outputs": [
    {
     "data": {
      "text/plain": [
       "6"
      ]
     },
     "execution_count": 61,
     "metadata": {},
     "output_type": "execute_result"
    }
   ],
   "source": [
    "datetime.now().month"
   ]
  },
  {
   "cell_type": "code",
   "execution_count": 62,
   "metadata": {
    "colab": {
     "base_uri": "https://localhost:8080/"
    },
    "executionInfo": {
     "elapsed": 5,
     "status": "ok",
     "timestamp": 1731853388186,
     "user": {
      "displayName": "Aitor Donado",
      "userId": "08246046509718212083"
     },
     "user_tz": -60
    },
    "id": "3SaAu7GMeXqG",
    "outputId": "6a5585f8-03c6-423e-d3b9-6e000a5b0d88"
   },
   "outputs": [
    {
     "data": {
      "text/plain": [
       "9"
      ]
     },
     "execution_count": 62,
     "metadata": {},
     "output_type": "execute_result"
    }
   ],
   "source": [
    "datetime.now().hour"
   ]
  },
  {
   "cell_type": "code",
   "execution_count": 63,
   "metadata": {
    "colab": {
     "base_uri": "https://localhost:8080/"
    },
    "executionInfo": {
     "elapsed": 5,
     "status": "ok",
     "timestamp": 1731853388186,
     "user": {
      "displayName": "Aitor Donado",
      "userId": "08246046509718212083"
     },
     "user_tz": -60
    },
    "id": "7bnK81N3eY_x",
    "outputId": "fc1c5609-5319-4231-c539-a3c1147306fd"
   },
   "outputs": [
    {
     "data": {
      "text/plain": [
       "2025"
      ]
     },
     "execution_count": 63,
     "metadata": {},
     "output_type": "execute_result"
    }
   ],
   "source": [
    "datetime.now().year"
   ]
  },
  {
   "cell_type": "markdown",
   "metadata": {
    "id": "rVsd9B4Fae3H"
   },
   "source": [
    "# Descomponer la fecha"
   ]
  },
  {
   "cell_type": "markdown",
   "metadata": {
    "id": "sb-wCn-6emkn"
   },
   "source": [
    "Hacemos una copia del DataFrame para no modificar el original. Nos quedamos con las 500 primeras filas para que no tarde tanto."
   ]
  },
  {
   "cell_type": "code",
   "execution_count": 64,
   "metadata": {
    "executionInfo": {
     "elapsed": 4,
     "status": "ok",
     "timestamp": 1731853498945,
     "user": {
      "displayName": "Aitor Donado",
      "userId": "08246046509718212083"
     },
     "user_tz": -60
    },
    "id": "zVafeuNqep0u"
   },
   "outputs": [],
   "source": [
    "df3=df2.copy().head(500)"
   ]
  },
  {
   "cell_type": "markdown",
   "metadata": {
    "id": "PC52T-kBegw9"
   },
   "source": [
    "Creamos la nuevas variables / columnas"
   ]
  },
  {
   "cell_type": "code",
   "execution_count": 65,
   "metadata": {
    "executionInfo": {
     "elapsed": 222,
     "status": "ok",
     "timestamp": 1731853501386,
     "user": {
      "displayName": "Aitor Donado",
      "userId": "08246046509718212083"
     },
     "user_tz": -60
    },
    "id": "nJKVKX4PeiN-"
   },
   "outputs": [],
   "source": [
    "df3['Año']=''\n",
    "df3['Mes']=''\n",
    "df3['Dia']=''\n",
    "df3['Hora']=''\n",
    "df3['Min']=''\n",
    "df3['Seg']=''\n",
    "df3['DiaSemana']=''"
   ]
  },
  {
   "cell_type": "code",
   "execution_count": 66,
   "metadata": {
    "colab": {
     "base_uri": "https://localhost:8080/",
     "height": 379
    },
    "executionInfo": {
     "elapsed": 260,
     "status": "ok",
     "timestamp": 1731853503417,
     "user": {
      "displayName": "Aitor Donado",
      "userId": "08246046509718212083"
     },
     "user_tz": -60
    },
    "id": "HGok1s_4fIlk",
    "outputId": "51e94817-cc6c-4da9-e62c-dc05d769511e"
   },
   "outputs": [
    {
     "data": {
      "text/html": [
       "<div>\n",
       "<style scoped>\n",
       "    .dataframe tbody tr th:only-of-type {\n",
       "        vertical-align: middle;\n",
       "    }\n",
       "\n",
       "    .dataframe tbody tr th {\n",
       "        vertical-align: top;\n",
       "    }\n",
       "\n",
       "    .dataframe thead th {\n",
       "        text-align: right;\n",
       "    }\n",
       "</style>\n",
       "<table border=\"1\" class=\"dataframe\">\n",
       "  <thead>\n",
       "    <tr style=\"text-align: right;\">\n",
       "      <th></th>\n",
       "      <th>date</th>\n",
       "      <th>Wind_Speed</th>\n",
       "      <th>wd</th>\n",
       "      <th>nox</th>\n",
       "      <th>no2</th>\n",
       "      <th>o3</th>\n",
       "      <th>pm10</th>\n",
       "      <th>so2</th>\n",
       "      <th>co</th>\n",
       "      <th>pm25</th>\n",
       "      <th>fecha</th>\n",
       "      <th>Año</th>\n",
       "      <th>Mes</th>\n",
       "      <th>Dia</th>\n",
       "      <th>Hora</th>\n",
       "      <th>Min</th>\n",
       "      <th>Seg</th>\n",
       "      <th>DiaSemana</th>\n",
       "    </tr>\n",
       "  </thead>\n",
       "  <tbody>\n",
       "    <tr>\n",
       "      <th>0</th>\n",
       "      <td>01/01/1998 00:00</td>\n",
       "      <td>0.60</td>\n",
       "      <td>280.0</td>\n",
       "      <td>285.0</td>\n",
       "      <td>39.0</td>\n",
       "      <td>1.0</td>\n",
       "      <td>29.0</td>\n",
       "      <td>4.7225</td>\n",
       "      <td>3.3725</td>\n",
       "      <td>NaN</td>\n",
       "      <td>1998-01-01 00:00:00</td>\n",
       "      <td></td>\n",
       "      <td></td>\n",
       "      <td></td>\n",
       "      <td></td>\n",
       "      <td></td>\n",
       "      <td></td>\n",
       "      <td></td>\n",
       "    </tr>\n",
       "    <tr>\n",
       "      <th>1</th>\n",
       "      <td>01/01/1998 01:00</td>\n",
       "      <td>2.16</td>\n",
       "      <td>230.0</td>\n",
       "      <td>NaN</td>\n",
       "      <td>NaN</td>\n",
       "      <td>NaN</td>\n",
       "      <td>37.0</td>\n",
       "      <td>NaN</td>\n",
       "      <td>NaN</td>\n",
       "      <td>NaN</td>\n",
       "      <td>1998-01-01 01:00:00</td>\n",
       "      <td></td>\n",
       "      <td></td>\n",
       "      <td></td>\n",
       "      <td></td>\n",
       "      <td></td>\n",
       "      <td></td>\n",
       "      <td></td>\n",
       "    </tr>\n",
       "    <tr>\n",
       "      <th>2</th>\n",
       "      <td>01/01/1998 02:00</td>\n",
       "      <td>2.76</td>\n",
       "      <td>190.0</td>\n",
       "      <td>NaN</td>\n",
       "      <td>NaN</td>\n",
       "      <td>3.0</td>\n",
       "      <td>34.0</td>\n",
       "      <td>6.8300</td>\n",
       "      <td>9.6025</td>\n",
       "      <td>NaN</td>\n",
       "      <td>1998-01-01 02:00:00</td>\n",
       "      <td></td>\n",
       "      <td></td>\n",
       "      <td></td>\n",
       "      <td></td>\n",
       "      <td></td>\n",
       "      <td></td>\n",
       "      <td></td>\n",
       "    </tr>\n",
       "    <tr>\n",
       "      <th>3</th>\n",
       "      <td>01/01/1998 03:00</td>\n",
       "      <td>2.16</td>\n",
       "      <td>170.0</td>\n",
       "      <td>493.0</td>\n",
       "      <td>52.0</td>\n",
       "      <td>3.0</td>\n",
       "      <td>35.0</td>\n",
       "      <td>7.6625</td>\n",
       "      <td>10.2175</td>\n",
       "      <td>NaN</td>\n",
       "      <td>1998-01-01 03:00:00</td>\n",
       "      <td></td>\n",
       "      <td></td>\n",
       "      <td></td>\n",
       "      <td></td>\n",
       "      <td></td>\n",
       "      <td></td>\n",
       "      <td></td>\n",
       "    </tr>\n",
       "    <tr>\n",
       "      <th>4</th>\n",
       "      <td>01/01/1998 04:00</td>\n",
       "      <td>2.40</td>\n",
       "      <td>180.0</td>\n",
       "      <td>468.0</td>\n",
       "      <td>78.0</td>\n",
       "      <td>2.0</td>\n",
       "      <td>34.0</td>\n",
       "      <td>8.0700</td>\n",
       "      <td>8.9125</td>\n",
       "      <td>NaN</td>\n",
       "      <td>1998-01-01 04:00:00</td>\n",
       "      <td></td>\n",
       "      <td></td>\n",
       "      <td></td>\n",
       "      <td></td>\n",
       "      <td></td>\n",
       "      <td></td>\n",
       "      <td></td>\n",
       "    </tr>\n",
       "  </tbody>\n",
       "</table>\n",
       "</div>"
      ],
      "text/plain": [
       "               date  Wind_Speed     wd    nox   no2   o3  pm10     so2  \\\n",
       "0  01/01/1998 00:00        0.60  280.0  285.0  39.0  1.0  29.0  4.7225   \n",
       "1  01/01/1998 01:00        2.16  230.0    NaN   NaN  NaN  37.0     NaN   \n",
       "2  01/01/1998 02:00        2.76  190.0    NaN   NaN  3.0  34.0  6.8300   \n",
       "3  01/01/1998 03:00        2.16  170.0  493.0  52.0  3.0  35.0  7.6625   \n",
       "4  01/01/1998 04:00        2.40  180.0  468.0  78.0  2.0  34.0  8.0700   \n",
       "\n",
       "        co  pm25               fecha Año Mes Dia Hora Min Seg DiaSemana  \n",
       "0   3.3725   NaN 1998-01-01 00:00:00                                     \n",
       "1      NaN   NaN 1998-01-01 01:00:00                                     \n",
       "2   9.6025   NaN 1998-01-01 02:00:00                                     \n",
       "3  10.2175   NaN 1998-01-01 03:00:00                                     \n",
       "4   8.9125   NaN 1998-01-01 04:00:00                                     "
      ]
     },
     "execution_count": 66,
     "metadata": {},
     "output_type": "execute_result"
    }
   ],
   "source": [
    "df3.head()"
   ]
  },
  {
   "cell_type": "markdown",
   "metadata": {
    "id": "849cyYnkaPkm"
   },
   "source": [
    "Descomponemos la variable 'fecha'"
   ]
  },
  {
   "cell_type": "markdown",
   "metadata": {
    "id": "yJkXB_oGhG6I"
   },
   "source": [
    "Vamos a probar a ejecutar el cambio con un bucle for. Vamos a ver como tarda mucho tiempo en ejecutar los cálculos"
   ]
  },
  {
   "cell_type": "code",
   "execution_count": 67,
   "metadata": {
    "id": "38d3lw8meuvz"
   },
   "outputs": [
    {
     "name": "stdout",
     "output_type": "stream",
     "text": [
      "0\n",
      "1\n",
      "2\n",
      "3\n",
      "4\n",
      "5\n",
      "6\n",
      "7\n",
      "8\n",
      "9\n",
      "10\n",
      "11\n",
      "12\n",
      "13\n",
      "14\n",
      "15\n",
      "16\n",
      "17\n",
      "18\n",
      "19\n",
      "20\n",
      "21\n",
      "22\n",
      "23\n",
      "24\n",
      "25\n",
      "26\n",
      "27\n",
      "28\n",
      "29\n",
      "30\n",
      "31\n",
      "32\n",
      "33\n",
      "34\n",
      "35\n",
      "36\n",
      "37\n",
      "38\n",
      "39\n",
      "40\n",
      "41\n",
      "42\n",
      "43\n",
      "44\n",
      "45\n",
      "46\n",
      "47\n",
      "48\n",
      "49\n",
      "50\n",
      "51\n",
      "52\n",
      "53\n",
      "54\n",
      "55\n",
      "56\n",
      "57\n",
      "58\n",
      "59\n",
      "60\n",
      "61\n",
      "62\n",
      "63\n",
      "64\n",
      "65\n",
      "66\n",
      "67\n",
      "68\n",
      "69\n",
      "70\n",
      "71\n",
      "72\n",
      "73\n",
      "74\n",
      "75\n",
      "76\n",
      "77\n",
      "78\n",
      "79\n",
      "80\n",
      "81\n",
      "82\n",
      "83\n",
      "84\n",
      "85\n",
      "86\n",
      "87\n",
      "88\n",
      "89\n",
      "90\n",
      "91\n",
      "92\n",
      "93\n",
      "94\n",
      "95\n",
      "96\n",
      "97\n",
      "98\n",
      "99\n",
      "100\n",
      "101\n",
      "102\n"
     ]
    },
    {
     "name": "stderr",
     "output_type": "stream",
     "text": [
      "C:\\Users\\Dell\\AppData\\Local\\Temp\\ipykernel_14448\\1899629885.py:3: SettingWithCopyWarning: \n",
      "A value is trying to be set on a copy of a slice from a DataFrame\n",
      "\n",
      "See the caveats in the documentation: https://pandas.pydata.org/pandas-docs/stable/user_guide/indexing.html#returning-a-view-versus-a-copy\n",
      "  df3['Año'][i] = df3['fecha'][i].year\n",
      "C:\\Users\\Dell\\AppData\\Local\\Temp\\ipykernel_14448\\1899629885.py:4: SettingWithCopyWarning: \n",
      "A value is trying to be set on a copy of a slice from a DataFrame\n",
      "\n",
      "See the caveats in the documentation: https://pandas.pydata.org/pandas-docs/stable/user_guide/indexing.html#returning-a-view-versus-a-copy\n",
      "  df3['Mes'][i] = df3['fecha'][i].month\n",
      "C:\\Users\\Dell\\AppData\\Local\\Temp\\ipykernel_14448\\1899629885.py:5: SettingWithCopyWarning: \n",
      "A value is trying to be set on a copy of a slice from a DataFrame\n",
      "\n",
      "See the caveats in the documentation: https://pandas.pydata.org/pandas-docs/stable/user_guide/indexing.html#returning-a-view-versus-a-copy\n",
      "  df3['Dia'][i] = df3['fecha'][i].day\n",
      "C:\\Users\\Dell\\AppData\\Local\\Temp\\ipykernel_14448\\1899629885.py:6: SettingWithCopyWarning: \n",
      "A value is trying to be set on a copy of a slice from a DataFrame\n",
      "\n",
      "See the caveats in the documentation: https://pandas.pydata.org/pandas-docs/stable/user_guide/indexing.html#returning-a-view-versus-a-copy\n",
      "  df3['Hora'][i]= df3['fecha'][i].hour\n",
      "C:\\Users\\Dell\\AppData\\Local\\Temp\\ipykernel_14448\\1899629885.py:7: SettingWithCopyWarning: \n",
      "A value is trying to be set on a copy of a slice from a DataFrame\n",
      "\n",
      "See the caveats in the documentation: https://pandas.pydata.org/pandas-docs/stable/user_guide/indexing.html#returning-a-view-versus-a-copy\n",
      "  df3['Min'][i] = df3['fecha'][i].minute\n",
      "C:\\Users\\Dell\\AppData\\Local\\Temp\\ipykernel_14448\\1899629885.py:8: SettingWithCopyWarning: \n",
      "A value is trying to be set on a copy of a slice from a DataFrame\n",
      "\n",
      "See the caveats in the documentation: https://pandas.pydata.org/pandas-docs/stable/user_guide/indexing.html#returning-a-view-versus-a-copy\n",
      "  df3['Seg'][i] = df3['fecha'][i].second\n",
      "C:\\Users\\Dell\\AppData\\Local\\Temp\\ipykernel_14448\\1899629885.py:9: SettingWithCopyWarning: \n",
      "A value is trying to be set on a copy of a slice from a DataFrame\n",
      "\n",
      "See the caveats in the documentation: https://pandas.pydata.org/pandas-docs/stable/user_guide/indexing.html#returning-a-view-versus-a-copy\n",
      "  df3['DiaSemana'][i] = df3['fecha'][i].strftime('%A')\n"
     ]
    },
    {
     "name": "stdout",
     "output_type": "stream",
     "text": [
      "103\n",
      "104\n",
      "105\n",
      "106\n",
      "107\n",
      "108\n",
      "109\n",
      "110\n",
      "111\n",
      "112\n",
      "113\n",
      "114\n",
      "115\n",
      "116\n",
      "117\n",
      "118\n",
      "119\n",
      "120\n",
      "121\n",
      "122\n",
      "123\n",
      "124\n",
      "125\n",
      "126\n",
      "127\n",
      "128\n",
      "129\n",
      "130\n",
      "131\n",
      "132\n",
      "133\n",
      "134\n",
      "135\n",
      "136\n",
      "137\n",
      "138\n",
      "139\n",
      "140\n",
      "141\n",
      "142\n",
      "143\n",
      "144\n",
      "145\n",
      "146\n",
      "147\n",
      "148\n",
      "149\n",
      "150\n",
      "151\n",
      "152\n",
      "153\n",
      "154\n",
      "155\n",
      "156\n",
      "157\n",
      "158\n",
      "159\n",
      "160\n",
      "161\n",
      "162\n",
      "163\n",
      "164\n",
      "165\n",
      "166\n",
      "167\n",
      "168\n",
      "169\n",
      "170\n",
      "171\n",
      "172\n",
      "173\n",
      "174\n",
      "175\n",
      "176\n",
      "177\n",
      "178\n",
      "179\n",
      "180\n",
      "181\n",
      "182\n",
      "183\n",
      "184\n",
      "185\n",
      "186\n",
      "187\n",
      "188\n",
      "189\n",
      "190\n",
      "191\n",
      "192\n",
      "193\n",
      "194\n",
      "195\n",
      "196\n",
      "197\n",
      "198\n",
      "199\n",
      "200\n",
      "201\n",
      "202\n",
      "203\n",
      "204\n",
      "205\n",
      "206\n",
      "207\n",
      "208\n",
      "209\n",
      "210\n",
      "211\n",
      "212\n",
      "213\n",
      "214\n",
      "215\n",
      "216\n",
      "217\n",
      "218\n",
      "219\n",
      "220\n",
      "221\n",
      "222\n",
      "223\n",
      "224\n",
      "225\n",
      "226\n",
      "227\n",
      "228\n",
      "229\n",
      "230\n",
      "231\n",
      "232\n",
      "233\n",
      "234\n",
      "235\n",
      "236\n",
      "237\n",
      "238\n",
      "239\n",
      "240\n",
      "241\n",
      "242\n",
      "243\n",
      "244\n",
      "245\n",
      "246\n",
      "247\n",
      "248\n",
      "249\n",
      "250\n",
      "251\n",
      "252\n",
      "253\n",
      "254\n",
      "255\n",
      "256\n",
      "257\n",
      "258\n",
      "259\n",
      "260\n",
      "261\n",
      "262\n",
      "263\n",
      "264\n",
      "265\n",
      "266\n",
      "267\n",
      "268\n",
      "269\n",
      "270\n",
      "271\n",
      "272\n",
      "273\n",
      "274\n",
      "275\n",
      "276\n",
      "277\n",
      "278\n",
      "279\n",
      "280\n",
      "281\n",
      "282\n",
      "283\n",
      "284\n",
      "285\n",
      "286\n",
      "287\n",
      "288\n",
      "289\n",
      "290\n",
      "291\n",
      "292\n",
      "293\n",
      "294\n",
      "295\n",
      "296\n",
      "297\n",
      "298\n",
      "299\n",
      "300\n",
      "301\n",
      "302\n",
      "303\n",
      "304\n",
      "305\n",
      "306\n",
      "307\n",
      "308\n",
      "309\n",
      "310\n",
      "311\n",
      "312\n",
      "313\n",
      "314\n",
      "315\n",
      "316\n",
      "317\n",
      "318\n",
      "319\n",
      "320\n",
      "321\n",
      "322\n",
      "323\n",
      "324\n",
      "325\n",
      "326\n",
      "327\n",
      "328\n",
      "329\n",
      "330\n",
      "331\n",
      "332\n",
      "333\n",
      "334\n",
      "335\n",
      "336\n",
      "337\n",
      "338\n",
      "339\n",
      "340\n",
      "341\n",
      "342\n",
      "343\n",
      "344\n",
      "345\n",
      "346\n",
      "347\n",
      "348\n",
      "349\n",
      "350\n",
      "351\n",
      "352\n",
      "353\n",
      "354\n",
      "355\n",
      "356\n",
      "357\n",
      "358\n",
      "359\n",
      "360\n",
      "361\n",
      "362\n",
      "363\n",
      "364\n",
      "365\n",
      "366\n",
      "367\n",
      "368\n",
      "369\n",
      "370\n",
      "371\n",
      "372\n",
      "373\n",
      "374\n",
      "375\n",
      "376\n",
      "377\n",
      "378\n",
      "379\n",
      "380\n",
      "381\n",
      "382\n",
      "383\n",
      "384\n",
      "385\n",
      "386\n",
      "387\n",
      "388\n",
      "389\n",
      "390\n",
      "391\n",
      "392\n",
      "393\n",
      "394\n",
      "395\n",
      "396\n",
      "397\n",
      "398\n",
      "399\n",
      "400\n",
      "401\n",
      "402\n",
      "403\n",
      "404\n",
      "405\n",
      "406\n",
      "407\n",
      "408\n",
      "409\n",
      "410\n",
      "411\n",
      "412\n",
      "413\n",
      "414\n",
      "415\n",
      "416\n",
      "417\n",
      "418\n",
      "419\n",
      "420\n",
      "421\n",
      "422\n",
      "423\n",
      "424\n",
      "425\n",
      "426\n",
      "427\n",
      "428\n",
      "429\n",
      "430\n",
      "431\n",
      "432\n",
      "433\n",
      "434\n",
      "435\n",
      "436\n",
      "437\n",
      "438\n",
      "439\n",
      "440\n",
      "441\n",
      "442\n",
      "443\n",
      "444\n",
      "445\n",
      "446\n",
      "447\n",
      "448\n",
      "449\n",
      "450\n",
      "451\n",
      "452\n",
      "453\n",
      "454\n",
      "455\n",
      "456\n",
      "457\n",
      "458\n",
      "459\n",
      "460\n",
      "461\n",
      "462\n",
      "463\n",
      "464\n",
      "465\n",
      "466\n",
      "467\n",
      "468\n",
      "469\n",
      "470\n",
      "471\n",
      "472\n",
      "473\n",
      "474\n",
      "475\n",
      "476\n",
      "477\n",
      "478\n",
      "479\n",
      "480\n",
      "481\n",
      "482\n",
      "483\n",
      "484\n",
      "485\n",
      "486\n",
      "487\n",
      "488\n",
      "489\n",
      "490\n",
      "491\n",
      "492\n",
      "493\n",
      "494\n",
      "495\n",
      "496\n",
      "497\n",
      "498\n",
      "499\n"
     ]
    }
   ],
   "source": [
    "for i in range(0,len(df3)):\n",
    "    print(i)\n",
    "    df3['Año'][i] = df3['fecha'][i].year\n",
    "    df3['Mes'][i] = df3['fecha'][i].month\n",
    "    df3['Dia'][i] = df3['fecha'][i].day\n",
    "    df3['Hora'][i]= df3['fecha'][i].hour\n",
    "    df3['Min'][i] = df3['fecha'][i].minute\n",
    "    df3['Seg'][i] = df3['fecha'][i].second\n",
    "    df3['DiaSemana'][i] = df3['fecha'][i].strftime('%A')"
   ]
  },
  {
   "cell_type": "code",
   "execution_count": 68,
   "metadata": {},
   "outputs": [
    {
     "data": {
      "text/html": [
       "<div>\n",
       "<style scoped>\n",
       "    .dataframe tbody tr th:only-of-type {\n",
       "        vertical-align: middle;\n",
       "    }\n",
       "\n",
       "    .dataframe tbody tr th {\n",
       "        vertical-align: top;\n",
       "    }\n",
       "\n",
       "    .dataframe thead th {\n",
       "        text-align: right;\n",
       "    }\n",
       "</style>\n",
       "<table border=\"1\" class=\"dataframe\">\n",
       "  <thead>\n",
       "    <tr style=\"text-align: right;\">\n",
       "      <th></th>\n",
       "      <th>date</th>\n",
       "      <th>Wind_Speed</th>\n",
       "      <th>wd</th>\n",
       "      <th>nox</th>\n",
       "      <th>no2</th>\n",
       "      <th>o3</th>\n",
       "      <th>pm10</th>\n",
       "      <th>so2</th>\n",
       "      <th>co</th>\n",
       "      <th>pm25</th>\n",
       "      <th>fecha</th>\n",
       "      <th>Año</th>\n",
       "      <th>Mes</th>\n",
       "      <th>Dia</th>\n",
       "      <th>Hora</th>\n",
       "      <th>Min</th>\n",
       "      <th>Seg</th>\n",
       "      <th>DiaSemana</th>\n",
       "    </tr>\n",
       "  </thead>\n",
       "  <tbody>\n",
       "    <tr>\n",
       "      <th>0</th>\n",
       "      <td>01/01/1998 00:00</td>\n",
       "      <td>0.60</td>\n",
       "      <td>280.0</td>\n",
       "      <td>285.0</td>\n",
       "      <td>39.0</td>\n",
       "      <td>1.0</td>\n",
       "      <td>29.0</td>\n",
       "      <td>4.7225</td>\n",
       "      <td>3.3725</td>\n",
       "      <td>NaN</td>\n",
       "      <td>1998-01-01 00:00:00</td>\n",
       "      <td>1998</td>\n",
       "      <td>1</td>\n",
       "      <td>1</td>\n",
       "      <td>0</td>\n",
       "      <td>0</td>\n",
       "      <td>0</td>\n",
       "      <td>Thursday</td>\n",
       "    </tr>\n",
       "    <tr>\n",
       "      <th>1</th>\n",
       "      <td>01/01/1998 01:00</td>\n",
       "      <td>2.16</td>\n",
       "      <td>230.0</td>\n",
       "      <td>NaN</td>\n",
       "      <td>NaN</td>\n",
       "      <td>NaN</td>\n",
       "      <td>37.0</td>\n",
       "      <td>NaN</td>\n",
       "      <td>NaN</td>\n",
       "      <td>NaN</td>\n",
       "      <td>1998-01-01 01:00:00</td>\n",
       "      <td>1998</td>\n",
       "      <td>1</td>\n",
       "      <td>1</td>\n",
       "      <td>1</td>\n",
       "      <td>0</td>\n",
       "      <td>0</td>\n",
       "      <td>Thursday</td>\n",
       "    </tr>\n",
       "    <tr>\n",
       "      <th>2</th>\n",
       "      <td>01/01/1998 02:00</td>\n",
       "      <td>2.76</td>\n",
       "      <td>190.0</td>\n",
       "      <td>NaN</td>\n",
       "      <td>NaN</td>\n",
       "      <td>3.0</td>\n",
       "      <td>34.0</td>\n",
       "      <td>6.8300</td>\n",
       "      <td>9.6025</td>\n",
       "      <td>NaN</td>\n",
       "      <td>1998-01-01 02:00:00</td>\n",
       "      <td>1998</td>\n",
       "      <td>1</td>\n",
       "      <td>1</td>\n",
       "      <td>2</td>\n",
       "      <td>0</td>\n",
       "      <td>0</td>\n",
       "      <td>Thursday</td>\n",
       "    </tr>\n",
       "    <tr>\n",
       "      <th>3</th>\n",
       "      <td>01/01/1998 03:00</td>\n",
       "      <td>2.16</td>\n",
       "      <td>170.0</td>\n",
       "      <td>493.0</td>\n",
       "      <td>52.0</td>\n",
       "      <td>3.0</td>\n",
       "      <td>35.0</td>\n",
       "      <td>7.6625</td>\n",
       "      <td>10.2175</td>\n",
       "      <td>NaN</td>\n",
       "      <td>1998-01-01 03:00:00</td>\n",
       "      <td>1998</td>\n",
       "      <td>1</td>\n",
       "      <td>1</td>\n",
       "      <td>3</td>\n",
       "      <td>0</td>\n",
       "      <td>0</td>\n",
       "      <td>Thursday</td>\n",
       "    </tr>\n",
       "    <tr>\n",
       "      <th>4</th>\n",
       "      <td>01/01/1998 04:00</td>\n",
       "      <td>2.40</td>\n",
       "      <td>180.0</td>\n",
       "      <td>468.0</td>\n",
       "      <td>78.0</td>\n",
       "      <td>2.0</td>\n",
       "      <td>34.0</td>\n",
       "      <td>8.0700</td>\n",
       "      <td>8.9125</td>\n",
       "      <td>NaN</td>\n",
       "      <td>1998-01-01 04:00:00</td>\n",
       "      <td>1998</td>\n",
       "      <td>1</td>\n",
       "      <td>1</td>\n",
       "      <td>4</td>\n",
       "      <td>0</td>\n",
       "      <td>0</td>\n",
       "      <td>Thursday</td>\n",
       "    </tr>\n",
       "    <tr>\n",
       "      <th>...</th>\n",
       "      <td>...</td>\n",
       "      <td>...</td>\n",
       "      <td>...</td>\n",
       "      <td>...</td>\n",
       "      <td>...</td>\n",
       "      <td>...</td>\n",
       "      <td>...</td>\n",
       "      <td>...</td>\n",
       "      <td>...</td>\n",
       "      <td>...</td>\n",
       "      <td>...</td>\n",
       "      <td>...</td>\n",
       "      <td>...</td>\n",
       "      <td>...</td>\n",
       "      <td>...</td>\n",
       "      <td>...</td>\n",
       "      <td>...</td>\n",
       "      <td>...</td>\n",
       "    </tr>\n",
       "    <tr>\n",
       "      <th>495</th>\n",
       "      <td>21/01/1998 15:00</td>\n",
       "      <td>3.60</td>\n",
       "      <td>190.0</td>\n",
       "      <td>490.0</td>\n",
       "      <td>81.0</td>\n",
       "      <td>2.0</td>\n",
       "      <td>55.0</td>\n",
       "      <td>12.3525</td>\n",
       "      <td>4.5025</td>\n",
       "      <td>NaN</td>\n",
       "      <td>1998-01-21 15:00:00</td>\n",
       "      <td>1998</td>\n",
       "      <td>1</td>\n",
       "      <td>21</td>\n",
       "      <td>15</td>\n",
       "      <td>0</td>\n",
       "      <td>0</td>\n",
       "      <td>Wednesday</td>\n",
       "    </tr>\n",
       "    <tr>\n",
       "      <th>496</th>\n",
       "      <td>21/01/1998 16:00</td>\n",
       "      <td>3.00</td>\n",
       "      <td>170.0</td>\n",
       "      <td>343.0</td>\n",
       "      <td>68.0</td>\n",
       "      <td>2.0</td>\n",
       "      <td>49.0</td>\n",
       "      <td>11.3125</td>\n",
       "      <td>3.9625</td>\n",
       "      <td>NaN</td>\n",
       "      <td>1998-01-21 16:00:00</td>\n",
       "      <td>1998</td>\n",
       "      <td>1</td>\n",
       "      <td>21</td>\n",
       "      <td>16</td>\n",
       "      <td>0</td>\n",
       "      <td>0</td>\n",
       "      <td>Wednesday</td>\n",
       "    </tr>\n",
       "    <tr>\n",
       "      <th>497</th>\n",
       "      <td>21/01/1998 17:00</td>\n",
       "      <td>2.76</td>\n",
       "      <td>160.0</td>\n",
       "      <td>216.0</td>\n",
       "      <td>68.0</td>\n",
       "      <td>1.0</td>\n",
       "      <td>41.0</td>\n",
       "      <td>8.3250</td>\n",
       "      <td>2.9025</td>\n",
       "      <td>NaN</td>\n",
       "      <td>1998-01-21 17:00:00</td>\n",
       "      <td>1998</td>\n",
       "      <td>1</td>\n",
       "      <td>21</td>\n",
       "      <td>17</td>\n",
       "      <td>0</td>\n",
       "      <td>0</td>\n",
       "      <td>Wednesday</td>\n",
       "    </tr>\n",
       "    <tr>\n",
       "      <th>498</th>\n",
       "      <td>21/01/1998 18:00</td>\n",
       "      <td>3.60</td>\n",
       "      <td>170.0</td>\n",
       "      <td>241.0</td>\n",
       "      <td>57.0</td>\n",
       "      <td>1.0</td>\n",
       "      <td>41.0</td>\n",
       "      <td>8.0025</td>\n",
       "      <td>3.4200</td>\n",
       "      <td>NaN</td>\n",
       "      <td>1998-01-21 18:00:00</td>\n",
       "      <td>1998</td>\n",
       "      <td>1</td>\n",
       "      <td>21</td>\n",
       "      <td>18</td>\n",
       "      <td>0</td>\n",
       "      <td>0</td>\n",
       "      <td>Wednesday</td>\n",
       "    </tr>\n",
       "    <tr>\n",
       "      <th>499</th>\n",
       "      <td>21/01/1998 19:00</td>\n",
       "      <td>2.76</td>\n",
       "      <td>180.0</td>\n",
       "      <td>282.0</td>\n",
       "      <td>57.0</td>\n",
       "      <td>1.0</td>\n",
       "      <td>44.0</td>\n",
       "      <td>8.1225</td>\n",
       "      <td>4.1850</td>\n",
       "      <td>NaN</td>\n",
       "      <td>1998-01-21 19:00:00</td>\n",
       "      <td>1998</td>\n",
       "      <td>1</td>\n",
       "      <td>21</td>\n",
       "      <td>19</td>\n",
       "      <td>0</td>\n",
       "      <td>0</td>\n",
       "      <td>Wednesday</td>\n",
       "    </tr>\n",
       "  </tbody>\n",
       "</table>\n",
       "<p>500 rows × 18 columns</p>\n",
       "</div>"
      ],
      "text/plain": [
       "                 date  Wind_Speed     wd    nox   no2   o3  pm10      so2  \\\n",
       "0    01/01/1998 00:00        0.60  280.0  285.0  39.0  1.0  29.0   4.7225   \n",
       "1    01/01/1998 01:00        2.16  230.0    NaN   NaN  NaN  37.0      NaN   \n",
       "2    01/01/1998 02:00        2.76  190.0    NaN   NaN  3.0  34.0   6.8300   \n",
       "3    01/01/1998 03:00        2.16  170.0  493.0  52.0  3.0  35.0   7.6625   \n",
       "4    01/01/1998 04:00        2.40  180.0  468.0  78.0  2.0  34.0   8.0700   \n",
       "..                ...         ...    ...    ...   ...  ...   ...      ...   \n",
       "495  21/01/1998 15:00        3.60  190.0  490.0  81.0  2.0  55.0  12.3525   \n",
       "496  21/01/1998 16:00        3.00  170.0  343.0  68.0  2.0  49.0  11.3125   \n",
       "497  21/01/1998 17:00        2.76  160.0  216.0  68.0  1.0  41.0   8.3250   \n",
       "498  21/01/1998 18:00        3.60  170.0  241.0  57.0  1.0  41.0   8.0025   \n",
       "499  21/01/1998 19:00        2.76  180.0  282.0  57.0  1.0  44.0   8.1225   \n",
       "\n",
       "          co  pm25               fecha   Año Mes Dia Hora Min Seg  DiaSemana  \n",
       "0     3.3725   NaN 1998-01-01 00:00:00  1998   1   1    0   0   0   Thursday  \n",
       "1        NaN   NaN 1998-01-01 01:00:00  1998   1   1    1   0   0   Thursday  \n",
       "2     9.6025   NaN 1998-01-01 02:00:00  1998   1   1    2   0   0   Thursday  \n",
       "3    10.2175   NaN 1998-01-01 03:00:00  1998   1   1    3   0   0   Thursday  \n",
       "4     8.9125   NaN 1998-01-01 04:00:00  1998   1   1    4   0   0   Thursday  \n",
       "..       ...   ...                 ...   ...  ..  ..  ...  ..  ..        ...  \n",
       "495   4.5025   NaN 1998-01-21 15:00:00  1998   1  21   15   0   0  Wednesday  \n",
       "496   3.9625   NaN 1998-01-21 16:00:00  1998   1  21   16   0   0  Wednesday  \n",
       "497   2.9025   NaN 1998-01-21 17:00:00  1998   1  21   17   0   0  Wednesday  \n",
       "498   3.4200   NaN 1998-01-21 18:00:00  1998   1  21   18   0   0  Wednesday  \n",
       "499   4.1850   NaN 1998-01-21 19:00:00  1998   1  21   19   0   0  Wednesday  \n",
       "\n",
       "[500 rows x 18 columns]"
      ]
     },
     "execution_count": 68,
     "metadata": {},
     "output_type": "execute_result"
    }
   ],
   "source": [
    "df3"
   ]
  },
  {
   "cell_type": "code",
   "execution_count": 69,
   "metadata": {
    "executionInfo": {
     "elapsed": 213,
     "status": "ok",
     "timestamp": 1731855010158,
     "user": {
      "displayName": "Aitor Donado",
      "userId": "08246046509718212083"
     },
     "user_tz": -60
    },
    "id": "lWDKpUtrmgvB"
   },
   "outputs": [],
   "source": [
    "df3 = df2.copy()"
   ]
  },
  {
   "cell_type": "code",
   "execution_count": 70,
   "metadata": {
    "executionInfo": {
     "elapsed": 639,
     "status": "ok",
     "timestamp": 1731855012074,
     "user": {
      "displayName": "Aitor Donado",
      "userId": "08246046509718212083"
     },
     "user_tz": -60
    },
    "id": "HLMCu1MsfTb-"
   },
   "outputs": [],
   "source": [
    "df3['Año']=df3['fecha'].dt.year\n",
    "df3['Mes']=df3['fecha'].dt.month\n",
    "df3['Dia']=df3['fecha'].dt.day\n",
    "df3['Hora']=df3['fecha'].dt.hour\n",
    "df3['Min']=df3['fecha'].dt.minute\n",
    "df3['Seg']=df3['fecha'].dt.second\n",
    "df3['DiaSemana'] = df3['fecha'].dt.strftime('%A')"
   ]
  },
  {
   "cell_type": "code",
   "execution_count": 71,
   "metadata": {},
   "outputs": [
    {
     "data": {
      "text/html": [
       "<div>\n",
       "<style scoped>\n",
       "    .dataframe tbody tr th:only-of-type {\n",
       "        vertical-align: middle;\n",
       "    }\n",
       "\n",
       "    .dataframe tbody tr th {\n",
       "        vertical-align: top;\n",
       "    }\n",
       "\n",
       "    .dataframe thead th {\n",
       "        text-align: right;\n",
       "    }\n",
       "</style>\n",
       "<table border=\"1\" class=\"dataframe\">\n",
       "  <thead>\n",
       "    <tr style=\"text-align: right;\">\n",
       "      <th></th>\n",
       "      <th>date</th>\n",
       "      <th>Wind_Speed</th>\n",
       "      <th>wd</th>\n",
       "      <th>nox</th>\n",
       "      <th>no2</th>\n",
       "      <th>o3</th>\n",
       "      <th>pm10</th>\n",
       "      <th>so2</th>\n",
       "      <th>co</th>\n",
       "      <th>pm25</th>\n",
       "      <th>fecha</th>\n",
       "      <th>Año</th>\n",
       "      <th>Mes</th>\n",
       "      <th>Dia</th>\n",
       "      <th>Hora</th>\n",
       "      <th>Min</th>\n",
       "      <th>Seg</th>\n",
       "      <th>DiaSemana</th>\n",
       "    </tr>\n",
       "  </thead>\n",
       "  <tbody>\n",
       "    <tr>\n",
       "      <th>0</th>\n",
       "      <td>01/01/1998 00:00</td>\n",
       "      <td>0.60</td>\n",
       "      <td>280.0</td>\n",
       "      <td>285.0</td>\n",
       "      <td>39.0</td>\n",
       "      <td>1.0</td>\n",
       "      <td>29.0</td>\n",
       "      <td>4.7225</td>\n",
       "      <td>3.372500</td>\n",
       "      <td>NaN</td>\n",
       "      <td>1998-01-01 00:00:00</td>\n",
       "      <td>1998</td>\n",
       "      <td>1</td>\n",
       "      <td>1</td>\n",
       "      <td>0</td>\n",
       "      <td>0</td>\n",
       "      <td>0</td>\n",
       "      <td>Thursday</td>\n",
       "    </tr>\n",
       "    <tr>\n",
       "      <th>1</th>\n",
       "      <td>01/01/1998 01:00</td>\n",
       "      <td>2.16</td>\n",
       "      <td>230.0</td>\n",
       "      <td>NaN</td>\n",
       "      <td>NaN</td>\n",
       "      <td>NaN</td>\n",
       "      <td>37.0</td>\n",
       "      <td>NaN</td>\n",
       "      <td>NaN</td>\n",
       "      <td>NaN</td>\n",
       "      <td>1998-01-01 01:00:00</td>\n",
       "      <td>1998</td>\n",
       "      <td>1</td>\n",
       "      <td>1</td>\n",
       "      <td>1</td>\n",
       "      <td>0</td>\n",
       "      <td>0</td>\n",
       "      <td>Thursday</td>\n",
       "    </tr>\n",
       "    <tr>\n",
       "      <th>2</th>\n",
       "      <td>01/01/1998 02:00</td>\n",
       "      <td>2.76</td>\n",
       "      <td>190.0</td>\n",
       "      <td>NaN</td>\n",
       "      <td>NaN</td>\n",
       "      <td>3.0</td>\n",
       "      <td>34.0</td>\n",
       "      <td>6.8300</td>\n",
       "      <td>9.602500</td>\n",
       "      <td>NaN</td>\n",
       "      <td>1998-01-01 02:00:00</td>\n",
       "      <td>1998</td>\n",
       "      <td>1</td>\n",
       "      <td>1</td>\n",
       "      <td>2</td>\n",
       "      <td>0</td>\n",
       "      <td>0</td>\n",
       "      <td>Thursday</td>\n",
       "    </tr>\n",
       "    <tr>\n",
       "      <th>3</th>\n",
       "      <td>01/01/1998 03:00</td>\n",
       "      <td>2.16</td>\n",
       "      <td>170.0</td>\n",
       "      <td>493.0</td>\n",
       "      <td>52.0</td>\n",
       "      <td>3.0</td>\n",
       "      <td>35.0</td>\n",
       "      <td>7.6625</td>\n",
       "      <td>10.217500</td>\n",
       "      <td>NaN</td>\n",
       "      <td>1998-01-01 03:00:00</td>\n",
       "      <td>1998</td>\n",
       "      <td>1</td>\n",
       "      <td>1</td>\n",
       "      <td>3</td>\n",
       "      <td>0</td>\n",
       "      <td>0</td>\n",
       "      <td>Thursday</td>\n",
       "    </tr>\n",
       "    <tr>\n",
       "      <th>4</th>\n",
       "      <td>01/01/1998 04:00</td>\n",
       "      <td>2.40</td>\n",
       "      <td>180.0</td>\n",
       "      <td>468.0</td>\n",
       "      <td>78.0</td>\n",
       "      <td>2.0</td>\n",
       "      <td>34.0</td>\n",
       "      <td>8.0700</td>\n",
       "      <td>8.912500</td>\n",
       "      <td>NaN</td>\n",
       "      <td>1998-01-01 04:00:00</td>\n",
       "      <td>1998</td>\n",
       "      <td>1</td>\n",
       "      <td>1</td>\n",
       "      <td>4</td>\n",
       "      <td>0</td>\n",
       "      <td>0</td>\n",
       "      <td>Thursday</td>\n",
       "    </tr>\n",
       "    <tr>\n",
       "      <th>...</th>\n",
       "      <td>...</td>\n",
       "      <td>...</td>\n",
       "      <td>...</td>\n",
       "      <td>...</td>\n",
       "      <td>...</td>\n",
       "      <td>...</td>\n",
       "      <td>...</td>\n",
       "      <td>...</td>\n",
       "      <td>...</td>\n",
       "      <td>...</td>\n",
       "      <td>...</td>\n",
       "      <td>...</td>\n",
       "      <td>...</td>\n",
       "      <td>...</td>\n",
       "      <td>...</td>\n",
       "      <td>...</td>\n",
       "      <td>...</td>\n",
       "      <td>...</td>\n",
       "    </tr>\n",
       "    <tr>\n",
       "      <th>65528</th>\n",
       "      <td>23/06/2005 08:00</td>\n",
       "      <td>1.50</td>\n",
       "      <td>260.0</td>\n",
       "      <td>388.0</td>\n",
       "      <td>145.0</td>\n",
       "      <td>6.0</td>\n",
       "      <td>48.0</td>\n",
       "      <td>NaN</td>\n",
       "      <td>1.637931</td>\n",
       "      <td>26.0</td>\n",
       "      <td>2005-06-23 08:00:00</td>\n",
       "      <td>2005</td>\n",
       "      <td>6</td>\n",
       "      <td>23</td>\n",
       "      <td>8</td>\n",
       "      <td>0</td>\n",
       "      <td>0</td>\n",
       "      <td>Thursday</td>\n",
       "    </tr>\n",
       "    <tr>\n",
       "      <th>65529</th>\n",
       "      <td>23/06/2005 09:00</td>\n",
       "      <td>1.50</td>\n",
       "      <td>210.0</td>\n",
       "      <td>404.0</td>\n",
       "      <td>168.0</td>\n",
       "      <td>7.0</td>\n",
       "      <td>58.0</td>\n",
       "      <td>NaN</td>\n",
       "      <td>1.293103</td>\n",
       "      <td>34.0</td>\n",
       "      <td>2005-06-23 09:00:00</td>\n",
       "      <td>2005</td>\n",
       "      <td>6</td>\n",
       "      <td>23</td>\n",
       "      <td>9</td>\n",
       "      <td>0</td>\n",
       "      <td>0</td>\n",
       "      <td>Thursday</td>\n",
       "    </tr>\n",
       "    <tr>\n",
       "      <th>65530</th>\n",
       "      <td>23/06/2005 10:00</td>\n",
       "      <td>2.60</td>\n",
       "      <td>240.0</td>\n",
       "      <td>387.0</td>\n",
       "      <td>175.0</td>\n",
       "      <td>10.0</td>\n",
       "      <td>55.0</td>\n",
       "      <td>NaN</td>\n",
       "      <td>1.293103</td>\n",
       "      <td>34.0</td>\n",
       "      <td>2005-06-23 10:00:00</td>\n",
       "      <td>2005</td>\n",
       "      <td>6</td>\n",
       "      <td>23</td>\n",
       "      <td>10</td>\n",
       "      <td>0</td>\n",
       "      <td>0</td>\n",
       "      <td>Thursday</td>\n",
       "    </tr>\n",
       "    <tr>\n",
       "      <th>65531</th>\n",
       "      <td>23/06/2005 11:00</td>\n",
       "      <td>3.10</td>\n",
       "      <td>220.0</td>\n",
       "      <td>312.0</td>\n",
       "      <td>125.0</td>\n",
       "      <td>15.0</td>\n",
       "      <td>52.0</td>\n",
       "      <td>NaN</td>\n",
       "      <td>1.293103</td>\n",
       "      <td>33.0</td>\n",
       "      <td>2005-06-23 11:00:00</td>\n",
       "      <td>2005</td>\n",
       "      <td>6</td>\n",
       "      <td>23</td>\n",
       "      <td>11</td>\n",
       "      <td>0</td>\n",
       "      <td>0</td>\n",
       "      <td>Thursday</td>\n",
       "    </tr>\n",
       "    <tr>\n",
       "      <th>65532</th>\n",
       "      <td>23/06/2005 12:00</td>\n",
       "      <td>3.10</td>\n",
       "      <td>220.0</td>\n",
       "      <td>287.0</td>\n",
       "      <td>119.0</td>\n",
       "      <td>17.0</td>\n",
       "      <td>55.0</td>\n",
       "      <td>NaN</td>\n",
       "      <td>1.293103</td>\n",
       "      <td>35.0</td>\n",
       "      <td>2005-06-23 12:00:00</td>\n",
       "      <td>2005</td>\n",
       "      <td>6</td>\n",
       "      <td>23</td>\n",
       "      <td>12</td>\n",
       "      <td>0</td>\n",
       "      <td>0</td>\n",
       "      <td>Thursday</td>\n",
       "    </tr>\n",
       "  </tbody>\n",
       "</table>\n",
       "<p>65533 rows × 18 columns</p>\n",
       "</div>"
      ],
      "text/plain": [
       "                   date  Wind_Speed     wd    nox    no2    o3  pm10     so2  \\\n",
       "0      01/01/1998 00:00        0.60  280.0  285.0   39.0   1.0  29.0  4.7225   \n",
       "1      01/01/1998 01:00        2.16  230.0    NaN    NaN   NaN  37.0     NaN   \n",
       "2      01/01/1998 02:00        2.76  190.0    NaN    NaN   3.0  34.0  6.8300   \n",
       "3      01/01/1998 03:00        2.16  170.0  493.0   52.0   3.0  35.0  7.6625   \n",
       "4      01/01/1998 04:00        2.40  180.0  468.0   78.0   2.0  34.0  8.0700   \n",
       "...                 ...         ...    ...    ...    ...   ...   ...     ...   \n",
       "65528  23/06/2005 08:00        1.50  260.0  388.0  145.0   6.0  48.0     NaN   \n",
       "65529  23/06/2005 09:00        1.50  210.0  404.0  168.0   7.0  58.0     NaN   \n",
       "65530  23/06/2005 10:00        2.60  240.0  387.0  175.0  10.0  55.0     NaN   \n",
       "65531  23/06/2005 11:00        3.10  220.0  312.0  125.0  15.0  52.0     NaN   \n",
       "65532  23/06/2005 12:00        3.10  220.0  287.0  119.0  17.0  55.0     NaN   \n",
       "\n",
       "              co  pm25               fecha   Año  Mes  Dia  Hora  Min  Seg  \\\n",
       "0       3.372500   NaN 1998-01-01 00:00:00  1998    1    1     0    0    0   \n",
       "1            NaN   NaN 1998-01-01 01:00:00  1998    1    1     1    0    0   \n",
       "2       9.602500   NaN 1998-01-01 02:00:00  1998    1    1     2    0    0   \n",
       "3      10.217500   NaN 1998-01-01 03:00:00  1998    1    1     3    0    0   \n",
       "4       8.912500   NaN 1998-01-01 04:00:00  1998    1    1     4    0    0   \n",
       "...          ...   ...                 ...   ...  ...  ...   ...  ...  ...   \n",
       "65528   1.637931  26.0 2005-06-23 08:00:00  2005    6   23     8    0    0   \n",
       "65529   1.293103  34.0 2005-06-23 09:00:00  2005    6   23     9    0    0   \n",
       "65530   1.293103  34.0 2005-06-23 10:00:00  2005    6   23    10    0    0   \n",
       "65531   1.293103  33.0 2005-06-23 11:00:00  2005    6   23    11    0    0   \n",
       "65532   1.293103  35.0 2005-06-23 12:00:00  2005    6   23    12    0    0   \n",
       "\n",
       "      DiaSemana  \n",
       "0      Thursday  \n",
       "1      Thursday  \n",
       "2      Thursday  \n",
       "3      Thursday  \n",
       "4      Thursday  \n",
       "...         ...  \n",
       "65528  Thursday  \n",
       "65529  Thursday  \n",
       "65530  Thursday  \n",
       "65531  Thursday  \n",
       "65532  Thursday  \n",
       "\n",
       "[65533 rows x 18 columns]"
      ]
     },
     "execution_count": 71,
     "metadata": {},
     "output_type": "execute_result"
    }
   ],
   "source": [
    "df3"
   ]
  },
  {
   "cell_type": "markdown",
   "metadata": {
    "id": "QWygLyOLaOV2"
   },
   "source": [
    "Ahora ya podriamos eliminar la variable 'date'"
   ]
  },
  {
   "cell_type": "code",
   "execution_count": 72,
   "metadata": {
    "executionInfo": {
     "elapsed": 301,
     "status": "ok",
     "timestamp": 1731855148989,
     "user": {
      "displayName": "Aitor Donado",
      "userId": "08246046509718212083"
     },
     "user_tz": -60
    },
    "id": "u9LPTd57mxKI"
   },
   "outputs": [],
   "source": [
    "df2=df2.drop(columns='date')"
   ]
  },
  {
   "cell_type": "code",
   "execution_count": 73,
   "metadata": {},
   "outputs": [
    {
     "data": {
      "text/html": [
       "<div>\n",
       "<style scoped>\n",
       "    .dataframe tbody tr th:only-of-type {\n",
       "        vertical-align: middle;\n",
       "    }\n",
       "\n",
       "    .dataframe tbody tr th {\n",
       "        vertical-align: top;\n",
       "    }\n",
       "\n",
       "    .dataframe thead th {\n",
       "        text-align: right;\n",
       "    }\n",
       "</style>\n",
       "<table border=\"1\" class=\"dataframe\">\n",
       "  <thead>\n",
       "    <tr style=\"text-align: right;\">\n",
       "      <th></th>\n",
       "      <th>Wind_Speed</th>\n",
       "      <th>wd</th>\n",
       "      <th>nox</th>\n",
       "      <th>no2</th>\n",
       "      <th>o3</th>\n",
       "      <th>pm10</th>\n",
       "      <th>so2</th>\n",
       "      <th>co</th>\n",
       "      <th>pm25</th>\n",
       "      <th>fecha</th>\n",
       "    </tr>\n",
       "  </thead>\n",
       "  <tbody>\n",
       "    <tr>\n",
       "      <th>0</th>\n",
       "      <td>0.60</td>\n",
       "      <td>280.0</td>\n",
       "      <td>285.0</td>\n",
       "      <td>39.0</td>\n",
       "      <td>1.0</td>\n",
       "      <td>29.0</td>\n",
       "      <td>4.7225</td>\n",
       "      <td>3.372500</td>\n",
       "      <td>NaN</td>\n",
       "      <td>1998-01-01 00:00:00</td>\n",
       "    </tr>\n",
       "    <tr>\n",
       "      <th>1</th>\n",
       "      <td>2.16</td>\n",
       "      <td>230.0</td>\n",
       "      <td>NaN</td>\n",
       "      <td>NaN</td>\n",
       "      <td>NaN</td>\n",
       "      <td>37.0</td>\n",
       "      <td>NaN</td>\n",
       "      <td>NaN</td>\n",
       "      <td>NaN</td>\n",
       "      <td>1998-01-01 01:00:00</td>\n",
       "    </tr>\n",
       "    <tr>\n",
       "      <th>2</th>\n",
       "      <td>2.76</td>\n",
       "      <td>190.0</td>\n",
       "      <td>NaN</td>\n",
       "      <td>NaN</td>\n",
       "      <td>3.0</td>\n",
       "      <td>34.0</td>\n",
       "      <td>6.8300</td>\n",
       "      <td>9.602500</td>\n",
       "      <td>NaN</td>\n",
       "      <td>1998-01-01 02:00:00</td>\n",
       "    </tr>\n",
       "    <tr>\n",
       "      <th>3</th>\n",
       "      <td>2.16</td>\n",
       "      <td>170.0</td>\n",
       "      <td>493.0</td>\n",
       "      <td>52.0</td>\n",
       "      <td>3.0</td>\n",
       "      <td>35.0</td>\n",
       "      <td>7.6625</td>\n",
       "      <td>10.217500</td>\n",
       "      <td>NaN</td>\n",
       "      <td>1998-01-01 03:00:00</td>\n",
       "    </tr>\n",
       "    <tr>\n",
       "      <th>4</th>\n",
       "      <td>2.40</td>\n",
       "      <td>180.0</td>\n",
       "      <td>468.0</td>\n",
       "      <td>78.0</td>\n",
       "      <td>2.0</td>\n",
       "      <td>34.0</td>\n",
       "      <td>8.0700</td>\n",
       "      <td>8.912500</td>\n",
       "      <td>NaN</td>\n",
       "      <td>1998-01-01 04:00:00</td>\n",
       "    </tr>\n",
       "    <tr>\n",
       "      <th>...</th>\n",
       "      <td>...</td>\n",
       "      <td>...</td>\n",
       "      <td>...</td>\n",
       "      <td>...</td>\n",
       "      <td>...</td>\n",
       "      <td>...</td>\n",
       "      <td>...</td>\n",
       "      <td>...</td>\n",
       "      <td>...</td>\n",
       "      <td>...</td>\n",
       "    </tr>\n",
       "    <tr>\n",
       "      <th>65528</th>\n",
       "      <td>1.50</td>\n",
       "      <td>260.0</td>\n",
       "      <td>388.0</td>\n",
       "      <td>145.0</td>\n",
       "      <td>6.0</td>\n",
       "      <td>48.0</td>\n",
       "      <td>NaN</td>\n",
       "      <td>1.637931</td>\n",
       "      <td>26.0</td>\n",
       "      <td>2005-06-23 08:00:00</td>\n",
       "    </tr>\n",
       "    <tr>\n",
       "      <th>65529</th>\n",
       "      <td>1.50</td>\n",
       "      <td>210.0</td>\n",
       "      <td>404.0</td>\n",
       "      <td>168.0</td>\n",
       "      <td>7.0</td>\n",
       "      <td>58.0</td>\n",
       "      <td>NaN</td>\n",
       "      <td>1.293103</td>\n",
       "      <td>34.0</td>\n",
       "      <td>2005-06-23 09:00:00</td>\n",
       "    </tr>\n",
       "    <tr>\n",
       "      <th>65530</th>\n",
       "      <td>2.60</td>\n",
       "      <td>240.0</td>\n",
       "      <td>387.0</td>\n",
       "      <td>175.0</td>\n",
       "      <td>10.0</td>\n",
       "      <td>55.0</td>\n",
       "      <td>NaN</td>\n",
       "      <td>1.293103</td>\n",
       "      <td>34.0</td>\n",
       "      <td>2005-06-23 10:00:00</td>\n",
       "    </tr>\n",
       "    <tr>\n",
       "      <th>65531</th>\n",
       "      <td>3.10</td>\n",
       "      <td>220.0</td>\n",
       "      <td>312.0</td>\n",
       "      <td>125.0</td>\n",
       "      <td>15.0</td>\n",
       "      <td>52.0</td>\n",
       "      <td>NaN</td>\n",
       "      <td>1.293103</td>\n",
       "      <td>33.0</td>\n",
       "      <td>2005-06-23 11:00:00</td>\n",
       "    </tr>\n",
       "    <tr>\n",
       "      <th>65532</th>\n",
       "      <td>3.10</td>\n",
       "      <td>220.0</td>\n",
       "      <td>287.0</td>\n",
       "      <td>119.0</td>\n",
       "      <td>17.0</td>\n",
       "      <td>55.0</td>\n",
       "      <td>NaN</td>\n",
       "      <td>1.293103</td>\n",
       "      <td>35.0</td>\n",
       "      <td>2005-06-23 12:00:00</td>\n",
       "    </tr>\n",
       "  </tbody>\n",
       "</table>\n",
       "<p>65533 rows × 10 columns</p>\n",
       "</div>"
      ],
      "text/plain": [
       "       Wind_Speed     wd    nox    no2    o3  pm10     so2         co  pm25  \\\n",
       "0            0.60  280.0  285.0   39.0   1.0  29.0  4.7225   3.372500   NaN   \n",
       "1            2.16  230.0    NaN    NaN   NaN  37.0     NaN        NaN   NaN   \n",
       "2            2.76  190.0    NaN    NaN   3.0  34.0  6.8300   9.602500   NaN   \n",
       "3            2.16  170.0  493.0   52.0   3.0  35.0  7.6625  10.217500   NaN   \n",
       "4            2.40  180.0  468.0   78.0   2.0  34.0  8.0700   8.912500   NaN   \n",
       "...           ...    ...    ...    ...   ...   ...     ...        ...   ...   \n",
       "65528        1.50  260.0  388.0  145.0   6.0  48.0     NaN   1.637931  26.0   \n",
       "65529        1.50  210.0  404.0  168.0   7.0  58.0     NaN   1.293103  34.0   \n",
       "65530        2.60  240.0  387.0  175.0  10.0  55.0     NaN   1.293103  34.0   \n",
       "65531        3.10  220.0  312.0  125.0  15.0  52.0     NaN   1.293103  33.0   \n",
       "65532        3.10  220.0  287.0  119.0  17.0  55.0     NaN   1.293103  35.0   \n",
       "\n",
       "                    fecha  \n",
       "0     1998-01-01 00:00:00  \n",
       "1     1998-01-01 01:00:00  \n",
       "2     1998-01-01 02:00:00  \n",
       "3     1998-01-01 03:00:00  \n",
       "4     1998-01-01 04:00:00  \n",
       "...                   ...  \n",
       "65528 2005-06-23 08:00:00  \n",
       "65529 2005-06-23 09:00:00  \n",
       "65530 2005-06-23 10:00:00  \n",
       "65531 2005-06-23 11:00:00  \n",
       "65532 2005-06-23 12:00:00  \n",
       "\n",
       "[65533 rows x 10 columns]"
      ]
     },
     "execution_count": 73,
     "metadata": {},
     "output_type": "execute_result"
    }
   ],
   "source": [
    "df2"
   ]
  },
  {
   "cell_type": "markdown",
   "metadata": {
    "id": "uqgeIFRRaMfU"
   },
   "source": [
    "# Fecha con formato personalizado"
   ]
  },
  {
   "cell_type": "markdown",
   "metadata": {
    "id": "zJ7I61P-aJFj"
   },
   "source": [
    "# Formatos\n",
    "* %a\tNombre local abreviado de día de semana\n",
    "* %A\tNombre local completo de día de semana\n",
    "* %b\tNombre local abreviado de mes\n",
    "* %B\tNombre local completo de mes\n",
    "* %c\tRepresentación local de fecha y hora\n",
    "* %d\tDía de mes\n",
    "* %H\tHora (horario 24 horas)\n",
    "* %I\tHora (horario 12 horas)\n",
    "* %j\tNúmero de día del año\n",
    "* %m\tMes\n",
    "* %M\tMinuto\n",
    "* %p\tEtiqueta AM o PM\n",
    "* %S\tSegundo\n",
    "* %U\tNº semana del año. Se considera al Domingo como primer día de semana\n",
    "* %w\tEstablece el primer día de semana [0(Domingo),1(Lunes)... 6].\n",
    "* %W\tNº semana del año (Se considera al Lunes como primer día de semana)\n",
    "* %x\tFecha local\n",
    "* %X\tHora local\n",
    "* %y\tAño en formato corto\n",
    "* %Y\tAño en formato largo\n",
    "* %Z\tNombre de Zona Horaria\n",
    "\n"
   ]
  },
  {
   "cell_type": "markdown",
   "metadata": {
    "id": "bDyYwayfnLm_"
   },
   "source": [
    "Definimos el segundo formato"
   ]
  },
  {
   "cell_type": "markdown",
   "metadata": {
    "id": "AF_PEAG8m-v1"
   },
   "source": [
    "Definimos el primer formato"
   ]
  },
  {
   "cell_type": "code",
   "execution_count": 74,
   "metadata": {
    "executionInfo": {
     "elapsed": 293,
     "status": "ok",
     "timestamp": 1731855209907,
     "user": {
      "displayName": "Aitor Donado",
      "userId": "08246046509718212083"
     },
     "user_tz": -60
    },
    "id": "SXulWY5XnRdd"
   },
   "outputs": [],
   "source": [
    "formato1 = \"%a %b %d %H:%M:%S %Y\""
   ]
  },
  {
   "cell_type": "code",
   "execution_count": 76,
   "metadata": {
    "executionInfo": {
     "elapsed": 1175,
     "status": "ok",
     "timestamp": 1731855584893,
     "user": {
      "displayName": "Aitor Donado",
      "userId": "08246046509718212083"
     },
     "user_tz": -60
    },
    "id": "ocJLMfXAosHx"
   },
   "outputs": [],
   "source": [
    "df3[\"fecha1\"] = df3[\"fecha\"].dt.strftime(formato1)\n"
   ]
  },
  {
   "cell_type": "code",
   "execution_count": 79,
   "metadata": {},
   "outputs": [
    {
     "data": {
      "text/html": [
       "<div>\n",
       "<style scoped>\n",
       "    .dataframe tbody tr th:only-of-type {\n",
       "        vertical-align: middle;\n",
       "    }\n",
       "\n",
       "    .dataframe tbody tr th {\n",
       "        vertical-align: top;\n",
       "    }\n",
       "\n",
       "    .dataframe thead th {\n",
       "        text-align: right;\n",
       "    }\n",
       "</style>\n",
       "<table border=\"1\" class=\"dataframe\">\n",
       "  <thead>\n",
       "    <tr style=\"text-align: right;\">\n",
       "      <th></th>\n",
       "      <th>date</th>\n",
       "      <th>Wind_Speed</th>\n",
       "      <th>wd</th>\n",
       "      <th>nox</th>\n",
       "      <th>no2</th>\n",
       "      <th>o3</th>\n",
       "      <th>pm10</th>\n",
       "      <th>so2</th>\n",
       "      <th>co</th>\n",
       "      <th>pm25</th>\n",
       "      <th>fecha</th>\n",
       "      <th>Año</th>\n",
       "      <th>Mes</th>\n",
       "      <th>Dia</th>\n",
       "      <th>Hora</th>\n",
       "      <th>Min</th>\n",
       "      <th>Seg</th>\n",
       "      <th>DiaSemana</th>\n",
       "      <th>fecha1</th>\n",
       "    </tr>\n",
       "  </thead>\n",
       "  <tbody>\n",
       "    <tr>\n",
       "      <th>0</th>\n",
       "      <td>01/01/1998 00:00</td>\n",
       "      <td>0.60</td>\n",
       "      <td>280.0</td>\n",
       "      <td>285.0</td>\n",
       "      <td>39.0</td>\n",
       "      <td>1.0</td>\n",
       "      <td>29.0</td>\n",
       "      <td>4.7225</td>\n",
       "      <td>3.372500</td>\n",
       "      <td>NaN</td>\n",
       "      <td>1998-01-01 00:00:00</td>\n",
       "      <td>1998</td>\n",
       "      <td>1</td>\n",
       "      <td>1</td>\n",
       "      <td>0</td>\n",
       "      <td>0</td>\n",
       "      <td>0</td>\n",
       "      <td>Thursday</td>\n",
       "      <td>Thu Jan 01 00:00:00 1998</td>\n",
       "    </tr>\n",
       "    <tr>\n",
       "      <th>1</th>\n",
       "      <td>01/01/1998 01:00</td>\n",
       "      <td>2.16</td>\n",
       "      <td>230.0</td>\n",
       "      <td>NaN</td>\n",
       "      <td>NaN</td>\n",
       "      <td>NaN</td>\n",
       "      <td>37.0</td>\n",
       "      <td>NaN</td>\n",
       "      <td>NaN</td>\n",
       "      <td>NaN</td>\n",
       "      <td>1998-01-01 01:00:00</td>\n",
       "      <td>1998</td>\n",
       "      <td>1</td>\n",
       "      <td>1</td>\n",
       "      <td>1</td>\n",
       "      <td>0</td>\n",
       "      <td>0</td>\n",
       "      <td>Thursday</td>\n",
       "      <td>Thu Jan 01 01:00:00 1998</td>\n",
       "    </tr>\n",
       "    <tr>\n",
       "      <th>2</th>\n",
       "      <td>01/01/1998 02:00</td>\n",
       "      <td>2.76</td>\n",
       "      <td>190.0</td>\n",
       "      <td>NaN</td>\n",
       "      <td>NaN</td>\n",
       "      <td>3.0</td>\n",
       "      <td>34.0</td>\n",
       "      <td>6.8300</td>\n",
       "      <td>9.602500</td>\n",
       "      <td>NaN</td>\n",
       "      <td>1998-01-01 02:00:00</td>\n",
       "      <td>1998</td>\n",
       "      <td>1</td>\n",
       "      <td>1</td>\n",
       "      <td>2</td>\n",
       "      <td>0</td>\n",
       "      <td>0</td>\n",
       "      <td>Thursday</td>\n",
       "      <td>Thu Jan 01 02:00:00 1998</td>\n",
       "    </tr>\n",
       "    <tr>\n",
       "      <th>3</th>\n",
       "      <td>01/01/1998 03:00</td>\n",
       "      <td>2.16</td>\n",
       "      <td>170.0</td>\n",
       "      <td>493.0</td>\n",
       "      <td>52.0</td>\n",
       "      <td>3.0</td>\n",
       "      <td>35.0</td>\n",
       "      <td>7.6625</td>\n",
       "      <td>10.217500</td>\n",
       "      <td>NaN</td>\n",
       "      <td>1998-01-01 03:00:00</td>\n",
       "      <td>1998</td>\n",
       "      <td>1</td>\n",
       "      <td>1</td>\n",
       "      <td>3</td>\n",
       "      <td>0</td>\n",
       "      <td>0</td>\n",
       "      <td>Thursday</td>\n",
       "      <td>Thu Jan 01 03:00:00 1998</td>\n",
       "    </tr>\n",
       "    <tr>\n",
       "      <th>4</th>\n",
       "      <td>01/01/1998 04:00</td>\n",
       "      <td>2.40</td>\n",
       "      <td>180.0</td>\n",
       "      <td>468.0</td>\n",
       "      <td>78.0</td>\n",
       "      <td>2.0</td>\n",
       "      <td>34.0</td>\n",
       "      <td>8.0700</td>\n",
       "      <td>8.912500</td>\n",
       "      <td>NaN</td>\n",
       "      <td>1998-01-01 04:00:00</td>\n",
       "      <td>1998</td>\n",
       "      <td>1</td>\n",
       "      <td>1</td>\n",
       "      <td>4</td>\n",
       "      <td>0</td>\n",
       "      <td>0</td>\n",
       "      <td>Thursday</td>\n",
       "      <td>Thu Jan 01 04:00:00 1998</td>\n",
       "    </tr>\n",
       "    <tr>\n",
       "      <th>...</th>\n",
       "      <td>...</td>\n",
       "      <td>...</td>\n",
       "      <td>...</td>\n",
       "      <td>...</td>\n",
       "      <td>...</td>\n",
       "      <td>...</td>\n",
       "      <td>...</td>\n",
       "      <td>...</td>\n",
       "      <td>...</td>\n",
       "      <td>...</td>\n",
       "      <td>...</td>\n",
       "      <td>...</td>\n",
       "      <td>...</td>\n",
       "      <td>...</td>\n",
       "      <td>...</td>\n",
       "      <td>...</td>\n",
       "      <td>...</td>\n",
       "      <td>...</td>\n",
       "      <td>...</td>\n",
       "    </tr>\n",
       "    <tr>\n",
       "      <th>65528</th>\n",
       "      <td>23/06/2005 08:00</td>\n",
       "      <td>1.50</td>\n",
       "      <td>260.0</td>\n",
       "      <td>388.0</td>\n",
       "      <td>145.0</td>\n",
       "      <td>6.0</td>\n",
       "      <td>48.0</td>\n",
       "      <td>NaN</td>\n",
       "      <td>1.637931</td>\n",
       "      <td>26.0</td>\n",
       "      <td>2005-06-23 08:00:00</td>\n",
       "      <td>2005</td>\n",
       "      <td>6</td>\n",
       "      <td>23</td>\n",
       "      <td>8</td>\n",
       "      <td>0</td>\n",
       "      <td>0</td>\n",
       "      <td>Thursday</td>\n",
       "      <td>Thu Jun 23 08:00:00 2005</td>\n",
       "    </tr>\n",
       "    <tr>\n",
       "      <th>65529</th>\n",
       "      <td>23/06/2005 09:00</td>\n",
       "      <td>1.50</td>\n",
       "      <td>210.0</td>\n",
       "      <td>404.0</td>\n",
       "      <td>168.0</td>\n",
       "      <td>7.0</td>\n",
       "      <td>58.0</td>\n",
       "      <td>NaN</td>\n",
       "      <td>1.293103</td>\n",
       "      <td>34.0</td>\n",
       "      <td>2005-06-23 09:00:00</td>\n",
       "      <td>2005</td>\n",
       "      <td>6</td>\n",
       "      <td>23</td>\n",
       "      <td>9</td>\n",
       "      <td>0</td>\n",
       "      <td>0</td>\n",
       "      <td>Thursday</td>\n",
       "      <td>Thu Jun 23 09:00:00 2005</td>\n",
       "    </tr>\n",
       "    <tr>\n",
       "      <th>65530</th>\n",
       "      <td>23/06/2005 10:00</td>\n",
       "      <td>2.60</td>\n",
       "      <td>240.0</td>\n",
       "      <td>387.0</td>\n",
       "      <td>175.0</td>\n",
       "      <td>10.0</td>\n",
       "      <td>55.0</td>\n",
       "      <td>NaN</td>\n",
       "      <td>1.293103</td>\n",
       "      <td>34.0</td>\n",
       "      <td>2005-06-23 10:00:00</td>\n",
       "      <td>2005</td>\n",
       "      <td>6</td>\n",
       "      <td>23</td>\n",
       "      <td>10</td>\n",
       "      <td>0</td>\n",
       "      <td>0</td>\n",
       "      <td>Thursday</td>\n",
       "      <td>Thu Jun 23 10:00:00 2005</td>\n",
       "    </tr>\n",
       "    <tr>\n",
       "      <th>65531</th>\n",
       "      <td>23/06/2005 11:00</td>\n",
       "      <td>3.10</td>\n",
       "      <td>220.0</td>\n",
       "      <td>312.0</td>\n",
       "      <td>125.0</td>\n",
       "      <td>15.0</td>\n",
       "      <td>52.0</td>\n",
       "      <td>NaN</td>\n",
       "      <td>1.293103</td>\n",
       "      <td>33.0</td>\n",
       "      <td>2005-06-23 11:00:00</td>\n",
       "      <td>2005</td>\n",
       "      <td>6</td>\n",
       "      <td>23</td>\n",
       "      <td>11</td>\n",
       "      <td>0</td>\n",
       "      <td>0</td>\n",
       "      <td>Thursday</td>\n",
       "      <td>Thu Jun 23 11:00:00 2005</td>\n",
       "    </tr>\n",
       "    <tr>\n",
       "      <th>65532</th>\n",
       "      <td>23/06/2005 12:00</td>\n",
       "      <td>3.10</td>\n",
       "      <td>220.0</td>\n",
       "      <td>287.0</td>\n",
       "      <td>119.0</td>\n",
       "      <td>17.0</td>\n",
       "      <td>55.0</td>\n",
       "      <td>NaN</td>\n",
       "      <td>1.293103</td>\n",
       "      <td>35.0</td>\n",
       "      <td>2005-06-23 12:00:00</td>\n",
       "      <td>2005</td>\n",
       "      <td>6</td>\n",
       "      <td>23</td>\n",
       "      <td>12</td>\n",
       "      <td>0</td>\n",
       "      <td>0</td>\n",
       "      <td>Thursday</td>\n",
       "      <td>Thu Jun 23 12:00:00 2005</td>\n",
       "    </tr>\n",
       "  </tbody>\n",
       "</table>\n",
       "<p>65533 rows × 19 columns</p>\n",
       "</div>"
      ],
      "text/plain": [
       "                   date  Wind_Speed     wd    nox    no2    o3  pm10     so2  \\\n",
       "0      01/01/1998 00:00        0.60  280.0  285.0   39.0   1.0  29.0  4.7225   \n",
       "1      01/01/1998 01:00        2.16  230.0    NaN    NaN   NaN  37.0     NaN   \n",
       "2      01/01/1998 02:00        2.76  190.0    NaN    NaN   3.0  34.0  6.8300   \n",
       "3      01/01/1998 03:00        2.16  170.0  493.0   52.0   3.0  35.0  7.6625   \n",
       "4      01/01/1998 04:00        2.40  180.0  468.0   78.0   2.0  34.0  8.0700   \n",
       "...                 ...         ...    ...    ...    ...   ...   ...     ...   \n",
       "65528  23/06/2005 08:00        1.50  260.0  388.0  145.0   6.0  48.0     NaN   \n",
       "65529  23/06/2005 09:00        1.50  210.0  404.0  168.0   7.0  58.0     NaN   \n",
       "65530  23/06/2005 10:00        2.60  240.0  387.0  175.0  10.0  55.0     NaN   \n",
       "65531  23/06/2005 11:00        3.10  220.0  312.0  125.0  15.0  52.0     NaN   \n",
       "65532  23/06/2005 12:00        3.10  220.0  287.0  119.0  17.0  55.0     NaN   \n",
       "\n",
       "              co  pm25               fecha   Año  Mes  Dia  Hora  Min  Seg  \\\n",
       "0       3.372500   NaN 1998-01-01 00:00:00  1998    1    1     0    0    0   \n",
       "1            NaN   NaN 1998-01-01 01:00:00  1998    1    1     1    0    0   \n",
       "2       9.602500   NaN 1998-01-01 02:00:00  1998    1    1     2    0    0   \n",
       "3      10.217500   NaN 1998-01-01 03:00:00  1998    1    1     3    0    0   \n",
       "4       8.912500   NaN 1998-01-01 04:00:00  1998    1    1     4    0    0   \n",
       "...          ...   ...                 ...   ...  ...  ...   ...  ...  ...   \n",
       "65528   1.637931  26.0 2005-06-23 08:00:00  2005    6   23     8    0    0   \n",
       "65529   1.293103  34.0 2005-06-23 09:00:00  2005    6   23     9    0    0   \n",
       "65530   1.293103  34.0 2005-06-23 10:00:00  2005    6   23    10    0    0   \n",
       "65531   1.293103  33.0 2005-06-23 11:00:00  2005    6   23    11    0    0   \n",
       "65532   1.293103  35.0 2005-06-23 12:00:00  2005    6   23    12    0    0   \n",
       "\n",
       "      DiaSemana                    fecha1  \n",
       "0      Thursday  Thu Jan 01 00:00:00 1998  \n",
       "1      Thursday  Thu Jan 01 01:00:00 1998  \n",
       "2      Thursday  Thu Jan 01 02:00:00 1998  \n",
       "3      Thursday  Thu Jan 01 03:00:00 1998  \n",
       "4      Thursday  Thu Jan 01 04:00:00 1998  \n",
       "...         ...                       ...  \n",
       "65528  Thursday  Thu Jun 23 08:00:00 2005  \n",
       "65529  Thursday  Thu Jun 23 09:00:00 2005  \n",
       "65530  Thursday  Thu Jun 23 10:00:00 2005  \n",
       "65531  Thursday  Thu Jun 23 11:00:00 2005  \n",
       "65532  Thursday  Thu Jun 23 12:00:00 2005  \n",
       "\n",
       "[65533 rows x 19 columns]"
      ]
     },
     "execution_count": 79,
     "metadata": {},
     "output_type": "execute_result"
    }
   ],
   "source": [
    "df3"
   ]
  },
  {
   "cell_type": "code",
   "execution_count": 80,
   "metadata": {
    "executionInfo": {
     "elapsed": 237,
     "status": "ok",
     "timestamp": 1731855281525,
     "user": {
      "displayName": "Aitor Donado",
      "userId": "08246046509718212083"
     },
     "user_tz": -60
    },
    "id": "iwNX2otanMTe"
   },
   "outputs": [],
   "source": [
    "formato2 = \"%d-%m-%y %I:%M %p\""
   ]
  },
  {
   "cell_type": "code",
   "execution_count": 81,
   "metadata": {},
   "outputs": [],
   "source": [
    "df3[\"fecha2\"] = df3[\"fecha\"].dt.strftime(formato2)"
   ]
  },
  {
   "cell_type": "code",
   "execution_count": 82,
   "metadata": {
    "colab": {
     "base_uri": "https://localhost:8080/",
     "height": 486
    },
    "executionInfo": {
     "elapsed": 6441,
     "status": "ok",
     "timestamp": 1731855594817,
     "user": {
      "displayName": "Aitor Donado",
      "userId": "08246046509718212083"
     },
     "user_tz": -60
    },
    "id": "-ZJePTCrn9b6",
    "outputId": "9c6d5474-8a14-4a1b-9c91-1d9896fc61a9"
   },
   "outputs": [
    {
     "data": {
      "text/html": [
       "<div>\n",
       "<style scoped>\n",
       "    .dataframe tbody tr th:only-of-type {\n",
       "        vertical-align: middle;\n",
       "    }\n",
       "\n",
       "    .dataframe tbody tr th {\n",
       "        vertical-align: top;\n",
       "    }\n",
       "\n",
       "    .dataframe thead th {\n",
       "        text-align: right;\n",
       "    }\n",
       "</style>\n",
       "<table border=\"1\" class=\"dataframe\">\n",
       "  <thead>\n",
       "    <tr style=\"text-align: right;\">\n",
       "      <th></th>\n",
       "      <th>date</th>\n",
       "      <th>Wind_Speed</th>\n",
       "      <th>wd</th>\n",
       "      <th>nox</th>\n",
       "      <th>no2</th>\n",
       "      <th>o3</th>\n",
       "      <th>pm10</th>\n",
       "      <th>so2</th>\n",
       "      <th>co</th>\n",
       "      <th>pm25</th>\n",
       "      <th>fecha</th>\n",
       "      <th>Año</th>\n",
       "      <th>Mes</th>\n",
       "      <th>Dia</th>\n",
       "      <th>Hora</th>\n",
       "      <th>Min</th>\n",
       "      <th>Seg</th>\n",
       "      <th>DiaSemana</th>\n",
       "      <th>fecha1</th>\n",
       "      <th>fecha2</th>\n",
       "    </tr>\n",
       "  </thead>\n",
       "  <tbody>\n",
       "    <tr>\n",
       "      <th>0</th>\n",
       "      <td>01/01/1998 00:00</td>\n",
       "      <td>0.60</td>\n",
       "      <td>280.0</td>\n",
       "      <td>285.0</td>\n",
       "      <td>39.0</td>\n",
       "      <td>1.0</td>\n",
       "      <td>29.0</td>\n",
       "      <td>4.7225</td>\n",
       "      <td>3.3725</td>\n",
       "      <td>NaN</td>\n",
       "      <td>1998-01-01 00:00:00</td>\n",
       "      <td>1998</td>\n",
       "      <td>1</td>\n",
       "      <td>1</td>\n",
       "      <td>0</td>\n",
       "      <td>0</td>\n",
       "      <td>0</td>\n",
       "      <td>Thursday</td>\n",
       "      <td>Thu Jan 01 00:00:00 1998</td>\n",
       "      <td>01-01-98 12:00 AM</td>\n",
       "    </tr>\n",
       "    <tr>\n",
       "      <th>1</th>\n",
       "      <td>01/01/1998 01:00</td>\n",
       "      <td>2.16</td>\n",
       "      <td>230.0</td>\n",
       "      <td>NaN</td>\n",
       "      <td>NaN</td>\n",
       "      <td>NaN</td>\n",
       "      <td>37.0</td>\n",
       "      <td>NaN</td>\n",
       "      <td>NaN</td>\n",
       "      <td>NaN</td>\n",
       "      <td>1998-01-01 01:00:00</td>\n",
       "      <td>1998</td>\n",
       "      <td>1</td>\n",
       "      <td>1</td>\n",
       "      <td>1</td>\n",
       "      <td>0</td>\n",
       "      <td>0</td>\n",
       "      <td>Thursday</td>\n",
       "      <td>Thu Jan 01 01:00:00 1998</td>\n",
       "      <td>01-01-98 01:00 AM</td>\n",
       "    </tr>\n",
       "    <tr>\n",
       "      <th>2</th>\n",
       "      <td>01/01/1998 02:00</td>\n",
       "      <td>2.76</td>\n",
       "      <td>190.0</td>\n",
       "      <td>NaN</td>\n",
       "      <td>NaN</td>\n",
       "      <td>3.0</td>\n",
       "      <td>34.0</td>\n",
       "      <td>6.8300</td>\n",
       "      <td>9.6025</td>\n",
       "      <td>NaN</td>\n",
       "      <td>1998-01-01 02:00:00</td>\n",
       "      <td>1998</td>\n",
       "      <td>1</td>\n",
       "      <td>1</td>\n",
       "      <td>2</td>\n",
       "      <td>0</td>\n",
       "      <td>0</td>\n",
       "      <td>Thursday</td>\n",
       "      <td>Thu Jan 01 02:00:00 1998</td>\n",
       "      <td>01-01-98 02:00 AM</td>\n",
       "    </tr>\n",
       "    <tr>\n",
       "      <th>3</th>\n",
       "      <td>01/01/1998 03:00</td>\n",
       "      <td>2.16</td>\n",
       "      <td>170.0</td>\n",
       "      <td>493.0</td>\n",
       "      <td>52.0</td>\n",
       "      <td>3.0</td>\n",
       "      <td>35.0</td>\n",
       "      <td>7.6625</td>\n",
       "      <td>10.2175</td>\n",
       "      <td>NaN</td>\n",
       "      <td>1998-01-01 03:00:00</td>\n",
       "      <td>1998</td>\n",
       "      <td>1</td>\n",
       "      <td>1</td>\n",
       "      <td>3</td>\n",
       "      <td>0</td>\n",
       "      <td>0</td>\n",
       "      <td>Thursday</td>\n",
       "      <td>Thu Jan 01 03:00:00 1998</td>\n",
       "      <td>01-01-98 03:00 AM</td>\n",
       "    </tr>\n",
       "    <tr>\n",
       "      <th>4</th>\n",
       "      <td>01/01/1998 04:00</td>\n",
       "      <td>2.40</td>\n",
       "      <td>180.0</td>\n",
       "      <td>468.0</td>\n",
       "      <td>78.0</td>\n",
       "      <td>2.0</td>\n",
       "      <td>34.0</td>\n",
       "      <td>8.0700</td>\n",
       "      <td>8.9125</td>\n",
       "      <td>NaN</td>\n",
       "      <td>1998-01-01 04:00:00</td>\n",
       "      <td>1998</td>\n",
       "      <td>1</td>\n",
       "      <td>1</td>\n",
       "      <td>4</td>\n",
       "      <td>0</td>\n",
       "      <td>0</td>\n",
       "      <td>Thursday</td>\n",
       "      <td>Thu Jan 01 04:00:00 1998</td>\n",
       "      <td>01-01-98 04:00 AM</td>\n",
       "    </tr>\n",
       "  </tbody>\n",
       "</table>\n",
       "</div>"
      ],
      "text/plain": [
       "               date  Wind_Speed     wd    nox   no2   o3  pm10     so2  \\\n",
       "0  01/01/1998 00:00        0.60  280.0  285.0  39.0  1.0  29.0  4.7225   \n",
       "1  01/01/1998 01:00        2.16  230.0    NaN   NaN  NaN  37.0     NaN   \n",
       "2  01/01/1998 02:00        2.76  190.0    NaN   NaN  3.0  34.0  6.8300   \n",
       "3  01/01/1998 03:00        2.16  170.0  493.0  52.0  3.0  35.0  7.6625   \n",
       "4  01/01/1998 04:00        2.40  180.0  468.0  78.0  2.0  34.0  8.0700   \n",
       "\n",
       "        co  pm25               fecha   Año  Mes  Dia  Hora  Min  Seg  \\\n",
       "0   3.3725   NaN 1998-01-01 00:00:00  1998    1    1     0    0    0   \n",
       "1      NaN   NaN 1998-01-01 01:00:00  1998    1    1     1    0    0   \n",
       "2   9.6025   NaN 1998-01-01 02:00:00  1998    1    1     2    0    0   \n",
       "3  10.2175   NaN 1998-01-01 03:00:00  1998    1    1     3    0    0   \n",
       "4   8.9125   NaN 1998-01-01 04:00:00  1998    1    1     4    0    0   \n",
       "\n",
       "  DiaSemana                    fecha1             fecha2  \n",
       "0  Thursday  Thu Jan 01 00:00:00 1998  01-01-98 12:00 AM  \n",
       "1  Thursday  Thu Jan 01 01:00:00 1998  01-01-98 01:00 AM  \n",
       "2  Thursday  Thu Jan 01 02:00:00 1998  01-01-98 02:00 AM  \n",
       "3  Thursday  Thu Jan 01 03:00:00 1998  01-01-98 03:00 AM  \n",
       "4  Thursday  Thu Jan 01 04:00:00 1998  01-01-98 04:00 AM  "
      ]
     },
     "execution_count": 82,
     "metadata": {},
     "output_type": "execute_result"
    }
   ],
   "source": [
    "df3.head()"
   ]
  },
  {
   "cell_type": "markdown",
   "metadata": {},
   "source": [
    "### usaremos calendarios"
   ]
  },
  {
   "cell_type": "code",
   "execution_count": 83,
   "metadata": {
    "colab": {
     "base_uri": "https://localhost:8080/"
    },
    "executionInfo": {
     "elapsed": 312,
     "status": "ok",
     "timestamp": 1731855687916,
     "user": {
      "displayName": "Aitor Donado",
      "userId": "08246046509718212083"
     },
     "user_tz": -60
    },
    "id": "NatuH8IqaF0A",
    "outputId": "abd3a0b6-5c84-42b2-e3b5-b1dd575c3c36"
   },
   "outputs": [
    {
     "name": "stdout",
     "output_type": "stream",
     "text": [
      "                              2024\n",
      "\n",
      "      January               February               March\n",
      "Mo Tu We Th Fr Sa Su  Mo Tu We Th Fr Sa Su  Mo Tu We Th Fr Sa Su\n",
      " 1  2  3  4  5  6  7            1  2  3  4               1  2  3\n",
      " 8  9 10 11 12 13 14   5  6  7  8  9 10 11   4  5  6  7  8  9 10\n",
      "15 16 17 18 19 20 21  12 13 14 15 16 17 18  11 12 13 14 15 16 17\n",
      "22 23 24 25 26 27 28  19 20 21 22 23 24 25  18 19 20 21 22 23 24\n",
      "29 30 31              26 27 28 29           25 26 27 28 29 30 31\n",
      "\n",
      "       April                  May                   June\n",
      "Mo Tu We Th Fr Sa Su  Mo Tu We Th Fr Sa Su  Mo Tu We Th Fr Sa Su\n",
      " 1  2  3  4  5  6  7         1  2  3  4  5                  1  2\n",
      " 8  9 10 11 12 13 14   6  7  8  9 10 11 12   3  4  5  6  7  8  9\n",
      "15 16 17 18 19 20 21  13 14 15 16 17 18 19  10 11 12 13 14 15 16\n",
      "22 23 24 25 26 27 28  20 21 22 23 24 25 26  17 18 19 20 21 22 23\n",
      "29 30                 27 28 29 30 31        24 25 26 27 28 29 30\n",
      "\n",
      "        July                 August              September\n",
      "Mo Tu We Th Fr Sa Su  Mo Tu We Th Fr Sa Su  Mo Tu We Th Fr Sa Su\n",
      " 1  2  3  4  5  6  7            1  2  3  4                     1\n",
      " 8  9 10 11 12 13 14   5  6  7  8  9 10 11   2  3  4  5  6  7  8\n",
      "15 16 17 18 19 20 21  12 13 14 15 16 17 18   9 10 11 12 13 14 15\n",
      "22 23 24 25 26 27 28  19 20 21 22 23 24 25  16 17 18 19 20 21 22\n",
      "29 30 31              26 27 28 29 30 31     23 24 25 26 27 28 29\n",
      "                                            30\n",
      "\n",
      "      October               November              December\n",
      "Mo Tu We Th Fr Sa Su  Mo Tu We Th Fr Sa Su  Mo Tu We Th Fr Sa Su\n",
      "    1  2  3  4  5  6               1  2  3                     1\n",
      " 7  8  9 10 11 12 13   4  5  6  7  8  9 10   2  3  4  5  6  7  8\n",
      "14 15 16 17 18 19 20  11 12 13 14 15 16 17   9 10 11 12 13 14 15\n",
      "21 22 23 24 25 26 27  18 19 20 21 22 23 24  16 17 18 19 20 21 22\n",
      "28 29 30 31           25 26 27 28 29 30     23 24 25 26 27 28 29\n",
      "                                            30 31\n",
      "\n"
     ]
    }
   ],
   "source": [
    "# Visualizar el calendario de cualquier año\n",
    "print(calendar.TextCalendar(calendar.MONDAY).formatyear(2024, w=2, l=1, c=1, m=3))\n",
    "\n",
    "# w\tThe width between two columns. Default value is 2.\n",
    "# l\tBlank line between two rows. Default value is 1.\n",
    "# c\tSpace between two months (Column wise). Default value is 6.\tOptional\n",
    "# m\tNumber of months in a row. Default value is 3."
   ]
  },
  {
   "cell_type": "code",
   "execution_count": 84,
   "metadata": {
    "colab": {
     "base_uri": "https://localhost:8080/"
    },
    "executionInfo": {
     "elapsed": 252,
     "status": "ok",
     "timestamp": 1731855705612,
     "user": {
      "displayName": "Aitor Donado",
      "userId": "08246046509718212083"
     },
     "user_tz": -60
    },
    "id": "cnlhC-4NaEmP",
    "outputId": "b125ab7c-92c7-4a36-dbec-abf079fba08f"
   },
   "outputs": [
    {
     "name": "stdout",
     "output_type": "stream",
     "text": [
      "     June 2025\n",
      "Mo Tu We Th Fr Sa Su\n",
      "                   1\n",
      " 2  3  4  5  6  7  8\n",
      " 9 10 11 12 13 14 15\n",
      "16 17 18 19 20 21 22\n",
      "23 24 25 26 27 28 29\n",
      "30\n",
      "\n"
     ]
    }
   ],
   "source": [
    "# Visualizar el calendario de este año\n",
    "año = date.today().year\n",
    "mes = date.today().month\n",
    "calendario_mes = calendar.month(año, mes)\n",
    "print(calendario_mes)"
   ]
  },
  {
   "cell_type": "code",
   "execution_count": 85,
   "metadata": {
    "colab": {
     "base_uri": "https://localhost:8080/"
    },
    "executionInfo": {
     "elapsed": 309,
     "status": "ok",
     "timestamp": 1731855750274,
     "user": {
      "displayName": "Aitor Donado",
      "userId": "08246046509718212083"
     },
     "user_tz": -60
    },
    "id": "8lD-MrvVaDm1",
    "outputId": "86d32982-6401-447c-834d-2e2a5a414f6b"
   },
   "outputs": [
    {
     "name": "stdout",
     "output_type": "stream",
     "text": [
      "Hoy: 2025-06-24\n",
      "La navidad del 2024 2024-12-25\n",
      "Faltan -181 días\n"
     ]
    }
   ],
   "source": [
    "# Diferencia entre fechas\n",
    "hoy = date.today()\n",
    "navidad_futura = date(2024, 12, 25)\n",
    "faltan = navidad_futura - hoy\n",
    "print (\"Hoy:\", hoy)\n",
    "print (\"La navidad del 2024\", navidad_futura)\n",
    "print (\"Faltan\", faltan.days, \"días\")"
   ]
  },
  {
   "cell_type": "code",
   "execution_count": 86,
   "metadata": {
    "colab": {
     "base_uri": "https://localhost:8080/"
    },
    "executionInfo": {
     "elapsed": 239,
     "status": "ok",
     "timestamp": 1731855821376,
     "user": {
      "displayName": "Aitor Donado",
      "userId": "08246046509718212083"
     },
     "user_tz": -60
    },
    "id": "91hDtw93aAPb",
    "outputId": "4d03ad2b-e935-4791-f977-1b474a55dd45"
   },
   "outputs": [
    {
     "name": "stdout",
     "output_type": "stream",
     "text": [
      "Fecha inicial: 2013-10-01 00:00:00\n",
      "Fecha final: 2013-12-25 00:00:00\n",
      "Diferencia: 85 días\n"
     ]
    }
   ],
   "source": [
    "# Otra forma de calcular la diferencia entre dos fechas\n",
    "formato_fecha = \"%d-%m-%Y\"\n",
    "fecha_inicial = datetime.strptime(\"01-10-2013\", formato_fecha)\n",
    "fecha_final = datetime.strptime(\"25-12-2013\", formato_fecha)\n",
    "diferencia = fecha_final - fecha_inicial\n",
    "print(\"Fecha inicial:\", fecha_inicial)\n",
    "print(\"Fecha final:\", fecha_final)\n",
    "print(\"Diferencia:\", diferencia.days, \"días\")"
   ]
  },
  {
   "cell_type": "code",
   "execution_count": 87,
   "metadata": {
    "colab": {
     "base_uri": "https://localhost:8080/"
    },
    "executionInfo": {
     "elapsed": 330,
     "status": "ok",
     "timestamp": 1731855920829,
     "user": {
      "displayName": "Aitor Donado",
      "userId": "08246046509718212083"
     },
     "user_tz": -60
    },
    "id": "LT2STgXJZ_E6",
    "outputId": "9e598ce1-1bd6-42ee-8494-4b96fe8a8835"
   },
   "outputs": [
    {
     "data": {
      "text/plain": [
       "datetime.date(2025, 6, 24)"
      ]
     },
     "execution_count": 87,
     "metadata": {},
     "output_type": "execute_result"
    }
   ],
   "source": [
    "# Operaciones con fechas y horas\n",
    "hoy = date.today()\n",
    "hoy"
   ]
  },
  {
   "cell_type": "code",
   "execution_count": 88,
   "metadata": {
    "colab": {
     "base_uri": "https://localhost:8080/"
    },
    "executionInfo": {
     "elapsed": 260,
     "status": "ok",
     "timestamp": 1731855923946,
     "user": {
      "displayName": "Aitor Donado",
      "userId": "08246046509718212083"
     },
     "user_tz": -60
    },
    "id": "PmPKMShPp9ub",
    "outputId": "d4e84f29-2de3-4cfb-c48f-c0198534312a"
   },
   "outputs": [
    {
     "data": {
      "text/plain": [
       "datetime.date(2025, 6, 23)"
      ]
     },
     "execution_count": 88,
     "metadata": {},
     "output_type": "execute_result"
    }
   ],
   "source": [
    "ayer = hoy - timedelta(days=1)\n",
    "ayer"
   ]
  },
  {
   "cell_type": "code",
   "execution_count": 89,
   "metadata": {
    "colab": {
     "base_uri": "https://localhost:8080/"
    },
    "executionInfo": {
     "elapsed": 215,
     "status": "ok",
     "timestamp": 1731855928576,
     "user": {
      "displayName": "Aitor Donado",
      "userId": "08246046509718212083"
     },
     "user_tz": -60
    },
    "id": "qIG0pU6Wp-zu",
    "outputId": "1533150a-7720-4df4-c77f-685d4f800bde"
   },
   "outputs": [
    {
     "data": {
      "text/plain": [
       "datetime.date(2025, 6, 25)"
      ]
     },
     "execution_count": 89,
     "metadata": {},
     "output_type": "execute_result"
    }
   ],
   "source": [
    "mañana = hoy + timedelta(days=1)\n",
    "mañana"
   ]
  },
  {
   "cell_type": "code",
   "execution_count": 90,
   "metadata": {
    "colab": {
     "base_uri": "https://localhost:8080/"
    },
    "executionInfo": {
     "elapsed": 267,
     "status": "ok",
     "timestamp": 1731855938749,
     "user": {
      "displayName": "Aitor Donado",
      "userId": "08246046509718212083"
     },
     "user_tz": -60
    },
    "id": "vvbctx2Ep_op",
    "outputId": "66236260-8e9e-4bb9-fb2d-6b6fd0aafed7"
   },
   "outputs": [
    {
     "data": {
      "text/plain": [
       "datetime.timedelta(days=2)"
      ]
     },
     "execution_count": 90,
     "metadata": {},
     "output_type": "execute_result"
    }
   ],
   "source": [
    "diferencia = mañana - ayer\n",
    "diferencia"
   ]
  },
  {
   "cell_type": "code",
   "execution_count": 91,
   "metadata": {
    "colab": {
     "base_uri": "https://localhost:8080/"
    },
    "executionInfo": {
     "elapsed": 351,
     "status": "ok",
     "timestamp": 1731855954403,
     "user": {
      "displayName": "Aitor Donado",
      "userId": "08246046509718212083"
     },
     "user_tz": -60
    },
    "id": "MAWe1teNqAhJ",
    "outputId": "c9db8a9a-83bb-46c0-b4cc-9cc8dcb3f49d"
   },
   "outputs": [
    {
     "data": {
      "text/plain": [
       "datetime.date(2025, 7, 5)"
      ]
     },
     "execution_count": 91,
     "metadata": {},
     "output_type": "execute_result"
    }
   ],
   "source": [
    "hoy_mas_1_millon_segundos = hoy + timedelta(seconds=1000000)\n",
    "hoy_mas_1_millon_segundos"
   ]
  },
  {
   "cell_type": "code",
   "execution_count": 92,
   "metadata": {
    "colab": {
     "base_uri": "https://localhost:8080/"
    },
    "executionInfo": {
     "elapsed": 331,
     "status": "ok",
     "timestamp": 1731856019859,
     "user": {
      "displayName": "Aitor Donado",
      "userId": "08246046509718212083"
     },
     "user_tz": -60
    },
    "id": "hzXLhix9qJ96",
    "outputId": "e398af6a-fea4-4505-d1c3-a07fc6494c97"
   },
   "outputs": [
    {
     "data": {
      "text/plain": [
       "datetime.datetime(2025, 6, 24, 9, 4, 40, 948817)"
      ]
     },
     "execution_count": 92,
     "metadata": {},
     "output_type": "execute_result"
    }
   ],
   "source": [
    "ahora = datetime.now()\n",
    "ahora"
   ]
  },
  {
   "cell_type": "code",
   "execution_count": 93,
   "metadata": {
    "colab": {
     "base_uri": "https://localhost:8080/"
    },
    "executionInfo": {
     "elapsed": 249,
     "status": "ok",
     "timestamp": 1731856021839,
     "user": {
      "displayName": "Aitor Donado",
      "userId": "08246046509718212083"
     },
     "user_tz": -60
    },
    "id": "o2E05M-FqaQ1",
    "outputId": "d704aa61-7f90-4b99-cfb7-7ac750c9ac1c"
   },
   "outputs": [
    {
     "data": {
      "text/plain": [
       "datetime.datetime(2025, 6, 25, 8, 4, 40, 948817)"
      ]
     },
     "execution_count": 93,
     "metadata": {},
     "output_type": "execute_result"
    }
   ],
   "source": [
    "mashoras = timedelta(hours=23)\n",
    "ahora_mas_23h = ahora + mashoras\n",
    "ahora_mas_23h"
   ]
  },
  {
   "cell_type": "markdown",
   "metadata": {
    "id": "BchdRE66Z-A6"
   },
   "source": [
    "# Graficos"
   ]
  },
  {
   "cell_type": "code",
   "execution_count": 94,
   "metadata": {
    "colab": {
     "base_uri": "https://localhost:8080/",
     "height": 599
    },
    "executionInfo": {
     "elapsed": 1112,
     "status": "ok",
     "timestamp": 1731856696552,
     "user": {
      "displayName": "Aitor Donado",
      "userId": "08246046509718212083"
     },
     "user_tz": -60
    },
    "id": "r75AyYMSq2g2",
    "outputId": "f5982063-ba94-4b1b-9f8f-095b9f0288b7"
   },
   "outputs": [
    {
     "data": {
      "image/png": "[encoded data removed]",
      "text/plain": [
       "<Figure size 800x700 with 1 Axes>"
      ]
     },
     "metadata": {},
     "output_type": "display_data"
    }
   ],
   "source": [
    "plot = df3['wd'].plot(figsize=(8, 7))"
   ]
  },
  {
   "cell_type": "code",
   "execution_count": 95,
   "metadata": {
    "colab": {
     "base_uri": "https://localhost:8080/",
     "height": 599
    },
    "executionInfo": {
     "elapsed": 978,
     "status": "ok",
     "timestamp": 1731856082713,
     "user": {
      "displayName": "Aitor Donado",
      "userId": "08246046509718212083"
     },
     "user_tz": -60
    },
    "id": "nRTfC3dmqlil",
    "outputId": "3759884e-f85d-488d-86a3-063b09691e7e"
   },
   "outputs": [
    {
     "data": {
      "image/png": "[encoded data removed]",
      "text/plain": [
       "<Figure size 1000x700 with 1 Axes>"
      ]
     },
     "metadata": {},
     "output_type": "display_data"
    }
   ],
   "source": [
    "plot = df3[['so2','co']].plot(figsize=(10, 7))"
   ]
  },
  {
   "cell_type": "code",
   "execution_count": 96,
   "metadata": {
    "colab": {
     "base_uri": "https://localhost:8080/",
     "height": 466
    },
    "executionInfo": {
     "elapsed": 4634,
     "status": "ok",
     "timestamp": 1731856093312,
     "user": {
      "displayName": "Aitor Donado",
      "userId": "08246046509718212083"
     },
     "user_tz": -60
    },
    "id": "g0Z5aEsRqmg1",
    "outputId": "9632ca26-f98e-40ef-8715-b64820f43f21"
   },
   "outputs": [
    {
     "data": {
      "text/plain": [
       "<Axes: xlabel='fecha'>"
      ]
     },
     "execution_count": 96,
     "metadata": {},
     "output_type": "execute_result"
    },
    {
     "data": {
      "image/png": "[encoded data removed]",
      "text/plain": [
       "<Figure size 640x480 with 1 Axes>"
      ]
     },
     "metadata": {},
     "output_type": "display_data"
    }
   ],
   "source": [
    "df3.plot.line(x='fecha', y=['so2','co'])"
   ]
  },
  {
   "cell_type": "code",
   "execution_count": null,
   "metadata": {},
   "outputs": [],
   "source": []
  },
  {
   "cell_type": "markdown",
   "metadata": {},
   "source": [
    "EJERCICIOS DE FECHAS \n",
    "1.  Cargar los datos correspondientes a la zona de Piemonte (Italia). \n",
    "2.  Obtener un breve resumen estadístico. \n",
    "3.  Comprobar la tipología de los datos. \n",
    "4.  Transformar la variable ‘Date’ a formato fecha. \n",
    "5.  Comprobar que se ha realizado el cambio correctamente. \n",
    "6.  Descomponer la fecha en años. \n",
    "7.  Crear un nuevo data frame solo con las observaciones del año 2005. \n",
    "8.  Descomponer la fecha en meses. \n",
    "9.  ¿Cuántas observaciones se han hecho en cada mes? \n",
    "10. Cambiar el formato de la fecha a: \n",
    "a.  Nombre completo del día de la semana, Nombre completo del mes, Año \n",
    "en formato largo y Numero del día del año. \n",
    "b.  Nº semana del año, día del mes, año, hora local y nombre de la zona \n",
    "horaria. \n",
    "11. Calcular los días que faltan para que se termine el curso. \n",
    "12. Gráficos: \n",
    "a.  Distribución de las precipitaciones \n",
    "b.  Distribución de ‘ws’ y ‘precipitaciones \n",
    " "
   ]
  }
 ],
 "metadata": {
  "colab": {
   "authorship_tag": "ABX9TyN3gxiC/1gjt7DTZ5qlkC4s",
   "provenance": [],
   "toc_visible": true
  },
  "kernelspec": {
   "display_name": "base",
   "language": "python",
   "name": "python3"
  },
  "language_info": {
   "codemirror_mode": {
    "name": "ipython",
    "version": 3
   },
   "file_extension": ".py",
   "mimetype": "text/x-python",
   "name": "python",
   "nbconvert_exporter": "python",
   "pygments_lexer": "ipython3",
   "version": "3.10.9"
  }
 },
 "nbformat": 4,
 "nbformat_minor": 0
}
